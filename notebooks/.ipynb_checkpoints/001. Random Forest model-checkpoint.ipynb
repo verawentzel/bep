{
 "cells": [
  {
   "cell_type": "code",
   "execution_count": null,
   "metadata": {},
   "outputs": [],
   "source": [
    "######## RANDOM FOREST  ########\n",
    "\n",
    "# De code bestaat uit verschillende onderdelen:\n",
    "\n",
    "# 1. Preparing data \n",
    "#    Het uitlezen experiment data, berekenen mol. descriptors, transformeren EC50 value, scaffolds berekenen en een label meegeven voor groepen reaccuring scaffolds\n",
    "#    Input: Desired experiment number, CTRPv2 Data Curves Post Quality check & CTRPv2 Meta per compound\n",
    "#    Output: Data final summery per experiment ID & Data Scaffold Split per experminent ID\n",
    "\n",
    "# 2. Scaffold Split Random Forest\n",
    "#    Input: Data Scaffold Split per experiment\n",
    "#    Output: RMSE, R2, Residuals & R2 Scatterplot.\n",
    "\n",
    "# 3. Random Split Random Forest\n",
    "#    Input: non (uses Data final summery per experiment ID)\n",
    "#    Output: RMSE, R2, Residuals & R2 Scatterplot\n",
    "\n",
    "# 4. Comparison Random split & Scaffold Split\n",
    "#    Input: non (uses Scaffold Residuals & Random Residuals)\n",
    "#    Output: violin plot of Residuals\n",
    "\n",
    "# 5. Optimalisation Random Split\n",
    "#    Input: parametergrid\n",
    "#    Output: best parameters for random split\n",
    "\n",
    "# 6. Extended Molecular Descriptor\n",
    "#    Input: non (uses Data Scaffold Split per experiment)\n",
    "#    Output: RMSE, R2, Residuals, R2 Scatterplot & 5 most important features"
   ]
  },
  {
   "cell_type": "code",
   "execution_count": null,
   "metadata": {},
   "outputs": [],
   "source": [
    "######## PREPARING DATA  ########"
   ]
  },
  {
   "cell_type": "code",
   "execution_count": null,
   "metadata": {},
   "outputs": [],
   "source": [
    "import matplotlib.pyplot as plt\n",
    "import numpy as nm\n",
    "import pandas as pd\n",
    "import math\n",
    "from rdkit import Chem\n",
    "from rdkit.Chem import AllChem\n",
    "from sklearn.model_selection import train_test_split\n",
    "from sklearn.preprocessing import StandardScaler\n",
    "from rdkit.Chem.Scaffolds import MurckoScaffold\n",
    "from collections import defaultdict"
   ]
  },
  {
   "cell_type": "code",
   "execution_count": null,
   "metadata": {},
   "outputs": [],
   "source": [
    "# Import online Data Frame\n",
    "folder = 'C:\\\\Users\\\\vswen\\\\Documents\\\\1. Biomedische Technologie\\\\BMT JAAR 5\\\\Kwart 4\\\\4. Data\\\\CTRPv2.0_2015_ctd2_ExpandedDataset\\\\'\n",
    "experiment_id = 419\n",
    "\n",
    "\n",
    "# Dataframe met kernwaarden aanmaken\n",
    "df_large = pd.read_csv(f\"{folder}v20.data.curves_post_qc.txt\", sep='\\t')\n",
    "df_smiles = pd.read_csv(f\"{folder}v20.meta.per_compound.txt\", sep='\\t')\n",
    "\n",
    "df_large=df_large[df_large['experiment_id'] == experiment_id]\n",
    "df_summary = df_large[[ 'master_cpd_id','apparent_ec50_umol']]\n",
    "extracted_col = df_smiles[[\"master_cpd_id\",\"cpd_smiles\"]]\n",
    "df_summary_sorted = pd.merge(df_summary, extracted_col, on='master_cpd_id', how='left')\n",
    "\n",
    "def mol_descriptor(smiles: list, scale: bool = True) -> nm.ndarray:\n",
    "    X = []\n",
    "    for smi in tqdm(smiles):\n",
    "        m = Chem.MolFromSmiles(smi)\n",
    "        x = nm.array([Descriptors.TPSA(m),\n",
    "                      Descriptors.MolLogP(m),\n",
    "                      Descriptors.MolWt(m),\n",
    "                      Descriptors.FpDensityMorgan2(m),\n",
    "                      Descriptors.HeavyAtomMolWt(m),\n",
    "                      Descriptors.MaxPartialCharge(m),\n",
    "                      Descriptors.MinPartialCharge(m),\n",
    "                      Descriptors.NumRadicalElectrons(m),\n",
    "                      Descriptors.NumValenceElectrons(m),\n",
    "                      rdMolDescriptors.CalcFractionCSP3(m),\n",
    "                      rdMolDescriptors.CalcNumRings(m),\n",
    "                      rdMolDescriptors.CalcNumRotatableBonds(m),\n",
    "                      rdMolDescriptors.CalcNumLipinskiHBD(m),\n",
    "                      rdMolDescriptors.CalcNumLipinskiHBA(m),\n",
    "                      rdMolDescriptors.CalcNumHeterocycles(m),\n",
    "                      rdMolDescriptors.CalcNumHeavyAtoms(m),\n",
    "                      rdMolDescriptors.CalcNumAromaticRings(m),\n",
    "                      rdMolDescriptors.CalcNumAtoms(m),\n",
    "                      qed(m)])\n",
    "        X.append(x)\n",
    "\n",
    "    if scale:\n",
    "        return pre.MinMaxScaler().fit_transform(nm.array(X))\n",
    "\n",
    "    return nm.array(X)\n",
    "\n",
    "\n",
    "# Dataframe met mol descriptors\n",
    "smiles_column = df_summary_sorted['cpd_smiles']\n",
    "descriptors = mol_descriptor(smiles_column)\n",
    "\n",
    "df_summary_sorted[['TPSA', 'MolLogP', 'MolWt', 'FpDensityMorgan2', 'HeavyAtomMolWt',\n",
    "               'MaxPartialCharge', 'MinPartialCharge', 'NumRadicalElectrons',\n",
    "               'NumValenceElectrons', 'CalcFractionCSP3', 'CalcNumRings',\n",
    "               'CalcNumRotatableBonds', 'CalcNumLipinskiHBD', 'CalcNumLipinskiHBA',\n",
    "               'CalcNumHeterocycles', 'CalcNumHeavyAtoms', 'CalcNumAromaticRings',\n",
    "               'CalcNumAtoms', 'qed']] = descriptors\n",
    "\n",
    "\n",
    "df_summary_sorted['ec50_mol'] = df_summary_sorted['apparent_ec50_umol'] / 1000000\n",
    "df_summary_sorted['ec50_mol']=df_summary_sorted['ec50_mol'].replace(0, 1e-10)\n",
    "df_summary_sorted['ec50_molair'] = df_summary_sorted['ec50_mol']/ df_summary_sorted['MolWt']\n",
    "\n",
    "df_summary_sorted.to_csv(f\"{folder}v20.data.final_summary_{experiment_id}.txt\", sep='\\t', index=False)"
   ]
  },
  {
   "cell_type": "code",
   "execution_count": 46,
   "metadata": {},
   "outputs": [],
   "source": [
    "# Making the scaffolds and forming scaffold based groups"
   ]
  },
  {
   "cell_type": "code",
   "execution_count": 57,
   "metadata": {},
   "outputs": [
    {
     "name": "stdout",
     "output_type": "stream",
     "text": [
      "                                          cpd_smiles  apparent_ec50_umol  \\\n",
      "0              CN(C)CCNC(=O)c1cc2CSc3cc(Cl)ccc3-c2s1              23.260   \n",
      "1  CC(C)N1C(=O)S\\C(=C\\c2ccc(Sc3nc4ccccc4[nH]3)o2)...               9.864   \n",
      "2            C(Cn1c2ccccc2c2ccccc12)c1nc2ccccc2[nH]1              20.450   \n",
      "3           C1CN(CCO1)c1nnc(-c2ccccc2)c(n1)-c1ccccc1               0.000   \n",
      "4          OC(CN1CCNCC1)Cn1c2ccc(Br)cc2c2cc(Br)ccc12              10.240   \n",
      "\n",
      "      MolWt      ec50_mol   ec50_molair  \n",
      "0  0.064917  2.326000e-05  3.583018e-04  \n",
      "1  0.074402  9.864000e-06  1.325765e-04  \n",
      "2  0.052820  2.045000e-05  3.871617e-04  \n",
      "3  0.054857  1.000000e-10  1.822913e-09  \n",
      "4  0.098214  1.024000e-05  1.042623e-04  \n",
      "similar grouped dictionary : {'c1ccc2c(c1)SCc1ccsc1-2': ['c1ccc2c(c1)SCc1ccsc1-2', 'c1ccc2c(c1)SCc1ccsc1-2'], 'O=C1NC(=O)/C(=C\\\\c2ccc(Sc3nc4ccccc4[nH]3)o2)S1': ['O=C1NC(=O)/C(=C\\\\c2ccc(Sc3nc4ccccc4[nH]3)o2)S1'], 'c1ccc2[nH]c(CCn3c4ccccc4c4ccccc43)nc2c1': ['c1ccc2[nH]c(CCn3c4ccccc4c4ccccc43)nc2c1'], 'c1ccc(-c2nnc(N3CCOCC3)nc2-c2ccccc2)cc1': ['c1ccc(-c2nnc(N3CCOCC3)nc2-c2ccccc2)cc1'], 'c1ccc2c(c1)c1ccccc1n2CCCN1CCNCC1': ['c1ccc2c(c1)c1ccccc1n2CCCN1CCNCC1'], 'c1ccc2ccccc2c1': ['c1ccc2ccccc2c1'], 'C1=CCCCC1': ['C1=CCCCC1'], 'C1CC[C@@H]2CCC3C4CCC5CCC[C@@H]5[C@H]4CC[C@@H]3C2C1': ['C1CC[C@@H]2CCC3C4CCC5CCC[C@@H]5[C@H]4CC[C@@H]3C2C1'], 'O=C(CCc1ccccc1)c1ccccc1': ['O=C(CCc1ccccc1)c1ccccc1'], 'c1ccc2cc(-c3ccc4ccccc4c3)ccc2c1': ['c1ccc2cc(-c3ccc4ccccc4c3)ccc2c1'], 'c1ccccc1': ['c1ccccc1', 'c1ccccc1', 'c1ccccc1', 'c1ccccc1', 'c1ccccc1', 'c1ccccc1', 'c1ccccc1'], 'O=c1cc[nH]c(=O)[nH]1': ['O=c1cc[nH]c(=O)[nH]1'], 'O=c1ncncn1[C@H]1CCCO1': ['O=c1ncncn1[C@H]1CCCO1', 'O=c1ncncn1[C@H]1CCCO1'], 'c1ccc2c(c1)Sc1ccccc1N2CCCN1CCNCC1': ['c1ccc2c(c1)Sc1ccccc1N2CCCN1CCNCC1', 'c1ccc2c(c1)Sc1ccccc1N2CCCN1CCNCC1'], 'O=C(C[C@@H](NC(=O)c1ccccc1)c1ccccc1)O[C@@H]1C=C2CC(=O)C3CC[C@H]4OCC4C3[C@H](OC(=O)c3ccccc3)C(C2)C1': ['O=C(C[C@@H](NC(=O)c1ccccc1)c1ccccc1)O[C@@H]1C=C2CC(=O)C3CC[C@H]4OCC4C3[C@H](OC(=O)c3ccccc3)C(C2)C1'], 'C(=C(c1ccccc1)c1ccccc1)c1ccccc1': ['C(=C(c1ccccc1)c1ccccc1)c1ccccc1'], 'O=C1O[Pt]OC(=O)C12CCC2': ['O=C1O[Pt]OC(=O)C12CCC2'], 'O=C1OCC2C(O[C@H]3CCC4O[C@H](c5cccs5)OC[C@H]4O3)c3cc4c(cc3[C@@H](c3ccccc3)[C@@H]12)OCO4': ['O=C1OCC2C(O[C@H]3CCC4O[C@H](c5cccs5)OC[C@H]4O3)c3cc4c(cc3[C@@H](c3ccccc3)[C@@H]12)OCO4'], 'O=c1[nH]c(-c2cccc(S(=O)(=O)N3CCNCC3)c2)nc2cn[nH]c12': ['O=c1[nH]c(-c2cccc(S(=O)(=O)N3CCNCC3)c2)nc2cn[nH]c12'], 'O=C1CCC[C@@H](CC[C@H]2CC=CC3=CCCC[C@@H]32)O1': ['O=C1CCC[C@@H](CC[C@H]2CC=CC3=CCCC[C@@H]32)O1'], 'c1ccc2[nH]cnc2c1': ['c1ccc2[nH]cnc2c1', 'c1ccc2[nH]cnc2c1'], 'O=C(C=Cc1ccccc1)CC(=O)C=Cc1ccccc1': ['O=C(C=Cc1ccccc1)CC(=O)C=Cc1ccccc1'], 'O=c1cccc(C2CCCCC2)[nH]1': ['O=c1cccc(C2CCCCC2)[nH]1'], 'O=C(O[C@@H]1Cc2ccccc2O[C@@H]1c1ccccc1)c1ccccc1': ['O=C(O[C@@H]1Cc2ccccc2O[C@@H]1c1ccccc1)c1ccccc1'], 'O=c1cc(-c2ccccc2)oc2ccccc12': ['O=c1cc(-c2ccccc2)oc2ccccc12'], 'c1ccc(NCc2cnc3ncncc3n2)cc1': ['c1ccc(NCc2cnc3ncncc3n2)cc1'], 'C1=CC2=CCCCC2CC1': ['C1=CC2=CCCCC2CC1'], 'c1ccc(-c2conc2-c2ccccc2)cc1': ['c1ccc(-c2conc2-c2ccccc2)cc1'], 'O=[PH]1NCCCO1': ['O=[PH]1NCCCO1', 'O=[PH]1NCCCO1'], 'c1c[nH]cn1': ['c1c[nH]cn1', 'c1c[nH]cn1'], 'O=C(Nc1ccccc1)c1ccccc1': ['O=C(Nc1ccccc1)c1ccccc1', 'O=C(Nc1ccccc1)c1ccccc1', 'O=C(Nc1ccccc1)c1ccccc1', 'O=C(Nc1ccccc1)c1ccccc1'], 'O=C1c2ccccc2C(=O)c2cc3c(cc21)CCC[C@@H]3O[C@H]1CCCCO1': ['O=C1c2ccccc2C(=O)c2cc3c(cc21)CCC[C@@H]3O[C@H]1CCCCO1'], 'O=C1C=C([C@H]2CCC3C2CC[C@@H]2C4CC[C@H](O[C@H]5CCCCO5)CC4CC[C@@H]32)CO1': ['O=C1C=C([C@H]2CCC3C2CC[C@@H]2C4CC[C@H](O[C@H]5CCCCO5)CC4CC[C@@H]32)CO1'], 'O=C(c1ccccc1)N(c1ccccc1)S(=O)(=O)c1ccccc1': ['O=C(c1ccccc1)N(c1ccccc1)S(=O)(=O)c1ccccc1'], 'O=C1C=CCCN1C(=O)/C=C/c1ccccc1': ['O=C1C=CCCN1C(=O)/C=C/c1ccccc1'], 'O=C1C=CCCN1C(=O)CCc1ccccc1': ['O=C1C=CCCN1C(=O)CCc1ccccc1'], 'c1cnc2ccc(Nc3ccncn3)cc2c1': ['c1cnc2ccc(Nc3ccncn3)cc2c1'], 'O=C1c2ccccc2-c2n[nH]c3cccc1c23': ['O=C1c2ccccc2-c2n[nH]c3cccc1c23'], '': ['', '', '', '', ''], 'O=C1Cc2cc3n(c(=O)c2CO1)Cc1cc2ccccc2nc1-3': ['O=C1Cc2cc3n(c(=O)c2CO1)Cc1cc2ccccc2nc1-3'], 'c1ccc(CNc2ncnc3[nH]cnc23)cc1': ['c1ccc(CNc2ncnc3[nH]cnc23)cc1'], 'c1ccc(CNc2nc(N3CCCC3)nc3ccccc23)cc1': ['c1ccc(CNc2nc(N3CCCC3)nc3ccccc23)cc1'], 'O=C1OC[C@H]2[C@H]1[C@H](c1ccccc1)c1cc3c(cc1[C@H]2O[C@H]1CC[C@@H]2OCOC[C@H]2O1)OCO3': ['O=C1OC[C@H]2[C@H]1[C@H](c1ccccc1)c1cc3c(cc1[C@H]2O[C@H]1CC[C@@H]2OCOC[C@H]2O1)OCO3'], 'O=C1CN2CCC1CC2': ['O=C1CN2CCC1CC2'], 'O=C1C=C2CCCCCC/C=C/CC/C=C\\\\C=C\\\\C(=O)NC(=C1)C2=O': ['O=C1C=C2CCCCCC/C=C/CC/C=C\\\\C=C\\\\C(=O)NC(=C1)C2=O'], 'C=C1C[C@@H]2/C=C/CCCCCC/C=C/C(=O)O[C@]23C(=O)N[C@@H](Cc2ccccc2)[C@@H]3C1': ['C=C1C[C@@H]2/C=C/CCCCCC/C=C/C(=O)O[C@]23C(=O)N[C@@H](Cc2ccccc2)[C@@H]3C1'], 'O=C1C=CC(=O)c2ccccc21': ['O=C1C=CC(=O)c2ccccc21', 'O=C1C=CC(=O)c2ccccc21'], 'O=C(/C=C/C=C/C=C/C1C=CC(=O)[C@H]2O[C@@H]12)NC1C(=O)CCC1=O': ['O=C(/C=C/C=C/C=C/C1C=CC(=O)[C@H]2O[C@@H]12)NC1C(=O)CCC1=O'], 'O=C1C=CC(=O)C2=C1CC1[C@H]3N[C@H]3CN21': ['O=C1C=CC(=O)C2=C1CC1[C@H]3N[C@H]3CN21'], 'O=C1C/C=C/CCCC[C@@H]2CCCC(O2)C(=O)C(=O)N2CCCC[C@H]2C(=O)O[C@H](C=CC2CCCCC2)CCC1': ['O=C1C/C=C/CCCC[C@@H]2CCCC(O2)C(=O)C(=O)N2CCCC[C@H]2C(=O)O[C@H](C=CC2CCCCC2)CCC1'], 'N=c1sc2c(n1CC(=O)c1ccccc1)CCCC2': ['N=c1sc2c(n1CC(=O)c1ccccc1)CCCC2'], 'c1ccc(-c2nc(-c3ccc4c(c3)OCO4)c(-c3ccccn3)[nH]2)cc1': ['c1ccc(-c2nc(-c3ccc4c(c3)OCO4)c(-c3ccccn3)[nH]2)cc1'], 'O=C(Nc1ccccc1)Nc1ccccc1': ['O=C(Nc1ccccc1)Nc1ccccc1'], 'c1ccc(Nc2ncnc3ccccc23)cc1': ['c1ccc(Nc2ncnc3ccccc23)cc1', 'c1ccc(Nc2ncnc3ccccc23)cc1'], 'C1CO1': ['C1CO1'], 'c1ccc2c(Oc3nc(Nc4ccc(N5CCOCC5)cc4)c4ncn(C5CCCCC5)c4n3)cccc2c1': ['c1ccc2c(Oc3nc(Nc4ccc(N5CCOCC5)cc4)c4ncn(C5CCCCC5)c4n3)cccc2c1'], 'N=C1/C(=C2/C(=O)Nc3ccccc32)Nc2ccccc21': ['N=C1/C(=C2/C(=O)Nc3ccccc32)Nc2ccccc21'], 'O=C(Nc1ccccc1)c1cnc(Nc2cc(N3CCNCC3)ncn2)s1': ['O=C(Nc1ccccc1)c1cnc(Nc2cc(N3CCNCC3)ncn2)s1'], 'c1ccc(Nc2ncnc3ccc(OCCCN4CCOCC4)cc23)cc1': ['c1ccc(Nc2ncnc3ccc(OCCCN4CCOCC4)cc23)cc1'], 'O=C1O[C@H](c2ccccc2)[C@H](c2ccccc2)N2[C@H]1C[C@]1(C(=O)Nc3ccccc31)[C@H]2c1ccccc1': ['O=C1O[C@H](c2ccccc2)[C@H](c2ccccc2)N2[C@H]1C[C@]1(C(=O)Nc3ccccc31)[C@H]2c1ccccc1'], 'c1ccc(CN2CCC(Nc3nc(N4CCCNCC4)nc4ccccc34)CC2)cc1': ['c1ccc(CN2CCC(Nc3nc(N4CCCNCC4)nc4ccccc34)CC2)cc1'], 'c1ccc(CNCCc2c[nH]c3ccccc23)cc1': ['c1ccc(CNCCc2c[nH]c3ccccc23)cc1'], 'O=c1c2ccccc2nc(Cn2cnc3cncnc32)n1-c1ccccc1': ['O=c1c2ccccc2nc(Cn2cnc3cncnc32)n1-c1ccccc1'], 'O=C1CNC(=O)CNC(=O)CNC(=O)CNC(=O)CNC(=O)CNC(=O)CNC(=O)CNC(=O)CNC(=O)CNC(=O)CN1': ['O=C1CNC(=O)CNC(=O)CNC(=O)CNC(=O)CNC(=O)CNC(=O)CNC(=O)CNC(=O)CNC(=O)CNC(=O)CN1'], 'O=C1CC/C=C/CC(=O)C[C@@H](CCC2CCCCC2)OC(=O)[C@@H]2CCCCN2C(=O)C(=O)C2CCC[C@@H](CC/C=C/C=C/C=C/CCC1)O2': ['O=C1CC/C=C/CC(=O)C[C@@H](CCC2CCCCC2)OC(=O)[C@@H]2CCCCN2C(=O)C(=O)C2CCC[C@@H](CC/C=C/C=C/C=C/CCC1)O2', 'O=C1CC/C=C/CC(=O)C[C@@H](CCC2CCCCC2)OC(=O)[C@@H]2CCCCN2C(=O)C(=O)C2CCC[C@@H](CC/C=C/C=C/C=C/CCC1)O2'], 'O=c1cc(-c2cccc3c2Sc2ccccc2S3)oc(N2CCOCC2)c1': ['O=c1cc(-c2cccc3c2Sc2ccccc2S3)oc(N2CCOCC2)c1'], 'O=C(Nc1ccccc1)c1ccc2c(c1)CCCC2': ['O=C(Nc1ccccc1)c1ccc2c(c1)CCCC2'], 'c1ccc(CCCN2CCOCC2)cc1': ['c1ccc(CCCN2CCOCC2)cc1'], 'O=C1O[C@@H](c2ccccc2)[C@@H](c2ccccc2)N2[C@@H](c3ccccc3)[C@]3(C(=O)Nc4ccccc43)[C@@H](C(=O)N3CCN(c4ncccn4)CC3)[C@H]12': ['O=C1O[C@@H](c2ccccc2)[C@@H](c2ccccc2)N2[C@@H](c3ccccc3)[C@]3(C(=O)Nc4ccccc43)[C@@H](C(=O)N3CCN(c4ncccn4)CC3)[C@H]12'], 'O=C(NCc1ccc(C(=O)Nc2ccccc2)cc1)OCc1cccnc1': ['O=C(NCc1ccc(C(=O)Nc2ccccc2)cc1)OCc1cccnc1'], 'O=C1CNC(=O)[C@H]2CCCCN2C(=O)CNC(=O)[C@H](Cc2c[nH]c3ccccc23)N1': ['O=C1CNC(=O)[C@H]2CCCCN2C(=O)CNC(=O)[C@H](Cc2c[nH]c3ccccc23)N1'], 'O=C(Nc1cccc(-c2cccs2)c1)c1ccccc1': ['O=C(Nc1cccc(-c2cccs2)c1)c1ccccc1'], 'O=C(CC(=O)NC1CCCCN1)Nc1nc(-c2ccccc2)cs1': ['O=C(CC(=O)NC1CCCCN1)Nc1nc(-c2ccccc2)cs1'], 'O=C1CCC(c2ccccc2)=NN1': ['O=C1CCC(c2ccccc2)=NN1'], 'C1=CC2CC[C@@H]3Nc4ccc(C5C[C@@H]6CCCN(CCc7c5[nH]c5ccccc75)C6)cc4[C@@]34CCN(C1)[C@@H]24': ['C1=CC2CC[C@@H]3Nc4ccc(C5C[C@@H]6CCCN(CCc7c5[nH]c5ccccc75)C6)cc4[C@@]34CCN(C1)[C@@H]24'], 'O=c1ncccn1[C@H]1CCCO1': ['O=c1ncccn1[C@H]1CCCO1', 'O=c1ncccn1[C@H]1CCCO1'], 'O=c1[nH]ncn1-c1ccc(N2CCN(c3ccc(OCC4COC(Cn5cncn5)(c5ccccc5)O4)cc3)CC2)cc1': ['O=c1[nH]ncn1-c1ccc(N2CCN(c3ccc(OCC4COC(Cn5cncn5)(c5ccccc5)O4)cc3)CC2)cc1'], 'O=C(COc1ccccc1)N1CCN(Cc2nc3ccccc3c(=O)n2-c2ccccc2)CC1': ['O=C(COc1ccccc1)N1CCN(Cc2nc3ccccc3c(=O)n2-c2ccccc2)CC1'], 'O=C(CN1C(=O)CCC1=O)c1ccn(Cc2ccccc2)c1': ['O=C(CN1C(=O)CCC1=O)c1ccn(Cc2ccccc2)c1'], 'N=C1c2cc(S(=O)(=O)N3CCCCC3)ccc2-c2ccc(S(=O)(=O)N3CCCCC3)cc21': ['N=C1c2cc(S(=O)(=O)N3CCCCC3)ccc2-c2ccc(S(=O)(=O)N3CCCCC3)cc21'], 'O=C1CC(c2ccccc2)c2cc3c(cc2N1)OCO3': ['O=C1CC(c2ccccc2)c2cc3c(cc2N1)OCO3'], 'O=S(=O)(Nc1cccc2ccccc12)c1ccccc1': ['O=S(=O)(Nc1cccc2ccccc12)c1ccccc1'], 'C1=CC2c3ccccc3NC(c3ccc4c(c3)OCO4)C2C1': ['C1=CC2c3ccccc3NC(c3ccc4c(c3)OCO4)C2C1'], 'O=C(NCCc1ccccc1)C(Nc1ccccc1)c1cccs1': ['O=C(NCCc1ccccc1)C(Nc1ccccc1)c1cccs1'], 'N=C(NOC(=O)C12CC3CC(CC(C3)C1)C2)c1ccccc1': ['N=C(NOC(=O)C12CC3CC(CC(C3)C1)C2)c1ccccc1'], 'c1ccc(COc2ccc3[nH]ccc3c2)cc1': ['c1ccc(COc2ccc3[nH]ccc3c2)cc1'], 'N=C(Cc1ccccc1)NOC(=O)c1cccc2ccccc12': ['N=C(Cc1ccccc1)NOC(=O)c1cccc2ccccc12'], 'c1nc(N2CCN(C3=NCCS3)CC2)c2c3c(sc2n1)CCCC3': ['c1nc(N2CCN(C3=NCCS3)CC2)c2c3c(sc2n1)CCCC3'], 'O=c1c2ccccc2[nH]c(=S)n1-c1ccccc1': ['O=c1c2ccccc2[nH]c(=S)n1-c1ccccc1'], 'O=S(=O)(c1ccccc1)N1CCN(S(=O)(=O)c2ccc3c(c2)OCCO3)CC1': ['O=S(=O)(c1ccccc1)N1CCN(S(=O)(=O)c2ccc3c(c2)OCCO3)CC1'], 'O=C(COC(=O)/C=C/c1ccccc1)NC1CCS(=O)(=O)C1': ['O=C(COC(=O)/C=C/c1ccccc1)NC1CCS(=O)(=O)C1'], 'O=C(CN1CCCC1)c1ccn(-c2ccccc2)c1': ['O=C(CN1CCCC1)c1ccn(-c2ccccc2)c1'], 'O=C1C=CC2C(=C1)CCC1C3CCCC3CCC21': ['O=C1C=CC2C(=C1)CCC1C3CCCC3CCC21'], 'c1ccc(C(c2ccc3cccnc3c2)N2CCNCC2)cc1': ['c1ccc(C(c2ccc3cccnc3c2)N2CCNCC2)cc1'], 'O=C(Nc1cccc(Nc2nccc(-c3cccnc3)n2)c1)c1ccc(CN2CCNCC2)cc1': ['O=C(Nc1cccc(Nc2nccc(-c3cccnc3)n2)c1)c1ccc(CN2CCNCC2)cc1'], 'c1ccc(-c2nc(NCCNc3ccccn3)ncc2-c2ncc[nH]2)cc1': ['c1ccc(-c2nc(NCCNc3ccccn3)ncc2-c2ncc[nH]2)cc1'], 'O=C1CN(C2CCCC2)c2nc(Nc3ccc(C(=O)NC4CCNCC4)cc3)ncc2N1': ['O=C1CN(C2CCCC2)c2nc(Nc3ccc(C(=O)NC4CCNCC4)cc3)ncc2N1'], 'O=C(NCCc1ccncc1)c1ccc(C(=O)Nc2cccc(-c3cccs3)c2)cc1': ['O=C(NCCc1ccncc1)c1ccc(C(=O)Nc2cccc(-c3cccs3)c2)cc1'], 'C(=C/c1n[nH]c2cc(Sc3ccccc3)ccc12)\\\\c1ccccn1': ['C(=C/c1n[nH]c2cc(Sc3ccccc3)ccc12)\\\\c1ccccn1'], 'c1ccc(Nc2ccc3[nH]cnc3c2)cc1': ['c1ccc(Nc2ccc3[nH]cnc3c2)cc1'], 'O=c1[nH]c2cnc3ccc(-c4cnc5ccccc5c4)cc3c2n1-c1ccccc1': ['O=c1[nH]c2cnc3ccc(-c4cnc5ccccc5c4)cc3c2n1-c1ccccc1'], 'c1ccc(COc2csc(-n3cnc4ccccc43)c2)cc1': ['c1ccc(COc2csc(-n3cnc4ccccc43)c2)cc1', 'c1ccc(COc2csc(-n3cnc4ccccc43)c2)cc1'], 'c1ccc(Nc2ncnc3cc(OCC4CCNCC4)ccc23)cc1': ['c1ccc(Nc2ncnc3cc(OCC4CCNCC4)ccc23)cc1'], 'O=C(Nc1ccccc1)Nc1ccc(Oc2ccncc2)cc1': ['O=C(Nc1ccccc1)Nc1ccc(Oc2ccncc2)cc1', 'O=C(Nc1ccccc1)Nc1ccc(Oc2ccncc2)cc1'], 'O=C(Cn1cnc2ccccc21)c1ccccc1': ['O=C(Cn1cnc2ccccc21)c1ccccc1'], 'O=c1[nH]nnc2cncn12': ['O=c1[nH]nnc2cncn12'], 'O=C1CCCc2c1cnn2-c1cccc(NC2CCCCC2)c1': ['O=C1CCCc2c1cnn2-c1cccc(NC2CCCCC2)c1'], 'O=C(NS(=O)(=O)c1ccc(N[C@H](CCN2CCOCC2)CSc2ccccc2)cc1)c1ccc(N2CCN(CC3=C(c4ccccc4)CCCC3)CC2)cc1': ['O=C(NS(=O)(=O)c1ccc(N[C@H](CCN2CCOCC2)CSc2ccccc2)cc1)c1ccc(N2CCN(CC3=C(c4ccccc4)CCCC3)CC2)cc1'], 'C=C(c1ccccc1)c1ccc2c(c1)CCCC2': ['C=C(c1ccccc1)c1ccc2c(c1)CCCC2'], 'O=C(Nc1cccc(-n2ccnc2)c1)c1cccc(Nc2nccc(-c3cccnc3)n2)c1': ['O=C(Nc1cccc(-n2ccnc2)c1)c1cccc(Nc2nccc(-c3cccnc3)n2)c1'], 'O=C1Nc2ccccc2/C1=C/c1ccc[nH]1': ['O=C1Nc2ccccc2/C1=C/c1ccc[nH]1'], 'C1=C[C@]23CCCN2CCc2cc4c(cc2[C@@H]3C1)OCO4': ['C1=C[C@]23CCCN2CCc2cc4c(cc2[C@@H]3C1)OCO4'], 'c1cc(-c2ccc3ccccc3c2)cc(C23CC4CC(CC(C4)C2)C3)c1': ['c1cc(-c2ccc3ccccc3c2)cc(C23CC4CC(CC(C4)C2)C3)c1'], 'c1ccc(Cn2ccc3c4cnc(NC5CC5)nc4ccc32)cc1': ['c1ccc(Cn2ccc3c4cnc(NC5CC5)nc4ccc32)cc1'], 'c1ccc(C2=Nc3cc4c(cc3Nc3ccccc32)CCCC4)cc1': ['c1ccc(C2=Nc3cc4c(cc3Nc3ccccc32)CCCC4)cc1'], 'c1ccc(Nc2nc(-c3ccccc3)cs2)cc1': ['c1ccc(Nc2nc(-c3ccccc3)cs2)cc1'], 'O=C1NC(=S)NC1Cc1c[nH]c2ccccc12': ['O=C1NC(=S)NC1Cc1c[nH]c2ccccc12'], 'O=C(c1ccccc1)n1cc(CCN2CCOCC2)c2ccccc21': ['O=C(c1ccccc1)n1cc(CCN2CCOCC2)c2ccccc21'], 'c1ccc(-c2ccccc2)cc1': ['c1ccc(-c2ccccc2)cc1'], 'c1ccc(-c2ccc(Cc3nnn[nH]3)cc2)cc1': ['c1ccc(-c2ccc(Cc3nnn[nH]3)cc2)cc1'], 'O=C(Nc1ccccc1)Nc1ccc(Oc2ccnc3ccccc23)cc1': ['O=C(Nc1ccccc1)Nc1ccc(Oc2ccnc3ccccc23)cc1'], 'c1ccc(-c2ccc3cc(C45CC6CC(CC(C6)C4)C5)ccc3c2)cc1': ['c1ccc(-c2ccc3cc(C45CC6CC(CC(C6)C4)C5)ccc3c2)cc1'], 'c1ccc(-c2cccs2)cc1': ['c1ccc(-c2cccs2)cc1'], 'O=C1O[Pt]2(NC3CCCCC3N2)OC1=O': ['O=C1O[Pt]2(NC3CCCCC3N2)OC1=O'], 'O=C1C(=Cc2ccccc2)CNCC1=Cc1ccccc1': ['O=C1C(=Cc2ccccc2)CNCC1=Cc1ccccc1'], 'O=C(Nc1cccc(-c2cccs2)c1)C1CCNCC1': ['O=C(Nc1cccc(-c2cccs2)c1)C1CCNCC1'], 'O=C(Nc1cccc(-c2cccs2)c1)C1=CCCC1': ['O=C(Nc1cccc(-c2cccs2)c1)C1=CCCC1'], 'O=c1[nH]nc2c3cc(-c4ccccc4)c(-c4ccc(C5CCC5)cc4)nc3ccn12': ['O=c1[nH]nc2c3cc(-c4ccccc4)c(-c4ccc(C5CCC5)cc4)nc3ccn12'], 'c1ccc(C2=Nn3c(nnc3-c3ccccc3)SC2)cc1': ['c1ccc(C2=Nn3c(nnc3-c3ccccc3)SC2)cc1'], 'O=C1Cc2ccccc2O[C@@H](CNS(=O)(=O)c2ccccc2)CCN1': ['O=C1Cc2ccccc2O[C@@H](CNS(=O)(=O)c2ccccc2)CCN1'], 'O=C(Nc1cccc(-c2cccs2)c1)N1CCCCC1': ['O=C(Nc1cccc(-c2cccs2)c1)N1CCCCC1'], 'O=C(NC[C@H]1CCNS(=O)(=O)c2ccccc2O1)c1cnccn1': ['O=C(NC[C@H]1CCNS(=O)(=O)c2ccccc2O1)c1cnccn1'], 'O=S1(=O)NCC[C@@H](CNCc2ccccc2)Oc2cc(C#CCC3CCCC3)ccc21': ['O=S1(=O)NCC[C@@H](CNCc2ccccc2)Oc2cc(C#CCC3CCCC3)ccc21'], 'O=C(NC[C@H]1CCNS(=O)(=O)c2ccc(C#CC3CCCC3)cc2O1)Nc1ccccc1': ['O=C(NC[C@H]1CCNS(=O)(=O)c2ccc(C#CC3CCCC3)cc2O1)Nc1ccccc1'], 'O=C(NC[C@@H]1CCNS(=O)(=O)c2ccc(C#Cc3ccncc3)cc2O1)Nc1ccc2c(c1)OCO2': ['O=C(NC[C@@H]1CCNS(=O)(=O)c2ccc(C#Cc3ccncc3)cc2O1)Nc1ccc2c(c1)OCO2'], 'O=C(Cc1ccncc1)NC[C@H]1CCNS(=O)(=O)c2ccc(C#Cc3ccccc3)cc2O1': ['O=C(Cc1ccncc1)NC[C@H]1CCNS(=O)(=O)c2ccc(C#Cc3ccccc3)cc2O1'], 'O=C1/C=C\\\\CC2CCCC2/C=C\\\\CCCCO1': ['O=C1/C=C\\\\CC2CCCC2/C=C\\\\CCCCO1'], 'O=C(C=Cc1ccc(-c2ccccc2)o1)Nc1cccc2ncccc12': ['O=C(C=Cc1ccc(-c2ccccc2)o1)Nc1cccc2ncccc12'], 'O=C(CNC(=O)[C@@H](CCCCc1ccccc1)Cc1ccccc1)NCCc1ccccc1': ['O=C(CNC(=O)[C@@H](CCCCc1ccccc1)Cc1ccccc1)NCCc1ccccc1'], 'O=C(Nc1ccccc1)N1CCC(Cc2cnc3ccccc3c2)CC1': ['O=C(Nc1ccccc1)N1CCC(Cc2cnc3ccccc3c2)CC1'], 'O=C1OCC2=C1CCC1C2C[C@@H]2O[C@@]23CC2O[C@H]2[C@@H]2O[C@@]123': ['O=C1OCC2=C1CCC1C2C[C@@H]2O[C@@]23CC2O[C@H]2[C@@H]2O[C@@]123'], 'O=C1CN(C(=O)N2C(c3ccccc3)=NC(c3ccccc3)C2c2ccccc2)CCN1': ['O=C1CN(C(=O)N2C(c3ccccc3)=NC(c3ccccc3)C2c2ccccc2)CCN1'], 'O=C1CC[C@@H]2C1CC[C@@H]1C3CCCC[C@@H]3CC[C@@H]21': ['O=C1CC[C@@H]2C1CC[C@@H]1C3CCCC[C@@H]3CC[C@@H]21'], 'O=C1NC(=S)S/C1=C/c1ccccc1OCc1ccccc1': ['O=C1NC(=S)S/C1=C/c1ccccc1OCc1ccccc1'], 'O=C(CCc1c[nH]c2ccccc12)NNC(=O)SCC(=O)Nc1ccccc1': ['O=C(CCc1c[nH]c2ccccc12)NNC(=O)SCC(=O)Nc1ccccc1'], 'O=C(COS(=O)(=O)c1ccccc1)Nc1ccccc1': ['O=C(COS(=O)(=O)c1ccccc1)Nc1ccccc1'], 'O=C(NS(=O)(=O)c1ccc(NCCSc2ccccc2)cc1)c1ccc(N2CCN(Cc3ccccc3-c3ccccc3)CC2)cc1': ['O=C(NS(=O)(=O)c1ccc(NCCSc2ccccc2)cc1)c1ccc(N2CCN(Cc3ccccc3-c3ccccc3)CC2)cc1'], 'c1ccc(-c2nc(N3CCOCC3)c3oc4ncccc4c3n2)cc1': ['c1ccc(-c2nc(N3CCOCC3)c3oc4ncccc4c3n2)cc1'], 'c1ccc(Cn2c3c(c4ccccc42)CNCC3)cc1': ['c1ccc(Cn2c3c(c4ccccc42)CNCC3)cc1'], 'c1ccc([C@@H]2CCC3c4ccccc4O[C@]32c2ccccc2)cc1': ['c1ccc([C@@H]2CCC3c4ccccc4O[C@]32c2ccccc2)cc1', 'c1ccc([C@@H]2CCC3c4ccccc4O[C@]32c2ccccc2)cc1'], 'C=C1C(=O)O[C@H]2[C@H]1CCC=CCCC1O[C@@H]12': ['C=C1C(=O)O[C@H]2[C@H]1CCC=CCCC1O[C@@H]12'], 'c1ccc(-c2nn[nH]n2)cc1': ['c1ccc(-c2nn[nH]n2)cc1'], 'c1ccc(Nc2ccnc(Nc3ccc(OCCN4CCCC4)cc3)n2)cc1': ['c1ccc(Nc2ccnc(Nc3ccc(OCCN4CCCC4)cc3)n2)cc1'], 'c1ccc2c(c1)CC[C@@H]2Nc1ncnc2c1ccn2C1CCCC1': ['c1ccc2c(c1)CC[C@@H]2Nc1ncnc2c1ccn2C1CCCC1'], 'O=S(=O)(c1ccccc1)c1ccccc1': ['O=S(=O)(c1ccccc1)c1ccccc1'], 'c1ccc(CNc2nc3cncnc3n2[C@H]2CC[C@@H](COCc3ccccc3)O2)cc1': ['c1ccc(CNc2nc3cncnc3n2[C@H]2CC[C@@H](COCc3ccccc3)O2)cc1'], 'O=S(=O)(c1ccccc1)N1CCCN(S(=O)(=O)c2ccc3c(c2)OCCO3)CC1': ['O=S(=O)(c1ccccc1)N1CCCN(S(=O)(=O)c2ccc3c(c2)OCCO3)CC1'], 'O=C(Nc1cc(CN2CCNCC2)cc(-c2nc3ccccc3[nH]2)c1)c1cnc2ccccc2n1': ['O=C(Nc1cc(CN2CCNCC2)cc(-c2nc3ccccc3[nH]2)c1)c1cnc2ccccc2n1'], 'O=C(NCCN1CCC2(CC1)C(=O)NCN2c1ccccc1)c1ccc2ccccc2c1': ['O=C(NCCN1CCC2(CC1)C(=O)NCN2c1ccccc1)c1ccc2ccccc2c1'], 'O=C(Nc1cccc(-c2cn3ccccc3n2)c1)c1cc2ccccc2oc1=O': ['O=C(Nc1cccc(-c2cn3ccccc3n2)c1)c1cc2ccccc2oc1=O'], 'O=C1c2ccccc2C(=O)N1CCc1c[nH]c2ccccc12': ['O=C1c2ccccc2C(=O)N1CCc1c[nH]c2ccccc12'], 'O=C(CN1CCN(Cc2ccccc2)CC1)N/N=C/c1ccccc1': ['O=C(CN1CCN(Cc2ccccc2)CC1)N/N=C/c1ccccc1'], 'O=C(Nc1cccc(N2Cc3cnc(Nc4ccn[nH]4)nc3NC2=O)c1)c1ccccc1': ['O=C(Nc1cccc(N2Cc3cnc(Nc4ccn[nH]4)nc3NC2=O)c1)c1ccccc1'], 'C(=NCCCCCCOc1ccccc1)Nc1ccncc1': ['C(=NCCCCCCOc1ccccc1)Nc1ccncc1'], 'O=C1N[C@@]23C=C4C(=[NH+]c5c4ccc4c5C=CCO4)C[C@@H]2C[C@@]12CCCN2C3=O': ['O=C1N[C@@]23C=C4C(=[NH+]c5c4ccc4c5C=CCO4)C[C@@H]2C[C@@]12CCCN2C3=O'], 'O=c1[nH]ccc(NCCc2ccccc2)c1-c1nc2ccc(N3CCOCC3)cc2[nH]1': ['O=c1[nH]ccc(NCCc2ccccc2)c1-c1nc2ccc(N3CCOCC3)cc2[nH]1'], 'O=C(Nc1cccc(NC(=O)c2ccccc2)c1)c1ccccc1': ['O=C(Nc1cccc(NC(=O)c2ccccc2)c1)c1ccccc1'], 'O=C(c1cccc(Cc2n[nH]c(=O)c3ccccc23)c1)N1CCN(C(=O)C2CC2)CC1': ['O=C(c1cccc(Cc2n[nH]c(=O)c3ccccc23)c1)N1CCN(C(=O)C2CC2)CC1'], 'O=C1CCC/C=C/C(=O)OC2CC(CCC/C=C/C=C/CCCCC(=O)CCC1)OC1(CCCCO1)C2': ['O=C1CCC/C=C/C(=O)OC2CC(CCC/C=C/C=C/CCCCC(=O)CCC1)OC1(CCCCO1)C2'], 'O=S(=O)(Nc1cccc2cc[nH]c12)c1ccccc1': ['O=S(=O)(Nc1cccc2cc[nH]c12)c1ccccc1'], 'O=C(C[C@H]1C=C[C@H](NS(=O)(=O)c2ccccc2)CO1)N1CCNCC1': ['O=C(C[C@H]1C=C[C@H](NS(=O)(=O)c2ccccc2)CO1)N1CCNCC1'], 'O=C1/C(=C\\\\c2ccccc2)C=NN1c1ccccc1': ['O=C1/C(=C\\\\c2ccccc2)C=NN1c1ccccc1'], 'O=C(C[C@@H]1CC[C@@H](NC(=O)CN2CCOCC2)CO1)NCc1ccccc1': ['O=C(C[C@@H]1CC[C@@H](NC(=O)CN2CCOCC2)CO1)NCc1ccccc1'], 'O=C(N/N=C/c1ccccc1)c1ccccc1': ['O=C(N/N=C/c1ccccc1)c1ccccc1'], 'c1ccc(Nc2ccnc3ccc(NCc4cnc[nH]4)cc23)cc1': ['c1ccc(Nc2ccnc3ccc(NCc4cnc[nH]4)cc23)cc1'], 'O=c1cc(-c2ccccc2)c2cc(C(c3ccccc3)c3cnc[nH]3)ccc2[nH]1': ['O=c1cc(-c2ccccc2)c2cc(C(c3ccccc3)c3cnc[nH]3)ccc2[nH]1', 'O=c1cc(-c2ccccc2)c2cc(C(c3ccccc3)c3cnc[nH]3)ccc2[nH]1'], 'C1=C(c2ccc3cnccc3c2)C2CC[C@H]3[C@@H](CC[C@H]4CCCC[C@@H]43)[C@@H]2C1': ['C1=C(c2ccc3cnccc3c2)C2CC[C@H]3[C@@H](CC[C@H]4CCCC[C@@H]43)[C@@H]2C1'], 'O=C1CC[C@H](CCc2ccc3c(c2)C(=O)[C@@H]2C4C[C@@H]5COC[C@@]4(CC[C@@H]32)O5)O1': ['O=C1CC[C@H](CCc2ccc3c(c2)C(=O)[C@@H]2C4C[C@@H]5COC[C@@]4(CC[C@@H]32)O5)O1'], 'c1ccc(C(Nc2ccccn2)c2c[nH]c3ccccc23)cc1': ['c1ccc(C(Nc2ccccn2)c2c[nH]c3ccccc23)cc1'], 'O=C1COc2ccc(Nc3ccnc(Nc4ccccc4)n3)nc2N1': ['O=C1COc2ccc(Nc3ccnc(Nc4ccccc4)n3)nc2N1'], 'O=C(Nc1cccnc1)C1CCCN1c1nc(Nc2cc(C3CC3)n[nH]2)c2cccn2n1': ['O=C(Nc1cccnc1)C1CCCN1c1nc(Nc2cc(C3CC3)n[nH]2)c2cccn2n1'], 'O=C(C=Cc1ccc2ccccc2c1)Nc1ccccc1': ['O=C(C=Cc1ccc2ccccc2c1)Nc1ccccc1'], 'O=C(Cc1ccccc1)OC1CCCC1': ['O=C(Cc1ccccc1)OC1CCCC1'], 'c1ccc(COc2ccc(Nc3ccnc4ccccc34)cc2)nc1': ['c1ccc(COc2ccc(Nc3ccnc4ccccc34)cc2)nc1'], 'O=C1[C@H](Cc2ccccc2)N2C(=O)CCN(C(=O)NCc3ccccc3)[C@H]2CN1Cc1cccc2ccccc12': ['O=C1[C@H](Cc2ccccc2)N2C(=O)CCN(C(=O)NCc3ccccc3)[C@H]2CN1Cc1cccc2ccccc12'], 'O=C1/C(=C/c2ccc(-c3ccccc3)o2)C=NN1c1ccccc1': ['O=C1/C(=C/c2ccc(-c3ccccc3)o2)C=NN1c1ccccc1'], 'c1cc(NCCc2c[nH]c3ccccc23)cc(Nc2ccncc2)c1': ['c1cc(NCCc2c[nH]c3ccccc23)cc(Nc2ccncc2)c1'], 'O=c1[nH]n(-c2ccccn2)c2nc(Nc3ccc(N4CCNCC4)cc3)ncc12': ['O=c1[nH]n(-c2ccccn2)c2nc(Nc3ccc(N4CCNCC4)cc3)ncc12'], 'O=C(Nc1ccc(Oc2ccnc3ccccc23)cc1)Nc1ccon1': ['O=C(Nc1ccc(Oc2ccnc3ccccc23)cc1)Nc1ccon1'], 'O=C1NCC(=O)N2Cc3[nH]c4ccccc4c3C[C@@H]12': ['O=C1NCC(=O)N2Cc3[nH]c4ccccc4c3C[C@@H]12'], 'c1ccc(NCc2nc3cc4ccccc4cc3[nH]2)cc1': ['c1ccc(NCc2nc3cc4ccccc4cc3[nH]2)cc1'], 'O=C(Nc1cnoc1)Nc1ccc2c(c1)C(=O)NCC[C@@H](CNCC1CCCCC1)O2': ['O=C(Nc1cnoc1)Nc1ccc2c(c1)C(=O)NCC[C@@H](CNCC1CCCCC1)O2'], 'O=C1NCC[C@H](CNCc2ccccc2)Oc2ccccc21': ['O=C1NCC[C@H](CNCc2ccccc2)Oc2ccccc21'], 'O=C(Nc1cccc2c1O[C@@H](CNS(=O)(=O)c1ccccc1)CCNC2=O)Nc1cccc2ccccc12': ['O=C(Nc1cccc2c1O[C@@H](CNS(=O)(=O)c1ccccc1)CCNC2=O)Nc1cccc2ccccc12'], 'O=C(Nc1cccc2c1O[C@@H](CNCc1ccc3c(c1)OCO3)CCNC2=O)c1ccncc1': ['O=C(Nc1cccc2c1O[C@@H](CNCc1ccc3c(c1)OCO3)CCNC2=O)c1ccncc1'], 'O=C1Cc2ccccc2OCCCN1': ['O=C1Cc2ccccc2OCCCN1', 'O=C1Cc2ccccc2OCCCN1'], 'O=C1Cc2cc(NC(=O)NC3CCCCC3)ccc2O[C@@H](CNC(=O)Nc2cccc3ccccc23)CCN1': ['O=C1Cc2cc(NC(=O)NC3CCCCC3)ccc2O[C@@H](CNC(=O)Nc2cccc3ccccc23)CCN1'], 'O=C1Cc2cc(NC(=O)c3ccncc3)ccc2O[C@H](CNC(=O)Nc2cccc3ccccc23)CCN1': ['O=C1Cc2cc(NC(=O)c3ccncc3)ccc2O[C@H](CNC(=O)Nc2cccc3ccccc23)CCN1'], 'O=C(Nc1ccccc1)N1CCN(c2ncnc3cc(OCCCN4CCCCC4)ccc23)CC1': ['O=C(Nc1ccccc1)N1CCN(c2ncnc3cc(OCCCN4CCCCC4)ccc23)CC1'], 'c1ccncc1': ['c1ccncc1'], 'O=c1nc2[nH]c3ccccc3cc-2c(=O)[nH]1': ['O=c1nc2[nH]c3ccccc3cc-2c(=O)[nH]1'], 'O=C1C=CC(=O)N1': ['O=C1C=CC(=O)N1'], 'c1ccc(Cc2ccccc2)cc1': ['c1ccc(Cc2ccccc2)cc1'], 'O=C1C[N@]2CC[C@@H]1CC2': ['O=C1C[N@]2CC[C@@H]1CC2'], 'O=C1c2ccccc2NC2c3[nH]c4ccccc4c3CCN12': ['O=C1c2ccccc2NC2c3[nH]c4ccccc4c3CCN12'], 'c1cc2c(NC3CCNCC3)nc(C3CCCCC3)nc2cc1OCCCN1CCCC1': ['c1cc2c(NC3CCNCC3)nc(C3CCCCC3)nc2cc1OCCCN1CCCC1'], 'O=C1CC2=CCC3C4CCCC4CC(=O)C3C2CC1=O': ['O=C1CC2=CCC3C4CCCC4CC(=O)C3C2CC1=O'], 'O=C(NCc1ccncc1)c1cc2c(c(-c3cccc(-c4ccccc4)c3)n1)CNC2': ['O=C(NCc1ccncc1)c1cc2c(c(-c3cccc(-c4ccccc4)c3)n1)CNC2'], 'O=C(NCC[C@@H]1CCCCO1)Nc1ccccc1': ['O=C(NCC[C@@H]1CCCCO1)Nc1ccccc1'], 'O=C(Cc1cc(Nc2ncnc3ccccc23)n[nH]1)Nc1ccccc1': ['O=C(Cc1cc(Nc2ncnc3ccccc23)n[nH]1)Nc1ccccc1'], 'O=C(Nc1ccccc1)Nc1ccc(-c2cccc3[nH]ncc23)cc1': ['O=C(Nc1ccccc1)Nc1ccc(-c2cccc3[nH]ncc23)cc1'], 'c1ccc2[nH]c(C3CCCN3)nc2c1': ['c1ccc2[nH]c(C3CCCN3)nc2c1'], 'c1cc(Nc2ncnc3cc(OCCN4CCNCC4)cc(OC4CCOCC4)c23)c2c(c1)OCO2': ['c1cc(Nc2ncnc3cc(OCCN4CCNCC4)cc(OC4CCOCC4)c23)c2c(c1)OCO2'], 'c1ccc(Nc2ncnc3cc(O[C@H]4CCOC4)ccc23)cc1': ['c1ccc(Nc2ncnc3cc(O[C@H]4CCOC4)ccc23)cc1'], 'c1ccc(Nc2ncnc3cc(OCCCN4CCOCC4)ccc23)cc1': ['c1ccc(Nc2ncnc3cc(OCCCN4CCOCC4)ccc23)cc1'], 'C1=C/C(=C/c2ccc[nH]2)N=C1c1cc2ccccc2[nH]1': ['C1=C/C(=C/c2ccc[nH]2)N=C1c1cc2ccccc2[nH]1'], 'O=C(Nc1cccc(Nc2nc(-c3cccnc3)cs2)c1)c1ccc(CN2CCNCC2)cc1': ['O=C(Nc1cccc(Nc2nc(-c3cccnc3)cs2)c1)c1ccc(CN2CCNCC2)cc1'], 'c1ccc2c(c1)ncn2-c1nc(N2CCOCC2)nc(N2CCOCC2)n1': ['c1ccc2c(c1)ncn2-c1nc(N2CCOCC2)nc(N2CCOCC2)n1'], 'c1cc2c(Oc3ccc4[nH]ccc4c3)ncnn2c1': ['c1cc2c(Oc3ccc4[nH]ccc4c3)ncnn2c1'], 'N=C1CCc2cc(-c3c[nH]nc3-c3ccncc3)ccc21': ['N=C1CCc2cc(-c3c[nH]nc3-c3ccncc3)ccc21'], 'c1ccc(Nc2ccnc(Nc3ccc(N4CCC(N5CCNCC5)CC4)cc3)n2)cc1': ['c1ccc(Nc2ccnc(Nc3ccc(N4CCC(N5CCNCC5)CC4)cc3)n2)cc1'], 'O=C(Nc1ncc(SCc2ncco2)s1)C1CCNCC1': ['O=C(Nc1ncc(SCc2ncco2)s1)C1CCNCC1'], 'O=C(c1ccccc1)c1c[nH]c2ncccc12': ['O=C(c1ccccc1)c1c[nH]c2ncccc12'], 'O=c1cc(N2CCOCC2)nc2c(CNc3ccccc3)cccn12': ['O=c1cc(N2CCOCC2)nc2c(CNc3ccccc3)cccn12', 'O=c1cc(N2CCOCC2)nc2c(CNc3ccccc3)cccn12'], 'c1ccc(-c2nc3cncnc3nc2-c2ccccc2)cc1': ['c1ccc(-c2nc3cncnc3nc2-c2ccccc2)cc1'], 'O=C1NC(=O)/C(=C/c2ccc3nccc(-c4ccncc4)c3c2)S1': ['O=C1NC(=O)/C(=C/c2ccc3nccc(-c4ccncc4)c3c2)S1'], 'O=C1Nc2ccc(S(=O)(=O)Nc3ccccc3)cc2/C1=C/c1cc(C(=O)N2CCNCC2)c[nH]1': ['O=C1Nc2ccc(S(=O)(=O)Nc3ccccc3)cc2/C1=C/c1cc(C(=O)N2CCNCC2)c[nH]1'], 'c1ccc(Cn2ccc3ccccc32)cc1': ['c1ccc(Cn2ccc3ccccc32)cc1'], 'O=C1Nc2cnc(Nc3ccc(C(=O)N4CCC(N5CCNCC5)CC4)cc3)nc2Nc2ccccc21': ['O=C1Nc2cnc(Nc3ccc(C(=O)N4CCC(N5CCNCC5)CC4)cc3)nc2Nc2ccccc21'], 'O=S(=O)(N[C@@H]1CCNC1)c1cccc2cnccc12': ['O=S(=O)(N[C@@H]1CCNC1)c1cccc2cnccc12'], 'c1ccc2c3c([nH]c2c1)CCCC3': ['c1ccc2c3c([nH]c2c1)CCCC3'], 'O=S(=O)(c1ccc(-c2cnc(C3CC3)o2)cc1)N1CCCc2ccccc21': ['O=S(=O)(c1ccc(-c2cnc(C3CC3)o2)cc1)N1CCCc2ccccc21'], 'O=C(Nc1cc2c(s1)CNCC2)c1cccs1': ['O=C(Nc1cc2c(s1)CNCC2)c1cccs1'], 'c1ccc([C@@H]2NCCc3c2[nH]c2ccccc32)cc1': ['c1ccc([C@@H]2NCCc3c2[nH]c2ccccc32)cc1'], 'c1ccc(C(c2ccccc2)N2CCN(Cc3ncc4ccccc4n3)CC2)cc1': ['c1ccc(C(c2ccccc2)N2CCN(Cc3ncc4ccccc4n3)CC2)cc1'], 'c1ccc(CCNc2nc(-c3csc4ccccc34)nc3[nH]cnc23)cc1': ['c1ccc(CCNc2nc(-c3csc4ccccc34)nc3[nH]cnc23)cc1'], 'c1ccc(CN2CCCN(Cc3ccccc3)C2c2ccncc2)cc1': ['c1ccc(CN2CCCN(Cc3ccccc3)C2c2ccncc2)cc1'], 'O=C1C=CCCN1C(=O)/C=C/c1ccc(OCCNCCOc2ccc(/C=C/C(=O)N3CCC=CC3=O)cc2)cc1': ['O=C1C=CCCN1C(=O)/C=C/c1ccc(OCCNCCOc2ccc(/C=C/C(=O)N3CCC=CC3=O)cc2)cc1'], 'O=C(Nc1ccc(S(=O)(=O)c2ccccc2)cc1)c1cccc(Cc2ccccc2)c1': ['O=C(Nc1ccc(S(=O)(=O)c2ccccc2)cc1)c1cccc(Cc2ccccc2)c1'], 'c1ccc(-c2ccc3c(N4CCOCC4)nc(N4CCOCC4)nc3n2)cc1': ['c1ccc(-c2ccc3c(N4CCOCC4)nc(N4CCOCC4)nc3n2)cc1'], 'O=c1cc(-c2ccccc2)[nH]c2cc3c(cc12)OCO3': ['O=c1cc(-c2ccccc2)[nH]c2cc3c(cc12)OCO3'], 'O=C(COc1ccccc1)N/N=C/c1ccc[nH]1': ['O=C(COc1ccccc1)N/N=C/c1ccc[nH]1'], 'O=C(Cc1ccccc1)Nc1cccc(/N=C/c2cccc3ccccc23)c1': ['O=C(Cc1ccccc1)Nc1cccc(/N=C/c2cccc3ccccc23)c1'], 'c1ccc(C2=NCc3nncn3-c3sccc32)cc1': ['c1ccc(C2=NCc3nncn3-c3sccc32)cc1'], 'O=C(Nc1cccc(-c2ccccc2)c1)C1CCC1': ['O=C(Nc1cccc(-c2ccccc2)c1)C1CCC1'], 'c1ccc2c(c1)ncc1nccn12': ['c1ccc2c(c1)ncc1nccn12'], 'O=C(CCCCCNC(=O)c1ccccc1)Nc1ccccc1': ['O=C(CCCCCNC(=O)c1ccccc1)Nc1ccccc1'], 'O=C(CN1CCNCC1)Nc1ccc(N/C(=C2\\\\C(=O)Nc3ccccc32)c2ccccc2)cc1': ['O=C(CN1CCNCC1)Nc1ccc(N/C(=C2\\\\C(=O)Nc3ccccc32)c2ccccc2)cc1'], 'c1ccc(COc2cncc(-c3cnn(C4CCNCC4)c3)c2)cc1': ['c1ccc(COc2cncc(-c3cnn(C4CCNCC4)c3)c2)cc1'], 'O=C(Nc1ccccc1)C1(C(=O)Nc2ccc(Oc3ccnc4cc(OCCCN5CCOCC5)ccc34)cc2)CC1': ['O=C(Nc1ccccc1)C1(C(=O)Nc2ccc(Oc3ccnc4cc(OCCCN5CCOCC5)ccc34)cc2)CC1'], 'c1ccc(Sc2ccnc(Nc3ccc(N4CCNCC4)cc3)n2)cc1': ['c1ccc(Sc2ccnc(Nc3ccc(N4CCNCC4)cc3)n2)cc1'], 'O=C(Cc1ccccc1)NC(=S)Nc1ccc(Oc2ccnc3cc(-c4c[nH]cn4)sc23)cc1': ['O=C(Cc1ccccc1)NC(=S)Nc1ccc(Oc2ccnc3cc(-c4c[nH]cn4)sc23)cc1'], 'O=C(Nc1ccc(Oc2ccnc3ccccc23)cc1)NC1CC1': ['O=C(Nc1ccc(Oc2ccnc3ccccc23)cc1)NC1CC1'], 'O=C(CC1C(=O)Nc2ccccc21)c1ccccc1': ['O=C(CC1C(=O)Nc2ccccc21)c1ccccc1'], 'O=C(CCCCCCCn1cc(-c2cccnc2)nn1)Nc1ccccc1-c1ccccc1': ['O=C(CCCCCCCn1cc(-c2cccnc2)nn1)Nc1ccccc1-c1ccccc1'], 'O=C(CN1CCNCC1)Nc1ccc(-c2cccc3c(=O)cc(N4CCOCC4)oc23)c2sc3ccccc3c12': ['O=C(CN1CCNCC1)Nc1ccc(-c2cccc3c(=O)cc(N4CCOCC4)oc23)c2sc3ccccc3c12'], 'c1ccc(-c2ccno2)cc1': ['c1ccc(-c2ccno2)cc1'], 'c1ccc(COc2ccc(Nc3ncnc4ccc(-c5ccco5)cc34)cc2)cc1': ['c1ccc(COc2ccc(Nc3ncnc4ccc(-c5ccco5)cc34)cc2)cc1'], 'c1ccc2c(NC3CCNCC3)nc(N3CCCNCC3)nc2c1': ['c1ccc2c(NC3CCNCC3)nc(N3CCCNCC3)nc2c1'], 'c1cnc2ccc(Sc3nnc4ccc(-c5cn[nH]c5)nn34)cc2c1': ['c1cnc2ccc(Sc3nnc4ccc(-c5cn[nH]c5)nn34)cc2c1'], 'O=C(Nc1ccc(N2CCOCC2)nc1)c1cccc(-c2ccccc2)c1': ['O=C(Nc1ccc(N2CCOCC2)nc1)c1cccc(-c2ccccc2)c1'], 'c1ccc(Nc2ncc3c(n2)-c2ccccc2C(c2ccccc2)=NC3)cc1': ['c1ccc(Nc2ncc3c(n2)-c2ccccc2C(c2ccccc2)=NC3)cc1'], 'c1nc(-c2cnn(CC3CCCC3)c2)c2cc[nH]c2n1': ['c1nc(-c2cnn(CC3CCCC3)c2)c2cc[nH]c2n1'], 'O=C(CCCNC(=O)[C@@H](NC(=O)c1ccncn1)C(O[C@H]1OCCC[C@H]1O[C@@H]1CCCCO1)c1c[nH]cn1)NCC(=O)NCCc1nc(-c2nccs2)cs1': ['O=C(CCCNC(=O)[C@@H](NC(=O)c1ccncn1)C(O[C@H]1OCCC[C@H]1O[C@@H]1CCCCO1)c1c[nH]cn1)NCC(=O)NCCc1nc(-c2nccs2)cs1'], 'c1cc(-c2nc(N3CCOCC3)c3sc(CN4CCNCC4)cc3n2)c2cn[nH]c2c1': ['c1cc(-c2nc(N3CCOCC3)c3sc(CN4CCNCC4)cc3n2)c2cn[nH]c2c1'], 'c1ccc(-c2[nH]cnc2-c2ccc3nccnc3c2)nc1': ['c1ccc(-c2[nH]cnc2-c2ccc3nccnc3c2)nc1'], 'O=C(C1CCNCC1)N1Cc2cn[nH]c2C1': ['O=C(C1CCNCC1)N1Cc2cn[nH]c2C1'], 'O=C(Nc1ccc(-c2cn3c(n2)sc2cc(OCCN4CCOCC4)ccc23)cc1)Nc1ccon1': ['O=C(Nc1ccc(-c2cn3c(n2)sc2cc(OCCN4CCOCC4)ccc23)cc1)Nc1ccon1'], 'c1ccc(Nc2nccc(Nc3ccc4c[nH]nc4c3)n2)cc1': ['c1ccc(Nc2nccc(Nc3ccc4c[nH]nc4c3)n2)cc1'], 'c1ccc(Oc2ccnc(Nc3ccc(N4CCNCC4)cc3)n2)cc1': ['c1ccc(Oc2ccnc(Nc3ccc(N4CCNCC4)cc3)n2)cc1'], 'O=C(Nc1cccc(-c2ccccc2)c1)N1CCC1': ['O=C(Nc1cccc(-c2ccccc2)c1)N1CCC1'], 'O=S(=O)(Nc1ccccc1C=Cc1cc[nH+]cc1)c1ccccc1': ['O=S(=O)(Nc1ccccc1C=Cc1cc[nH+]cc1)c1ccccc1'], 'O=C(c1ccccc1)c1c[nH]c2ncc(-c3ccccc3)cc12': ['O=C(c1ccccc1)c1c[nH]c2ncc(-c3ccccc3)cc12'], 'c1ccc(COc2csc(-n3cnc4ccc(CN5CCNCC5)cc43)c2)cc1': ['c1ccc(COc2csc(-n3cnc4ccc(CN5CCNCC5)cc43)c2)cc1'], 'O=C1CCCC/C=C\\\\CCCCNC(=O)CNC(=O)CNC(=O)CN1': ['O=C1CCCC/C=C\\\\CCCCNC(=O)CNC(=O)CNC(=O)CN1', 'O=C1CCCC/C=C\\\\CCCCNC(=O)CNC(=O)CNC(=O)CN1'], 'O=C1CCCCC=CCCCC(C(=O)NC(Cc2c[nH]cn2)C(=O)NCCc2c[nH]cn2)NC(=O)CNC(=O)CNC(=O)CN1': ['O=C1CCCCC=CCCCC(C(=O)NC(Cc2c[nH]cn2)C(=O)NCCc2c[nH]cn2)NC(=O)CNC(=O)CNC(=O)CN1'], 'c1ccc2c(c1)ccc1occc12': ['c1ccc2c(c1)ccc1occc12'], 'O=C1c2ccccc2C(=O)N1C[C@@H]1c2ccccc2CCN1C(=O)C1CCCCC1': ['O=C1c2ccccc2C(=O)N1C[C@@H]1c2ccccc2CCN1C(=O)C1CCCCC1'], 'c1ccc(CNc2ncnc3ccccc23)cc1': ['c1ccc(CNc2ncnc3ccccc23)cc1'], 'c1ccc(Nc2nccc(-c3ccccc3)n2)cc1': ['c1ccc(Nc2nccc(-c3ccccc3)n2)cc1'], 'O=C(NCCCNC[C@@H]1CC[C@H](n2cnc3cncnc32)O1)Nc1ccccc1': ['O=C(NCCCNC[C@@H]1CC[C@H](n2cnc3cncnc32)O1)Nc1ccccc1'], 'O=C1CCCC2=C1[C@@H](c1ccccc1)c1c[nH]nc1N2': ['O=C1CCCC2=C1[C@@H](c1ccccc1)c1c[nH]nc1N2'], 'O=C1CC(=O)C2C(=O)C3C(=O)c4ccccc4C[C@H]3C[C@H]2C1': ['O=C1CC(=O)C2C(=O)C3C(=O)c4ccccc4C[C@H]3C[C@H]2C1', 'O=C1CC(=O)C2C(=O)C3C(=O)c4ccccc4C[C@H]3C[C@H]2C1'], 'O=S(=O)(Cc1cccc(OCc2ccc(CN3CCCC3)cc2)c1)c1ccccc1': ['O=S(=O)(Cc1cccc(OCc2ccc(CN3CCCC3)cc2)c1)c1ccccc1'], 'O=C1CCc2cc(Nc3nccc(NCc4ccccc4)n3)ccc2N1': ['O=C1CCc2cc(Nc3nccc(NCc4ccccc4)n3)ccc2N1'], 'O=C(/C=C/c1ccccc1)c1c(-c2ccccc2)c2ccccc2[nH]c1=O': ['O=C(/C=C/c1ccccc1)c1c(-c2ccccc2)c2ccccc2[nH]c1=O'], 'c1ccc(CNCc2cccs2)cc1': ['c1ccc(CNCc2cccs2)cc1'], 'c1ccc(OCCCCCCC2CO2)cc1': ['c1ccc(OCCCCCCC2CO2)cc1'], 'O=C(Nc1ccccc1)c1cc(-c2ccccc2)n(CCCN2CCOCC2)c1': ['O=C(Nc1ccccc1)c1cc(-c2ccccc2)n(CCCN2CCOCC2)c1'], 'O=C1c2ccccc2-c2onc3c(N4CCCCC4)cc(Nc4ccccc4)c1c23': ['O=C1c2ccccc2-c2onc3c(N4CCCCC4)cc(Nc4ccccc4)c1c23'], 'c1ccc2[nH]ccc2c1': ['c1ccc2[nH]ccc2c1'], 'O=C1C=CCCO1': ['O=C1C=CCCO1'], 'O=c1[nH]c2cnc(Nc3ccc(OC4CCNCC4)cc3)nc2n1C1CCCC1': ['O=c1[nH]c2cnc(Nc3ccc(OC4CCNCC4)cc3)nc2n1C1CCCC1'], 'O=C(NCCN1CCC(n2c(=O)[nH]c3ccccc32)CC1)c1ccc2ccccc2c1': ['O=C(NCCN1CCC(n2c(=O)[nH]c3ccccc32)CC1)c1ccc2ccccc2c1'], 'c1cc2c(NC3CCNCC3)nc(C3CCCCC3)nc2cc1OCCCN1CCCC1.c1ccc(C2=NCc3nncn3-c3sccc32)cc1': ['c1cc2c(NC3CCNCC3)nc(C3CCCCC3)nc2cc1OCCCN1CCCC1.c1ccc(C2=NCc3nncn3-c3sccc32)cc1'], 'O=C1O[Pt]OC(=O)C12CCC2.c1cc2c(NC3CCNCC3)nc(C3CCCCC3)nc2cc1OCCCN1CCCC1': ['O=C1O[Pt]OC(=O)C12CCC2.c1cc2c(NC3CCNCC3)nc(C3CCCCC3)nc2cc1OCCCN1CCCC1'], 'O=C1O[Pt]OC(=O)C12CCC2.c1ccccc1': ['O=C1O[Pt]OC(=O)C12CCC2.c1ccccc1'], 'c1ccc(C(c2ccccc2)N2CCN(Cc3ncc4ccccc4n3)CC2)cc1.c1ccc2c(CCNc3ccc(Nc4ccncc4)cc3)c[nH]c2c1': ['c1ccc(C(c2ccccc2)N2CCN(Cc3ncc4ccccc4n3)CC2)cc1.c1ccc2c(CCNc3ccc(Nc4ccncc4)cc3)c[nH]c2c1'], 'O=C(c1ccccc1)c1c[nH]c2ncc(-c3ccccc3)cc12.c1ccc(Nc2ccc3[nH]cnc3c2)cc1': ['O=C(c1ccccc1)c1c[nH]c2ncc(-c3ccccc3)cc12.c1ccc(Nc2ccc3[nH]cnc3c2)cc1'], 'O=C(NCCc1ccccc1)c1cnccn1.O=C1CC/C=C/CC(=O)C[C@@H](CCC2CCCCC2)OC(=O)[C@@H]2CCCCN2C(=O)C(=O)C2CCC[C@@H](CC/C=C/C=C/C=C/CCC1)O2': ['O=C(NCCc1ccccc1)c1cnccn1.O=C1CC/C=C/CC(=O)C[C@@H](CCC2CCCCC2)OC(=O)[C@@H]2CCCCN2C(=O)C(=O)C2CCC[C@@H](CC/C=C/C=C/C=C/CCC1)O2'], 'O=C(NCCc1ccc(OCCCNc2ncnc3[nH]cnc23)cc1)c1ccccc1': ['O=C(NCCc1ccc(OCCCNc2ncnc3[nH]cnc23)cc1)c1ccccc1'], 'O=C1OC[C@H]2[C@@H](/C=C/c3ccc(-c4ccccc4)cn3)[C@@H]3CCCC[C@H]3C[C@@H]12': ['O=C1OC[C@H]2[C@@H](/C=C/c3ccc(-c4ccccc4)cn3)[C@@H]3CCCC[C@H]3C[C@@H]12'], 'O=C(/C=C/c1ccccc1)c1ccccc1': ['O=C(/C=C/c1ccccc1)c1ccccc1'], 'O=C1CNC(=O)CNC(=O)CNC(=O)[C@H](Cc2c[nH]c3ccccc23)NC(=O)CNC(=O)CNC(=O)C(NC(=O)CCc2ccccc2)CCCCCC/C=C\\\\CCCCN1': ['O=C1CNC(=O)CNC(=O)CNC(=O)[C@H](Cc2c[nH]c3ccccc23)NC(=O)CNC(=O)CNC(=O)C(NC(=O)CCc2ccccc2)CCCCCC/C=C\\\\CCCCN1'], 'O=C(CCc1c[nH]c2ccccc12)NCC(=O)NCC(=O)NCC(=O)NCC(=O)NCC(=O)NCC(=O)NC1CCC/C=C\\\\CCCC(C(=O)N[C@@H](Cc2ccccc2)C(=O)NCC(=O)NCC(=O)N[C@@H](Cc2ccccc2)C(=O)NCCc2ccccc2)NC(=O)CNC(=O)CNC(=O)CNC1=O': ['O=C(CCc1c[nH]c2ccccc12)NCC(=O)NCC(=O)NCC(=O)NCC(=O)NCC(=O)NCC(=O)NC1CCC/C=C\\\\CCCC(C(=O)N[C@@H](Cc2ccccc2)C(=O)NCC(=O)NCC(=O)N[C@@H](Cc2ccccc2)C(=O)NCCc2ccccc2)NC(=O)CNC(=O)CNC(=O)CNC1=O'], 'O=C(NC1CCCCC1)C(c1ccccc1)N(C(=O)Cc1cccs1)c1ccccc1': ['O=C(NC1CCCCC1)C(c1ccccc1)N(C(=O)Cc1cccs1)c1ccccc1'], 'O=C(NS(=O)(=O)c1ccc(N[C@H](CCN2CCOCC2)CSc2ccccc2)cc1)c1ccc(N2CCN(CC3=C(c4ccccc4)CCCC3)CC2)cc1.c1cc(C[C@@H]2CCCN2)c2cc(-c3[nH]c4ccccc4c3C[C@@H]3CCCN3)[nH]c2c1': ['O=C(NS(=O)(=O)c1ccc(N[C@H](CCN2CCOCC2)CSc2ccccc2)cc1)c1ccc(N2CCN(CC3=C(c4ccccc4)CCCC3)CC2)cc1.c1cc(C[C@@H]2CCCN2)c2cc(-c3[nH]c4ccccc4c3C[C@@H]3CCCN3)[nH]c2c1'], 'O=C(NCCc1ccccc1)c1cnccn1.c1ccc(-c2ccno2)cc1': ['O=C(NCCc1ccccc1)c1cnccn1.c1ccc(-c2ccno2)cc1'], 'c1cc(-c2nc(N3CCOCC3)c3sc(CN4CCNCC4)cc3n2)c2cn[nH]c2c1.c1ccc(Nc2ccc3[nH]cnc3c2)cc1': ['c1cc(-c2nc(N3CCOCC3)c3sc(CN4CCNCC4)cc3n2)c2cn[nH]c2c1.c1ccc(Nc2ccc3[nH]cnc3c2)cc1'], 'C1=CCCCC1.c1ccc(Nc2ccc3[nH]cnc3c2)cc1': ['C1=CCCCC1.c1ccc(Nc2ccc3[nH]cnc3c2)cc1'], 'c1ccc(Nc2ccc3[nH]cnc3c2)cc1.c1ccccc1': ['c1ccc(Nc2ccc3[nH]cnc3c2)cc1.c1ccccc1'], 'c1ccc(C2=NCc3nncn3-c3sccc32)cc1.c1ccc(Nc2ccc3[nH]cnc3c2)cc1': ['c1ccc(C2=NCc3nncn3-c3sccc32)cc1.c1ccc(Nc2ccc3[nH]cnc3c2)cc1'], 'O=C(NCCCNC[C@@H]1CC[C@H](n2ccc3cncnc32)O1)Nc1ccccc1.c1ccc(Nc2ccc3[nH]cnc3c2)cc1': ['O=C(NCCCNC[C@@H]1CC[C@H](n2ccc3cncnc32)O1)Nc1ccccc1.c1ccc(Nc2ccc3[nH]cnc3c2)cc1'], 'C1=CCCCC1.O=C(NS(=O)(=O)c1ccc(N[C@H](CCN2CCOCC2)CSc2ccccc2)cc1)c1ccc(N2CCN(CC3=C(c4ccccc4)CCCC3)CC2)cc1': ['C1=CCCCC1.O=C(NS(=O)(=O)c1ccc(N[C@H](CCN2CCOCC2)CSc2ccccc2)cc1)c1ccc(N2CCN(CC3=C(c4ccccc4)CCCC3)CC2)cc1'], 'O=C(NS(=O)(=O)c1ccc(N[C@H](CCN2CCOCC2)CSc2ccccc2)cc1)c1ccc(N2CCN(CC3=C(c4ccccc4)CCCC3)CC2)cc1.O=c1ncncn1[C@H]1CCCO1': ['O=C(NS(=O)(=O)c1ccc(N[C@H](CCN2CCOCC2)CSc2ccccc2)cc1)c1ccc(N2CCN(CC3=C(c4ccccc4)CCCC3)CC2)cc1.O=c1ncncn1[C@H]1CCCO1'], 'C1=CCCCC1.O=C1O[Pt]OC(=O)C12CCC2': ['C1=CCCCC1.O=C1O[Pt]OC(=O)C12CCC2'], 'N=C1SC(=Cc2c[nH]nc2-c2ccccc2)C(=O)N1c1nccs1': ['N=C1SC(=Cc2c[nH]nc2-c2ccccc2)C(=O)N1c1nccs1'], 'O=c1[nH]c2cnc3cc(-c4cnoc4)ccc3c2n1Cc1ccccn1': ['O=c1[nH]c2cnc3cc(-c4cnoc4)ccc3c2n1Cc1ccccn1'], 'c1csc(COc2ncnc3nc[nH]c23)c1': ['c1csc(COc2ncnc3nc[nH]c23)c1'], 'O=C(Nc1ccc2c(c1)-c1c(cnn1-c1ccccc1)CC2)c1ccnc(N2CCCC2)c1': ['O=C(Nc1ccc2c(c1)-c1c(cnn1-c1ccccc1)CC2)c1ccnc(N2CCCC2)c1'], 'O=C1C=C2CCCCCC/C=C/CC/C=C\\\\C=C\\\\C(=O)NC(=C1)C2=O.O=c1ncccn1[C@H]1CCCO1': ['O=C1C=C2CCCCCC/C=C/CC/C=C\\\\C=C\\\\C(=O)NC(=C1)C2=O.O=c1ncccn1[C@H]1CCCO1'], 'O=C(CCc1ccccc1)O[C@@H]1C=C2CC(=O)C3CC[C@H]4OCC4C3[C@H](OC(=O)c3ccccc3)C(C2)C1.O=C1C=C2CCCCCC/C=C/CC/C=C\\\\C=C\\\\C(=O)NC(=C1)C2=O': ['O=C(CCc1ccccc1)O[C@@H]1C=C2CC(=O)C3CC[C@H]4OCC4C3[C@H](OC(=O)c3ccccc3)C(C2)C1.O=C1C=C2CCCCCC/C=C/CC/C=C\\\\C=C\\\\C(=O)NC(=C1)C2=O'], 'O=c1[nH]nc2c3cc(-c4ccccc4)c(-c4ccc(C5CCC5)cc4)nc3ccn12.c1ccc(Nc2ccc3[nH]cnc3c2)cc1': ['O=c1[nH]nc2c3cc(-c4ccccc4)c(-c4ccc(C5CCC5)cc4)nc3ccn12.c1ccc(Nc2ccc3[nH]cnc3c2)cc1'], 'O=C(NS(=O)(=O)c1ccc(N[C@H](CCN2CCOCC2)CSc2ccccc2)cc1)c1ccc(N2CCN(CC3=C(c4ccccc4)CCCC3)CC2)cc1.O=C(c1ccccc1)c1c[nH]c2ncc(-c3ccccc3)cc12': ['O=C(NS(=O)(=O)c1ccc(N[C@H](CCN2CCOCC2)CSc2ccccc2)cc1)c1ccc(N2CCN(CC3=C(c4ccccc4)CCCC3)CC2)cc1.O=C(c1ccccc1)c1c[nH]c2ncc(-c3ccccc3)cc12'], 'O=C1C=CCCN1C(=O)/C=C/c1ccccc1.c1ccc(Nc2ccc3[nH]cnc3c2)cc1': ['O=C1C=CCCN1C(=O)/C=C/c1ccccc1.c1ccc(Nc2ccc3[nH]cnc3c2)cc1'], 'O=C(NCCc1ccccc1)c1cnccn1.O=C1C=C2CCCCCC/C=C/CC/C=C\\\\C=C\\\\C(=O)NC(=C1)C2=O': ['O=C(NCCc1ccccc1)c1cnccn1.O=C1C=C2CCCCCC/C=C/CC/C=C\\\\C=C\\\\C(=O)NC(=C1)C2=O'], 'O=C(NS(=O)(=O)c1ccc(N[C@H](CCN2CCOCC2)CSc2ccccc2)cc1)c1ccc(N2CCN(CC3=C(c4ccccc4)CCCC3)CC2)cc1.O=C(Nc1cccc(NC(=O)c2ccccc2)c1)c1ccccc1': ['O=C(NS(=O)(=O)c1ccc(N[C@H](CCN2CCOCC2)CSc2ccccc2)cc1)c1ccc(N2CCN(CC3=C(c4ccccc4)CCCC3)CC2)cc1.O=C(Nc1cccc(NC(=O)c2ccccc2)c1)c1ccccc1'], 'O=C1OC[C@H]2[C@H]1[C@H](c1ccccc1)c1cc3c(cc1[C@H]2O[C@H]1CC[C@@H]2OCOC[C@H]2O1)OCO3.O=C1O[Pt]OC(=O)C12CCC2': ['O=C1OC[C@H]2[C@H]1[C@H](c1ccccc1)c1cc3c(cc1[C@H]2O[C@H]1CC[C@@H]2OCOC[C@H]2O1)OCO3.O=C1O[Pt]OC(=O)C12CCC2'], 'O=C(Nc1cccc(NC(=O)c2ccccc2)c1)c1ccccc1.O=C1C=CCCN1C(=O)/C=C/c1ccccc1': ['O=C(Nc1cccc(NC(=O)c2ccccc2)c1)c1ccccc1.O=C1C=CCCN1C(=O)/C=C/c1ccccc1'], 'O=C(NS(=O)(=O)c1ccc(N[C@H](CCN2CCOCC2)CSc2ccccc2)cc1)c1ccc(N2CCN(CC3=C(c4ccccc4)CCCC3)CC2)cc1.O=c1ncccn1[C@H]1CCCO1': ['O=C(NS(=O)(=O)c1ccc(N[C@H](CCN2CCOCC2)CSc2ccccc2)cc1)c1ccc(N2CCN(CC3=C(c4ccccc4)CCCC3)CC2)cc1.O=c1ncccn1[C@H]1CCCO1'], 'O=C(NCCc1ccc2ccccc2c1)Oc1ccccc1': ['O=C(NCCc1ccc2ccccc2c1)Oc1ccccc1'], 'O=C(Nc1ccccc1)c1ccc2c(c1)C(c1cnc3ccccc3c1)=CCC2': ['O=C(Nc1ccccc1)c1ccc2c(c1)C(c1cnc3ccccc3c1)=CCC2'], 'O=C1/C(=N/Nc2ccccc2)C=NN1c1nc(-c2ccccc2)cs1': ['O=C1/C(=N/Nc2ccccc2)C=NN1c1nc(-c2ccccc2)cs1', 'O=C1/C(=N/Nc2ccccc2)C=NN1c1nc(-c2ccccc2)cs1'], 'C(=N/n1ccs/c1=N\\\\C1CCCCC1)\\\\c1ccccc1': ['C(=N/n1ccs/c1=N\\\\C1CCCCC1)\\\\c1ccccc1'], 'O=C(NCc1oc2ccccc2c(=O)c1Cc1ccccc1)c1ccccc1': ['O=C(NCc1oc2ccccc2c(=O)c1Cc1ccccc1)c1ccccc1'], 'c1ccc(C2=NCc3nncn3-c3ccccc32)cc1': ['c1ccc(C2=NCc3nncn3-c3ccccc32)cc1'], 'O=C(NS(=O)(=O)c1ccc(N[C@H](CCN2CCOCC2)CSc2ccccc2)cc1)c1ccc(N2CCN(CC3=C(c4ccccc4)CCCC3)CC2)cc1.O=C(Nc1cccc(N2Cc3cnc(Nc4ccn[nH]4)nc3NC2=O)c1)c1ccccc1': ['O=C(NS(=O)(=O)c1ccc(N[C@H](CCN2CCOCC2)CSc2ccccc2)cc1)c1ccc(N2CCN(CC3=C(c4ccccc4)CCCC3)CC2)cc1.O=C(Nc1cccc(N2Cc3cnc(Nc4ccn[nH]4)nc3NC2=O)c1)c1ccccc1'], 'O=C1O[Pt]OC(=O)C12CCC2.c1ccc(C2=NCc3nncn3-c3sccc32)cc1': ['O=C1O[Pt]OC(=O)C12CCC2.c1ccc(C2=NCc3nncn3-c3sccc32)cc1'], 'O=C(NS(=O)(=O)c1ccc(N[C@H](CCN2CCOCC2)CSc2ccccc2)cc1)c1ccc(N2CCN(CC3=C(c4ccccc4)CCCC3)CC2)cc1.c1ccc(Nc2ccc3[nH]cnc3c2)cc1': ['O=C(NS(=O)(=O)c1ccc(N[C@H](CCN2CCOCC2)CSc2ccccc2)cc1)c1ccc(N2CCN(CC3=C(c4ccccc4)CCCC3)CC2)cc1.c1ccc(Nc2ccc3[nH]cnc3c2)cc1'], 'O=c1ncncn1[C@H]1CCCO1.c1ccc(Nc2ccc3[nH]cnc3c2)cc1': ['O=c1ncncn1[C@H]1CCCO1.c1ccc(Nc2ccc3[nH]cnc3c2)cc1'], 'O=C1O[Pt]OC(=O)C12CCC2.O=c1ncncn1[C@H]1CCCO1': ['O=C1O[Pt]OC(=O)C12CCC2.O=c1ncncn1[C@H]1CCCO1'], 'O=C(NCCc1ccccc1)c1cnccn1.O=C1CCCc2c1cnn2-c1cccc(NC2CCCCC2)c1': ['O=C(NCCc1ccccc1)c1cnccn1.O=C1CCCc2c1cnn2-c1cccc(NC2CCCCC2)c1'], 'O=C(NS(=O)(=O)c1ccc(N[C@H](CCN2CCOCC2)CSc2ccccc2)cc1)c1ccc(N2CCN(CC3=C(c4ccccc4)CCCC3)CC2)cc1.c1ccc(C2=NCc3nncn3-c3sccc32)cc1': ['O=C(NS(=O)(=O)c1ccc(N[C@H](CCN2CCOCC2)CSc2ccccc2)cc1)c1ccc(N2CCN(CC3=C(c4ccccc4)CCCC3)CC2)cc1.c1ccc(C2=NCc3nncn3-c3sccc32)cc1'], 'O=S(=O)(c1ccccc1)C1(c2ccccc2)CCCCC1.c1ccc(C2=NCc3nncn3-c3sccc32)cc1': ['O=S(=O)(c1ccccc1)C1(c2ccccc2)CCCCC1.c1ccc(C2=NCc3nncn3-c3sccc32)cc1'], 'O=C(NCCCNC[C@@H]1CC[C@H](n2ccc3cncnc32)O1)Nc1ccccc1.O=C(NS(=O)(=O)c1ccc(N[C@H](CCN2CCOCC2)CSc2ccccc2)cc1)c1ccc(N2CCN(CC3=C(c4ccccc4)CCCC3)CC2)cc1': ['O=C(NCCCNC[C@@H]1CC[C@H](n2ccc3cncnc32)O1)Nc1ccccc1.O=C(NS(=O)(=O)c1ccc(N[C@H](CCN2CCOCC2)CSc2ccccc2)cc1)c1ccc(N2CCN(CC3=C(c4ccccc4)CCCC3)CC2)cc1'], 'O=C(Cc1ccccc1)Nc1cccc(/N=C/c2cccc3ccccc23)c1.O=C(c1ccccc1)c1c[nH]c2ncc(-c3ccccc3)cc12': ['O=C(Cc1ccccc1)Nc1cccc(/N=C/c2cccc3ccccc23)c1.O=C(c1ccccc1)c1c[nH]c2ncc(-c3ccccc3)cc12'], 'O=C(NS(=O)(=O)c1ccc(N[C@H](CCN2CCOCC2)CSc2ccccc2)cc1)c1ccc(N2CCN(CC3=C(c4ccccc4)CCCC3)CC2)cc1.c1cc2c(NC3CCNCC3)nc(C3CCCCC3)nc2cc1OCCCN1CCCC1': ['O=C(NS(=O)(=O)c1ccc(N[C@H](CCN2CCOCC2)CSc2ccccc2)cc1)c1ccc(N2CCN(CC3=C(c4ccccc4)CCCC3)CC2)cc1.c1cc2c(NC3CCNCC3)nc(C3CCCCC3)nc2cc1OCCCN1CCCC1'], 'O=C(NCCCNC[C@@H]1CC[C@H](n2ccc3cncnc32)O1)Nc1ccccc1.O=C1O[Pt]OC(=O)C12CCC2': ['O=C(NCCCNC[C@@H]1CC[C@H](n2ccc3cncnc32)O1)Nc1ccccc1.O=C1O[Pt]OC(=O)C12CCC2'], 'c1cc2c(NC3CCNCC3)nc(C3CCCCC3)nc2cc1OCCCN1CCCC1.c1ccc(Nc2ccc3[nH]cnc3c2)cc1': ['c1cc2c(NC3CCNCC3)nc(C3CCCCC3)nc2cc1OCCCN1CCCC1.c1ccc(Nc2ccc3[nH]cnc3c2)cc1'], 'O=C(NS(=O)(=O)c1ccc(N[C@H](CCN2CCOCC2)CSc2ccccc2)cc1)c1ccc(N2CCN(CC3=C(c4ccccc4)CCCC3)CC2)cc1.O=C(Nc1ccccc1)Nc1ccc(Oc2ccncc2)cc1': ['O=C(NS(=O)(=O)c1ccc(N[C@H](CCN2CCOCC2)CSc2ccccc2)cc1)c1ccc(N2CCN(CC3=C(c4ccccc4)CCCC3)CC2)cc1.O=C(Nc1ccccc1)Nc1ccc(Oc2ccncc2)cc1'], 'O=C(NS(=O)(=O)c1ccc(N[C@H](CCN2CCOCC2)CSc2ccccc2)cc1)c1ccc(N2CCN(CC3=C(c4ccccc4)CCCC3)CC2)cc1.O=C1C=CCCN1C(=O)/C=C/c1ccccc1': ['O=C(NS(=O)(=O)c1ccc(N[C@H](CCN2CCOCC2)CSc2ccccc2)cc1)c1ccc(N2CCN(CC3=C(c4ccccc4)CCCC3)CC2)cc1.O=C1C=CCCN1C(=O)/C=C/c1ccccc1'], 'O=C1c2ccccc2-c2nc3nonc3nc21': ['O=C1c2ccccc2-c2nc3nonc3nc21'], 'c1ccc(COc2cccc(-c3cn([C@H]4C[C@H](CN5CCCC5)C4)c4ncncc34)c2)cc1': ['c1ccc(COc2cccc(-c3cn([C@H]4C[C@H](CN5CCCC5)C4)c4ncncc34)c2)cc1'], 'c1ncc2ncn([C@H]3CCCO3)c2n1': ['c1ncc2ncn([C@H]3CCCO3)c2n1', 'c1ncc2ncn([C@H]3CCCO3)c2n1'], 'O=C(NS(=O)(=O)c1ccc(N[C@H](CCN2CCOCC2)CSc2ccccc2)cc1)c1ccc(N2CCN(CC3=C(c4ccccc4)CCCC3)CC2)cc1.c1ccccc1': ['O=C(NS(=O)(=O)c1ccc(N[C@H](CCN2CCOCC2)CSc2ccccc2)cc1)c1ccc(N2CCN(CC3=C(c4ccccc4)CCCC3)CC2)cc1.c1ccccc1'], 'O=C(Nc1ccc(S(=O)(=O)Nc2nc3ccccc3nc2Nc2ccccc2)cc1)c1ccccc1': ['O=C(Nc1ccc(S(=O)(=O)Nc2nc3ccccc3nc2Nc2ccccc2)cc1)c1ccccc1'], 'O=C1C2C(c3ccccc3CC23CCCC3)n2nnnc2N1Cc1ccccc1': ['O=C1C2C(c3ccccc3CC23CCCC3)n2nnnc2N1Cc1ccccc1'], 'O=S(=O)(Nc1ccccc1)c1cncs1': ['O=S(=O)(Nc1ccccc1)c1cncs1'], 'C=C1CCCC/C1=C/C=C1\\\\CCCC2C=CC[C@@H]12': ['C=C1CCCC/C1=C/C=C1\\\\CCCC2C=CC[C@@H]12'], 'O=C(Cc1ccc2c(c1)CCCC2)Nc1ccccc1': ['O=C(Cc1ccc2c(c1)CCCC2)Nc1ccccc1'], 'c1ccc(C2CNc3ccccc32)cc1': ['c1ccc(C2CNc3ccccc32)cc1'], 'O=C(Nc1cc(CCc2ccccc2)[nH]n1)c1ccc(N2CCNCC2)cc1': ['O=C(Nc1cc(CCc2ccccc2)[nH]n1)c1ccc(N2CCNCC2)cc1'], 'O=C(Nc1nc2ccc(NC(=O)C34C[C@H]5C[C@@H](C3)C[C@@H](C4)C5)cc2s1)c1ccccc1': ['O=C(Nc1nc2ccc(NC(=O)C34C[C@H]5C[C@@H](C3)C[C@@H](C4)C5)cc2s1)c1ccccc1'], 'O=S(=O)(c1ccccc1)C1(c2ccccc2)CCCCC1': ['O=S(=O)(c1ccccc1)C1(c2ccccc2)CCCCC1'], 'O=C1Cc2ccccc2CCN1': ['O=C1Cc2ccccc2CCN1'], 'c1ccc(Nc2ccnc3cc(OCCCN4CCNCC4)ccc23)cc1': ['c1ccc(Nc2ccnc3cc(OCCCN4CCNCC4)ccc23)cc1'], 'C1=C2CCCCC2[C@H]2CCC3C(c4cccnc4)=CC[C@H]3[C@@H]2C1': ['C1=C2CCCCC2[C@H]2CCC3C(c4cccnc4)=CC[C@H]3[C@@H]2C1'], 'O=S(=O)(/C=C/c1ccccc1)Cc1ccccc1': ['O=S(=O)(/C=C/c1ccccc1)Cc1ccccc1'], 'c1ccc(C2(c3ccc(-c4cn[nH]c4)cc3)CCNCC2)cc1': ['c1ccc(C2(c3ccc(-c4cn[nH]c4)cc3)CCNCC2)cc1'], 'c1ccc(Nc2ccccc2)cc1': ['c1ccc(Nc2ccccc2)cc1'], 'O=C(CN1CCOCC1)Nc1ccc2c(c1)Cc1cccc(-c3cc(=O)cc(N4CCOCC4)o3)c1S2': ['O=C(CN1CCOCC1)Nc1ccc2c(c1)Cc1cccc(-c3cc(=O)cc(N4CCOCC4)o3)c1S2'], 'O=C(Nc1ccc(OCCN2CCOCC2)c2ccccc12)Nc1ccnn1-c1ccccc1': ['O=C(Nc1ccc(OCCN2CCOCC2)c2ccccc12)Nc1ccnn1-c1ccccc1'], 'O=C(c1ccc(/C=C/c2n[nH]c3ccccc23)cc1)N1CCNCC1': ['O=C(c1ccc(/C=C/c2n[nH]c3ccccc23)cc1)N1CCNCC1'], 'c1ccc(Nc2nc3ccccc3c3cnccc23)cc1': ['c1ccc(Nc2nc3ccccc3c3cnccc23)cc1'], 'O=C(CCc1cnc[nH]1)NCC(=O)NCC(=O)NCC(=O)NCC(=O)NCC(=O)NC1CCC/C=C\\\\CCCC(C(=O)NCC(=O)NCC(=O)NCC(=O)NCC(=O)NCC(=O)NCCc2ccccc2)NC(=O)CNC(=O)CNC(=O)CNC1=O': ['O=C(CCc1cnc[nH]1)NCC(=O)NCC(=O)NCC(=O)NCC(=O)NCC(=O)NC1CCC/C=C\\\\CCCC(C(=O)NCC(=O)NCC(=O)NCC(=O)NCC(=O)NCC(=O)NCCc2ccccc2)NC(=O)CNC(=O)CNC(=O)CNC1=O'], 'c1ccc(-c2ccnc(Nc3ccc(N4CCOCC4)cc3)n2)cc1': ['c1ccc(-c2ccnc(Nc3ccc(N4CCOCC4)cc3)n2)cc1'], 'O=c1c2ccccc2nc(CNc2ncnc3[nH]cnc23)n1-c1ccccc1': ['O=c1c2ccccc2nc(CNc2ncnc3[nH]cnc23)n1-c1ccccc1'], 'O=C(C=Cc1ccccn1)NCc1ccccc1': ['O=C(C=Cc1ccccn1)NCc1ccccc1'], 'c1ccc2[nH]c(-c3nc(C4CCCCC4)n4ncncc34)cc2c1': ['c1ccc2[nH]c(-c3nc(C4CCCCC4)n4ncncc34)cc2c1'], 'c1cc(-c2ccc(CN3CCOCC3)cc2)c2nc(-c3cnn(C4CCNCC4)c3)cnc2c1': ['c1cc(-c2ccc(CN3CCOCC3)cc2)c2nc(-c3cnn(C4CCNCC4)c3)cnc2c1'], 'O=C(c1ccccc1)c1c[nH]c2ncc(-c3ccccc3)cc12.c1ccc(Nc2ncnc3ccccc23)cc1': ['O=C(c1ccccc1)c1c[nH]c2ncc(-c3ccccc3)cc12.c1ccc(Nc2ncnc3ccccc23)cc1'], 'c1ccc(-c2cncs2)cc1': ['c1ccc(-c2cncs2)cc1'], 'O=C(N[C@H]1CCCNC1)c1ccc(-c2ccccc2)s1': ['O=C(N[C@H]1CCCNC1)c1ccc(-c2ccccc2)s1'], 'c1cc(C[C@@H]2CCCN2)c2cc(-c3[nH]c4ccccc4c3C[C@@H]3CCCN3)[nH]c2c1': ['c1cc(C[C@@H]2CCCN2)c2cc(-c3[nH]c4ccccc4c3C[C@@H]3CCCN3)[nH]c2c1'], 'O=C(Cc1ccc(-c2ccc(OCCN3CCOCC3)cc2)cn1)NCc1ccccc1': ['O=C(Cc1ccc(-c2ccc(OCCN3CCOCC3)cc2)cn1)NCc1ccccc1'], 'c1ccc(-c2cccc(C34C[C@H]5C[C@@H](C3)C[C@@H](C4)C5)c2)cc1': ['c1ccc(-c2cccc(C34C[C@H]5C[C@@H](C3)C[C@@H](C4)C5)c2)cc1'], 'O=C1CCCC/C=C\\\\CCCC(C(=O)NCC(=O)NCC(=O)NCCc2ccccc2)NC(=O)[C@H](Cc2cnc[nH]2)NC(=O)CNC(=O)CN1': ['O=C1CCCC/C=C\\\\CCCC(C(=O)NCC(=O)NCC(=O)NCCc2ccccc2)NC(=O)[C@H](Cc2cnc[nH]2)NC(=O)CNC(=O)CN1'], 'c1ccc(-c2nc(CNc3ncccn3)cs2)cc1': ['c1ccc(-c2nc(CNc3ncccn3)cs2)cc1'], 'O=C(c1ccccc1)N1C=Cc2[nH]c3ccccc3c2CC1': ['O=C(c1ccccc1)N1C=Cc2[nH]c3ccccc3c2CC1'], 'c1ccc(C2=NCc3nncn3-c3sccc32)cc1.c1ccccc1': ['c1ccc(C2=NCc3nncn3-c3sccc32)cc1.c1ccccc1'], 'O=C(Nc1ccccc1)C1(C(=O)Nc2ccc(Oc3ccnc4ccccc34)cc2)CC1': ['O=C(Nc1ccccc1)C1(C(=O)Nc2ccc(Oc3ccnc4ccccc34)cc2)CC1'], 'O=C(c1ccccc1)c1c[nH]c2ncc(-c3ccccc3)cc12.c1ccc(COc2cncc(-c3cnn(C4CCNCC4)c3)c2)cc1': ['O=C(c1ccccc1)c1c[nH]c2ncc(-c3ccccc3)cc12.c1ccc(COc2cncc(-c3cnn(C4CCNCC4)c3)c2)cc1'], 'O=C(N[C@H]1C[C@@H]2C[C@@H](C2)C1)[C@@H]1CCON1Cc1cccc(CN[C@@H](c2ccccc2)C2CCCCC2)c1.O=C(N[C@H]1C[C@@H]2C[C@@H](C2)C1)[C@@H]1CCON1Cc1cccc(CN[C@H](c2ccccc2)C2CCCCC2)c1': ['O=C(N[C@H]1C[C@@H]2C[C@@H](C2)C1)[C@@H]1CCON1Cc1cccc(CN[C@@H](c2ccccc2)C2CCCCC2)c1.O=C(N[C@H]1C[C@@H]2C[C@@H](C2)C1)[C@@H]1CCON1Cc1cccc(CN[C@H](c2ccccc2)C2CCCCC2)c1'], 'c1ccc(-c2nc[nH]n2)cc1': ['c1ccc(-c2nc[nH]n2)cc1'], 'O=C1N=C(NS(=O)(=O)c2cccc3ccccc23)S/C1=C\\\\c1ccccc1': ['O=C1N=C(NS(=O)(=O)c2cccc3ccccc23)S/C1=C\\\\c1ccccc1'], 'c1ccc2c(c1)CCCc1cc(-n3cnc(Nc4ccc5c(c4)CC[C@@H](N4CCCC4)CC5)n3)nnc1-2': ['c1ccc2c(c1)CCCc1cc(-n3cnc(Nc4ccc5c(c4)CC[C@@H](N4CCCC4)CC5)n3)nnc1-2'], 'O=C1NC(=O)C(c2c[nH]c3ccccc23)=C1c1nc(N2CCNCC2)nc2ccccc12': ['O=C1NC(=O)C(c2c[nH]c3ccccc23)=C1c1nc(N2CCNCC2)nc2ccccc12'], 'C(=NCc1ccccc1)Nc1cccc2ncccc12': ['C(=NCc1ccccc1)Nc1cccc2ncccc12'], 'O=C(NS(=O)(=O)c1ccc(N[C@H](CCN2CCOCC2)CSc2ccccc2)cc1)c1ccc(N2CCN(CC3=C(c4ccccc4)CCCC3)CC2)cc1.O=C1CCCC/C=C\\\\CCCC(C(=O)NCC(=O)NCC(=O)NCCc2ccccc2)NC(=O)[C@H](Cc2cnc[nH]2)NC(=O)CNC(=O)CN1': ['O=C(NS(=O)(=O)c1ccc(N[C@H](CCN2CCOCC2)CSc2ccccc2)cc1)c1ccc(N2CCN(CC3=C(c4ccccc4)CCCC3)CC2)cc1.O=C1CCCC/C=C\\\\CCCC(C(=O)NCC(=O)NCC(=O)NCCc2ccccc2)NC(=O)[C@H](Cc2cnc[nH]2)NC(=O)CNC(=O)CN1'], 'O=C(NS(=O)(=O)c1ccc(NCC2CCOCC2)cc1)c1ccc(N2CCN(CC3=C(c4ccccc4)CCCC3)CC2)cc1Oc1cnc2[nH]ccc2c1': ['O=C(NS(=O)(=O)c1ccc(NCC2CCOCC2)cc1)c1ccc(N2CCN(CC3=C(c4ccccc4)CCCC3)CC2)cc1Oc1cnc2[nH]ccc2c1'], 'O=C1OCc2cnc3ccc(-c4cnc5ccccc5c4)cc3c2N1c1ccccc1': ['O=C1OCc2cnc3ccc(-c4cnc5ccccc5c4)cc3c2N1c1ccccc1'], 'O=C(c1ccccc1)c1[nH]ccc1-n1cccc1C(=O)c1ccccc1': ['O=C(c1ccccc1)c1[nH]ccc1-n1cccc1C(=O)c1ccccc1'], 'O=C(Nc1cccc2ccccc12)OCc1ccccc1': ['O=C(Nc1cccc2ccccc12)OCc1ccccc1'], 'O=C(Nc1ncc(-c2ccncc2)s1)N1CCCC1': ['O=C(Nc1ncc(-c2ccncc2)s1)N1CCCC1'], 'c1ccc(Cn2cnc3ccc(N4CCOCC4)cc32)cc1': ['c1ccc(Cn2cnc3ccc(N4CCOCC4)cc32)cc1'], 'c1ccc(-c2noc(CSc3nnc(-c4ccncc4)n3-c3ccccc3)n2)cc1': ['c1ccc(-c2noc(CSc3nnc(-c4ccncc4)n3-c3ccccc3)n2)cc1'], 'O=C(/C=C/c1cccs1)Nc1ccc(S(=O)(=O)Nc2cnccn2)cc1': ['O=C(/C=C/c1cccs1)Nc1ccc(S(=O)(=O)Nc2cnccn2)cc1'], 'O=C1c2ccccc2-c2nccnc21': ['O=C1c2ccccc2-c2nccnc21'], 'O=C1C[C@H](CCc2ccccc2)O1': ['O=C1C[C@H](CCc2ccccc2)O1'], 'O=C(NCC1(c2ccccc2)CCOCC1)c1ccc(NC(=O)c2ccco2)cc1': ['O=C(NCC1(c2ccccc2)CCOCC1)c1ccc(NC(=O)c2ccco2)cc1'], 'O=C(/C=C/c1ccccc1)N1CCC=C(C#Cc2ccccc2)C1=O': ['O=C(/C=C/c1ccccc1)N1CCC=C(C#Cc2ccccc2)C1=O'], 'c1ccc(-c2ccc3ccc(-c4nc(C5CCC5)n5ccncc45)cc3n2)cc1': ['c1ccc(-c2ccc3ccc(-c4nc(C5CCC5)n5ccncc45)cc3n2)cc1'], 'O=C(NC(c1ccccc1)c1ccccc1)C1CCC2CCNCCC(=O)N21': ['O=C(NC(c1ccccc1)c1ccccc1)C1CCC2CCNCCC(=O)N21']}\n",
      "{'c1ccc2c(c1)SCc1ccsc1-2': [0, 251], 'c1ccccc1': [10, 21, 69, 125, 136, 280, 295], 'O=c1ncncn1[C@H]1CCCO1': [12, 102], 'c1ccc2c(c1)Sc1ccccc1N2CCCN1CCNCC1': [13, 32], 'c1ccc2[nH]cnc2c1': [20, 119], 'O=[PH]1NCCCO1': [29, 33], 'c1c[nH]cn1': [30, 255], 'O=C(Nc1ccccc1)c1ccccc1': [31, 65, 265, 283], '': [41, 126, 154, 254, 263], 'O=C1C=CC(=O)c2ccccc21': [49, 88], 'c1ccc(Nc2ncnc3ccccc23)cc1': [56, 62], 'O=C1CC/C=C/CC(=O)C[C@@H](CCC2CCCCC2)OC(=O)[C@@H]2CCCCN2C(=O)C(=O)C2CCC[C@@H](CC/C=C/C=C/C=C/CCC1)O2': [70, 395], 'O=c1ncccn1[C@H]1CCCO1': [81, 160], 'c1ccc(COc2csc(-n3cnc4ccccc43)c2)cc1': [109, 268], 'O=C(Nc1ccccc1)Nc1ccc(Oc2ccncc2)cc1': [111, 273], 'c1ccc([C@@H]2CCC3c4ccccc4O[C@]32c2ccccc2)cc1': [163, 205], 'O=c1cc(-c2ccccc2)c2cc(C(c3ccccc3)c3cnc[nH]3)ccc2[nH]1': [189, 190], 'O=C1Cc2ccccc2OCCCN1': [211, 212], 'O=c1cc(N2CCOCC2)nc2c(CNc3ccccc3)cccn12': [240, 288], 'O=C1CCCC/C=C\\\\CCCCNC(=O)CNC(=O)CNC(=O)CN1': [302, 303], 'O=C1CC(=O)C2C(=O)C3C(=O)c4ccccc4C[C@H]3C[C@H]2C1': [311, 430], 'O=C1/C(=N/Nc2ccccc2)C=NN1c1nc(-c2ccccc2)cs1': [361, 442], 'c1ncc2ncn([C@H]3CCCO3)c2n1': [382, 397]}\n"
     ]
    }
   ],
   "source": [
    "df_complete = pd.read_csv(f\"{folder}v20.data.final_summary_{experiment_id}.txt\", sep='\\t')\n",
    "df_scaffold_split = df_complete[[ 'cpd_smiles','apparent_ec50_umol','MolWt','ec50_mol','ec50_molair']]\n",
    "\n",
    "smiles_list = df_scaffold_split['cpd_smiles']\n",
    "mols = [Chem.MolFromSmiles(smiles) for smiles in smiles_list]\n",
    "scaffolds = [MurckoScaffold.GetScaffoldForMol(mol) for mol in mols]\n",
    "scaffold_smiles = [Chem.MolToSmiles(scaffold) for scaffold in scaffolds]\n",
    "print(df_scaffold_split.head())\n",
    "\n",
    "scaffold_smiles = list(map(str, scaffold_smiles))\n",
    "\n",
    "# Fingerprint aanmaken\n",
    "molecule_scaffold = [Chem.MolFromSmiles(smile) for smile in scaffold_smiles]\n",
    "ecfp = [AllChem.GetMorganFingerprintAsBitVect(molecule, 2, nBits=1024) for molecule in molecule_scaffold]\n",
    "\n",
    "def get_unique_scaffolds(scaffold_smiles):\n",
    "    unique_scaffolds = []\n",
    "    for scaffold in scaffold_smiles:\n",
    "        if scaffold not in unique_scaffolds:\n",
    "            unique_scaffolds.append(scaffold)\n",
    "    return unique_scaffolds\n",
    "\n",
    "list_unique_scaffolds=get_unique_scaffolds(scaffold_smiles)\n",
    "\n",
    "location_scaffolds = defaultdict(list)\n",
    "for scaffold in scaffold_smiles:\n",
    "    location_scaffolds[scaffold].append(scaffold)\n",
    "print(\"similar grouped dictionary : \" + str(dict(location_scaffolds)))\n",
    "\n",
    "def location_similar_scaffolds(lijst):\n",
    "    locations = defaultdict(list)\n",
    "    for index, item in enumerate(lijst):\n",
    "        if lijst.count(item) > 1:\n",
    "            locations[item].append(index)\n",
    "    return dict(locations)\n",
    "\n",
    "locations_similar_scaffolds = location_similar_scaffolds(scaffold_smiles)\n",
    "print(locations_similar_scaffolds)\n",
    "\n",
    "df_scaffolds_grouped = pd.DataFrame(columns=['Compound', 'Scaffold', 'Recurring'])\n",
    "rows=[]\n",
    "symbol_mapping = {}  # Scaffold symbool dictionary\n",
    "symbol_counter = 0  # Aantal unieke scaffolds\n",
    "\n",
    "symbol_counter = 0\n",
    "symbol_mapping = {}\n",
    "rows = []\n",
    "\n",
    "for i, compound in enumerate(smiles_list):\n",
    "    scaffold = scaffold_smiles[i]\n",
    "\n",
    "    if scaffold in locations_similar_scaffolds:\n",
    "        if scaffold not in symbol_mapping:\n",
    "            symbol_counter += 1\n",
    "            symbol_mapping[scaffold] = symbol_counter\n",
    "\n",
    "        recurring_symbol = symbol_mapping[scaffold]\n",
    "        recurring = True\n",
    "    else:\n",
    "        recurring_symbol = 0\n",
    "        recurring = False\n",
    "    row = [compound, scaffold, recurring_symbol]\n",
    "    rows.append(row)\n",
    "\n",
    "df_scaffolds_grouped = pd.DataFrame(rows, columns=['cpd_smiles', 'spd_scaffold', 'recurring_scaffold'])\n",
    "\n",
    "#Toevoegen van extra data die nodig is voor de modellen\n",
    "df_scaffolds_grouped.insert(0,'ec50_molair',df_scaffold_split['ec50_molair'])\n",
    "df_scaffolds_grouped.insert(1,'MolWt',df_scaffold_split['MolWt'])\n",
    "\n",
    "df_scaffolds_grouped_sorted = df_scaffolds_grouped.sort_values('recurring_scaffold', ascending=False)\n",
    "\n",
    "df_scaffolds_grouped_sorted.to_csv(f\"{folder}scaffold_split_{experiment_id}.txt\", sep='\\t', index=False)"
   ]
  },
  {
   "cell_type": "code",
   "execution_count": 50,
   "metadata": {},
   "outputs": [],
   "source": [
    "\n",
    "######## SCAFFOLD SPLIT CODE  ########\n"
   ]
  },
  {
   "cell_type": "code",
   "execution_count": 58,
   "metadata": {},
   "outputs": [],
   "source": [
    "# Import data\n",
    "complete_df = pd.read_csv(f\"{folder}scaffold_split_{experiment_id}.txt\", sep=\"\\t\")"
   ]
  },
  {
   "cell_type": "code",
   "execution_count": 59,
   "metadata": {},
   "outputs": [],
   "source": [
    "# Fingerprint aanmaken\n",
    "## Morgan Fingerprint ECFP\n",
    "molecules = [Chem.MolFromSmiles(smile) for smile in complete_df['cpd_smiles'].tolist()]\n",
    "ecfp = [AllChem.GetMorganFingerprintAsBitVect(molecule,2,nBits=1024) for molecule in molecules]\n",
    "complete_df['ecfp_bit_vectors'] = [[int(bit) for bit in keys.ToBitString()] for keys in ecfp]\n",
    "complete_df['ECFP'] = [''.join(str(value) for value in row) for row in complete_df['ecfp_bit_vectors']]\n"
   ]
  },
  {
   "cell_type": "code",
   "execution_count": 60,
   "metadata": {},
   "outputs": [],
   "source": [
    "# Transformatie EC50 | Instellen van limiten\n",
    "complete_df['ec50_molair_transformed'] = -nm.log10(complete_df['ec50_molair'])\n",
    "condition = (complete_df['ec50_molair_transformed'] < 2 ) | (complete_df['ec50_molair_transformed'] > 8)\n",
    "complete_df=complete_df[~condition]"
   ]
  },
  {
   "cell_type": "code",
   "execution_count": 61,
   "metadata": {},
   "outputs": [],
   "source": [
    "# Train- Test verhoudingen totale dataframe\n",
    "total_length_compounds = len(complete_df)\n",
    "size_train_set = total_length_compounds * 0.8 "
   ]
  },
  {
   "cell_type": "code",
   "execution_count": 62,
   "metadata": {},
   "outputs": [],
   "source": [
    "# Scaffold Split | Unieke scaffolds\n",
    "\n",
    "# Plaats Unieke Scaffolds in aparte dataframe\n",
    "df_unique_scaffolds = complete_df[complete_df['recurring_scaffold'] == 0]\n",
    "df_unique_scaffolds = df_unique_scaffolds[['recurring_scaffold', 'ecfp_bit_vectors', 'ec50_molair_transformed']]\n",
    "\n",
    "# Extraheer de X en Y value van de nieuwe DF \n",
    "x_unique = nm.array(df_unique_scaffolds['ecfp_bit_vectors'].tolist()) ## X is de te gebruike compound waarde  | Fingerprint ECFP\n",
    "y_unique = df_unique_scaffolds['ec50_molair_transformed'].values ## Y is de te voorspellen compound waarde | Ec50 Molair Logtransformed"
   ]
  },
  {
   "cell_type": "code",
   "execution_count": 63,
   "metadata": {},
   "outputs": [],
   "source": [
    "# Scaffold Split | Repeterende scaffolds\n",
    "\n",
    "# Plaats Repeterende Scaffolds in een aparte dataframe\n",
    "df_grouped_scaffolds = complete_df[complete_df['recurring_scaffold'] > 0]\n",
    "df_grouped_scaffolds = df_grouped_scaffolds[['ecfp_bit_vectors', 'ec50_molair_transformed', 'recurring_scaffold']]\n",
    "\n",
    "# Extraheer de X, Y en Z value van de nieuwe DF \n",
    "x_grouped = nm.array(df_grouped_scaffolds['ecfp_bit_vectors'].tolist()) ## X is de te gebruike compound waarde  | Fingerprint ECFP\n",
    "y_grouped = df_grouped_scaffolds['ec50_molair_transformed'].values ## Y is de te voorspellen compound waarde | Ec50 Molair Logtransformed\n",
    "z_grouped = df_grouped_scaffolds['recurring_scaffold'].values.tolist() ## Z is de indicator voor overeenkomstige scaffold groepen | Elke scaffoldgroup "
   ]
  },
  {
   "cell_type": "code",
   "execution_count": 64,
   "metadata": {},
   "outputs": [],
   "source": [
    "# Scaffold Split | Train- Test verhoudingen repeterende scaffolds dataframe\n",
    "\n",
    "size_train_set_grouped_scaffolds = len(z_grouped) * 0.8\n",
    "size_train_set_grouped_scaffolds = int(size_train_set_grouped_scaffolds)"
   ]
  },
  {
   "cell_type": "code",
   "execution_count": 65,
   "metadata": {},
   "outputs": [
    {
     "name": "stdout",
     "output_type": "stream",
     "text": [
      "The length of the x_train list with grouped scaffolds is 36\n",
      "The length of the x_test list with grouped scaffolds is 9\n",
      "\n",
      "First five values of y_train with grouped scaffolds:\n",
      " [6.1774679191431465, 5.177786810229626, 3.0629221654617953, 4.149560588087754, 5.585250661642195]\n",
      "\n",
      "First five values of y_test with grouped scaffolds:\n",
      " [5.546437565477974, 3.5424595779948844, 3.8039684526980735, 7.002867750366318, 7.140120040530652]\n"
     ]
    }
   ],
   "source": [
    "# Scaffold Split | Train- Test repeterende scaffolds\n",
    "\n",
    "# Lijsten voor repeterende scaffold verdeling\n",
    "x_train_grouped = []\n",
    "y_train_grouped = []\n",
    "x_test_grouped = []\n",
    "y_test_grouped = []\n",
    "\n",
    "# Verdeling moleculen op basis van scaffold groepen\n",
    "for x in range(len(z_grouped)):\n",
    "    if x < size_train_set_grouped_scaffolds:\n",
    "        x_train_grouped.append(x_grouped[x])\n",
    "        y_train_grouped.append(y_grouped[x])\n",
    "    elif z_grouped[x] == z_grouped[x-1]:\n",
    "        x_train_grouped.append(x_grouped[x])\n",
    "        y_train_grouped.append(y_grouped[x])\n",
    "    else: \n",
    "        remaining = len(z_grouped)-x\n",
    "        break\n",
    "        \n",
    "for x in range(remaining):\n",
    "    x_test_grouped.append(x_grouped[x+remaining])\n",
    "    y_test_grouped.append(y_grouped[x+remaining])\n",
    "\n",
    "# X values omzetten in juiste vorm\n",
    "x_train_grouped = [list(arr) for arr in x_train_grouped]\n",
    "x_test_grouped = [list(arr) for arr in x_test_grouped]\n",
    "\n",
    "# Indicatie resulterende lijsten\n",
    "print('The length of the x_train list with grouped scaffolds is', len(x_train_grouped))\n",
    "print('The length of the x_test list with grouped scaffolds is', len(x_test_grouped))\n",
    "print('\\nFirst five values of y_train with grouped scaffolds:\\n', y_train_grouped[0:5])\n",
    "print('\\nFirst five values of y_test with grouped scaffolds:\\n',y_test_grouped[0:5])"
   ]
  },
  {
   "cell_type": "code",
   "execution_count": 66,
   "metadata": {},
   "outputs": [],
   "source": [
    "# Scaffold Split | Train- Test unieke scaffolds\n",
    "\n",
    "# Random verdeling van unieke scaffolds\n",
    "from sklearn.model_selection import train_test_split\n",
    "x_train_unique,x_test_unique,y_train_unique,y_test_unique=train_test_split(x_unique,y_unique,test_size=0.2, random_state=42)\n",
    "\n",
    "# X values omzetten in juiste vorm\n",
    "x_train_unique = [list(arr) for arr in x_train_unique]\n",
    "x_test_unique = [list(arr) for arr in x_test_unique]"
   ]
  },
  {
   "cell_type": "code",
   "execution_count": 67,
   "metadata": {},
   "outputs": [],
   "source": [
    "# Scaffold Split | Uiteindelijke Train- Tests vormen\n",
    "\n",
    "# Samenvoegen van verdelingen unieke scaffolds en repeterende scaffolds\n",
    "x_train_scaffolds = nm.concatenate((x_train_grouped, x_train_unique))\n",
    "x_test_scaffolds = nm.concatenate((x_test_grouped, x_test_unique))\n",
    "\n",
    "y_train_scaffolds = nm.concatenate((y_train_grouped, y_train_unique))\n",
    "y_test_scaffolds = nm.concatenate((y_test_grouped, y_test_unique))"
   ]
  },
  {
   "cell_type": "code",
   "execution_count": 68,
   "metadata": {},
   "outputs": [],
   "source": [
    "# Random Forest Model\n",
    "\n",
    "from sklearn.ensemble import RandomForestRegressor\n",
    "regressor = RandomForestRegressor(n_estimators=200, min_samples_split=5,min_samples_leaf=4,max_depth=10,bootstrap=True)\n",
    "\n",
    "regressor.fit(x_train_scaffolds,y_train_scaffolds)\n",
    "\n",
    "y_pred_scaffolds = regressor.predict(x_test_scaffolds)"
   ]
  },
  {
   "cell_type": "code",
   "execution_count": 69,
   "metadata": {},
   "outputs": [
    {
     "name": "stdout",
     "output_type": "stream",
     "text": [
      "root mean squared error is  1.0072633860137399\n",
      "r2 is 0.298425909354716\n"
     ]
    }
   ],
   "source": [
    "# Prestatie en Evaluatie\n",
    "\n",
    "from sklearn.metrics import mean_absolute_error, mean_squared_error, r2_score\n",
    "\n",
    "# Root Mean Squared Error\n",
    "mse = mean_squared_error(y_test_scaffolds, y_pred_scaffolds)\n",
    "rmse = math.sqrt(mse)\n",
    "print('root mean squared error is ', rmse)\n",
    "\n",
    "# R2 berekenen\n",
    "slope, intercept = nm.polyfit(y_test_scaffolds,y_pred_scaffolds,1)\n",
    "line = slope * nm.array(y_test_scaffolds)+ intercept\n",
    "r2 = r2_score(y_test_scaffolds, y_pred_scaffolds)\n",
    "print('r2 is', r2)\n",
    "\n",
    "# Residuen berekenen\n",
    "residuen_scaffold = y_test_scaffolds- y_pred_scaffolds"
   ]
  },
  {
   "cell_type": "code",
   "execution_count": 70,
   "metadata": {},
   "outputs": [
    {
     "data": {
      "image/png": "[encoded data removed]",
      "text/plain": [
       "<Figure size 640x480 with 1 Axes>"
      ]
     },
     "metadata": {},
     "output_type": "display_data"
    }
   ],
   "source": [
    "# Visualisatie resultaten\n",
    "\n",
    "# R2 Visualisatie                                              \n",
    "plt.scatter(y_test_scaffolds,y_pred_scaffolds)\n",
    "plt.plot(y_test_scaffolds, line, color='red', label='line of current best fit')\n",
    "plt.xlabel('y_test Scaffold Split')\n",
    "plt.ylabel('y_pred Scaffold Split')\n",
    "plt.xlim(2,8)\n",
    "plt.ylim(2,8)\n",
    "plt.title('Random Forest | Scaffold Split\\nScatterplot with Line of Best Fit (R2 = {:.2f})'.format(r2))\n",
    "plt.show()"
   ]
  },
  {
   "cell_type": "code",
   "execution_count": 71,
   "metadata": {},
   "outputs": [],
   "source": [
    "######## RANDOM SPLIT CODE  ########"
   ]
  },
  {
   "cell_type": "code",
   "execution_count": 72,
   "metadata": {},
   "outputs": [],
   "source": [
    "# Random Split\n",
    "\n",
    "from sklearn.model_selection import train_test_split\n",
    "\n",
    "x_random = nm.array(complete_df['ecfp_bit_vectors'].tolist())\n",
    "y_random = complete_df['ec50_molair_transformed'].values\n",
    "\n",
    "x_train_random,x_test_random,y_train_random,y_test_random=train_test_split(x_random,y_random,test_size=0.2, random_state=42)\n"
   ]
  },
  {
   "cell_type": "code",
   "execution_count": 73,
   "metadata": {},
   "outputs": [],
   "source": [
    "# Random Forest model\n",
    "\n",
    "from sklearn.ensemble import RandomForestRegressor\n",
    "regressor = RandomForestRegressor(n_estimators=200, min_samples_split=5,min_samples_leaf=4,max_depth=10,bootstrap=True)\n",
    "\n",
    "regressor.fit(x_train_random,y_train_random)\n",
    "\n",
    "y_pred_random = regressor.predict(x_test_random)"
   ]
  },
  {
   "cell_type": "code",
   "execution_count": 74,
   "metadata": {},
   "outputs": [
    {
     "name": "stdout",
     "output_type": "stream",
     "text": [
      "root mean squared error is  1.2246411163302688\n",
      "r2 is -0.014502509862799995\n"
     ]
    }
   ],
   "source": [
    "# Prestatie en Evaluatie\n",
    "\n",
    "from sklearn.metrics import mean_absolute_error, mean_squared_error, r2_score\n",
    "\n",
    "# Root Mean Squared Error\n",
    "mse = mean_squared_error(y_test_random, y_pred_random)\n",
    "rmse = math.sqrt(mse)\n",
    "print('root mean squared error is ', rmse)\n",
    "\n",
    "# R2 berekenen\n",
    "slope, intercept = nm.polyfit(y_test_random,y_pred_random,1)\n",
    "line = slope * nm.array(y_test_random)+ intercept\n",
    "r2 = r2_score(y_test_random, y_pred_random)\n",
    "print('r2 is', r2)\n",
    "\n",
    "# Residuen berekenen\n",
    "residuen_random = y_test_random - y_pred_random"
   ]
  },
  {
   "cell_type": "code",
   "execution_count": 75,
   "metadata": {},
   "outputs": [
    {
     "data": {
      "image/png": "[encoded data removed]",
      "text/plain": [
       "<Figure size 640x480 with 1 Axes>"
      ]
     },
     "metadata": {},
     "output_type": "display_data"
    }
   ],
   "source": [
    "# Visualisatie resultaten\n",
    "\n",
    "# R2 Visualisatie                                              \n",
    "plt.scatter(y_test_random,y_pred_random)\n",
    "plt.plot(y_test_random, line, color='red', label='line of current best fit')\n",
    "plt.xlabel('y_test Random Split')\n",
    "plt.ylabel('y_pred Random Split')\n",
    "plt.xlim(2,8)\n",
    "plt.ylim(2,8)\n",
    "plt.title('Random Forest | Random Split\\nScatterplot with Line of Best Fit (R2 = {:.2f})'.format(r2))\n",
    "plt.show()"
   ]
  },
  {
   "cell_type": "code",
   "execution_count": 76,
   "metadata": {},
   "outputs": [],
   "source": [
    "######## COMPARISON RANDOM SPLIT & SCAFFOLD SPLIT CODE  ########"
   ]
  },
  {
   "cell_type": "code",
   "execution_count": 77,
   "metadata": {},
   "outputs": [
    {
     "name": "stderr",
     "output_type": "stream",
     "text": [
      "No artists with labels found to put in legend.  Note that artists whose label start with an underscore are ignored when legend() is called with no argument.\n"
     ]
    },
    {
     "data": {
      "image/png": "[encoded data removed]",
      "text/plain": [
       "<Figure size 640x480 with 1 Axes>"
      ]
     },
     "metadata": {},
     "output_type": "display_data"
    }
   ],
   "source": [
    "fig, ax = plt.subplots()\n",
    "\n",
    "# Plot de violinplots voor beide modellen\n",
    "parts_random = ax.violinplot(residuen_random, showmeans=False, quantiles=[0.25,0.5,0.75], showmedians=False, showextrema=True, positions=[0])\n",
    "parts_scaffold = ax.violinplot(residuen_scaffold, showmeans=False, quantiles=[0.25,0.5,0.75], showmedians=False, showextrema=True, positions=[1])\n",
    "\n",
    "# Aanpassen van de kleuren van de indicatoren\n",
    "for pc in parts_random['bodies']:\n",
    "    pc.set_facecolor('lightgreen')\n",
    "    pc.set_alpha(1)\n",
    "\n",
    "for pc in parts_scaffold['bodies']:\n",
    "    pc.set_facecolor('green')\n",
    "    pc.set_alpha(1)\n",
    "\n",
    "for partname in ('cbars', 'cmins', 'cmaxes'):\n",
    "    vp = parts_random[partname]\n",
    "    vp.set_edgecolor(\"black\")\n",
    "    vp.set_linewidth(1)\n",
    "    vp2 = parts_scaffold[partname]\n",
    "    vp2.set_edgecolor(\"black\")\n",
    "    vp2.set_linewidth(1)\n",
    "\n",
    "for partname in ('cquantiles',):\n",
    "    vp = parts_random[partname]\n",
    "    vp.set_edgecolor(\"black\")\n",
    "    vp.set_linewidth(1)   \n",
    "    vp2 = parts_scaffold[partname]\n",
    "    vp2.set_edgecolor(\"black\")\n",
    "    vp2.set_linewidth(1)\n",
    "    \n",
    "# Opmaak van de plot\n",
    "ax.set_xlabel('MM1.S Cell line')\n",
    "ax.set_ylabel('Residue values')\n",
    "ax.set_title('Effects of Splitting Method | Random Forest')\n",
    "ax.set_xticks([0, 1])\n",
    "ax.set_xticklabels(['Random splitting', 'Scaffold splitting'])\n",
    "\n",
    "\n",
    "# Legenda tonen\n",
    "ax.legend()\n",
    "\n",
    "# Toon de plot\n",
    "plt.show()"
   ]
  },
  {
   "cell_type": "code",
   "execution_count": null,
   "metadata": {},
   "outputs": [],
   "source": []
  },
  {
   "cell_type": "code",
   "execution_count": 78,
   "metadata": {},
   "outputs": [],
   "source": [
    "#### Optimalisatie Scaffold Split #####"
   ]
  },
  {
   "cell_type": "code",
   "execution_count": 79,
   "metadata": {},
   "outputs": [],
   "source": [
    "from sklearn.ensemble import RandomForestRegressor\n",
    "from sklearn.model_selection import GridSearchCV\n",
    "\n",
    "param_grid = {\n",
    "    'n_estimators': [100, 200, 300],    # aantal bomen in het ensemble\n",
    "    'max_depth': [None, 5, 10],         # maximale diepte van elke boom\n",
    "    'min_samples_split': [2, 5, 10],    # minimale aantal samples vereist om een knoop te splitsen\n",
    "    'min_samples_leaf': [1, 2, 4]       # minimale aantal samples vereist om een bladknooppunt te zijn\n",
    "}\n"
   ]
  },
  {
   "cell_type": "code",
   "execution_count": null,
   "metadata": {},
   "outputs": [],
   "source": [
    "# Voer de grid search uit met cross-validation\n",
    "grid_search = GridSearchCV(RandomForestRegressor(), param_grid, cv=5)\n",
    "grid_search.fit(x_random, y_random)\n",
    "\n",
    "# Bekijk de beste parameters en score\n",
    "print(\"Beste parameters gevonden: \", grid_search.best_params_)\n",
    "print(\"Beste score gevonden: \", grid_search.best_score_)"
   ]
  },
  {
   "cell_type": "code",
   "execution_count": null,
   "metadata": {},
   "outputs": [],
   "source": [
    "#### Extended descriptor"
   ]
  },
  {
   "cell_type": "code",
   "execution_count": null,
   "metadata": {},
   "outputs": [],
   "source": [
    "# Import data\n",
    "\n",
    "folder = 'C:\\\\Users\\\\vswen\\\\Documents\\\\1. Biomedische Technologie\\\\BMT JAAR 5\\\\Kwart 4\\\\4. Data\\\\CTRPv2.0_2015_ctd2_ExpandedDataset\\\\'\n",
    "complete_df = pd.read_csv(f\"{folder}scaffold_split_419.txt\", sep=\"\\t\")"
   ]
  },
  {
   "cell_type": "code",
   "execution_count": null,
   "metadata": {},
   "outputs": [],
   "source": [
    "from tqdm.auto import tqdm\n",
    "from rdkit.Chem.QED import qed\n",
    "from rdkit.Chem import Descriptors, rdMolDescriptors\n",
    "from sklearn import preprocessing as pre\n",
    "from typing import List"
   ]
  },
  {
   "cell_type": "code",
   "execution_count": null,
   "metadata": {},
   "outputs": [],
   "source": [
    "# Fingerprint aanmaken\n",
    "molecules = [Chem.MolFromSmiles(smile) for smile in complete_df['cpd_smiles'].tolist()]\n",
    "ecfp = [AllChem.GetMorganFingerprintAsBitVect(molecule,2,nBits=1024) for molecule in molecules]\n",
    "complete_df['ecfp_bit_vectors'] = [[int(bit) for bit in keys.ToBitString()] for keys in ecfp]\n",
    "complete_df['ECFP'] = [''.join(str(value) for value in row) for row in complete_df['ecfp_bit_vectors']]\n",
    "\n",
    "# Doelvariabele transformeren & limieten stellen dataframe\n",
    "complete_df['ec50_mol'] = complete_df['apparent_ec50_umol'] / 1000000\n",
    "complete_df['ec50_mol']=complete_df['ec50_mol'].replace(0, 1e-10)\n",
    "complete_df['ec50_molair'] = complete_df['ec50_mol']/ complete_df['MolWt']\n",
    "complete_df['ec50_molair_transformed'] = -nm.log10(complete_df['ec50_molair'])\n",
    "condition = (complete_df['ec50_molair_transformed'] < 2 ) | (complete_df['ec50_molair_transformed'] > 8)  # Vraag waarom en wat de grenzen zijn\n",
    "complete_df=complete_df[~condition].dropna()"
   ]
  },
  {
   "cell_type": "code",
   "execution_count": null,
   "metadata": {},
   "outputs": [],
   "source": [
    "def mol_descriptor(smiles: List[str], scale: bool = True) -> nm.ndarray:\n",
    "    X = []\n",
    "    for smi in tqdm(smiles):\n",
    "        m = Chem.MolFromSmiles(smi)\n",
    "        x = nm.array([Descriptors.TPSA(m),\n",
    "                      Descriptors.MolLogP(m),\n",
    "                      Descriptors.MolWt(m),\n",
    "                      Descriptors.FpDensityMorgan2(m),\n",
    "                      Descriptors.HeavyAtomMolWt(m),\n",
    "                      Descriptors.MaxPartialCharge(m),\n",
    "                      Descriptors.MinPartialCharge(m),\n",
    "                      Descriptors.NumRadicalElectrons(m),\n",
    "                      Descriptors.NumValenceElectrons(m),\n",
    "                      rdMolDescriptors.CalcFractionCSP3(m),\n",
    "                      rdMolDescriptors.CalcNumRings(m),\n",
    "                      rdMolDescriptors.CalcNumRotatableBonds(m),\n",
    "                      rdMolDescriptors.CalcNumLipinskiHBD(m),\n",
    "                      rdMolDescriptors.CalcNumLipinskiHBA(m),\n",
    "                      rdMolDescriptors.CalcNumHeterocycles(m),\n",
    "                      rdMolDescriptors.CalcNumHeavyAtoms(m),\n",
    "                      rdMolDescriptors.CalcNumAromaticRings(m),\n",
    "                      rdMolDescriptors.CalcNumAtoms(m),\n",
    "                      qed(m)])\n",
    "        X.append(x)\n",
    "\n",
    "    if scale:\n",
    "        return pre.MinMaxScaler().fit_transform(nm.array(X))\n",
    "\n",
    "    return nm.array(X)\n",
    "\n",
    "\n",
    "smiles_column = complete_df['cpd_smiles']\n",
    "descriptors = mol_descriptor(smiles_column)\n",
    "\n",
    "complete_df[['TPSA', 'MolLogP', 'MolWt', 'FpDensityMorgan2', 'HeavyAtomMolWt',\n",
    "               'MaxPartialCharge', 'MinPartialCharge', 'NumRadicalElectrons',\n",
    "               'NumValenceElectrons', 'CalcFractionCSP3', 'CalcNumRings',\n",
    "               'CalcNumRotatableBonds', 'CalcNumLipinskiHBD', 'CalcNumLipinskiHBA',\n",
    "               'CalcNumHeterocycles', 'CalcNumHeavyAtoms', 'CalcNumAromaticRings',\n",
    "               'CalcNumAtoms', 'qed']] = descriptors\n",
    "\n",
    "total_descriptors = complete_df[['TPSA', 'MolLogP', 'MolWt', 'FpDensityMorgan2', 'HeavyAtomMolWt',\n",
    "               'MaxPartialCharge', 'MinPartialCharge', 'NumRadicalElectrons',\n",
    "               'NumValenceElectrons', 'CalcFractionCSP3', 'CalcNumRings',\n",
    "               'CalcNumRotatableBonds', 'CalcNumLipinskiHBD', 'CalcNumLipinskiHBA',\n",
    "               'CalcNumHeterocycles', 'CalcNumHeavyAtoms', 'CalcNumAromaticRings',\n",
    "               'CalcNumAtoms', 'qed']]\n",
    "\n",
    "list_of_descriptor_names = ['TPSA', 'MolLogP', 'MolWt', 'FpDensityMorgan2', 'HeavyAtomMolWt',\n",
    "               'MaxPartialCharge', 'MinPartialCharge', 'NumRadicalElectrons',\n",
    "               'NumValenceElectrons', 'CalcFractionCSP3', 'CalcNumRings',\n",
    "               'CalcNumRotatableBonds', 'CalcNumLipinskiHBD', 'CalcNumLipinskiHBA',\n",
    "               'CalcNumHeterocycles', 'CalcNumHeavyAtoms', 'CalcNumAromaticRings',\n",
    "               'CalcNumAtoms', 'qed']\n",
    "\n",
    "total_descriptors.shape\n",
    "complete_df.shape"
   ]
  },
  {
   "cell_type": "code",
   "execution_count": null,
   "metadata": {},
   "outputs": [],
   "source": [
    "# Plaats Unieke Scaffolds in aparte dataframe\n",
    "df_unique_scaffolds = complete_df[complete_df['recurring_scaffold'] == 0]\n",
    "df_unique_scaffolds = df_unique_scaffolds[['recurring_scaffold', 'ecfp_bit_vectors', 'ec50_molair_transformed','TPSA', 'MolLogP', 'MolWt', 'FpDensityMorgan2', 'HeavyAtomMolWt',\n",
    "               'MaxPartialCharge', 'MinPartialCharge', 'NumRadicalElectrons',\n",
    "               'NumValenceElectrons', 'CalcFractionCSP3', 'CalcNumRings',\n",
    "               'CalcNumRotatableBonds', 'CalcNumLipinskiHBD', 'CalcNumLipinskiHBA',\n",
    "               'CalcNumHeterocycles', 'CalcNumHeavyAtoms', 'CalcNumAromaticRings',\n",
    "               'CalcNumAtoms', 'qed']].dropna()\n",
    "\n",
    "total_descriptors = df_unique_scaffolds[['TPSA', 'MolLogP', 'MolWt', 'FpDensityMorgan2', 'HeavyAtomMolWt',\n",
    "               'MaxPartialCharge', 'MinPartialCharge', 'NumRadicalElectrons',\n",
    "               'NumValenceElectrons', 'CalcFractionCSP3', 'CalcNumRings',\n",
    "               'CalcNumRotatableBonds', 'CalcNumLipinskiHBD', 'CalcNumLipinskiHBA',\n",
    "               'CalcNumHeterocycles', 'CalcNumHeavyAtoms', 'CalcNumAromaticRings',\n",
    "               'CalcNumAtoms', 'qed']]\n",
    "\n",
    "# Extraheer de X en Y value van de nieuwe DF \n",
    "x_unique = nm.array(df_unique_scaffolds['ecfp_bit_vectors'].tolist()) \n",
    "x_unique = nm.concatenate((x_unique, total_descriptors), axis=1)## X is de te gebruike compound waarde  | Fingerprint ECFP\n",
    "y_unique = df_unique_scaffolds['ec50_molair_transformed'].values ## Y is de te voorspellen compound waarde | Ec50 Molair Logtransformed\n",
    "\n",
    "# Plaats Repeterende Scaffolds in een aparte dataframe\n",
    "df_grouped_scaffolds = complete_df[complete_df['recurring_scaffold'] > 0]\n",
    "df_grouped_scaffolds = df_grouped_scaffolds[['ecfp_bit_vectors', 'ec50_molair_transformed', 'recurring_scaffold', 'TPSA', 'MolLogP', 'MolWt', 'FpDensityMorgan2', 'HeavyAtomMolWt',\n",
    "               'MaxPartialCharge', 'MinPartialCharge', 'NumRadicalElectrons',\n",
    "               'NumValenceElectrons', 'CalcFractionCSP3', 'CalcNumRings',\n",
    "               'CalcNumRotatableBonds', 'CalcNumLipinskiHBD', 'CalcNumLipinskiHBA',\n",
    "               'CalcNumHeterocycles', 'CalcNumHeavyAtoms', 'CalcNumAromaticRings',\n",
    "               'CalcNumAtoms', 'qed']].dropna()\n",
    "\n",
    "total_descriptors = df_grouped_scaffolds[['TPSA', 'MolLogP', 'MolWt', 'FpDensityMorgan2', 'HeavyAtomMolWt',\n",
    "               'MaxPartialCharge', 'MinPartialCharge', 'NumRadicalElectrons',\n",
    "               'NumValenceElectrons', 'CalcFractionCSP3', 'CalcNumRings',\n",
    "               'CalcNumRotatableBonds', 'CalcNumLipinskiHBD', 'CalcNumLipinskiHBA',\n",
    "               'CalcNumHeterocycles', 'CalcNumHeavyAtoms', 'CalcNumAromaticRings',\n",
    "               'CalcNumAtoms', 'qed']]\n",
    "\n",
    "# Extraheer de X, Y en Z value van de nieuwe DF \n",
    "x_grouped = nm.array(df_grouped_scaffolds['ecfp_bit_vectors'].tolist()) ## X is de te gebruike compound waarde  | Fingerprint ECFP\n",
    "x_grouped = nm.concatenate((x_grouped, total_descriptors), axis=1)\n",
    "y_grouped = df_grouped_scaffolds['ec50_molair_transformed'].values ## Y is de te voorspellen compound waarde | Ec50 Molair Logtransformed\n",
    "z_grouped = df_grouped_scaffolds['recurring_scaffold'].values.tolist() ## Z is de indicator voor overeenkomstige scaffold groepen | Elke scaffoldgroup \n",
    "\n",
    "size_train_set_grouped_scaffolds = len(z_grouped) * 0.8\n",
    "size_train_set_grouped_scaffolds = int(size_train_set_grouped_scaffolds)\n",
    "\n",
    "# Lijsten voor repeterende scaffold verdeling\n",
    "x_train_grouped = []\n",
    "y_train_grouped = []\n",
    "x_test_grouped = []\n",
    "y_test_grouped = []\n",
    "\n",
    "# Verdeling moleculen op basis van scaffold groepen\n",
    "for x in range(len(z_grouped)):\n",
    "    if x < size_train_set_grouped_scaffolds:\n",
    "        x_train_grouped.append(x_grouped[x])\n",
    "        y_train_grouped.append(y_grouped[x])\n",
    "    elif z_grouped[x] == z_grouped[x-1]:\n",
    "        x_train_grouped.append(x_grouped[x])\n",
    "        y_train_grouped.append(y_grouped[x])\n",
    "    else: \n",
    "        remaining = len(z_grouped)-x\n",
    "        break\n",
    "        \n",
    "for x in range(remaining):\n",
    "    x_test_grouped.append(x_grouped[x+remaining])\n",
    "    y_test_grouped.append(y_grouped[x+remaining])\n",
    "\n",
    "# X values omzetten in juiste vorm\n",
    "x_train_grouped = [list(arr) for arr in x_train_grouped]\n",
    "x_test_grouped = [list(arr) for arr in x_test_grouped]\n",
    "\n",
    "# Random verdeling van unieke scaffolds\n",
    "from sklearn.model_selection import train_test_split\n",
    "x_train_unique,x_test_unique,y_train_unique,y_test_unique=train_test_split(x_unique,y_unique,test_size=0.2, random_state=42)\n",
    "\n",
    "# X values omzetten in juiste vorm\n",
    "x_train_unique = [list(arr) for arr in x_train_unique]\n",
    "x_test_unique = [list(arr) for arr in x_test_unique]\n",
    "\n",
    "# Samenvoegen van verdelingen unieke scaffolds en repeterende scaffolds\n",
    "x_train_scaffolds = nm.concatenate((x_train_grouped, x_train_unique))\n",
    "x_test_scaffolds = nm.concatenate((x_test_grouped, x_test_unique))\n",
    "\n",
    "y_train_scaffolds = nm.concatenate((y_train_grouped, y_train_unique))\n",
    "y_test_scaffolds = nm.concatenate((y_test_grouped, y_test_unique))\n",
    "\n",
    "# Random Forest Model\n",
    "from sklearn.ensemble import RandomForestRegressor\n",
    "regressor = RandomForestRegressor(n_estimators=200, min_samples_split=5,min_samples_leaf=4,max_depth=10,bootstrap=True)\n",
    "regressor.fit(x_train_scaffolds,y_train_scaffolds)\n",
    "y_pred_scaffolds = regressor.predict(x_test_scaffolds)\n",
    "\n",
    "\n",
    "# Prestatie en Evaluatie\n",
    "from sklearn.metrics import mean_absolute_error, mean_squared_error, r2_score\n",
    "\n",
    "# Root Mean Squared Error\n",
    "mse = mean_squared_error(y_test_scaffolds, y_pred_scaffolds)\n",
    "rmse = math.sqrt(mse)\n",
    "print('root mean squared error is ', rmse)\n",
    "\n",
    "# R2 berekenen\n",
    "slope, intercept = nm.polyfit(y_test_scaffolds,y_pred_scaffolds,1)\n",
    "line = slope * nm.array(y_test_scaffolds)+ intercept\n",
    "r2 = r2_score(y_test_scaffolds, y_pred_scaffolds)\n",
    "print('r2 is', r2)\n",
    "\n",
    "# Residuen berekenen\n",
    "residuen_scaffold = y_test_scaffolds- y_pred_scaffolds\n",
    "\n",
    "# R2 Visualisatie                                              \n",
    "plt.scatter(y_test_scaffolds,y_pred_scaffolds)\n",
    "plt.plot(y_test_scaffolds, line, color='red', label='line of current best fit')\n",
    "plt.xlabel('y_test Scaffold Split')\n",
    "plt.ylabel('y_pred Scaffold Split')\n",
    "plt.xlim(2,8)\n",
    "plt.ylim(2,8)\n",
    "plt.title('Random Forest | Extended Molecular Representation\\nScatterplot with Line of Best Fit (R2 = {:.2f})'.format(r2))\n",
    "plt.show()"
   ]
  },
  {
   "cell_type": "code",
   "execution_count": null,
   "metadata": {},
   "outputs": [],
   "source": [
    "# Retrieving top 5 in feature importance\n",
    "\n",
    "importance_scores = regressor.feature_importances_\n",
    "importance_scores=importance_scores[1024::]\n",
    "indices = nm.argsort(importance_scores)[::-1]\n",
    "\n",
    "\n",
    "print(\"Feature ranking:\")\n",
    "for i in range(5):\n",
    "    print(\"%d. feature %s (%f) \" % (i + 1, list_of_descriptor_names[indices[i]] , importance_scores[indices[i]], ))\n"
   ]
  },
  {
   "cell_type": "code",
   "execution_count": null,
   "metadata": {},
   "outputs": [],
   "source": []
  }
 ],
 "metadata": {
  "kernelspec": {
   "display_name": "Python 3 (ipykernel)",
   "language": "python",
   "name": "python3"
  },
  "language_info": {
   "codemirror_mode": {
    "name": "ipython",
    "version": 3
   },
   "file_extension": ".py",
   "mimetype": "text/x-python",
   "name": "python",
   "nbconvert_exporter": "python",
   "pygments_lexer": "ipython3",
   "version": "3.10.9"
  }
 },
 "nbformat": 4,
 "nbformat_minor": 1
}
