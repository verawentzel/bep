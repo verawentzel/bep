{
 "cells": [
  {
   "cell_type": "code",
   "execution_count": 1,
   "metadata": {},
   "outputs": [],
   "source": [
    "import matplotlib.pyplot as plt\n",
    "import numpy as nm\n",
    "from rdkit import Chem\n",
    "from rdkit.Chem import AllChem\n",
    "import pandas as pd\n",
    "import math\n",
    "from sklearn.svm import SVR\n",
    "from sklearn.model_selection import GridSearchCV, train_test_split"
   ]
  },
  {
   "cell_type": "code",
   "execution_count": 2,
   "metadata": {},
   "outputs": [],
   "source": [
    "folder = 'C:\\\\Users\\\\vswen\\\\Documents\\\\1. Biomedische Technologie\\\\BMT JAAR 5\\\\Kwart 4\\\\4. Data\\\\CTRPv2.0_2015_ctd2_ExpandedDataset\\\\'\n",
    "\n",
    "# Import data\n",
    "complete_df = pd.read_csv(f\"{folder}scaffold_split.txt\", sep=\"\\t\")\n",
    "# complete_df.fillna(complete_df.mean(), inplace=True)"
   ]
  },
  {
   "cell_type": "code",
   "execution_count": 3,
   "metadata": {},
   "outputs": [],
   "source": [
    "# Fingerprint aanmaken\n",
    "molecules = [Chem.MolFromSmiles(smile) for smile in complete_df['cpd_smiles'].tolist()]\n",
    "ecfp = [AllChem.GetMorganFingerprintAsBitVect(molecule,2,nBits=1024) for molecule in molecules]\n",
    "complete_df['ecfp_bit_vectors'] = [[int(bit) for bit in keys.ToBitString()] for keys in ecfp]\n",
    "complete_df['ECFP'] = [''.join(str(value) for value in row) for row in complete_df['ecfp_bit_vectors']]\n"
   ]
  },
  {
   "cell_type": "code",
   "execution_count": 4,
   "metadata": {},
   "outputs": [],
   "source": [
    "# Doelvariabele transformeren & limieten stellen dataframe\n",
    "complete_df['ec50_mol'] = complete_df['apparent_ec50_umol'] / 1000000\n",
    "complete_df['ec50_mol']=complete_df['ec50_mol'].replace(0, 1e-10)\n",
    "complete_df['ec50_molair'] = complete_df['ec50_mol']/ complete_df['MolWt']\n",
    "complete_df['ec50_molair_transformed'] = -nm.log10(complete_df['ec50_molair'])\n",
    "condition = (complete_df['ec50_molair_transformed'] < 2) | (complete_df['ec50_molair_transformed'] > 8)\n",
    "complete_df=complete_df[~condition]"
   ]
  },
  {
   "cell_type": "code",
   "execution_count": 5,
   "metadata": {},
   "outputs": [],
   "source": [
    "total_length_compounds = len(complete_df)\n",
    "size_train_set = total_length_compounds * 0.8 # Uitgaande van idealiter een 0.8:0.2 verhouding tussen train en test"
   ]
  },
  {
   "cell_type": "code",
   "execution_count": 6,
   "metadata": {},
   "outputs": [],
   "source": [
    "# Creeer een DF voor alle scaffolds die uniek zijn\n",
    "df_unique_scaffolds = complete_df[complete_df['recurring_scaffold'] == 0]\n",
    "df_unique_scaffolds = df_unique_scaffolds[['recurring_scaffold', 'ecfp_bit_vectors', 'ec50_molair_transformed']]\n",
    "\n",
    "# Extraheer de X en Y value van de nieuwe DF \n",
    "## X is de te gebruike compound waarde  | Fingerprint ECFP\n",
    "## Y is de te voorspellen compound waarde | Ec50 Molair Logtransformed\n",
    "x_unique = nm.array(df_unique_scaffolds['ecfp_bit_vectors'].tolist())\n",
    "y_unique = df_unique_scaffolds['ec50_molair_transformed'].values"
   ]
  },
  {
   "cell_type": "code",
   "execution_count": 7,
   "metadata": {},
   "outputs": [
    {
     "name": "stdout",
     "output_type": "stream",
     "text": [
      "[23, 22, 22, 21, 21, 20, 19, 19, 18, 18, 17, 17, 16, 16, 15, 15, 14, 14, 13, 12, 11, 10, 10, 9, 9, 9, 9, 8, 8, 8, 8, 7, 7, 5, 5, 4, 4, 3, 2, 2, 2, 2, 2, 2, 1, 1]\n"
     ]
    }
   ],
   "source": [
    "# Creeer een DF voor alle scaffolds die meermaals voorkomen\n",
    "df_grouped_scaffolds = complete_df[complete_df['recurring_scaffold'] > 0]\n",
    "df_grouped_scaffolds = df_grouped_scaffolds[['ecfp_bit_vectors', 'ec50_molair_transformed', 'recurring_scaffold']]\n",
    "\n",
    "# Extraheer de X, Y en Z value van de nieuwe DF\n",
    "## X is de te gebruike compound waarde  | Fingerprint ECFP\n",
    "## Y is de te voorspellen compound waarde | Ec50 Molair Logtransformed\n",
    "## Z is de indicator voor overeenkomstige scaffold groepen | Elke scaffoldgroup een eigen numerieke waarde\n",
    "x_grouped = nm.array(df_grouped_scaffolds['ecfp_bit_vectors'].tolist())\n",
    "y_grouped = df_grouped_scaffolds['ec50_molair_transformed'].values\n",
    "z_grouped = df_grouped_scaffolds['recurring_scaffold'].values.tolist()\n",
    "print(z_grouped)\n",
    "\n",
    "#df_grouped_scaffolds_indexes = df_grouped_scaffolds.groupby('recurring_scaffold')"
   ]
  },
  {
   "cell_type": "code",
   "execution_count": 8,
   "metadata": {},
   "outputs": [
    {
     "name": "stdout",
     "output_type": "stream",
     "text": [
      "36\n"
     ]
    }
   ],
   "source": [
    "size_train_set_grouped_scaffolds = len(z_grouped) * 0.8\n",
    "size_train_set_grouped_scaffolds = int(size_train_set_grouped_scaffolds)\n",
    "print(size_train_set_grouped_scaffolds)"
   ]
  },
  {
   "cell_type": "code",
   "execution_count": 9,
   "metadata": {},
   "outputs": [],
   "source": [
    "# Creeeren van lege lijsten voor de Grouped Scaffolds\n",
    "x_train_grouped = []\n",
    "y_train_grouped = []\n",
    "x_test_grouped = []\n",
    "y_test_grouped = []"
   ]
  },
  {
   "cell_type": "code",
   "execution_count": 10,
   "metadata": {},
   "outputs": [],
   "source": [
    "for x in range(len(z_grouped)):\n",
    "    if x < size_train_set_grouped_scaffolds:\n",
    "        x_train_grouped.append(x_grouped[x])\n",
    "        y_train_grouped.append(y_grouped[x])\n",
    "    elif z_grouped[x] == z_grouped[x-1]:\n",
    "        x_train_grouped.append(x_grouped[x])\n",
    "        y_train_grouped.append(y_grouped[x])\n",
    "    else: \n",
    "        remaining = len(z_grouped)-x\n",
    "        break\n",
    "        \n",
    "for x in range(remaining):\n",
    "    x_test_grouped.append(x_grouped[x+remaining])\n",
    "    y_test_grouped.append(y_grouped[x+remaining])"
   ]
  },
  {
   "cell_type": "code",
   "execution_count": 11,
   "metadata": {},
   "outputs": [
    {
     "name": "stdout",
     "output_type": "stream",
     "text": [
      "37\n",
      "9\n",
      "[6.177467919143146, 5.177786810229625, 3.06292216546177, 4.149560588087753, 5.585250661642195]\n",
      "[5.546437565477974, 3.5424595779947636, 3.8039684526979833, 7.002867750366318, 7.140120040530652]\n"
     ]
    }
   ],
   "source": [
    "print(len(x_train_grouped))\n",
    "print(len(x_test_grouped))\n",
    "print(y_train_grouped[0:5])\n",
    "print(y_test_grouped[0:5])"
   ]
  },
  {
   "cell_type": "code",
   "execution_count": 12,
   "metadata": {},
   "outputs": [],
   "source": [
    "x_train_grouped = [list(arr) for arr in x_train_grouped]\n",
    "x_test_grouped = [list(arr) for arr in x_test_grouped]"
   ]
  },
  {
   "cell_type": "code",
   "execution_count": 13,
   "metadata": {},
   "outputs": [],
   "source": [
    "from sklearn.model_selection import train_test_split\n",
    "x_train_unique,x_test_unique,y_train_unique,y_test_unique=train_test_split(x_unique,y_unique,test_size=0.2, random_state=42)"
   ]
  },
  {
   "cell_type": "code",
   "execution_count": 14,
   "metadata": {},
   "outputs": [
    {
     "data": {
      "text/plain": [
       "3.208429956735438"
      ]
     },
     "execution_count": 14,
     "metadata": {},
     "output_type": "execute_result"
    }
   ],
   "source": [
    "y_train_grouped[0]\n",
    "y_train_unique[0]"
   ]
  },
  {
   "cell_type": "code",
   "execution_count": 15,
   "metadata": {},
   "outputs": [],
   "source": [
    "x_train = nm.concatenate((x_train_grouped, x_train_unique))\n",
    "x_test = nm.concatenate((x_test_grouped, x_test_unique))\n",
    "\n",
    "y_train = nm.concatenate((y_train_grouped, y_train_unique))\n",
    "y_test = nm.concatenate((y_test_grouped, y_test_unique))"
   ]
  },
  {
   "cell_type": "code",
   "execution_count": 16,
   "metadata": {},
   "outputs": [
    {
     "name": "stdout",
     "output_type": "stream",
     "text": [
      "TRAIN DATA\n",
      "y_train 315 [6.17746792 5.17778681 3.06292217 4.14956059 5.58525066 2.50198468\n",
      " 3.91956742 3.34657922 5.11197086 5.54643757 3.54245958 3.80396845\n",
      " 7.00286775 7.14012004 4.79911746 7.97837982 5.92818719 8.99517549\n",
      " 4.88020939 7.8379193  3.66170099 3.5604241  4.32983641 4.92716807\n",
      " 3.85277385 5.85993903 4.47004173 3.26310969 4.48432501 4.05652758\n",
      " 4.75146563 2.7613362  3.31549143 5.15262715 3.24403851 3.89107571\n",
      " 3.57066811 3.20842996 4.21637164 6.71969129 4.25197765 4.39885415\n",
      " 6.45297299 4.31004416 3.81457438 3.97391901 3.49718226 3.06292054\n",
      " 4.16941713 4.68442527 6.13666682 6.81107136 4.8779357  3.83527122\n",
      " 5.80930103 5.04567537 7.0805511  8.84701571 5.51279443 6.16761988\n",
      " 3.57537943 6.46322491 4.25992836 4.24233207 7.32257936 4.39389361\n",
      " 2.81014598 6.41357527 4.4148026  5.40036102 4.72638476 3.45970677\n",
      " 4.45362039 4.21821933 4.00074561 3.84217479 4.37302502 3.88478058\n",
      " 6.70201513 4.59987641 5.71056475 4.68108689 2.73648996 3.91586322\n",
      " 3.46793378 4.05249691 4.06240482 8.94754413 4.26947641 4.72820508\n",
      " 4.60095312 6.35001835 5.75300687 3.49763861 5.41898561 2.93745085\n",
      " 5.31664385 5.85122554 5.1720819  3.64261256 8.72051702 6.30261421\n",
      " 4.68482026 6.49916268 3.98187279 7.02485145 4.74768794 7.86115472\n",
      " 2.38729325 5.18799242 7.52963757 4.42575102 5.00386597 3.78482224\n",
      " 5.65859702 4.15454591 6.19343921 3.71979206 5.19543885 5.44485162\n",
      " 5.42453977 3.56283476 4.23054297 5.30867003 5.39679985 3.26856596\n",
      " 4.41815411 3.08972882 3.20580081 5.91407537 4.98277273 5.43086399\n",
      " 4.56526407 5.65632768 3.76314556 8.14747271 5.71387782 5.47972253\n",
      " 5.52229246 5.03256683 6.12197721 4.24382097 4.65607854 5.16893878\n",
      " 6.25316344 4.09690961 4.05913733 3.43101416 3.25135881 3.2670411\n",
      " 6.82001238 5.28117242 3.81419519 4.00651986 4.41527428 3.02389717\n",
      " 5.92664443 7.90763278 4.5964414  4.15149814 4.56990807 6.15520554\n",
      " 3.69631794 5.986187   6.49235756 3.91213083 6.6667219  4.23069654\n",
      " 4.3457996  3.06648765 3.06325595 3.12536341 5.42722457 7.39410587\n",
      " 4.16757162 3.79381127 4.81981554 6.8726443  3.40673837 5.35690728\n",
      " 6.41198592 4.6486898  4.58311665 5.57552988 6.57655043 4.73166661\n",
      " 3.13343813 5.35917126 7.11952094 3.33480268 4.52891262 3.82601435\n",
      " 2.9113977  7.6705313  5.22881956 4.67804582 5.97726562 3.43876727\n",
      " 3.57437082 3.7719123  3.22791598 5.42804928 3.69878587 4.05244969\n",
      " 3.34372445 4.534093   5.08738897 3.53296531 5.94717067 4.65229718\n",
      " 3.96526187 4.73958533 3.28515583 3.45807149 4.00913979 4.85015008\n",
      " 3.79775771 8.85612389 3.30705989 4.23666647 5.27485569 4.37127489\n",
      " 4.75016375 3.89159052 4.78139535 6.53503479 4.78814655 3.05433538\n",
      " 3.78597168 8.73923414 2.38585597 4.6562939  4.24802382 4.31767906\n",
      " 5.36540427 2.2728287  7.23431301 4.37645177 5.17286494 5.43374656\n",
      " 4.81460118 8.83057235 4.32828661 7.55637684 7.14399673 7.474078\n",
      " 3.77599875 4.55845424 4.32554184 5.43370526 4.7613378  4.62948858\n",
      " 3.97215459 4.7769818  2.66062897 4.96976131 4.85986823 3.38595029\n",
      " 3.66258613 4.78664529 4.87916635 3.44072287 8.00337079 4.24051781\n",
      " 4.39782139 3.79084203 4.70428807 3.77431435 4.52464663 4.75761979\n",
      " 5.10444721 3.95795452 6.99487117 4.07713798 5.40446363 6.16404616\n",
      " 4.84889619 5.68377779 6.10140591 2.38983591 4.40773539 5.35900493\n",
      " 3.51093144 3.08168363 2.44069727 5.69925556 5.77829542 5.17396212\n",
      " 4.73740353 5.10818804 4.25410048 3.07665899 4.37673153 6.55478262\n",
      " 5.60363621 3.37031462 4.15837034 3.87753343 3.39353677 5.33616141\n",
      " 5.71087027 3.33756429 5.2293863  3.43035084 6.36040714 4.01395614\n",
      " 2.93720447 4.60491143 3.33161233 8.55165478 8.87515644 3.99791081\n",
      " 5.69220348 6.43209888 4.16947966]\n",
      "x_train 315 [[0 0 0 ... 0 0 0]\n",
      " [0 0 0 ... 0 0 0]\n",
      " [0 0 0 ... 0 0 0]\n",
      " ...\n",
      " [0 0 0 ... 0 0 0]\n",
      " [1 0 0 ... 0 0 0]\n",
      " [0 0 0 ... 0 0 0]]\n",
      "TEST DATA\n",
      "x_test 79 [[0 1 0 ... 0 0 0]\n",
      " [0 0 0 ... 0 0 0]\n",
      " [0 0 0 ... 0 0 0]\n",
      " ...\n",
      " [0 1 0 ... 0 0 0]\n",
      " [0 1 0 ... 0 0 0]\n",
      " [0 1 0 ... 0 0 0]]\n",
      "y_test 79 [5.54643757 3.54245958 3.80396845 7.00286775 7.14012004 4.79911746\n",
      " 7.97837982 5.92818719 8.99517549 3.50118206 4.92349197 4.66224467\n",
      " 3.2906463  3.92138618 5.75603017 5.06056648 4.3728913  6.29818686\n",
      " 5.8441365  5.84272534 5.0044796  5.68731536 3.60790866 4.37495857\n",
      " 6.09904609 3.91143679 5.93480469 3.00092533 6.80647327 3.53192849\n",
      " 3.87399378 5.5420909  8.99634707 6.22758859 4.83329128 4.83175434\n",
      " 7.35864876 3.48058615 4.74152432 3.54459386 4.32680446 2.30035178\n",
      " 8.22021806 2.96560305 4.75141336 3.12522901 4.71477993 3.41210765\n",
      " 5.28067871 4.93640799 4.0715542  5.03976491 3.31579975 5.32671589\n",
      " 8.77262979 5.02197313 3.90738631 6.06617708 3.38998186 3.51716862\n",
      " 5.32273896 5.58757763 5.26255347 4.4812512  3.96097688 5.46295848\n",
      " 4.60472351 4.6257659  8.06405074 5.97710758 5.10886048 4.15936162\n",
      " 7.20416425 4.2971958  6.57711339 5.02349449 4.49466625 5.71358322\n",
      " 4.33405948]\n"
     ]
    }
   ],
   "source": [
    "print('TRAIN DATA')\n",
    "print('y_train', len(y_train), y_train)\n",
    "print('x_train', len(x_train), x_train)\n",
    "\n",
    "print('TEST DATA')\n",
    "print('x_test', len(x_test), x_test)\n",
    "print('y_test', len(y_test), y_test)"
   ]
  },
  {
   "cell_type": "code",
   "execution_count": 17,
   "metadata": {},
   "outputs": [],
   "source": [
    "# Fit Regressor\n",
    "model = SVR(C=1, epsilon=0.1, kernel='rbf')\n",
    "model.fit(x_train,y_train)\n",
    "\n",
    "# Predict Test result\n",
    "y_pred  = model.predict(x_test)"
   ]
  },
  {
   "cell_type": "code",
   "execution_count": 18,
   "metadata": {},
   "outputs": [
    {
     "name": "stdout",
     "output_type": "stream",
     "text": [
      "mean absolute error is  0.9925247702527841\n",
      "mean squared error is  1.8305188447078262\n",
      "root mean squared error is  1.3529666827781925\n",
      "r2 is 0.14342357297620167\n"
     ]
    }
   ],
   "source": [
    "# Errors berekenen\n",
    "from sklearn.metrics import mean_absolute_error, mean_squared_error, r2_score\n",
    "\n",
    "# Mean Absolute Error\n",
    "mae=mean_absolute_error(y_test, y_pred)\n",
    "print('mean absolute error is ', mae)\n",
    "\n",
    "# Mean Squared Error\n",
    "mse = mean_squared_error(y_test, y_pred)\n",
    "print('mean squared error is ', mse)\n",
    "\n",
    "# Root Mean Squared Error\n",
    "rmse = math.sqrt(mse)\n",
    "print('root mean squared error is ', rmse)\n",
    "\n",
    "# R2 berekenen\n",
    "slope, intercept = nm.polyfit(y_test,y_pred,1)\n",
    "line = slope * nm.array(y_test)+ intercept\n",
    "r2 = r2_score(y_test, y_pred)\n",
    "print('r2 is', r2)"
   ]
  },
  {
   "cell_type": "code",
   "execution_count": 19,
   "metadata": {},
   "outputs": [
    {
     "data": {
      "image/png": "[encoded data removed]",
      "text/plain": [
       "<Figure size 640x480 with 1 Axes>"
      ]
     },
     "metadata": {},
     "output_type": "display_data"
    }
   ],
   "source": [
    "# R2 Visualisatie\n",
    "plt.scatter(y_test,y_pred)\n",
    "plt.plot(y_test, line, color='red', label='line of current best fit')\n",
    "plt.xlabel('y_test')\n",
    "plt.ylabel('y_pred')\n",
    "plt.xlim(1,10)\n",
    "plt.ylim(1,10)\n",
    "plt.title('Scatterplot with Line of Best Fit (R2 = {:.2f})'.format(r2))\n",
    "plt.show()"
   ]
  },
  {
   "cell_type": "code",
   "execution_count": null,
   "metadata": {},
   "outputs": [],
   "source": []
  }
 ],
 "metadata": {
  "kernelspec": {
   "display_name": "Python 3 (ipykernel)",
   "language": "python",
   "name": "python3"
  },
  "language_info": {
   "codemirror_mode": {
    "name": "ipython",
    "version": 3
   },
   "file_extension": ".py",
   "mimetype": "text/x-python",
   "name": "python",
   "nbconvert_exporter": "python",
   "pygments_lexer": "ipython3",
   "version": "3.10.9"
  }
 },
 "nbformat": 4,
 "nbformat_minor": 1
}
