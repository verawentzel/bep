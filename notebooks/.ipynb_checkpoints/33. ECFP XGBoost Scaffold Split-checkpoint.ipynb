{
 "cells": [
  {
   "cell_type": "code",
   "execution_count": 18,
   "metadata": {},
   "outputs": [
    {
     "ename": "ModuleNotFoundError",
     "evalue": "No module named 'xgboost'",
     "output_type": "error",
     "traceback": [
      "\u001b[1;31m---------------------------------------------------------------------------\u001b[0m",
      "\u001b[1;31mModuleNotFoundError\u001b[0m                       Traceback (most recent call last)",
      "Cell \u001b[1;32mIn[18], line 9\u001b[0m\n\u001b[0;32m      7\u001b[0m \u001b[38;5;28;01mfrom\u001b[39;00m \u001b[38;5;21;01msklearn\u001b[39;00m\u001b[38;5;21;01m.\u001b[39;00m\u001b[38;5;21;01msvm\u001b[39;00m \u001b[38;5;28;01mimport\u001b[39;00m SVR\n\u001b[0;32m      8\u001b[0m \u001b[38;5;28;01mfrom\u001b[39;00m \u001b[38;5;21;01msklearn\u001b[39;00m\u001b[38;5;21;01m.\u001b[39;00m\u001b[38;5;21;01mmodel_selection\u001b[39;00m \u001b[38;5;28;01mimport\u001b[39;00m GridSearchCV, train_test_split\n\u001b[1;32m----> 9\u001b[0m \u001b[38;5;28;01mimport\u001b[39;00m \u001b[38;5;21;01mxgboost\u001b[39;00m \u001b[38;5;28;01mas\u001b[39;00m \u001b[38;5;21;01mxgb\u001b[39;00m\n",
      "\u001b[1;31mModuleNotFoundError\u001b[0m: No module named 'xgboost'"
     ]
    }
   ],
   "source": [
    "import matplotlib.pyplot as plt\n",
    "import numpy as nm\n",
    "from rdkit import Chem\n",
    "from rdkit.Chem import AllChem\n",
    "import pandas as pd\n",
    "import math\n",
    "from sklearn.svm import SVR\n",
    "from sklearn.model_selection import GridSearchCV, train_test_split\n",
    "import xgboost as xgb"
   ]
  },
  {
   "cell_type": "code",
   "execution_count": 2,
   "metadata": {},
   "outputs": [],
   "source": [
    "folder = 'C:\\\\Users\\\\vswen\\\\Documents\\\\1. Biomedische Technologie\\\\BMT JAAR 5\\\\Kwart 4\\\\4. Data\\\\CTRPv2.0_2015_ctd2_ExpandedDataset\\\\'\n",
    "\n",
    "# Import data\n",
    "complete_df = pd.read_csv(f\"{folder}scaffold_split.txt\", sep=\"\\t\")\n",
    "# complete_df.fillna(complete_df.mean(), inplace=True)"
   ]
  },
  {
   "cell_type": "code",
   "execution_count": 3,
   "metadata": {},
   "outputs": [],
   "source": [
    "# Fingerprint aanmaken\n",
    "molecules = [Chem.MolFromSmiles(smile) for smile in complete_df['cpd_smiles'].tolist()]\n",
    "ecfp = [AllChem.GetMorganFingerprintAsBitVect(molecule,2,nBits=1024) for molecule in molecules]\n",
    "complete_df['ecfp_bit_vectors'] = [[int(bit) for bit in keys.ToBitString()] for keys in ecfp]\n",
    "complete_df['ECFP'] = [''.join(str(value) for value in row) for row in complete_df['ecfp_bit_vectors']]\n"
   ]
  },
  {
   "cell_type": "code",
   "execution_count": 4,
   "metadata": {},
   "outputs": [],
   "source": [
    "# Doelvariabele transformeren & limieten stellen dataframe\n",
    "complete_df['ec50_mol'] = complete_df['apparent_ec50_umol'] / 1000000\n",
    "complete_df['ec50_mol']=complete_df['ec50_mol'].replace(0, 1e-10)\n",
    "complete_df['ec50_molair'] = complete_df['ec50_mol']/ complete_df['MolWt']\n",
    "complete_df['ec50_molair_transformed'] = -nm.log10(complete_df['ec50_molair'])\n",
    "condition = (complete_df['ec50_molair_transformed'] < 2) | (complete_df['ec50_molair_transformed'] > 10)\n",
    "complete_df=complete_df[~condition]"
   ]
  },
  {
   "cell_type": "code",
   "execution_count": 5,
   "metadata": {},
   "outputs": [],
   "source": [
    "total_length_compounds = len(complete_df)\n",
    "size_train_set = total_length_compounds * 0.8 # Uitgaande van idealiter een 0.8:0.2 verhouding tussen train en test"
   ]
  },
  {
   "cell_type": "code",
   "execution_count": 6,
   "metadata": {},
   "outputs": [],
   "source": [
    "# Creeer een DF voor alle scaffolds die uniek zijn\n",
    "df_unique_scaffolds = complete_df[complete_df['recurring_scaffold'] == 0]\n",
    "df_unique_scaffolds = df_unique_scaffolds[['recurring_scaffold', 'ecfp_bit_vectors', 'ec50_molair_transformed']]\n",
    "\n",
    "# Extraheer de X en Y value van de nieuwe DF \n",
    "## X is de te gebruike compound waarde  | Fingerprint ECFP\n",
    "## Y is de te voorspellen compound waarde | Ec50 Molair Logtransformed\n",
    "x_unique = nm.array(df_unique_scaffolds['ecfp_bit_vectors'].tolist())\n",
    "y_unique = df_unique_scaffolds['ec50_molair_transformed'].values"
   ]
  },
  {
   "cell_type": "code",
   "execution_count": 7,
   "metadata": {},
   "outputs": [
    {
     "name": "stdout",
     "output_type": "stream",
     "text": [
      "[23, 22, 22, 21, 21, 20, 19, 19, 18, 18, 17, 17, 16, 16, 15, 15, 14, 14, 13, 12, 12, 11, 10, 10, 9, 9, 9, 9, 9, 8, 8, 8, 8, 7, 7, 5, 5, 4, 4, 3, 2, 2, 2, 2, 2, 2, 2, 1, 1]\n"
     ]
    }
   ],
   "source": [
    "# Creeer een DF voor alle scaffolds die meermaals voorkomen\n",
    "df_grouped_scaffolds = complete_df[complete_df['recurring_scaffold'] > 0]\n",
    "df_grouped_scaffolds = df_grouped_scaffolds[['ecfp_bit_vectors', 'ec50_molair_transformed', 'recurring_scaffold']]\n",
    "\n",
    "# Extraheer de X, Y en Z value van de nieuwe DF\n",
    "## X is de te gebruike compound waarde  | Fingerprint ECFP\n",
    "## Y is de te voorspellen compound waarde | Ec50 Molair Logtransformed\n",
    "## Z is de indicator voor overeenkomstige scaffold groepen | Elke scaffoldgroup een eigen numerieke waarde\n",
    "x_grouped = nm.array(df_grouped_scaffolds['ecfp_bit_vectors'].tolist())\n",
    "y_grouped = df_grouped_scaffolds['ec50_molair_transformed'].values\n",
    "z_grouped = df_grouped_scaffolds['recurring_scaffold'].values.tolist()\n",
    "print(z_grouped)\n",
    "\n",
    "#df_grouped_scaffolds_indexes = df_grouped_scaffolds.groupby('recurring_scaffold')"
   ]
  },
  {
   "cell_type": "code",
   "execution_count": 8,
   "metadata": {},
   "outputs": [
    {
     "name": "stdout",
     "output_type": "stream",
     "text": [
      "39\n"
     ]
    }
   ],
   "source": [
    "size_train_set_grouped_scaffolds = len(z_grouped) * 0.8\n",
    "size_train_set_grouped_scaffolds = int(size_train_set_grouped_scaffolds)\n",
    "print(size_train_set_grouped_scaffolds)"
   ]
  },
  {
   "cell_type": "code",
   "execution_count": 9,
   "metadata": {},
   "outputs": [],
   "source": [
    "# Creeeren van lege lijsten voor de Grouped Scaffolds\n",
    "x_train_grouped = []\n",
    "y_train_grouped = []\n",
    "x_test_grouped = []\n",
    "y_test_grouped = []"
   ]
  },
  {
   "cell_type": "code",
   "execution_count": 10,
   "metadata": {},
   "outputs": [],
   "source": [
    "for x in range(len(z_grouped)):\n",
    "    if x < size_train_set_grouped_scaffolds:\n",
    "        x_train_grouped.append(x_grouped[x])\n",
    "        y_train_grouped.append(y_grouped[x])\n",
    "    elif z_grouped[x] == z_grouped[x-1]:\n",
    "        x_train_grouped.append(x_grouped[x])\n",
    "        y_train_grouped.append(y_grouped[x])\n",
    "    else: \n",
    "        remaining = len(z_grouped)-x\n",
    "        break\n",
    "        \n",
    "for x in range(remaining):\n",
    "    x_test_grouped.append(x_grouped[x+remaining])\n",
    "    y_test_grouped.append(y_grouped[x+remaining])"
   ]
  },
  {
   "cell_type": "code",
   "execution_count": 11,
   "metadata": {},
   "outputs": [
    {
     "name": "stdout",
     "output_type": "stream",
     "text": [
      "39\n",
      "10\n",
      "[6.177467919143146, 5.177786810229625, 3.06292216546177, 4.149560588087753, 5.585250661642195]\n",
      "[3.5424595779947636, 3.8039684526979833, 7.002867750366318, 7.140120040530652, 4.799117455495654]\n"
     ]
    }
   ],
   "source": [
    "print(len(x_train_grouped))\n",
    "print(len(x_test_grouped))\n",
    "print(y_train_grouped[0:5])\n",
    "print(y_test_grouped[0:5])"
   ]
  },
  {
   "cell_type": "code",
   "execution_count": 12,
   "metadata": {},
   "outputs": [],
   "source": [
    "x_train_grouped = [list(arr) for arr in x_train_grouped]\n",
    "x_test_grouped = [list(arr) for arr in x_test_grouped]"
   ]
  },
  {
   "cell_type": "code",
   "execution_count": 13,
   "metadata": {},
   "outputs": [],
   "source": [
    "from sklearn.model_selection import train_test_split\n",
    "x_train_unique,x_test_unique,y_train_unique,y_test_unique=train_test_split(x_unique,y_unique,test_size=0.2, random_state=42)"
   ]
  },
  {
   "cell_type": "code",
   "execution_count": 14,
   "metadata": {},
   "outputs": [
    {
     "data": {
      "text/plain": [
       "4.414802598112664"
      ]
     },
     "execution_count": 14,
     "metadata": {},
     "output_type": "execute_result"
    }
   ],
   "source": [
    "y_train_grouped[0]\n",
    "y_train_unique[0]"
   ]
  },
  {
   "cell_type": "code",
   "execution_count": 15,
   "metadata": {},
   "outputs": [],
   "source": [
    "x_train = nm.concatenate((x_train_grouped, x_train_unique))\n",
    "x_test = nm.concatenate((x_test_grouped, x_test_unique))\n",
    "\n",
    "y_train = nm.concatenate((y_train_grouped, y_train_unique))\n",
    "y_test = nm.concatenate((y_test_grouped, y_test_unique))"
   ]
  },
  {
   "cell_type": "code",
   "execution_count": 16,
   "metadata": {},
   "outputs": [
    {
     "name": "stdout",
     "output_type": "stream",
     "text": [
      "TRAIN DATA\n",
      "y_train 320 [6.17746792 5.17778681 3.06292217 4.14956059 5.58525066 2.50198468\n",
      " 3.91956742 3.34657922 5.11197086 5.54643757 3.54245958 3.80396845\n",
      " 7.00286775 7.14012004 4.79911746 7.97837982 5.92818719 8.99517549\n",
      " 4.88020939 7.8379193  9.17434816 3.66170099 3.5604241  4.32983641\n",
      " 9.23652481 4.92716807 3.85277385 5.85993903 4.47004173 3.26310969\n",
      " 4.48432501 4.05652758 4.75146563 2.7613362  3.31549143 5.15262715\n",
      " 3.24403851 3.89107571 3.57066811 4.4148026  5.28067871 4.45362039\n",
      " 6.35001835 4.15936162 7.23431301 4.31004416 3.84217479 4.37302502\n",
      " 5.33616141 6.41357527 3.64261256 7.55637684 5.40446363 3.28515583\n",
      " 5.02197313 3.90738631 5.80930103 3.38998186 4.55845424 3.39353677\n",
      " 4.25197765 4.25410048 2.30035178 3.06292054 4.5964414  6.80647327\n",
      " 4.75016375 4.26947641 6.30261421 7.90763278 3.02389717 4.60472351\n",
      " 3.45807149 4.00074561 3.7719123  4.2971958  8.22021806 5.51279443\n",
      " 8.99634707 4.65229718 3.2906463  6.49235756 4.7613378  5.43086399\n",
      " 3.08972882 3.13343813 3.91586322 6.41198592 4.68482026 9.05416578\n",
      " 3.71979206 4.05244969 4.23069654 2.2728287  5.43374656 3.69878587\n",
      " 3.49763861 5.41898561 2.93745085 7.35864876 5.65632768 5.75300687\n",
      " 4.21637164 3.20842996 4.74152432 5.17396212 4.37495857 3.98187279\n",
      " 4.84889619 5.97726562 4.39885415 2.38729325 6.57711339 3.48058615\n",
      " 5.10444721 9.91051887 4.59987641 3.79381127 4.37673153 4.58311665\n",
      " 4.83175434 4.93640799 5.17286494 5.32671589 3.53192849 4.60491143\n",
      " 4.73166661 3.66258613 3.91213083 3.87753343 7.14399673 4.41815411\n",
      " 8.94754413 3.77431435 3.25135881 4.56526407 3.79775771 5.08738897\n",
      " 4.23054297 3.30705989 5.31664385 4.40773539 4.68108689 5.03976491\n",
      " 4.24382097 3.37031462 8.06405074 4.16757162 2.38983591 4.05913733\n",
      " 4.66224467 5.60363621 7.6705313  5.42453977 4.37127489 3.81419519\n",
      " 4.00651986 4.72820508 2.44069727 4.15837034 5.92664443 4.32680446\n",
      " 3.82601435 4.39389361 4.81981554 5.22881956 3.99791081 3.96097688\n",
      " 3.05433538 4.39782139 3.46793378 4.85015008 3.2670411  8.72051702\n",
      " 8.14747271 5.02349449 4.01395614 3.12522901 4.32828661 5.36540427\n",
      " 5.58757763 6.22758859 5.03256683 5.44485162 5.0044796  5.47972253\n",
      " 5.10886048 3.22791598 6.16404616 4.31767906 5.30867003 3.38595029\n",
      " 6.15520554 7.11952094 4.24051781 4.74768794 3.88478058 3.08168363\n",
      " 6.53503479 8.77262979 6.09904609 3.26856596 6.43209888 4.3457996\n",
      " 8.84701571 6.16761988 4.21821933 4.60095312 5.39679985 3.34372445\n",
      " 4.534093   3.57537943 4.24802382 3.43101416 5.18799242 5.52229246\n",
      " 8.87515644 3.53296531 2.93720447 3.06648765 3.43035084 3.92138618\n",
      " 4.16941713 4.70428807 7.02485145 4.73740353 3.87399378 4.71477993\n",
      " 4.15149814 4.33405948 4.83329128 3.56283476 3.96526187 2.73648996\n",
      " 5.97710758 3.91143679 5.68377779 4.06240482 5.35917126 5.75603017\n",
      " 4.37645177 5.27485569 6.99487117 4.68442527 5.71387782 3.97215459\n",
      " 5.986187   4.32554184 3.78482224 4.56990807 6.82001238 5.06056648\n",
      " 7.0805511  5.94717067 4.65607854 3.83527122 5.43370526 4.98277273\n",
      " 5.71358322 5.85122554 4.67804582 4.00913979 3.40673837 3.50118206\n",
      " 5.04567537 3.33480268 8.00337079 3.89159052 5.93480469 2.66062897\n",
      " 4.78139535 4.78664529 4.07713798 3.51093144 2.38585597 4.4812512\n",
      " 4.6486898  6.8726443  4.7769818  4.6562939  5.42804928 3.33756429\n",
      " 7.474078   4.25992836 3.76314556 4.75761979 5.10818804 6.57655043\n",
      " 2.81014598 3.97391901 4.49466625 6.13666682 3.00092533 5.46295848\n",
      " 3.41210765 5.1720819  8.55165478 3.49718226 4.81460118 3.43876727\n",
      " 5.77829542 6.6667219  5.42722457 6.49916268 5.26255347 6.45297299\n",
      " 5.71056475 4.52891262 4.0715542  5.68731536 2.96560305 5.16893878\n",
      " 3.33161233 4.72638476 3.12536341 5.65859702 4.16947966 4.42575102\n",
      " 7.32257936 8.85612389]\n",
      "x_train 320 [[0 0 0 ... 0 0 0]\n",
      " [0 0 0 ... 0 0 0]\n",
      " [0 0 0 ... 0 0 0]\n",
      " ...\n",
      " [0 0 0 ... 0 0 0]\n",
      " [0 0 0 ... 0 0 0]\n",
      " [0 0 0 ... 0 0 1]]\n",
      "TEST DATA\n",
      "x_test 81 [[0 0 0 ... 0 0 0]\n",
      " [0 0 0 ... 0 0 0]\n",
      " [0 0 0 ... 0 0 0]\n",
      " ...\n",
      " [0 1 0 ... 0 0 0]\n",
      " [0 0 0 ... 0 0 0]\n",
      " [0 0 0 ... 0 0 0]]\n",
      "y_test 81 [3.54245958 3.80396845 7.00286775 7.14012004 4.79911746 7.97837982\n",
      " 5.92818719 8.99517549 4.88020939 7.8379193  4.3728913  6.12197721\n",
      " 3.44072287 5.2293863  5.69220348 5.19543885 6.19343921 4.8779357\n",
      " 3.77599875 4.6257659  6.06617708 3.79084203 3.81457438 5.91407537\n",
      " 4.92349197 8.83057235 3.20580081 5.84272534 6.55478262 4.41527428\n",
      " 8.73923414 4.75141336 4.73958533 6.36040714 6.29818686 4.15454591\n",
      " 3.07665899 9.86526397 4.52464663 6.71969129 5.69925556 5.71087027\n",
      " 3.57437082 9.75860969 3.54459386 3.95795452 5.35900493 5.40036102\n",
      " 5.57552988 4.85986823 5.00386597 3.60790866 3.78597168 3.06325595\n",
      " 3.31579975 4.23666647 3.51716862 4.09690961 6.46322491 5.5420909\n",
      " 6.25316344 5.28117242 5.32273896 4.87916635 7.86115472 4.05249691\n",
      " 4.62948858 7.39410587 4.78814655 5.35690728 3.45970677 4.96976131\n",
      " 6.70201513 6.10140591 7.20416425 3.69631794 5.8441365  2.9113977\n",
      " 7.52963757 6.81107136 4.24233207]\n"
     ]
    }
   ],
   "source": [
    "print('TRAIN DATA')\n",
    "print('y_train', len(y_train), y_train)\n",
    "print('x_train', len(x_train), x_train)\n",
    "\n",
    "print('TEST DATA')\n",
    "print('x_test', len(x_test), x_test)\n",
    "print('y_test', len(y_test), y_test)"
   ]
  },
  {
   "cell_type": "code",
   "execution_count": 17,
   "metadata": {},
   "outputs": [
    {
     "ename": "NameError",
     "evalue": "name 'xgb' is not defined",
     "output_type": "error",
     "traceback": [
      "\u001b[1;31m---------------------------------------------------------------------------\u001b[0m",
      "\u001b[1;31mNameError\u001b[0m                                 Traceback (most recent call last)",
      "Cell \u001b[1;32mIn[17], line 2\u001b[0m\n\u001b[0;32m      1\u001b[0m \u001b[38;5;66;03m# Fit XGBoost-regressiemodel\u001b[39;00m\n\u001b[1;32m----> 2\u001b[0m model \u001b[38;5;241m=\u001b[39m \u001b[43mxgb\u001b[49m\u001b[38;5;241m.\u001b[39mXGBRegressor()\n\u001b[0;32m      3\u001b[0m grid \u001b[38;5;241m=\u001b[39m xgb\u001b[38;5;241m.\u001b[39mXGBRegressor(colsample_bytree\u001b[38;5;241m=\u001b[39m \u001b[38;5;241m0.8\u001b[39m, learning_rate\u001b[38;5;241m=\u001b[39m \u001b[38;5;241m0.01\u001b[39m, max_depth\u001b[38;5;241m=\u001b[39m \u001b[38;5;241m3\u001b[39m, n_estimators\u001b[38;5;241m=\u001b[39m \u001b[38;5;241m500\u001b[39m, subsample\u001b[38;5;241m=\u001b[39m \u001b[38;5;241m0.8\u001b[39m)\n\u001b[0;32m      4\u001b[0m grid\u001b[38;5;241m.\u001b[39mfit(X_train,y_train)\n",
      "\u001b[1;31mNameError\u001b[0m: name 'xgb' is not defined"
     ]
    }
   ],
   "source": [
    "# Fit XGBoost-regressiemodel\n",
    "model = xgb.XGBRegressor()\n",
    "grid = xgb.XGBRegressor(colsample_bytree= 0.8, learning_rate= 0.01, max_depth= 3, n_estimators= 500, subsample= 0.8)\n",
    "grid.fit(X_train,y_train)\n",
    "\n",
    "# Predict Test result\n",
    "y_pred=grid.predict(X_test)"
   ]
  },
  {
   "cell_type": "code",
   "execution_count": 19,
   "metadata": {},
   "outputs": [
    {
     "ename": "NameError",
     "evalue": "name 'y_pred' is not defined",
     "output_type": "error",
     "traceback": [
      "\u001b[1;31m---------------------------------------------------------------------------\u001b[0m",
      "\u001b[1;31mNameError\u001b[0m                                 Traceback (most recent call last)",
      "Cell \u001b[1;32mIn[19], line 5\u001b[0m\n\u001b[0;32m      2\u001b[0m \u001b[38;5;28;01mfrom\u001b[39;00m \u001b[38;5;21;01msklearn\u001b[39;00m\u001b[38;5;21;01m.\u001b[39;00m\u001b[38;5;21;01mmetrics\u001b[39;00m \u001b[38;5;28;01mimport\u001b[39;00m mean_absolute_error, mean_squared_error, r2_score\n\u001b[0;32m      4\u001b[0m \u001b[38;5;66;03m# Mean Absolute Error\u001b[39;00m\n\u001b[1;32m----> 5\u001b[0m mae\u001b[38;5;241m=\u001b[39mmean_absolute_error(y_test, \u001b[43my_pred\u001b[49m)\n\u001b[0;32m      6\u001b[0m \u001b[38;5;28mprint\u001b[39m(\u001b[38;5;124m'\u001b[39m\u001b[38;5;124mmean absolute error is \u001b[39m\u001b[38;5;124m'\u001b[39m, mae)\n\u001b[0;32m      8\u001b[0m \u001b[38;5;66;03m# Mean Squared Error\u001b[39;00m\n",
      "\u001b[1;31mNameError\u001b[0m: name 'y_pred' is not defined"
     ]
    }
   ],
   "source": [
    "# Errors berekenen\n",
    "from sklearn.metrics import mean_absolute_error, mean_squared_error, r2_score\n",
    "\n",
    "# Mean Absolute Error\n",
    "mae=mean_absolute_error(y_test, y_pred)\n",
    "print('mean absolute error is ', mae)\n",
    "\n",
    "# Mean Squared Error\n",
    "mse = mean_squared_error(y_test, y_pred)\n",
    "print('mean squared error is ', mse)\n",
    "\n",
    "# Root Mean Squared Error\n",
    "rmse = math.sqrt(mse)\n",
    "print('root mean squared error is ', rmse)\n",
    "\n",
    "# R2 berekenen\n",
    "slope, intercept = nm.polyfit(y_test,y_pred,1)\n",
    "line = slope * nm.array(y_test)+ intercept\n",
    "r2 = r2_score(y_test, y_pred)\n",
    "print('r2 is', r2)"
   ]
  },
  {
   "cell_type": "code",
   "execution_count": 20,
   "metadata": {},
   "outputs": [
    {
     "ename": "NameError",
     "evalue": "name 'y_pred' is not defined",
     "output_type": "error",
     "traceback": [
      "\u001b[1;31m---------------------------------------------------------------------------\u001b[0m",
      "\u001b[1;31mNameError\u001b[0m                                 Traceback (most recent call last)",
      "Cell \u001b[1;32mIn[20], line 2\u001b[0m\n\u001b[0;32m      1\u001b[0m \u001b[38;5;66;03m# R2 Visualisatie scatterplot\u001b[39;00m\n\u001b[1;32m----> 2\u001b[0m slope, intercept \u001b[38;5;241m=\u001b[39m nm\u001b[38;5;241m.\u001b[39mpolyfit(y_test,\u001b[43my_pred\u001b[49m,\u001b[38;5;241m1\u001b[39m)\n\u001b[0;32m      3\u001b[0m line \u001b[38;5;241m=\u001b[39m slope \u001b[38;5;241m*\u001b[39m nm\u001b[38;5;241m.\u001b[39marray(y_test)\u001b[38;5;241m+\u001b[39m intercept\n\u001b[0;32m      4\u001b[0m plt\u001b[38;5;241m.\u001b[39mscatter(y_test,y_pred)\n",
      "\u001b[1;31mNameError\u001b[0m: name 'y_pred' is not defined"
     ]
    }
   ],
   "source": [
    "# R2 Visualisatie scatterplot\n",
    "slope, intercept = nm.polyfit(y_test,y_pred,1)\n",
    "line = slope * nm.array(y_test)+ intercept\n",
    "plt.scatter(y_test,y_pred)\n",
    "plt.plot(y_test, line, color='red', label='line of current best fit')\n",
    "plt.xlabel('y_test')\n",
    "plt.ylabel('y_pred')\n",
    "plt.xlim(1,10)\n",
    "plt.ylim(1,10)\n",
    "plt.title('Scatterplot with Line of Best Fit (R2 = {:.2f})'.format(r2))\n",
    "plt.show()"
   ]
  },
  {
   "cell_type": "code",
   "execution_count": 21,
   "metadata": {},
   "outputs": [
    {
     "ename": "NameError",
     "evalue": "name 'y_pred' is not defined",
     "output_type": "error",
     "traceback": [
      "\u001b[1;31m---------------------------------------------------------------------------\u001b[0m",
      "\u001b[1;31mNameError\u001b[0m                                 Traceback (most recent call last)",
      "Cell \u001b[1;32mIn[21], line 2\u001b[0m\n\u001b[0;32m      1\u001b[0m \u001b[38;5;66;03m# Visualisatie residu plot\u001b[39;00m\n\u001b[1;32m----> 2\u001b[0m residuals \u001b[38;5;241m=\u001b[39m y_test \u001b[38;5;241m-\u001b[39m \u001b[43my_pred\u001b[49m\n\u001b[0;32m      3\u001b[0m plt\u001b[38;5;241m.\u001b[39mscatter(y_pred, residuals)\n\u001b[0;32m      4\u001b[0m plt\u001b[38;5;241m.\u001b[39mxlabel(\u001b[38;5;124m'\u001b[39m\u001b[38;5;124mVoorspelde waarden\u001b[39m\u001b[38;5;124m'\u001b[39m)\n",
      "\u001b[1;31mNameError\u001b[0m: name 'y_pred' is not defined"
     ]
    }
   ],
   "source": [
    "# Visualisatie residu plot\n",
    "residuals = y_test - y_pred\n",
    "plt.scatter(y_pred, residuals)\n",
    "plt.xlabel('Voorspelde waarden')\n",
    "plt.ylabel('Residuen')\n",
    "plt.title('Residu plot')\n",
    "plt.axhline(y=0, color='r', linestyle='--')\n",
    "plt.show()\n"
   ]
  },
  {
   "cell_type": "code",
   "execution_count": null,
   "metadata": {},
   "outputs": [],
   "source": []
  }
 ],
 "metadata": {
  "kernelspec": {
   "display_name": "Python 3 (ipykernel)",
   "language": "python",
   "name": "python3"
  },
  "language_info": {
   "codemirror_mode": {
    "name": "ipython",
    "version": 3
   },
   "file_extension": ".py",
   "mimetype": "text/x-python",
   "name": "python",
   "nbconvert_exporter": "python",
   "pygments_lexer": "ipython3",
   "version": "3.10.9"
  }
 },
 "nbformat": 4,
 "nbformat_minor": 1
}
