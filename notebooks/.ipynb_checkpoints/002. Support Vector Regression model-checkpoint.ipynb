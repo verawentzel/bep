{
 "cells": [
  {
   "cell_type": "code",
   "execution_count": 39,
   "metadata": {},
   "outputs": [],
   "source": [
    "######## SUPPORT VECTOR REGRESSION MODEL  ########\n",
    "\n",
    "# De code bestaat uit verschillende onderdelen:\n",
    "\n",
    "# 1. Preparing data \n",
    "#    Het uitlezen experiment data, berekenen mol. descriptors, transformeren EC50 value, scaffolds berekenen en een label meegeven voor groepen reaccuring scaffolds\n",
    "#    Input: Desired experiment number, CTRPv2 Data Curves Post Quality check & CTRPv2 Meta per compound\n",
    "#    Output: Data final summery per experiment ID & Data Scaffold Split per experminent ID"
   ]
  },
  {
   "cell_type": "code",
   "execution_count": 2,
   "metadata": {},
   "outputs": [],
   "source": [
    "######## PREPARING DATA  ########"
   ]
  },
  {
   "cell_type": "code",
   "execution_count": 36,
   "metadata": {},
   "outputs": [],
   "source": [
    "import matplotlib.pyplot as plt\n",
    "import numpy as nm\n",
    "import pandas as pd\n",
    "import math\n",
    "from rdkit import Chem\n",
    "from rdkit.Chem import AllChem\n",
    "from sklearn.model_selection import train_test_split\n",
    "from sklearn.preprocessing import StandardScaler\n",
    "from rdkit.Chem.Scaffolds import MurckoScaffold\n",
    "from sklearn.svm import SVR\n",
    "from tqdm import tqdm\n",
    "from collections import defaultdict"
   ]
  },
  {
   "cell_type": "code",
   "execution_count": 37,
   "metadata": {},
   "outputs": [
    {
     "name": "stderr",
     "output_type": "stream",
     "text": [
      "  0%|                                                                                          | 0/446 [00:00<?, ?it/s]\n"
     ]
    },
    {
     "ename": "NameError",
     "evalue": "name 'Descriptors' is not defined",
     "output_type": "error",
     "traceback": [
      "\u001b[1;31m---------------------------------------------------------------------------\u001b[0m",
      "\u001b[1;31mNameError\u001b[0m                                 Traceback (most recent call last)",
      "Cell \u001b[1;32mIn[37], line 48\u001b[0m\n\u001b[0;32m     46\u001b[0m \u001b[38;5;66;03m# Dataframe met mol descriptors\u001b[39;00m\n\u001b[0;32m     47\u001b[0m smiles_column \u001b[38;5;241m=\u001b[39m df_summary_sorted[\u001b[38;5;124m'\u001b[39m\u001b[38;5;124mcpd_smiles\u001b[39m\u001b[38;5;124m'\u001b[39m]\n\u001b[1;32m---> 48\u001b[0m descriptors \u001b[38;5;241m=\u001b[39m \u001b[43mmol_descriptor\u001b[49m\u001b[43m(\u001b[49m\u001b[43msmiles_column\u001b[49m\u001b[43m)\u001b[49m\n\u001b[0;32m     50\u001b[0m df_summary_sorted[[\u001b[38;5;124m'\u001b[39m\u001b[38;5;124mTPSA\u001b[39m\u001b[38;5;124m'\u001b[39m, \u001b[38;5;124m'\u001b[39m\u001b[38;5;124mMolLogP\u001b[39m\u001b[38;5;124m'\u001b[39m, \u001b[38;5;124m'\u001b[39m\u001b[38;5;124mMolWt\u001b[39m\u001b[38;5;124m'\u001b[39m, \u001b[38;5;124m'\u001b[39m\u001b[38;5;124mFpDensityMorgan2\u001b[39m\u001b[38;5;124m'\u001b[39m, \u001b[38;5;124m'\u001b[39m\u001b[38;5;124mHeavyAtomMolWt\u001b[39m\u001b[38;5;124m'\u001b[39m,\n\u001b[0;32m     51\u001b[0m                \u001b[38;5;124m'\u001b[39m\u001b[38;5;124mMaxPartialCharge\u001b[39m\u001b[38;5;124m'\u001b[39m, \u001b[38;5;124m'\u001b[39m\u001b[38;5;124mMinPartialCharge\u001b[39m\u001b[38;5;124m'\u001b[39m, \u001b[38;5;124m'\u001b[39m\u001b[38;5;124mNumRadicalElectrons\u001b[39m\u001b[38;5;124m'\u001b[39m,\n\u001b[0;32m     52\u001b[0m                \u001b[38;5;124m'\u001b[39m\u001b[38;5;124mNumValenceElectrons\u001b[39m\u001b[38;5;124m'\u001b[39m, \u001b[38;5;124m'\u001b[39m\u001b[38;5;124mCalcFractionCSP3\u001b[39m\u001b[38;5;124m'\u001b[39m, \u001b[38;5;124m'\u001b[39m\u001b[38;5;124mCalcNumRings\u001b[39m\u001b[38;5;124m'\u001b[39m,\n\u001b[0;32m     53\u001b[0m                \u001b[38;5;124m'\u001b[39m\u001b[38;5;124mCalcNumRotatableBonds\u001b[39m\u001b[38;5;124m'\u001b[39m, \u001b[38;5;124m'\u001b[39m\u001b[38;5;124mCalcNumLipinskiHBD\u001b[39m\u001b[38;5;124m'\u001b[39m, \u001b[38;5;124m'\u001b[39m\u001b[38;5;124mCalcNumLipinskiHBA\u001b[39m\u001b[38;5;124m'\u001b[39m,\n\u001b[0;32m     54\u001b[0m                \u001b[38;5;124m'\u001b[39m\u001b[38;5;124mCalcNumHeterocycles\u001b[39m\u001b[38;5;124m'\u001b[39m, \u001b[38;5;124m'\u001b[39m\u001b[38;5;124mCalcNumHeavyAtoms\u001b[39m\u001b[38;5;124m'\u001b[39m, \u001b[38;5;124m'\u001b[39m\u001b[38;5;124mCalcNumAromaticRings\u001b[39m\u001b[38;5;124m'\u001b[39m,\n\u001b[0;32m     55\u001b[0m                \u001b[38;5;124m'\u001b[39m\u001b[38;5;124mCalcNumAtoms\u001b[39m\u001b[38;5;124m'\u001b[39m, \u001b[38;5;124m'\u001b[39m\u001b[38;5;124mqed\u001b[39m\u001b[38;5;124m'\u001b[39m]] \u001b[38;5;241m=\u001b[39m descriptors\n\u001b[0;32m     58\u001b[0m df_summary_sorted[\u001b[38;5;124m'\u001b[39m\u001b[38;5;124mec50_mol\u001b[39m\u001b[38;5;124m'\u001b[39m] \u001b[38;5;241m=\u001b[39m df_summary_sorted[\u001b[38;5;124m'\u001b[39m\u001b[38;5;124mapparent_ec50_umol\u001b[39m\u001b[38;5;124m'\u001b[39m] \u001b[38;5;241m/\u001b[39m \u001b[38;5;241m1000000\u001b[39m\n",
      "Cell \u001b[1;32mIn[37], line 19\u001b[0m, in \u001b[0;36mmol_descriptor\u001b[1;34m(smiles, scale)\u001b[0m\n\u001b[0;32m     17\u001b[0m \u001b[38;5;28;01mfor\u001b[39;00m smi \u001b[38;5;129;01min\u001b[39;00m tqdm(smiles):\n\u001b[0;32m     18\u001b[0m     m \u001b[38;5;241m=\u001b[39m Chem\u001b[38;5;241m.\u001b[39mMolFromSmiles(smi)\n\u001b[1;32m---> 19\u001b[0m     x \u001b[38;5;241m=\u001b[39m nm\u001b[38;5;241m.\u001b[39marray([\u001b[43mDescriptors\u001b[49m\u001b[38;5;241m.\u001b[39mTPSA(m),\n\u001b[0;32m     20\u001b[0m                   Descriptors\u001b[38;5;241m.\u001b[39mMolLogP(m),\n\u001b[0;32m     21\u001b[0m                   Descriptors\u001b[38;5;241m.\u001b[39mMolWt(m),\n\u001b[0;32m     22\u001b[0m                   Descriptors\u001b[38;5;241m.\u001b[39mFpDensityMorgan2(m),\n\u001b[0;32m     23\u001b[0m                   Descriptors\u001b[38;5;241m.\u001b[39mHeavyAtomMolWt(m),\n\u001b[0;32m     24\u001b[0m                   Descriptors\u001b[38;5;241m.\u001b[39mMaxPartialCharge(m),\n\u001b[0;32m     25\u001b[0m                   Descriptors\u001b[38;5;241m.\u001b[39mMinPartialCharge(m),\n\u001b[0;32m     26\u001b[0m                   Descriptors\u001b[38;5;241m.\u001b[39mNumRadicalElectrons(m),\n\u001b[0;32m     27\u001b[0m                   Descriptors\u001b[38;5;241m.\u001b[39mNumValenceElectrons(m),\n\u001b[0;32m     28\u001b[0m                   rdMolDescriptors\u001b[38;5;241m.\u001b[39mCalcFractionCSP3(m),\n\u001b[0;32m     29\u001b[0m                   rdMolDescriptors\u001b[38;5;241m.\u001b[39mCalcNumRings(m),\n\u001b[0;32m     30\u001b[0m                   rdMolDescriptors\u001b[38;5;241m.\u001b[39mCalcNumRotatableBonds(m),\n\u001b[0;32m     31\u001b[0m                   rdMolDescriptors\u001b[38;5;241m.\u001b[39mCalcNumLipinskiHBD(m),\n\u001b[0;32m     32\u001b[0m                   rdMolDescriptors\u001b[38;5;241m.\u001b[39mCalcNumLipinskiHBA(m),\n\u001b[0;32m     33\u001b[0m                   rdMolDescriptors\u001b[38;5;241m.\u001b[39mCalcNumHeterocycles(m),\n\u001b[0;32m     34\u001b[0m                   rdMolDescriptors\u001b[38;5;241m.\u001b[39mCalcNumHeavyAtoms(m),\n\u001b[0;32m     35\u001b[0m                   rdMolDescriptors\u001b[38;5;241m.\u001b[39mCalcNumAromaticRings(m),\n\u001b[0;32m     36\u001b[0m                   rdMolDescriptors\u001b[38;5;241m.\u001b[39mCalcNumAtoms(m),\n\u001b[0;32m     37\u001b[0m                   qed(m)])\n\u001b[0;32m     38\u001b[0m     X\u001b[38;5;241m.\u001b[39mappend(x)\n\u001b[0;32m     40\u001b[0m \u001b[38;5;28;01mif\u001b[39;00m scale:\n",
      "\u001b[1;31mNameError\u001b[0m: name 'Descriptors' is not defined"
     ]
    }
   ],
   "source": [
    "# Import online Data Frame\n",
    "folder = 'C:\\\\Users\\\\vswen\\\\Documents\\\\1. Biomedische Technologie\\\\BMT JAAR 5\\\\Kwart 4\\\\4. Data\\\\CTRPv2.0_2015_ctd2_ExpandedDataset\\\\'\n",
    "experiment_id = 419\n",
    "\n",
    "\n",
    "# Dataframe met kernwaarden aanmaken\n",
    "df_large = pd.read_csv(f\"{folder}v20.data.curves_post_qc.txt\", sep='\\t')\n",
    "df_smiles = pd.read_csv(f\"{folder}v20.meta.per_compound.txt\", sep='\\t')\n",
    "\n",
    "df_large=df_large[df_large['experiment_id'] == experiment_id]\n",
    "df_summary = df_large[[ 'master_cpd_id','apparent_ec50_umol']]\n",
    "extracted_col = df_smiles[[\"master_cpd_id\",\"cpd_smiles\"]]\n",
    "df_summary_sorted = pd.merge(df_summary, extracted_col, on='master_cpd_id', how='left')\n",
    "\n",
    "def mol_descriptor(smiles: list, scale: bool = True) -> nm.ndarray:\n",
    "    X = []\n",
    "    for smi in tqdm(smiles):\n",
    "        m = Chem.MolFromSmiles(smi)\n",
    "        x = nm.array([Descriptors.TPSA(m),\n",
    "                      Descriptors.MolLogP(m),\n",
    "                      Descriptors.MolWt(m),\n",
    "                      Descriptors.FpDensityMorgan2(m),\n",
    "                      Descriptors.HeavyAtomMolWt(m),\n",
    "                      Descriptors.MaxPartialCharge(m),\n",
    "                      Descriptors.MinPartialCharge(m),\n",
    "                      Descriptors.NumRadicalElectrons(m),\n",
    "                      Descriptors.NumValenceElectrons(m),\n",
    "                      rdMolDescriptors.CalcFractionCSP3(m),\n",
    "                      rdMolDescriptors.CalcNumRings(m),\n",
    "                      rdMolDescriptors.CalcNumRotatableBonds(m),\n",
    "                      rdMolDescriptors.CalcNumLipinskiHBD(m),\n",
    "                      rdMolDescriptors.CalcNumLipinskiHBA(m),\n",
    "                      rdMolDescriptors.CalcNumHeterocycles(m),\n",
    "                      rdMolDescriptors.CalcNumHeavyAtoms(m),\n",
    "                      rdMolDescriptors.CalcNumAromaticRings(m),\n",
    "                      rdMolDescriptors.CalcNumAtoms(m),\n",
    "                      qed(m)])\n",
    "        X.append(x)\n",
    "\n",
    "    if scale:\n",
    "        return pre.MinMaxScaler().fit_transform(nm.array(X))\n",
    "\n",
    "    return nm.array(X)\n",
    "\n",
    "\n",
    "# Dataframe met mol descriptors\n",
    "smiles_column = df_summary_sorted['cpd_smiles']\n",
    "descriptors = mol_descriptor(smiles_column)\n",
    "\n",
    "df_summary_sorted[['TPSA', 'MolLogP', 'MolWt', 'FpDensityMorgan2', 'HeavyAtomMolWt',\n",
    "               'MaxPartialCharge', 'MinPartialCharge', 'NumRadicalElectrons',\n",
    "               'NumValenceElectrons', 'CalcFractionCSP3', 'CalcNumRings',\n",
    "               'CalcNumRotatableBonds', 'CalcNumLipinskiHBD', 'CalcNumLipinskiHBA',\n",
    "               'CalcNumHeterocycles', 'CalcNumHeavyAtoms', 'CalcNumAromaticRings',\n",
    "               'CalcNumAtoms', 'qed']] = descriptors\n",
    "\n",
    "\n",
    "df_summary_sorted['ec50_mol'] = df_summary_sorted['apparent_ec50_umol'] / 1000000\n",
    "df_summary_sorted['ec50_mol']=df_summary_sorted['ec50_mol'].replace(0, 1e-10)\n",
    "df_summary_sorted['ec50_molair'] = df_summary_sorted['ec50_mol']/ df_summary_sorted['MolWt']\n",
    "\n",
    "df_summary_sorted.to_csv(f\"{folder}v20.data.final_summary_{experiment_id}.txt\", sep='\\t', index=False)"
   ]
  },
  {
   "cell_type": "code",
   "execution_count": null,
   "metadata": {},
   "outputs": [],
   "source": [
    "# Making the scaffolds and forming scaffold based groups"
   ]
  },
  {
   "cell_type": "code",
   "execution_count": null,
   "metadata": {},
   "outputs": [],
   "source": [
    "df_complete = pd.read_csv(f\"{folder}v20.data.final_summary_{experiment_id}.txt\", sep='\\t')\n",
    "df_scaffold_split = df_complete[[ 'cpd_smiles','apparent_ec50_umol','MolWt','ec50_mol','ec50_molair']]\n",
    "\n",
    "smiles_list = df_scaffold_split['cpd_smiles']\n",
    "mols = [Chem.MolFromSmiles(smiles) for smiles in smiles_list]\n",
    "scaffolds = [MurckoScaffold.GetScaffoldForMol(mol) for mol in mols]\n",
    "scaffold_smiles = [Chem.MolToSmiles(scaffold) for scaffold in scaffolds]\n",
    "print(df_scaffold_split.head())\n",
    "\n",
    "scaffold_smiles = list(map(str, scaffold_smiles))\n",
    "\n",
    "# Fingerprint aanmaken\n",
    "molecule_scaffold = [Chem.MolFromSmiles(smile) for smile in scaffold_smiles]\n",
    "ecfp = [AllChem.GetMorganFingerprintAsBitVect(molecule, 2, nBits=1024) for molecule in molecule_scaffold]\n",
    "\n",
    "def get_unique_scaffolds(scaffold_smiles):\n",
    "    unique_scaffolds = []\n",
    "    for scaffold in scaffold_smiles:\n",
    "        if scaffold not in unique_scaffolds:\n",
    "            unique_scaffolds.append(scaffold)\n",
    "    return unique_scaffolds\n",
    "\n",
    "list_unique_scaffolds=get_unique_scaffolds(scaffold_smiles)\n",
    "\n",
    "location_scaffolds = defaultdict(list)\n",
    "for scaffold in scaffold_smiles:\n",
    "    location_scaffolds[scaffold].append(scaffold)\n",
    "print(\"similar grouped dictionary : \" + str(dict(location_scaffolds)))\n",
    "\n",
    "def location_similar_scaffolds(lijst):\n",
    "    locations = defaultdict(list)\n",
    "    for index, item in enumerate(lijst):\n",
    "        if lijst.count(item) > 1:\n",
    "            locations[item].append(index)\n",
    "    return dict(locations)\n",
    "\n",
    "locations_similar_scaffolds = location_similar_scaffolds(scaffold_smiles)\n",
    "print(locations_similar_scaffolds)\n",
    "\n",
    "df_scaffolds_grouped = pd.DataFrame(columns=['Compound', 'Scaffold', 'Recurring'])\n",
    "rows=[]\n",
    "symbol_mapping = {}  # Scaffold symbool dictionary\n",
    "symbol_counter = 0  # Aantal unieke scaffolds\n",
    "\n",
    "symbol_counter = 0\n",
    "symbol_mapping = {}\n",
    "rows = []\n",
    "\n",
    "for i, compound in enumerate(smiles_list):\n",
    "    scaffold = scaffold_smiles[i]\n",
    "\n",
    "    if scaffold in locations_similar_scaffolds:\n",
    "        if scaffold not in symbol_mapping:\n",
    "            symbol_counter += 1\n",
    "            symbol_mapping[scaffold] = symbol_counter\n",
    "\n",
    "        recurring_symbol = symbol_mapping[scaffold]\n",
    "        recurring = True\n",
    "    else:\n",
    "        recurring_symbol = 0\n",
    "        recurring = False\n",
    "    row = [compound, scaffold, recurring_symbol]\n",
    "    rows.append(row)\n",
    "\n",
    "df_scaffolds_grouped = pd.DataFrame(rows, columns=['cpd_smiles', 'spd_scaffold', 'recurring_scaffold'])\n",
    "\n",
    "#Toevoegen van extra data die nodig is voor de modellen\n",
    "df_scaffolds_grouped.insert(0,'ec50_molair',df_scaffold_split['ec50_molair'])\n",
    "df_scaffolds_grouped.insert(1,'MolWt',df_scaffold_split['MolWt'])\n",
    "\n",
    "df_scaffolds_grouped_sorted = df_scaffolds_grouped.sort_values('recurring_scaffold', ascending=False)\n",
    "\n",
    "df_scaffolds_grouped_sorted.to_csv(f\"{folder}scaffold_split_{experiment_id}.txt\", sep='\\t', index=False)"
   ]
  },
  {
   "cell_type": "code",
   "execution_count": null,
   "metadata": {},
   "outputs": [],
   "source": [
    "\n",
    "######## SCAFFOLD SPLIT SUPPORT VECTOR REGRESSION  ########\n"
   ]
  },
  {
   "cell_type": "code",
   "execution_count": null,
   "metadata": {},
   "outputs": [],
   "source": [
    "# Import data\n",
    "complete_df = pd.read_csv(f\"{folder}scaffold_split_{experiment_id}.txt\", sep=\"\\t\")"
   ]
  },
  {
   "cell_type": "code",
   "execution_count": null,
   "metadata": {},
   "outputs": [],
   "source": [
    "# Fingerprint aanmaken\n",
    "## Morgan Fingerprint ECFP\n",
    "molecules = [Chem.MolFromSmiles(smile) for smile in complete_df['cpd_smiles'].tolist()]\n",
    "ecfp = [AllChem.GetMorganFingerprintAsBitVect(molecule,2,nBits=1024) for molecule in molecules]\n",
    "complete_df['ecfp_bit_vectors'] = [[int(bit) for bit in keys.ToBitString()] for keys in ecfp]\n",
    "complete_df['ECFP'] = [''.join(str(value) for value in row) for row in complete_df['ecfp_bit_vectors']]"
   ]
  },
  {
   "cell_type": "code",
   "execution_count": null,
   "metadata": {},
   "outputs": [],
   "source": [
    "# Transformatie EC50 | Instellen van limiten\n",
    "complete_df['ec50_molair_transformed'] = -nm.log10(complete_df['ec50_molair'])\n",
    "condition = (complete_df['ec50_molair_transformed'] < 2 ) | (complete_df['ec50_molair_transformed'] > 8)\n",
    "complete_df=complete_df[~condition]"
   ]
  },
  {
   "cell_type": "code",
   "execution_count": null,
   "metadata": {},
   "outputs": [],
   "source": [
    "# Train- Test verhoudingen totale dataframe\n",
    "total_length_compounds = len(complete_df)\n",
    "size_train_set = total_length_compounds * 0.8 "
   ]
  },
  {
   "cell_type": "code",
   "execution_count": 20,
   "metadata": {},
   "outputs": [],
   "source": [
    "# Scaffold Split | Unieke scaffolds\n",
    "\n",
    "# Plaats Unieke Scaffolds in aparte dataframe\n",
    "df_unique_scaffolds = complete_df[complete_df['recurring_scaffold'] == 0]\n",
    "df_unique_scaffolds = df_unique_scaffolds[['recurring_scaffold', 'ecfp_bit_vectors', 'ec50_molair_transformed']]\n",
    "\n",
    "# Extraheer de X en Y value van de nieuwe DF \n",
    "x_unique = nm.array(df_unique_scaffolds['ecfp_bit_vectors'].tolist()) ## X is de te gebruike compound waarde  | Fingerprint ECFP\n",
    "y_unique = df_unique_scaffolds['ec50_molair_transformed'].values ## Y is de te voorspellen compound waarde | Ec50 Molair Logtransformed"
   ]
  },
  {
   "cell_type": "code",
   "execution_count": 21,
   "metadata": {},
   "outputs": [],
   "source": [
    "# Scaffold Split | Repeterende scaffolds\n",
    "\n",
    "# Plaats Repeterende Scaffolds in een aparte dataframe\n",
    "df_grouped_scaffolds = complete_df[complete_df['recurring_scaffold'] > 0]\n",
    "df_grouped_scaffolds = df_grouped_scaffolds[['ecfp_bit_vectors', 'ec50_molair_transformed', 'recurring_scaffold']]\n",
    "\n",
    "# Extraheer de X, Y en Z value van de nieuwe DF \n",
    "x_grouped = nm.array(df_grouped_scaffolds['ecfp_bit_vectors'].tolist()) ## X is de te gebruike compound waarde  | Fingerprint ECFP\n",
    "y_grouped = df_grouped_scaffolds['ec50_molair_transformed'].values ## Y is de te voorspellen compound waarde | Ec50 Molair Logtransformed\n",
    "z_grouped = df_grouped_scaffolds['recurring_scaffold'].values.tolist() ## Z is de indicator voor overeenkomstige scaffold groepen | Elke scaffoldgroup "
   ]
  },
  {
   "cell_type": "code",
   "execution_count": 22,
   "metadata": {},
   "outputs": [],
   "source": [
    "# Scaffold Split | Train- Test verhoudingen repeterende scaffolds dataframe\n",
    "\n",
    "size_train_set_grouped_scaffolds = len(z_grouped) * 0.8\n",
    "size_train_set_grouped_scaffolds = int(size_train_set_grouped_scaffolds)"
   ]
  },
  {
   "cell_type": "code",
   "execution_count": 23,
   "metadata": {},
   "outputs": [
    {
     "name": "stdout",
     "output_type": "stream",
     "text": [
      "The length of the x_train list with grouped scaffolds is 36\n",
      "The length of the x_test list with grouped scaffolds is 9\n",
      "\n",
      "First five values of y_train with grouped scaffolds:\n",
      " [6.1774679191431465, 5.177786810229626, 3.0629221654617953, 4.149560588087754, 5.585250661642195]\n",
      "\n",
      "First five values of y_test with grouped scaffolds:\n",
      " [5.546437565477974, 3.5424595779948844, 3.8039684526980735, 7.002867750366318, 7.140120040530652]\n"
     ]
    }
   ],
   "source": [
    "# Scaffold Split | Train- Test repeterende scaffolds\n",
    "\n",
    "# Lijsten voor repeterende scaffold verdeling\n",
    "x_train_grouped = []\n",
    "y_train_grouped = []\n",
    "x_test_grouped = []\n",
    "y_test_grouped = []\n",
    "\n",
    "# Verdeling moleculen op basis van scaffold groepen\n",
    "for x in range(len(z_grouped)):\n",
    "    if x < size_train_set_grouped_scaffolds:\n",
    "        x_train_grouped.append(x_grouped[x])\n",
    "        y_train_grouped.append(y_grouped[x])\n",
    "    elif z_grouped[x] == z_grouped[x-1]:\n",
    "        x_train_grouped.append(x_grouped[x])\n",
    "        y_train_grouped.append(y_grouped[x])\n",
    "    else: \n",
    "        remaining = len(z_grouped)-x\n",
    "        break\n",
    "        \n",
    "for x in range(remaining):\n",
    "    x_test_grouped.append(x_grouped[x+remaining])\n",
    "    y_test_grouped.append(y_grouped[x+remaining])\n",
    "\n",
    "# X values omzetten in juiste vorm\n",
    "x_train_grouped = [list(arr) for arr in x_train_grouped]\n",
    "x_test_grouped = [list(arr) for arr in x_test_grouped]\n",
    "\n",
    "# Indicatie resulterende lijsten\n",
    "print('The length of the x_train list with grouped scaffolds is', len(x_train_grouped))\n",
    "print('The length of the x_test list with grouped scaffolds is', len(x_test_grouped))\n",
    "print('\\nFirst five values of y_train with grouped scaffolds:\\n', y_train_grouped[0:5])\n",
    "print('\\nFirst five values of y_test with grouped scaffolds:\\n',y_test_grouped[0:5])"
   ]
  },
  {
   "cell_type": "code",
   "execution_count": 24,
   "metadata": {},
   "outputs": [],
   "source": [
    "# Scaffold Split | Train- Test unieke scaffolds\n",
    "\n",
    "# Random verdeling van unieke scaffolds\n",
    "from sklearn.model_selection import train_test_split\n",
    "x_train_unique,x_test_unique,y_train_unique,y_test_unique=train_test_split(x_unique,y_unique,test_size=0.2, random_state=42)\n",
    "\n",
    "# X values omzetten in juiste vorm\n",
    "x_train_unique = [list(arr) for arr in x_train_unique]\n",
    "x_test_unique = [list(arr) for arr in x_test_unique]"
   ]
  },
  {
   "cell_type": "code",
   "execution_count": 25,
   "metadata": {},
   "outputs": [],
   "source": [
    "# Scaffold Split | Uiteindelijke Train- Tests vormen\n",
    "\n",
    "# Samenvoegen van verdelingen unieke scaffolds en repeterende scaffolds\n",
    "x_train_scaffolds = nm.concatenate((x_train_grouped, x_train_unique))\n",
    "x_test_scaffolds = nm.concatenate((x_test_grouped, x_test_unique))\n",
    "\n",
    "y_train_scaffolds = nm.concatenate((y_train_grouped, y_train_unique))\n",
    "y_test_scaffolds = nm.concatenate((y_test_grouped, y_test_unique))"
   ]
  },
  {
   "cell_type": "code",
   "execution_count": 31,
   "metadata": {},
   "outputs": [],
   "source": [
    "# Fit Regressor\n",
    "model = SVR(C=1, epsilon=0.1, kernel='rbf')\n",
    "model.fit(x_train_scaffolds,y_train_scaffolds)\n",
    "\n",
    "# Predict Test result\n",
    "y_pred_scaffolds  = model.predict(x_test_scaffolds)"
   ]
  },
  {
   "cell_type": "code",
   "execution_count": 32,
   "metadata": {},
   "outputs": [
    {
     "name": "stdout",
     "output_type": "stream",
     "text": [
      "mean absolute error is  0.7924965475030339\n",
      "mean squared error is  1.0953891683475026\n",
      "root mean squared error is  1.0466084121329728\n",
      "r2 is 0.24254665320114444\n"
     ]
    }
   ],
   "source": [
    "# Errors berekenen\n",
    "from sklearn.metrics import mean_absolute_error, mean_squared_error, r2_score\n",
    "\n",
    "# Mean Absolute Error\n",
    "mae=mean_absolute_error(y_test_scaffolds, y_pred_scaffolds)\n",
    "print('mean absolute error is ', mae)\n",
    "\n",
    "# Mean Squared Error\n",
    "mse = mean_squared_error(y_test_scaffolds, y_pred_scaffolds)\n",
    "print('mean squared error is ', mse)\n",
    "\n",
    "# Root Mean Squared Error\n",
    "rmse = math.sqrt(mse)\n",
    "print('root mean squared error is ', rmse)\n",
    "\n",
    "# R2 berekenen\n",
    "slope, intercept = nm.polyfit(y_test_scaffolds,y_pred_scaffolds,1)\n",
    "line = slope * nm.array(y_test_scaffolds)+ intercept\n",
    "r2 = r2_score(y_test_scaffolds, y_pred_scaffolds)\n",
    "print('r2 is', r2)\n",
    "\n",
    "residuen_scaffold  = y_test_scaffolds - y_pred_scaffolds"
   ]
  },
  {
   "cell_type": "code",
   "execution_count": 33,
   "metadata": {},
   "outputs": [
    {
     "data": {
      "image/png": "[encoded data removed]",
      "text/plain": [
       "<Figure size 640x480 with 1 Axes>"
      ]
     },
     "metadata": {},
     "output_type": "display_data"
    }
   ],
   "source": [
    "# R2 Visualisatie\n",
    "plt.scatter(y_test_scaffolds,y_pred_scaffolds)\n",
    "plt.plot(y_test_scaffolds, line, color='red', label='line of current best fit')\n",
    "plt.xlabel('y_test Scaffold Split')\n",
    "plt.ylabel('y_pred Scaffold Split')\n",
    "plt.xlim(2,8)\n",
    "plt.ylim(2,8)\n",
    "plt.title('Scatterplot with Line of Best Fit (R2 = {:.2f})'.format(r2))\n",
    "plt.show()"
   ]
  },
  {
   "cell_type": "code",
   "execution_count": 38,
   "metadata": {},
   "outputs": [
    {
     "ename": "KeyError",
     "evalue": "'ecfp_bit_vectors'",
     "output_type": "error",
     "traceback": [
      "\u001b[1;31m---------------------------------------------------------------------------\u001b[0m",
      "\u001b[1;31mKeyError\u001b[0m                                  Traceback (most recent call last)",
      "File \u001b[1;32m~\\AppData\\Roaming\\anaconda3\\lib\\site-packages\\pandas\\core\\indexes\\base.py:3802\u001b[0m, in \u001b[0;36mIndex.get_loc\u001b[1;34m(self, key, method, tolerance)\u001b[0m\n\u001b[0;32m   3801\u001b[0m \u001b[38;5;28;01mtry\u001b[39;00m:\n\u001b[1;32m-> 3802\u001b[0m     \u001b[38;5;28;01mreturn\u001b[39;00m \u001b[38;5;28;43mself\u001b[39;49m\u001b[38;5;241;43m.\u001b[39;49m\u001b[43m_engine\u001b[49m\u001b[38;5;241;43m.\u001b[39;49m\u001b[43mget_loc\u001b[49m\u001b[43m(\u001b[49m\u001b[43mcasted_key\u001b[49m\u001b[43m)\u001b[49m\n\u001b[0;32m   3803\u001b[0m \u001b[38;5;28;01mexcept\u001b[39;00m \u001b[38;5;167;01mKeyError\u001b[39;00m \u001b[38;5;28;01mas\u001b[39;00m err:\n",
      "File \u001b[1;32m~\\AppData\\Roaming\\anaconda3\\lib\\site-packages\\pandas\\_libs\\index.pyx:138\u001b[0m, in \u001b[0;36mpandas._libs.index.IndexEngine.get_loc\u001b[1;34m()\u001b[0m\n",
      "File \u001b[1;32m~\\AppData\\Roaming\\anaconda3\\lib\\site-packages\\pandas\\_libs\\index.pyx:165\u001b[0m, in \u001b[0;36mpandas._libs.index.IndexEngine.get_loc\u001b[1;34m()\u001b[0m\n",
      "File \u001b[1;32mpandas\\_libs\\hashtable_class_helper.pxi:5745\u001b[0m, in \u001b[0;36mpandas._libs.hashtable.PyObjectHashTable.get_item\u001b[1;34m()\u001b[0m\n",
      "File \u001b[1;32mpandas\\_libs\\hashtable_class_helper.pxi:5753\u001b[0m, in \u001b[0;36mpandas._libs.hashtable.PyObjectHashTable.get_item\u001b[1;34m()\u001b[0m\n",
      "\u001b[1;31mKeyError\u001b[0m: 'ecfp_bit_vectors'",
      "\nThe above exception was the direct cause of the following exception:\n",
      "\u001b[1;31mKeyError\u001b[0m                                  Traceback (most recent call last)",
      "Cell \u001b[1;32mIn[38], line 3\u001b[0m\n\u001b[0;32m      1\u001b[0m \u001b[38;5;66;03m# Dependent & Independent variable\u001b[39;00m\n\u001b[0;32m      2\u001b[0m df_complete \u001b[38;5;241m=\u001b[39m pd\u001b[38;5;241m.\u001b[39mread_csv(\u001b[38;5;124mf\u001b[39m\u001b[38;5;124m\"\u001b[39m\u001b[38;5;132;01m{\u001b[39;00mfolder\u001b[38;5;132;01m}\u001b[39;00m\u001b[38;5;124mv20.data.final_summary_\u001b[39m\u001b[38;5;132;01m{\u001b[39;00mexperiment_id\u001b[38;5;132;01m}\u001b[39;00m\u001b[38;5;124m.txt\u001b[39m\u001b[38;5;124m\"\u001b[39m, sep\u001b[38;5;241m=\u001b[39m\u001b[38;5;124m\"\u001b[39m\u001b[38;5;130;01m\\t\u001b[39;00m\u001b[38;5;124m\"\u001b[39m)\n\u001b[1;32m----> 3\u001b[0m x \u001b[38;5;241m=\u001b[39m nm\u001b[38;5;241m.\u001b[39marray(\u001b[43mdf_complete\u001b[49m\u001b[43m[\u001b[49m\u001b[38;5;124;43m'\u001b[39;49m\u001b[38;5;124;43mecfp_bit_vectors\u001b[39;49m\u001b[38;5;124;43m'\u001b[39;49m\u001b[43m]\u001b[49m\u001b[38;5;241m.\u001b[39mtolist())\n\u001b[0;32m      4\u001b[0m y \u001b[38;5;241m=\u001b[39m df_complete[\u001b[38;5;124m'\u001b[39m\u001b[38;5;124mec50_molair_transformed\u001b[39m\u001b[38;5;124m'\u001b[39m]\u001b[38;5;241m.\u001b[39mvalues\n\u001b[0;32m      6\u001b[0m \u001b[38;5;66;03m# Split Test & Train\u001b[39;00m\n",
      "File \u001b[1;32m~\\AppData\\Roaming\\anaconda3\\lib\\site-packages\\pandas\\core\\frame.py:3807\u001b[0m, in \u001b[0;36mDataFrame.__getitem__\u001b[1;34m(self, key)\u001b[0m\n\u001b[0;32m   3805\u001b[0m \u001b[38;5;28;01mif\u001b[39;00m \u001b[38;5;28mself\u001b[39m\u001b[38;5;241m.\u001b[39mcolumns\u001b[38;5;241m.\u001b[39mnlevels \u001b[38;5;241m>\u001b[39m \u001b[38;5;241m1\u001b[39m:\n\u001b[0;32m   3806\u001b[0m     \u001b[38;5;28;01mreturn\u001b[39;00m \u001b[38;5;28mself\u001b[39m\u001b[38;5;241m.\u001b[39m_getitem_multilevel(key)\n\u001b[1;32m-> 3807\u001b[0m indexer \u001b[38;5;241m=\u001b[39m \u001b[38;5;28;43mself\u001b[39;49m\u001b[38;5;241;43m.\u001b[39;49m\u001b[43mcolumns\u001b[49m\u001b[38;5;241;43m.\u001b[39;49m\u001b[43mget_loc\u001b[49m\u001b[43m(\u001b[49m\u001b[43mkey\u001b[49m\u001b[43m)\u001b[49m\n\u001b[0;32m   3808\u001b[0m \u001b[38;5;28;01mif\u001b[39;00m is_integer(indexer):\n\u001b[0;32m   3809\u001b[0m     indexer \u001b[38;5;241m=\u001b[39m [indexer]\n",
      "File \u001b[1;32m~\\AppData\\Roaming\\anaconda3\\lib\\site-packages\\pandas\\core\\indexes\\base.py:3804\u001b[0m, in \u001b[0;36mIndex.get_loc\u001b[1;34m(self, key, method, tolerance)\u001b[0m\n\u001b[0;32m   3802\u001b[0m     \u001b[38;5;28;01mreturn\u001b[39;00m \u001b[38;5;28mself\u001b[39m\u001b[38;5;241m.\u001b[39m_engine\u001b[38;5;241m.\u001b[39mget_loc(casted_key)\n\u001b[0;32m   3803\u001b[0m \u001b[38;5;28;01mexcept\u001b[39;00m \u001b[38;5;167;01mKeyError\u001b[39;00m \u001b[38;5;28;01mas\u001b[39;00m err:\n\u001b[1;32m-> 3804\u001b[0m     \u001b[38;5;28;01mraise\u001b[39;00m \u001b[38;5;167;01mKeyError\u001b[39;00m(key) \u001b[38;5;28;01mfrom\u001b[39;00m \u001b[38;5;21;01merr\u001b[39;00m\n\u001b[0;32m   3805\u001b[0m \u001b[38;5;28;01mexcept\u001b[39;00m \u001b[38;5;167;01mTypeError\u001b[39;00m:\n\u001b[0;32m   3806\u001b[0m     \u001b[38;5;66;03m# If we have a listlike key, _check_indexing_error will raise\u001b[39;00m\n\u001b[0;32m   3807\u001b[0m     \u001b[38;5;66;03m#  InvalidIndexError. Otherwise we fall through and re-raise\u001b[39;00m\n\u001b[0;32m   3808\u001b[0m     \u001b[38;5;66;03m#  the TypeError.\u001b[39;00m\n\u001b[0;32m   3809\u001b[0m     \u001b[38;5;28mself\u001b[39m\u001b[38;5;241m.\u001b[39m_check_indexing_error(key)\n",
      "\u001b[1;31mKeyError\u001b[0m: 'ecfp_bit_vectors'"
     ]
    }
   ],
   "source": [
    "# Dependent & Independent variable\n",
    "df_complete = pd.read_csv(f\"{folder}v20.data.final_summary_{experiment_id}.txt\", sep=\"\\t\")\n",
    "x = nm.array(df_complete['ecfp_bit_vectors'].tolist())\n",
    "y = df_complete['ec50_molair_transformed'].values\n",
    "\n",
    "# Split Test & Train\n",
    "from sklearn.model_selection import train_test_split\n",
    "x_train,x_test,y_train,y_test=train_test_split(x,y,test_size=0.2, random_state=42)\n",
    "\n",
    "from sklearn.ensemble import RandomForestRegressor\n",
    "regressor = RandomForestRegressor(n_estimators=200, min_samples_split=5,min_samples_leaf=4,max_depth=10,bootstrap=True)\n",
    "regressor.fit(x_train,y_train)\n",
    "\n",
    "# Predict Test result\n",
    "y_pred = regressor.predict(x_test)\n",
    "\n",
    "# Errors berekenen\n",
    "from sklearn.metrics import r2_score\n",
    "\n",
    "# R2 berekenen\n",
    "slope, intercept = nm.polyfit(y_test,y_pred,1)\n",
    "line = slope * nm.array(y_test)+ intercept\n",
    "r2 = r2_score(y_test, y_pred)\n",
    "print('r2 is', r2)\n",
    "\n",
    "residuen_random  = y_test - y_pred\n",
    "\n",
    "fig, ax = plt.subplots()\n",
    "\n",
    "# Plot de violinplots voor beide modellen\n",
    "parts_random = ax.violinplot(residuen_random, showmeans=False, showmedians=True, showextrema=True, positions=[0])\n",
    "parts_scaffold = ax.violinplot(residuen_scaffold, showmeans=False, showmedians=True, showextrema=True, positions=[1])\n",
    "\n",
    "# Aanpassen van de kleuren van de indicatoren\n",
    "for pc in parts_random['bodies']:\n",
    "    pc.set_facecolor('lightblue')\n",
    "    pc.set_alpha(0.7)\n",
    "\n",
    "for pc in parts_scaffold['bodies']:\n",
    "    pc.set_facecolor('orange')\n",
    "    pc.set_alpha(0.7)\n",
    "\n",
    "# Opmaak van de plot\n",
    "ax.set_xlabel('MM1.S Cell line')\n",
    "ax.set_ylabel('Residue values')\n",
    "ax.set_title('Effects of Splitting Method | Support Vector Regression')\n",
    "ax.set_xticks([0, 1])\n",
    "ax.set_xticklabels(['Random splitting', 'Scaffold splitting'])\n",
    "\n",
    "\n",
    "# Legenda tonen\n",
    "ax.legend()\n",
    "\n",
    "# Toon de plot\n",
    "plt.show()"
   ]
  },
  {
   "cell_type": "code",
   "execution_count": null,
   "metadata": {},
   "outputs": [],
   "source": []
  }
 ],
 "metadata": {
  "kernelspec": {
   "display_name": "Python 3 (ipykernel)",
   "language": "python",
   "name": "python3"
  },
  "language_info": {
   "codemirror_mode": {
    "name": "ipython",
    "version": 3
   },
   "file_extension": ".py",
   "mimetype": "text/x-python",
   "name": "python",
   "nbconvert_exporter": "python",
   "pygments_lexer": "ipython3",
   "version": "3.10.9"
  }
 },
 "nbformat": 4,
 "nbformat_minor": 1
}
