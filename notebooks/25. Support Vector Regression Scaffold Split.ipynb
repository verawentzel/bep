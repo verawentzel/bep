{
 "cells": [
  {
   "cell_type": "code",
   "execution_count": 533,
   "metadata": {
    "ExecuteTime": {
     "end_time": "2023-06-21T16:03:25.662166700Z",
     "start_time": "2023-06-21T16:03:25.584059100Z"
    }
   },
   "outputs": [],
   "source": [
    "import matplotlib.pyplot as plt\n",
    "import numpy as nm\n",
    "from rdkit import Chem\n",
    "from rdkit.Chem import AllChem\n",
    "import pandas as pd\n",
    "import math\n",
    "from sklearn.svm import SVR\n",
    "from sklearn.model_selection import GridSearchCV, train_test_split"
   ]
  },
  {
   "cell_type": "code",
   "execution_count": 534,
   "metadata": {
    "ExecuteTime": {
     "end_time": "2023-06-21T16:03:25.677788600Z",
     "start_time": "2023-06-21T16:03:25.599680800Z"
    }
   },
   "outputs": [],
   "source": [
    "folder = 'C:\\\\Users\\\\vswen\\\\Documents\\\\1. Biomedische Technologie\\\\BMT JAAR 5\\\\Kwart 4\\\\4. Data\\\\CTRPv2.0_2015_ctd2_ExpandedDataset\\\\'\n",
    "\n",
    "# Import data\n",
    "complete_df = pd.read_csv(f\"{folder}scaffold_split_419.txt\", sep=\"\\t\")\n",
    "# complete_df.fillna(complete_df.mean(), inplace=True)"
   ]
  },
  {
   "cell_type": "code",
   "execution_count": 535,
   "metadata": {
    "ExecuteTime": {
     "end_time": "2023-06-21T16:03:26.216201200Z",
     "start_time": "2023-06-21T16:03:25.615302100Z"
    }
   },
   "outputs": [],
   "source": [
    "# Fingerprint aanmaken\n",
    "molecules = [Chem.MolFromSmiles(smile) for smile in complete_df['cpd_smiles'].tolist()]\n",
    "ecfp = [AllChem.GetMorganFingerprintAsBitVect(molecule,2,nBits=1024) for molecule in molecules]\n",
    "complete_df['ecfp_bit_vectors'] = [[int(bit) for bit in keys.ToBitString()] for keys in ecfp]\n",
    "complete_df['ECFP'] = [''.join(str(value) for value in row) for row in complete_df['ecfp_bit_vectors']]\n"
   ]
  },
  {
   "cell_type": "code",
   "execution_count": 536,
   "metadata": {
    "ExecuteTime": {
     "end_time": "2023-06-21T16:03:26.247461500Z",
     "start_time": "2023-06-21T16:03:26.216201200Z"
    }
   },
   "outputs": [],
   "source": [
    "# Doelvariabele transformeren & limieten stellen dataframe\n",
    "complete_df['ec50_mol'] = complete_df['apparent_ec50_umol'] / 1000000\n",
    "complete_df['ec50_mol']=complete_df['ec50_mol'].replace(0, 1e-10)\n",
    "complete_df['ec50_molair'] = complete_df['ec50_mol']/ complete_df['MolWt']\n",
    "complete_df['ec50_molair_transformed'] = -nm.log10(complete_df['ec50_molair'])\n",
    "condition = (complete_df['ec50_molair_transformed'] < 2) | (complete_df['ec50_molair_transformed'] > 8)\n",
    "complete_df=complete_df[~condition]"
   ]
  },
  {
   "cell_type": "code",
   "execution_count": 537,
   "metadata": {
    "ExecuteTime": {
     "end_time": "2023-06-21T16:03:26.263038700Z",
     "start_time": "2023-06-21T16:03:26.247461500Z"
    }
   },
   "outputs": [],
   "source": [
    "total_length_compounds = len(complete_df)\n",
    "size_train_set = total_length_compounds * 0.8 # Uitgaande van idealiter een 0.8:0.2 verhouding tussen train en test"
   ]
  },
  {
   "cell_type": "code",
   "execution_count": 538,
   "metadata": {
    "ExecuteTime": {
     "end_time": "2023-06-21T16:03:26.309927600Z",
     "start_time": "2023-06-21T16:03:26.263038700Z"
    }
   },
   "outputs": [],
   "source": [
    "# Creeer een DF voor alle scaffolds die uniek zijn\n",
    "df_unique_scaffolds = complete_df[complete_df['recurring_scaffold'] == 0]\n",
    "df_unique_scaffolds = df_unique_scaffolds[['recurring_scaffold', 'ecfp_bit_vectors', 'ec50_molair_transformed']]\n",
    "\n",
    "# Extraheer de X en Y value van de nieuwe DF \n",
    "## X is de te gebruike compound waarde  | Fingerprint ECFP\n",
    "## Y is de te voorspellen compound waarde | Ec50 Molair Logtransformed\n",
    "x_unique = nm.array(df_unique_scaffolds['ecfp_bit_vectors'].tolist())\n",
    "y_unique = df_unique_scaffolds['ec50_molair_transformed'].values"
   ]
  },
  {
   "cell_type": "code",
   "execution_count": 539,
   "metadata": {
    "ExecuteTime": {
     "end_time": "2023-06-21T16:03:26.325525500Z",
     "start_time": "2023-06-21T16:03:26.325525500Z"
    }
   },
   "outputs": [
    {
     "name": "stdout",
     "output_type": "stream",
     "text": [
      "[23, 22, 22, 21, 21, 20, 19, 19, 18, 18, 17, 17, 16, 16, 15, 15, 14, 13, 12, 11, 10, 10, 9, 9, 9, 9, 8, 8, 8, 8, 7, 7, 5, 5, 4, 4, 3, 2, 2, 2, 2, 2, 2, 1, 1]\n"
     ]
    }
   ],
   "source": [
    "# Creeer een DF voor alle scaffolds die meermaals voorkomen\n",
    "df_grouped_scaffolds = complete_df[complete_df['recurring_scaffold'] > 0]\n",
    "df_grouped_scaffolds = df_grouped_scaffolds[['ecfp_bit_vectors', 'ec50_molair_transformed', 'recurring_scaffold']]\n",
    "\n",
    "# Extraheer de X, Y en Z value van de nieuwe DF\n",
    "## X is de te gebruike compound waarde  | Fingerprint ECFP\n",
    "## Y is de te voorspellen compound waarde | Ec50 Molair Logtransformed\n",
    "## Z is de indicator voor overeenkomstige scaffold groepen | Elke scaffoldgroup een eigen numerieke waarde\n",
    "x_grouped = nm.array(df_grouped_scaffolds['ecfp_bit_vectors'].tolist())\n",
    "y_grouped = df_grouped_scaffolds['ec50_molair_transformed'].values\n",
    "z_grouped = df_grouped_scaffolds['recurring_scaffold'].values.tolist()\n",
    "print(z_grouped)\n",
    "\n",
    "#df_grouped_scaffolds_indexes = df_grouped_scaffolds.groupby('recurring_scaffold')"
   ]
  },
  {
   "cell_type": "code",
   "execution_count": 540,
   "metadata": {
    "ExecuteTime": {
     "end_time": "2023-06-21T16:03:26.403669100Z",
     "start_time": "2023-06-21T16:03:26.341151700Z"
    }
   },
   "outputs": [
    {
     "name": "stdout",
     "output_type": "stream",
     "text": [
      "36\n"
     ]
    }
   ],
   "source": [
    "size_train_set_grouped_scaffolds = len(z_grouped) * 0.8\n",
    "size_train_set_grouped_scaffolds = int(size_train_set_grouped_scaffolds)\n",
    "print(size_train_set_grouped_scaffolds)"
   ]
  },
  {
   "cell_type": "code",
   "execution_count": 541,
   "metadata": {
    "ExecuteTime": {
     "end_time": "2023-06-21T16:03:26.403669100Z",
     "start_time": "2023-06-21T16:03:26.372390300Z"
    }
   },
   "outputs": [],
   "source": [
    "# Creeeren van lege lijsten voor de Grouped Scaffolds\n",
    "x_train_grouped = []\n",
    "y_train_grouped = []\n",
    "x_test_grouped = []\n",
    "y_test_grouped = []"
   ]
  },
  {
   "cell_type": "code",
   "execution_count": 542,
   "metadata": {
    "ExecuteTime": {
     "end_time": "2023-06-21T16:03:26.403669100Z",
     "start_time": "2023-06-21T16:03:26.403669100Z"
    }
   },
   "outputs": [],
   "source": [
    "for x in range(len(z_grouped)):\n",
    "    if x < size_train_set_grouped_scaffolds:\n",
    "        x_train_grouped.append(x_grouped[x])\n",
    "        y_train_grouped.append(y_grouped[x])\n",
    "    elif z_grouped[x] == z_grouped[x-1]:\n",
    "        x_train_grouped.append(x_grouped[x])\n",
    "        y_train_grouped.append(y_grouped[x])\n",
    "    else: \n",
    "        remaining = len(z_grouped)-x\n",
    "        break\n",
    "        \n",
    "for x in range(remaining):\n",
    "    x_test_grouped.append(x_grouped[x+remaining])\n",
    "    y_test_grouped.append(y_grouped[x+remaining])"
   ]
  },
  {
   "cell_type": "code",
   "execution_count": 543,
   "metadata": {
    "ExecuteTime": {
     "end_time": "2023-06-21T16:03:26.419251500Z",
     "start_time": "2023-06-21T16:03:26.403669100Z"
    }
   },
   "outputs": [
    {
     "name": "stdout",
     "output_type": "stream",
     "text": [
      "36\n",
      "9\n",
      "[6.177467919143146, 5.177786810229625, 3.06292216546177, 4.149560588087753, 5.585250661642195]\n",
      "[5.546437565477974, 3.5424595779947636, 3.8039684526979833, 7.002867750366318, 7.140120040530652]\n"
     ]
    }
   ],
   "source": [
    "print(len(x_train_grouped))\n",
    "print(len(x_test_grouped))\n",
    "print(y_train_grouped[0:5])\n",
    "print(y_test_grouped[0:5])"
   ]
  },
  {
   "cell_type": "code",
   "execution_count": 544,
   "metadata": {
    "ExecuteTime": {
     "end_time": "2023-06-21T16:03:26.466147900Z",
     "start_time": "2023-06-21T16:03:26.419251500Z"
    }
   },
   "outputs": [],
   "source": [
    "x_train_grouped = [list(arr) for arr in x_train_grouped]\n",
    "x_test_grouped = [list(arr) for arr in x_test_grouped]"
   ]
  },
  {
   "cell_type": "code",
   "execution_count": 545,
   "metadata": {
    "ExecuteTime": {
     "end_time": "2023-06-21T16:03:26.466147900Z",
     "start_time": "2023-06-21T16:03:26.434923900Z"
    }
   },
   "outputs": [],
   "source": [
    "from sklearn.model_selection import train_test_split\n",
    "x_train_unique,x_test_unique,y_train_unique,y_test_unique=train_test_split(x_unique,y_unique,test_size=0.2, random_state=42)"
   ]
  },
  {
   "cell_type": "code",
   "execution_count": 546,
   "metadata": {
    "ExecuteTime": {
     "end_time": "2023-06-21T16:03:26.466147900Z",
     "start_time": "2023-06-21T16:03:26.450495200Z"
    }
   },
   "outputs": [
    {
     "data": {
      "text/plain": "4.254100482278787"
     },
     "execution_count": 546,
     "metadata": {},
     "output_type": "execute_result"
    }
   ],
   "source": [
    "y_train_grouped[0]\n",
    "y_train_unique[0]"
   ]
  },
  {
   "cell_type": "code",
   "execution_count": 547,
   "metadata": {
    "ExecuteTime": {
     "end_time": "2023-06-21T16:03:26.481740600Z",
     "start_time": "2023-06-21T16:03:26.466147900Z"
    }
   },
   "outputs": [],
   "source": [
    "x_train = nm.concatenate((x_train_grouped, x_train_unique))\n",
    "x_test = nm.concatenate((x_test_grouped, x_test_unique))\n",
    "\n",
    "y_train = nm.concatenate((y_train_grouped, y_train_unique))\n",
    "y_test = nm.concatenate((y_test_grouped, y_test_unique))"
   ]
  },
  {
   "cell_type": "code",
   "execution_count": 548,
   "metadata": {
    "ExecuteTime": {
     "end_time": "2023-06-21T16:03:26.528612500Z",
     "start_time": "2023-06-21T16:03:26.481740600Z"
    }
   },
   "outputs": [
    {
     "name": "stdout",
     "output_type": "stream",
     "text": [
      "TRAIN DATA\n",
      "y_train 303 [6.17746792 5.17778681 3.06292217 4.14956059 5.58525066 2.50198468\n",
      " 3.91956742 3.34657922 5.11197086 5.54643757 3.54245958 3.80396845\n",
      " 7.00286775 7.14012004 4.79911746 7.97837982 5.92818719 4.88020939\n",
      " 7.8379193  3.66170099 3.5604241  4.32983641 4.92716807 3.85277385\n",
      " 5.85993903 4.47004173 3.26310969 4.48432501 4.05652758 4.75146563\n",
      " 2.7613362  3.31549143 5.15262715 3.24403851 3.89107571 3.57066811\n",
      " 4.25410048 3.64261256 3.49718226 4.00074561 3.22791598 6.81107136\n",
      " 4.21821933 4.05913733 2.81014598 6.8726443  4.32680446 5.2293863\n",
      " 4.7613378  5.19543885 5.40036102 3.12536341 6.57711339 4.59987641\n",
      " 4.7769818  5.10886048 4.66224467 6.30261421 4.4148026  5.80930103\n",
      " 3.97391901 5.8441365  5.36540427 4.23054297 4.25197765 4.31004416\n",
      " 3.45807149 5.18799242 4.78139535 6.16761988 4.24802382 5.33616141\n",
      " 4.06240482 4.49466625 5.47972253 3.77599875 3.91586322 4.0715542\n",
      " 4.96976131 3.12522901 4.24233207 5.03976491 5.5420909  4.3457996\n",
      " 6.16404616 5.35917126 3.76314556 7.86115472 3.45970677 4.72638476\n",
      " 3.79084203 4.68108689 5.71056475 4.37673153 4.26947641 4.52891262\n",
      " 6.22758859 4.6257659  3.38595029 4.65229718 5.04567537 4.55845424\n",
      " 3.99791081 4.83329128 6.09904609 3.39353677 5.35690728 5.42453977\n",
      " 4.68442527 3.06325595 6.82001238 5.97726562 3.20580081 5.60363621\n",
      " 3.91143679 4.81460118 6.49916268 5.41898561 5.92664443 6.13666682\n",
      " 3.98187279 4.60095312 4.67804582 5.1720819  4.32554184 5.65632768\n",
      " 5.16893878 7.02485145 5.06056648 5.22881956 4.25992836 5.28067871\n",
      " 5.94717067 4.37495857 3.81419519 4.4812512  4.6562939  4.56526407\n",
      " 5.32273896 4.60491143 5.91407537 3.88478058 6.45297299 5.43086399\n",
      " 7.474078   2.2728287  5.93480469 6.70201513 3.26856596 4.05244969\n",
      " 4.72820508 4.73958533 3.84217479 3.69878587 4.74152432 4.40773539\n",
      " 3.89159052 6.25316344 5.65859702 3.06292054 4.07713798 4.39389361\n",
      " 6.06617708 3.92138618 6.99487117 6.19343921 4.71477993 2.9113977\n",
      " 4.37127489 3.50118206 3.48058615 3.96097688 5.35900493 3.43035084\n",
      " 4.98277273 3.40673837 4.00913979 3.33756429 7.39410587 4.74768794\n",
      " 3.43876727 4.23666647 3.71979206 5.57552988 5.42804928 5.71087027\n",
      " 2.73648996 4.534093   6.55478262 3.28515583 5.43370526 4.37302502\n",
      " 2.66062897 4.81981554 2.93745085 5.52229246 4.23069654 4.68482026\n",
      " 4.16947966 5.71387782 4.42575102 5.17286494 5.97710758 3.51093144\n",
      " 5.58757763 5.39679985 4.6486898  7.32257936 3.06648765 5.08738897\n",
      " 6.49235756 3.78597168 3.95795452 7.20416425 3.31579975 7.23431301\n",
      " 4.70428807 2.38585597 6.57655043 3.82601435 3.53296531 5.42722457\n",
      " 5.30867003 3.79381127 4.3728913  7.52963757 3.7719123  7.35864876\n",
      " 5.44485162 6.35001835 3.25135881 4.85986823 4.16757162 6.29818686\n",
      " 3.96526187 4.05249691 4.65607854 7.14399673 4.24382097 3.97215459\n",
      " 3.53192849 4.62948858 4.32828661 5.986187   2.96560305 5.17396212\n",
      " 5.46295848 2.38729325 3.90738631 6.43209888 3.54459386 3.00092533\n",
      " 4.00651986 4.75761979 3.91213083 2.93720447 3.30705989 3.78482224\n",
      " 4.16941713 4.75141336 3.37031462 3.07665899 5.43374656 4.52464663\n",
      " 4.5964414  3.08168363 4.84889619 4.73166661 4.09690961 3.13343813\n",
      " 5.02197313 3.44072287 5.03256683 6.46322491 5.69925556 4.15149814\n",
      " 3.20842996 5.27485569 3.33480268 4.75016375 3.77431435 4.15454591\n",
      " 3.56283476 3.08972882 6.6667219  6.53503479 6.10140591 3.2906463\n",
      " 3.38998186 5.85122554 4.31767906 6.41198592 4.85015008 6.71969129\n",
      " 7.11952094 6.15520554 3.33161233 2.30035178 5.71358322 3.69631794\n",
      " 3.60790866 7.55637684 5.69220348]\n",
      "x_train 303 [[0 0 0 ... 0 0 0]\n",
      " [0 0 0 ... 0 0 0]\n",
      " [0 0 0 ... 0 0 0]\n",
      " ...\n",
      " [0 0 0 ... 0 0 0]\n",
      " [0 0 0 ... 0 0 0]\n",
      " [0 0 0 ... 0 0 0]]\n",
      "TEST DATA\n",
      "x_test 76 [[0 1 0 ... 0 0 0]\n",
      " [0 0 0 ... 0 0 0]\n",
      " [0 0 0 ... 0 0 0]\n",
      " ...\n",
      " [0 1 0 ... 0 0 0]\n",
      " [0 1 0 ... 0 0 0]\n",
      " [0 0 0 ... 0 0 0]]\n",
      "y_test 76 [5.54643757 3.54245958 3.80396845 7.00286775 7.14012004 4.79911746\n",
      " 7.97837982 5.92818719 4.88020939 3.05433538 5.75300687 4.2971958\n",
      " 7.6705313  4.8779357  4.78814655 4.41815411 2.44069727 3.81457438\n",
      " 3.57437082 4.21637164 5.31664385 2.38983591 5.68377779 5.32671589\n",
      " 4.83175434 7.90763278 5.28117242 4.45362039 3.46793378 4.92349197\n",
      " 5.26255347 4.01395614 7.0805511  3.49763861 4.41527428 5.40446363\n",
      " 3.83527122 3.79775771 3.51716862 6.80647327 3.43101416 4.39885415\n",
      " 6.36040714 3.02389717 4.56990807 4.15837034 5.10444721 4.24051781\n",
      " 5.75603017 4.58311665 3.87399378 5.02349449 3.66258613 4.93640799\n",
      " 5.84272534 4.60472351 5.10818804 4.87916635 5.68731536 5.00386597\n",
      " 3.2670411  3.41210765 5.51279443 6.12197721 4.78664529 4.37645177\n",
      " 4.73740353 5.0044796  5.77829542 3.57537943 6.41357527 3.87753343\n",
      " 3.34372445 4.39782139 4.33405948 4.15936162]\n"
     ]
    }
   ],
   "source": [
    "print('TRAIN DATA')\n",
    "print('y_train', len(y_train), y_train)\n",
    "print('x_train', len(x_train), x_train)\n",
    "\n",
    "print('TEST DATA')\n",
    "print('x_test', len(x_test), x_test)\n",
    "print('y_test', len(y_test), y_test)"
   ]
  },
  {
   "cell_type": "code",
   "execution_count": 549,
   "metadata": {
    "ExecuteTime": {
     "end_time": "2023-06-21T16:03:26.575468100Z",
     "start_time": "2023-06-21T16:03:26.497359Z"
    }
   },
   "outputs": [],
   "source": [
    "# Fit Regressor\n",
    "model = SVR(C=1, epsilon=0.1, kernel='rbf')\n",
    "model.fit(x_train,y_train)\n",
    "\n",
    "# Predict Test result\n",
    "y_pred  = model.predict(x_test)"
   ]
  },
  {
   "cell_type": "code",
   "execution_count": 550,
   "metadata": {
    "ExecuteTime": {
     "end_time": "2023-06-21T16:03:26.606710500Z",
     "start_time": "2023-06-21T16:03:26.575468100Z"
    }
   },
   "outputs": [
    {
     "name": "stdout",
     "output_type": "stream",
     "text": [
      "mean absolute error is  0.7924965475030554\n",
      "mean squared error is  1.0953891683475452\n",
      "root mean squared error is  1.046608412132993\n",
      "r2 is 0.2425466532011491\n"
     ]
    }
   ],
   "source": [
    "# Errors berekenen\n",
    "from sklearn.metrics import mean_absolute_error, mean_squared_error, r2_score\n",
    "\n",
    "# Mean Absolute Error\n",
    "mae=mean_absolute_error(y_test, y_pred)\n",
    "print('mean absolute error is ', mae)\n",
    "\n",
    "# Mean Squared Error\n",
    "mse = mean_squared_error(y_test, y_pred)\n",
    "print('mean squared error is ', mse)\n",
    "\n",
    "# Root Mean Squared Error\n",
    "rmse = math.sqrt(mse)\n",
    "print('root mean squared error is ', rmse)\n",
    "\n",
    "# R2 berekenen\n",
    "slope, intercept = nm.polyfit(y_test,y_pred,1)\n",
    "line = slope * nm.array(y_test)+ intercept\n",
    "r2 = r2_score(y_test, y_pred)\n",
    "print('r2 is', r2)"
   ]
  },
  {
   "cell_type": "code",
   "execution_count": 551,
   "metadata": {
    "ExecuteTime": {
     "end_time": "2023-06-21T16:03:26.805645200Z",
     "start_time": "2023-06-21T16:03:26.606710500Z"
    }
   },
   "outputs": [
    {
     "data": {
      "text/plain": "<Figure size 640x480 with 1 Axes>",
      "image/png": "[encoded data removed]"
     },
     "metadata": {},
     "output_type": "display_data"
    }
   ],
   "source": [
    "# R2 Visualisatie\n",
    "plt.scatter(y_test,y_pred)\n",
    "plt.plot(y_test, line, color='red', label='line of current best fit')\n",
    "plt.xlabel('y_test')\n",
    "plt.ylabel('y_pred')\n",
    "plt.xlim(1,10)\n",
    "plt.ylim(1,10)\n",
    "plt.title('Scatterplot with Line of Best Fit (R2 = {:.2f})'.format(r2))\n",
    "plt.show()"
   ]
  },
  {
   "cell_type": "code",
   "execution_count": 551,
   "metadata": {
    "ExecuteTime": {
     "end_time": "2023-06-21T16:03:26.852457Z",
     "start_time": "2023-06-21T16:03:26.805645200Z"
    }
   },
   "outputs": [],
   "source": []
  }
 ],
 "metadata": {
  "kernelspec": {
   "display_name": "Python 3 (ipykernel)",
   "language": "python",
   "name": "python3"
  },
  "language_info": {
   "codemirror_mode": {
    "name": "ipython",
    "version": 3
   },
   "file_extension": ".py",
   "mimetype": "text/x-python",
   "name": "python",
   "nbconvert_exporter": "python",
   "pygments_lexer": "ipython3",
   "version": "3.10.9"
  }
 },
 "nbformat": 4,
 "nbformat_minor": 1
}
