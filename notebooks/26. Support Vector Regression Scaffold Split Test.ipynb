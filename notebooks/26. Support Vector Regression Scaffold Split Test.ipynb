{
 "cells": [
  {
   "cell_type": "code",
   "execution_count": 199,
   "metadata": {
    "ExecuteTime": {
     "end_time": "2023-06-21T15:08:26.599025600Z",
     "start_time": "2023-06-21T15:08:26.507377200Z"
    }
   },
   "outputs": [],
   "source": [
    "import matplotlib.pyplot as plt\n",
    "import numpy as nm\n",
    "import pandas as pd\n",
    "import math\n",
    "from rdkit import Chem\n",
    "from rdkit.Chem import AllChem\n",
    "from sklearn.model_selection import train_test_split\n",
    "from sklearn.preprocessing import StandardScaler\n",
    "from rdkit.Chem.Scaffolds import MurckoScaffold\n",
    "from collections import defaultdict\n",
    "from sklearn.svm import SVR\n",
    "from sklearn.model_selection import GridSearchCV, train_test_split"
   ]
  },
  {
   "cell_type": "code",
   "execution_count": 200,
   "metadata": {
    "ExecuteTime": {
     "end_time": "2023-06-21T15:08:26.599025600Z",
     "start_time": "2023-06-21T15:08:26.520915400Z"
    }
   },
   "outputs": [],
   "source": [
    "folder = 'C:\\\\Users\\\\vswen\\\\Documents\\\\1. Biomedische Technologie\\\\BMT JAAR 5\\\\Kwart 4\\\\4. Data\\\\CTRPv2.0_2015_ctd2_ExpandedDataset\\\\'\n",
    "\n",
    "# Import data\n",
    "complete_df = pd.read_csv(f\"{folder}CHEMBL2971_Ki.csv\", sep=\",\")\n",
    "\n",
    "# complete_df.fillna(complete_df.mean(), inplace=True)"
   ]
  },
  {
   "cell_type": "code",
   "execution_count": 201,
   "metadata": {
    "ExecuteTime": {
     "end_time": "2023-06-21T15:08:27.226445100Z",
     "start_time": "2023-06-21T15:08:26.661543Z"
    }
   },
   "outputs": [],
   "source": [
    "smiles_list = complete_df['smiles']\n",
    "mols = [Chem.MolFromSmiles(smiles) for smiles in smiles_list]\n",
    "scaffolds = [MurckoScaffold.GetScaffoldForMol(mol) for mol in mols]\n",
    "scaffold_smiles = [Chem.MolToSmiles(scaffold) for scaffold in scaffolds]\n",
    "scaffold_smiles = list(map(str, scaffold_smiles))"
   ]
  },
  {
   "cell_type": "code",
   "execution_count": 202,
   "metadata": {
    "ExecuteTime": {
     "end_time": "2023-06-21T15:08:28.195418700Z",
     "start_time": "2023-06-21T15:08:27.226445100Z"
    }
   },
   "outputs": [],
   "source": [
    "# Fingerprint aanmaken\n",
    "molecules = [Chem.MolFromSmiles(smile) for smile in complete_df['smiles'].tolist()]\n",
    "ecfp = [AllChem.GetMorganFingerprintAsBitVect(molecule,2,nBits=1024) for molecule in molecules]\n",
    "complete_df['ecfp_bit_vectors'] = [[int(bit) for bit in keys.ToBitString()] for keys in ecfp]\n",
    "complete_df['ECFP'] = [''.join(str(value) for value in row) for row in complete_df['ecfp_bit_vectors']]\n",
    "complete_df.to_csv(f\"{folder}chembl234_ki.csv\", sep=',', index=False)"
   ]
  },
  {
   "cell_type": "code",
   "execution_count": 203,
   "metadata": {
    "ExecuteTime": {
     "end_time": "2023-06-21T15:08:28.259820200Z",
     "start_time": "2023-06-21T15:08:28.195418700Z"
    }
   },
   "outputs": [
    {
     "data": {
      "text/plain": "[0,\n 0,\n 0,\n 0,\n 0,\n 0,\n 0,\n 0,\n 0,\n 0,\n 0,\n 0,\n 0,\n 0,\n 0,\n 1,\n 0,\n 0,\n 0,\n 0,\n 0,\n 0,\n 0,\n 0,\n 0,\n 0,\n 0,\n 0,\n 0,\n 0,\n 0,\n 0,\n 0,\n 0,\n 0,\n 0,\n 0,\n 0,\n 0,\n 0,\n 0,\n 0,\n 0,\n 0,\n 0,\n 0,\n 0,\n 0,\n 0,\n 0,\n 1,\n 0,\n 0,\n 0,\n 0,\n 0,\n 0,\n 0,\n 0,\n 0,\n 0,\n 0,\n 1,\n 0,\n 0,\n 0,\n 0,\n 0,\n 0,\n 0,\n 0,\n 0,\n 0,\n 0,\n 0,\n 0,\n 0,\n 0,\n 0,\n 0,\n 0,\n 0,\n 0,\n 0,\n 0,\n 0,\n 0,\n 0,\n 0,\n 0,\n 1,\n 0,\n 0,\n 0,\n 0,\n 0,\n 0,\n 0,\n 0,\n 0,\n 0,\n 0,\n 0,\n 0,\n 0,\n 0,\n 0,\n 0,\n 0,\n 0,\n 1,\n 0,\n 0,\n 0,\n 0,\n 0,\n 0,\n 0,\n 0,\n 0,\n 0,\n 0,\n 0,\n 0,\n 0,\n 0,\n 0,\n 0,\n 1,\n 0,\n 0,\n 0,\n 0,\n 0,\n 0,\n 0,\n 1,\n 0,\n 0,\n 0,\n 1,\n 0,\n 0,\n 0,\n 0,\n 0,\n 0,\n 1,\n 0,\n 0,\n 0,\n 0,\n 0,\n 0,\n 0,\n 0,\n 0,\n 0,\n 0,\n 0,\n 0,\n 0,\n 1,\n 0,\n 0,\n 0,\n 0,\n 0,\n 0,\n 0,\n 0,\n 0,\n 0,\n 0,\n 0,\n 0,\n 0,\n 0,\n 0,\n 0,\n 0,\n 0,\n 0,\n 0,\n 0,\n 0,\n 0,\n 0,\n 0,\n 0,\n 0,\n 0,\n 0,\n 0,\n 0,\n 0,\n 0,\n 0,\n 0,\n 0,\n 0,\n 0,\n 0,\n 0,\n 0,\n 0,\n 0,\n 0,\n 0,\n 0,\n 0,\n 0,\n 0,\n 0,\n 0,\n 0,\n 0,\n 0,\n 0,\n 0,\n 0,\n 0,\n 0,\n 0,\n 0,\n 0,\n 0,\n 0,\n 0,\n 0,\n 0,\n 0,\n 0,\n 0,\n 0,\n 0,\n 0,\n 0,\n 0,\n 0,\n 0,\n 0,\n 0,\n 0,\n 0,\n 0,\n 0,\n 0,\n 0,\n 0,\n 0,\n 0,\n 0,\n 0,\n 0,\n 0,\n 0,\n 0,\n 0,\n 0,\n 0,\n 0,\n 0,\n 0,\n 0,\n 0,\n 0,\n 0,\n 0,\n 0,\n 0,\n 0,\n 1,\n 0,\n 0,\n 0,\n 0,\n 0,\n 0,\n 0,\n 0,\n 0,\n 0,\n 0,\n 0,\n 1,\n 0,\n 0,\n 0,\n 0,\n 0,\n 0,\n 0,\n 0,\n 0,\n 0,\n 0,\n 0,\n 0,\n 0,\n 0,\n 0,\n 0,\n 0,\n 0,\n 0,\n 0,\n 0,\n 0,\n 1,\n 0,\n 0,\n 0,\n 0,\n 0,\n 0,\n 0,\n 0,\n 0,\n 0,\n 0,\n 0,\n 0,\n 0,\n 0,\n 0,\n 0,\n 0,\n 0,\n 0,\n 0,\n 0,\n 0,\n 0,\n 0,\n 0,\n 0,\n 0,\n 0,\n 0,\n 0,\n 0,\n 0,\n 0,\n 0,\n 0,\n 0,\n 1,\n 0,\n 0,\n 0,\n 0,\n 0,\n 0,\n 0,\n 0,\n 1,\n 0,\n 0,\n 0,\n 0,\n 0,\n 0,\n 0,\n 0,\n 0,\n 0,\n 0,\n 0,\n 0,\n 0,\n 0,\n 0,\n 0,\n 0,\n 0,\n 0,\n 0,\n 0,\n 0,\n 0,\n 0,\n 0,\n 0,\n 0,\n 0,\n 1,\n 0,\n 0,\n 0,\n 0,\n 0,\n 0,\n 0,\n 0,\n 0,\n 0,\n 0,\n 0,\n 0,\n 0,\n 0,\n 0,\n 0,\n 0,\n 0,\n 0,\n 0,\n 0,\n 0,\n 0,\n 0,\n 0,\n 0,\n 0,\n 0,\n 0,\n 0,\n 0,\n 0,\n 0,\n 0,\n 0,\n 0,\n 0,\n 0,\n 0,\n 0,\n 0,\n 0,\n 0,\n 0,\n 0,\n 0,\n 0,\n 0,\n 0,\n 0,\n 0,\n 0,\n 0,\n 0,\n 0,\n 0,\n 0,\n 0,\n 0,\n 0,\n 0,\n 0,\n 0,\n 0,\n 0,\n 0,\n 0,\n 0,\n 0,\n 0,\n 0,\n 0,\n 0,\n 0,\n 0,\n 0,\n 0,\n 0,\n 0,\n 0,\n 0,\n 0,\n 0,\n 0,\n 0,\n 0,\n 0,\n 0,\n 0,\n 0,\n 0,\n 0,\n 0,\n 0,\n 0,\n 0,\n 0,\n 0,\n 0,\n 0,\n 0,\n 0,\n 0,\n 0,\n 0,\n 0,\n 0,\n 0,\n 0,\n 0,\n 0,\n 0,\n 0,\n 0,\n 1,\n 0,\n 0,\n 0,\n 0,\n 0,\n 0,\n 0,\n 0,\n 0,\n 0,\n 0,\n 0,\n 0,\n 0,\n 0,\n 0,\n 0,\n 0,\n 0,\n 0,\n 0,\n 0,\n 0,\n 0,\n 0,\n 0,\n 0,\n 0,\n 0,\n 0,\n 0,\n 0,\n 0,\n 0,\n 0,\n 0,\n 0,\n 0,\n 0,\n 0,\n 0,\n 0,\n 0,\n 0,\n 0,\n 0,\n 0,\n 0,\n 0,\n 0,\n 0,\n 0,\n 0,\n 0,\n 0,\n 0,\n 0,\n 0,\n 0,\n 0,\n 0,\n 0,\n 0,\n 0,\n 0,\n 0,\n 0,\n 0,\n 0,\n 0,\n 0,\n 0,\n 0,\n 0,\n 0,\n 0,\n 0,\n 0,\n 0,\n 0,\n 0,\n 0,\n 0,\n 0,\n 0,\n 0,\n 1,\n 0,\n 0,\n 0,\n 0,\n 0,\n 0,\n 0,\n 0,\n 0,\n 0,\n 0,\n 0,\n 0,\n 0,\n 0,\n 0,\n 0,\n 0,\n 0,\n 0,\n 0,\n 0,\n 0,\n 0,\n 0,\n 0,\n 0,\n 0,\n 0,\n 0,\n 0,\n 0,\n 0,\n 0,\n 0,\n 0,\n 0,\n 0,\n 0,\n 0,\n 0,\n 0,\n 0,\n 0,\n 0,\n 0,\n 0,\n 1,\n 0,\n 0,\n 0,\n 0,\n 0,\n 0,\n 0,\n 0,\n 1,\n 0,\n 0,\n 0,\n 1,\n 0,\n 0,\n 0,\n 0,\n 0,\n 0,\n 0,\n 0,\n 0,\n 0,\n 0,\n 0,\n 0,\n 0,\n 0,\n 0,\n 0,\n 0,\n 0,\n 0,\n 0,\n 0,\n 0,\n 0,\n 1,\n 0,\n 0,\n 0,\n 0,\n 0,\n 0,\n 0,\n 0,\n 0,\n 0,\n 0,\n 0,\n 0,\n 0,\n 0,\n 0,\n 0,\n 0,\n 0,\n 0,\n 0,\n 0,\n 0,\n 1,\n 0,\n 0,\n 0,\n 0,\n 0,\n 0,\n 0,\n 0,\n 0,\n 0,\n 0,\n 0,\n 0,\n 0,\n 0,\n 0,\n 0,\n 0,\n 0,\n 0,\n 0,\n 1,\n 0,\n 0,\n 0,\n 0,\n 1,\n 0,\n 0,\n 0,\n 0,\n 0,\n 0,\n 0,\n 0,\n 0,\n 0,\n 0,\n 0,\n 0,\n 0,\n 0,\n 0,\n 0,\n 0,\n 0,\n 0,\n 0,\n 0,\n 0,\n 0,\n 0,\n 0,\n 0,\n 0,\n 0,\n 0,\n 0,\n 0,\n 0,\n 0,\n 0,\n 0,\n 0,\n 0,\n 0,\n 0,\n 0,\n 0,\n 0,\n 0,\n 0,\n 0,\n 0,\n 0,\n 0,\n 0,\n 0,\n 0,\n 0,\n 0,\n 0,\n 0,\n 0,\n 0,\n 0,\n 0,\n 0,\n 0,\n 0,\n 0,\n 0,\n 1,\n 0,\n 0,\n 0,\n 0,\n 0,\n 0,\n 0,\n 0,\n 0,\n 0,\n 0,\n 0,\n 0,\n 0,\n 1,\n 0,\n 0,\n 0,\n 0,\n 0,\n 0,\n 0,\n 0,\n 0,\n 0,\n 0,\n 0,\n 0,\n 0,\n 0,\n 0,\n 0,\n 0,\n 0,\n 0,\n 0,\n 0,\n 0,\n 0,\n 0,\n 0,\n 0,\n 0,\n 0,\n 0,\n 0,\n 0,\n 0,\n 0,\n 0,\n 0,\n 0,\n 0,\n 0,\n 0,\n 0,\n 1,\n 0,\n 0,\n 0,\n 0,\n 0,\n 0,\n 0,\n 0,\n 0,\n 0,\n 0,\n 0,\n 0,\n 0,\n 0,\n 0,\n 0,\n 0,\n 0,\n 0,\n 0,\n 0,\n 0,\n 0,\n 0,\n 1,\n 0,\n 0,\n 0,\n 0,\n 0,\n 0,\n 0,\n 0,\n 0,\n 0,\n 0,\n 0,\n 0,\n 0,\n 0,\n 0,\n 0,\n 1,\n 0,\n 0,\n 1,\n 0,\n 0,\n 0,\n 0,\n 0,\n 0,\n 0,\n 1,\n 0,\n 0,\n 0,\n 0,\n 0,\n 0,\n 0,\n 0,\n 0,\n 0,\n 0,\n 0,\n 0,\n 0,\n 0,\n 0,\n 0,\n 0,\n 0,\n 0,\n 0,\n 0,\n 0,\n 0,\n 0,\n 0,\n 0,\n 0,\n 0,\n 0,\n 0,\n 0,\n 0,\n 0,\n 0,\n 0,\n 0,\n 0,\n 0,\n 1,\n 0,\n 0,\n 0,\n 0,\n 0,\n 0,\n 0,\n 0,\n 0,\n 0,\n 0,\n 0,\n 0,\n 0,\n 0,\n 0,\n 0,\n 0,\n 0,\n 0,\n 0,\n 0,\n 1,\n 0,\n 0,\n 0,\n 0,\n 0,\n 0,\n 0,\n 0,\n 0,\n 0,\n 0,\n 0,\n 0,\n 0,\n 0,\n 0,\n 0,\n 0,\n 0,\n 0,\n 0,\n 0,\n 0,\n 0,\n 0,\n 0,\n 0,\n 0,\n 0,\n 0,\n 0,\n 0,\n ...]"
     },
     "execution_count": 203,
     "metadata": {},
     "output_type": "execute_result"
    }
   ],
   "source": [
    "complete_df['ecfp_bit_vectors'].iloc[0]"
   ]
  },
  {
   "cell_type": "code",
   "execution_count": 204,
   "metadata": {
    "ExecuteTime": {
     "end_time": "2023-06-21T15:08:28.548664700Z",
     "start_time": "2023-06-21T15:08:28.228756300Z"
    }
   },
   "outputs": [],
   "source": [
    "def get_unique_scaffolds(scaffold_smiles):\n",
    "    unique_scaffolds = []\n",
    "    for scaffold in scaffold_smiles:\n",
    "        if scaffold not in unique_scaffolds:\n",
    "            unique_scaffolds.append(scaffold)\n",
    "    return unique_scaffolds\n",
    "\n",
    "list_unique_scaffolds=get_unique_scaffolds(scaffold_smiles)\n",
    "\n",
    "location_scaffolds = defaultdict(list)\n",
    "for scaffold in scaffold_smiles:\n",
    "    location_scaffolds[scaffold].append(scaffold)\n",
    "\n",
    "def location_similar_scaffolds(lijst):\n",
    "    locations = defaultdict(list)\n",
    "    for index, item in enumerate(lijst):\n",
    "        if lijst.count(item) > 1:\n",
    "            locations[item].append(index)\n",
    "    return dict(locations)\n",
    "\n",
    "locations_similar_scaffolds = location_similar_scaffolds(scaffold_smiles)\n",
    "\n",
    "df_scaffolds_grouped = pd.DataFrame(columns=['Compound', 'Scaffold', 'Recurring'])\n",
    "rows=[]\n",
    "symbol_mapping = {}\n",
    "symbol_counter = 0\n",
    "\n",
    "for i, compound in enumerate(smiles_list):\n",
    "    scaffold = scaffold_smiles[i]\n",
    "\n",
    "    if scaffold in locations_similar_scaffolds:\n",
    "        if scaffold not in symbol_mapping:\n",
    "            symbol_counter += 1\n",
    "            symbol_mapping[scaffold] = symbol_counter\n",
    "\n",
    "        recurring_symbol = symbol_mapping[scaffold]\n",
    "        recurring = True\n",
    "    else:\n",
    "        recurring_symbol = 0\n",
    "        recurring = False\n",
    "    row = [compound, scaffold, recurring_symbol]\n",
    "    rows.append(row)\n",
    "\n",
    "df_scaffolds_grouped = pd.DataFrame(rows, columns=['cpd_smiles', 'spd_scaffold', 'recurring_scaffold'])\n",
    "\n",
    "#Toevoegen van extra data die nodig is voor de modellen\n",
    "df_scaffolds_grouped.insert(0,'y',complete_df['y'])\n",
    "# df_scaffolds_grouped.insert(1,'ecfp_bit_vectors',complete_df['ecfp_bit_vectors']) \n",
    "df_scaffolds_grouped['ecfp_bit_vectors'] = complete_df['ecfp_bit_vectors'].apply(lambda x: ''.join(str(i) for i in x))\n",
    "\n",
    "df_scaffolds_grouped_sorted = df_scaffolds_grouped.sort_values('recurring_scaffold', ascending=False)\n",
    "\n",
    "df_scaffolds_grouped_sorted.to_csv(f\"{folder}scaffold_split_test.txt\", sep='\\t', index=False)\n"
   ]
  },
  {
   "cell_type": "code",
   "execution_count": 205,
   "metadata": {
    "ExecuteTime": {
     "end_time": "2023-06-21T15:08:28.571816500Z",
     "start_time": "2023-06-21T15:08:28.555150800Z"
    }
   },
   "outputs": [],
   "source": [
    "total_length_compounds = len(complete_df)\n",
    "size_train_set = total_length_compounds * 0.8 # Uitgaande van idealiter een 0.8:0.2 verhouding tussen train en test"
   ]
  },
  {
   "cell_type": "code",
   "execution_count": 206,
   "metadata": {
    "ExecuteTime": {
     "end_time": "2023-06-21T15:08:28.837378400Z",
     "start_time": "2023-06-21T15:08:28.571816500Z"
    }
   },
   "outputs": [],
   "source": [
    "# Import data\n",
    "complete_df = pd.read_csv(f\"{folder}scaffold_split_test.txt\", sep=\"\\t\")\n",
    "\n",
    "#import random\n",
    "# Data selecteren om een vergelijkbare data grootte te creeeren\n",
    "#random_indices = random.sample(range(len(complete_df)), 379)\n",
    "#complete_df = complete_df.iloc[random_indices]\n",
    "\n",
    "complete_df['ecfp_bit_vectors'] = complete_df['ecfp_bit_vectors'].apply(lambda x: [int(i) for i in x])"
   ]
  },
  {
   "cell_type": "code",
   "execution_count": 207,
   "metadata": {
    "ExecuteTime": {
     "end_time": "2023-06-21T15:08:28.890156Z",
     "start_time": "2023-06-21T15:08:28.837378400Z"
    }
   },
   "outputs": [],
   "source": [
    "# Creeer een DF voor alle scaffolds die uniek zijn\n",
    "df_unique_scaffolds = complete_df[complete_df['recurring_scaffold'] == 0]\n",
    "df_unique_scaffolds = df_unique_scaffolds[['recurring_scaffold', 'ecfp_bit_vectors', 'y']]\n",
    "\n",
    "# Extraheer de X en Y value van de nieuwe DF \n",
    "## X is de te gebruike compound waarde  | Fingerprint ECFP\n",
    "## Y is de te voorspellen compound waarde | Ec50 Molair Logtransformed\n",
    "x_unique = nm.array(df_unique_scaffolds['ecfp_bit_vectors'].tolist())\n",
    "y_unique = df_unique_scaffolds['y'].values"
   ]
  },
  {
   "cell_type": "code",
   "execution_count": 208,
   "metadata": {
    "ExecuteTime": {
     "end_time": "2023-06-21T15:08:28.968298Z",
     "start_time": "2023-06-21T15:08:28.890156Z"
    }
   },
   "outputs": [
    {
     "name": "stdout",
     "output_type": "stream",
     "text": [
      "[[0 0 0 ... 0 0 0]\n",
      " [0 0 0 ... 0 0 0]\n",
      " [0 0 0 ... 0 0 0]\n",
      " ...\n",
      " [0 0 1 ... 0 0 0]\n",
      " [0 0 1 ... 0 0 0]\n",
      " [0 0 1 ... 0 0 0]]\n"
     ]
    }
   ],
   "source": [
    "# Creeer een DF voor alle scaffolds die meermaals voorkomen\n",
    "df_grouped_scaffolds = complete_df[complete_df['recurring_scaffold'] > 0]\n",
    "df_grouped_scaffolds = df_grouped_scaffolds[['ecfp_bit_vectors', 'y', 'recurring_scaffold']]\n",
    "\n",
    "# Extraheer de X, Y en Z value van de nieuwe DF\n",
    "## X is de te gebruike compound waarde  | Fingerprint ECFP\n",
    "## Y is de te voorspellen compound waarde | Ec50 Molair Logtransformed\n",
    "## Z is de indicator voor overeenkomstige scaffold groepen | Elke scaffoldgroup een eigen numerieke waarde\n",
    "x_grouped = nm.array(df_grouped_scaffolds['ecfp_bit_vectors'].tolist())\n",
    "y_grouped = df_grouped_scaffolds['y'].values\n",
    "z_grouped = df_grouped_scaffolds['recurring_scaffold'].values.tolist()\n",
    "print(x_grouped)\n",
    "\n",
    "#df_grouped_scaffolds_indexes = df_grouped_scaffolds.groupby('recurring_scaffold')"
   ]
  },
  {
   "cell_type": "code",
   "execution_count": 209,
   "metadata": {
    "ExecuteTime": {
     "end_time": "2023-06-21T15:08:29.030748900Z",
     "start_time": "2023-06-21T15:08:28.968298Z"
    }
   },
   "outputs": [
    {
     "name": "stdout",
     "output_type": "stream",
     "text": [
      "479\n"
     ]
    }
   ],
   "source": [
    "size_train_set_grouped_scaffolds = len(z_grouped) * 0.8\n",
    "size_train_set_grouped_scaffolds = int(size_train_set_grouped_scaffolds)\n",
    "print(size_train_set_grouped_scaffolds)"
   ]
  },
  {
   "cell_type": "code",
   "execution_count": 210,
   "metadata": {
    "ExecuteTime": {
     "end_time": "2023-06-21T15:08:29.030748900Z",
     "start_time": "2023-06-21T15:08:28.983916200Z"
    }
   },
   "outputs": [],
   "source": [
    "# Creeeren van lege lijsten voor de Grouped Scaffolds\n",
    "x_train_grouped = []\n",
    "y_train_grouped = []\n",
    "x_test_grouped = []\n",
    "y_test_grouped = []"
   ]
  },
  {
   "cell_type": "code",
   "execution_count": 211,
   "metadata": {
    "ExecuteTime": {
     "end_time": "2023-06-21T15:08:29.030748900Z",
     "start_time": "2023-06-21T15:08:29.015126700Z"
    }
   },
   "outputs": [],
   "source": [
    "for x in range(len(z_grouped)):\n",
    "    if x < size_train_set_grouped_scaffolds:\n",
    "        x_train_grouped.append(x_grouped[x])\n",
    "        y_train_grouped.append(y_grouped[x])\n",
    "    elif z_grouped[x] == z_grouped[x-1]:\n",
    "        x_train_grouped.append(x_grouped[x])\n",
    "        y_train_grouped.append(y_grouped[x])\n",
    "    else: \n",
    "        remaining = len(z_grouped)-x\n",
    "        break\n",
    "        \n",
    "for x in range(remaining):\n",
    "    x_test_grouped.append(x_grouped[x+remaining])\n",
    "    y_test_grouped.append(y_grouped[x+remaining])"
   ]
  },
  {
   "cell_type": "code",
   "execution_count": 212,
   "metadata": {
    "ExecuteTime": {
     "end_time": "2023-06-21T15:08:29.046379200Z",
     "start_time": "2023-06-21T15:08:29.030748900Z"
    }
   },
   "outputs": [
    {
     "name": "stdout",
     "output_type": "stream",
     "text": [
      "479\n",
      "120\n",
      "[-2.041392685158225, -1.5314789170422551, -1.5563025007672873, -2.6434526764861874, -2.690196080028514]\n",
      "[-0.1072099696478683, -0.1367205671564068, -0.2600713879850748, -0.1398790864012364, -0.4329692908744057]\n"
     ]
    }
   ],
   "source": [
    "print(len(x_train_grouped))\n",
    "print(len(x_test_grouped))\n",
    "print(y_train_grouped[0:5])\n",
    "print(y_test_grouped[0:5])"
   ]
  },
  {
   "cell_type": "code",
   "execution_count": 213,
   "metadata": {
    "ExecuteTime": {
     "end_time": "2023-06-21T15:08:29.093375900Z",
     "start_time": "2023-06-21T15:08:29.077748800Z"
    }
   },
   "outputs": [],
   "source": [
    "x_train_grouped = [list(arr) for arr in x_train_grouped]\n",
    "x_test_grouped = [list(arr) for arr in x_test_grouped]"
   ]
  },
  {
   "cell_type": "code",
   "execution_count": 214,
   "metadata": {
    "ExecuteTime": {
     "end_time": "2023-06-21T15:08:29.108992300Z",
     "start_time": "2023-06-21T15:08:29.093375900Z"
    }
   },
   "outputs": [],
   "source": [
    "from sklearn.model_selection import train_test_split\n",
    "x_train_unique,x_test_unique,y_train_unique,y_test_unique=train_test_split(x_unique,y_unique,test_size=0.2, random_state=42)"
   ]
  },
  {
   "cell_type": "code",
   "execution_count": 215,
   "metadata": {
    "ExecuteTime": {
     "end_time": "2023-06-21T15:08:29.155892300Z",
     "start_time": "2023-06-21T15:08:29.108992300Z"
    }
   },
   "outputs": [
    {
     "data": {
      "text/plain": "-2.800001827817969"
     },
     "execution_count": 215,
     "metadata": {},
     "output_type": "execute_result"
    }
   ],
   "source": [
    "y_train_grouped[0]\n",
    "y_train_unique[0]"
   ]
  },
  {
   "cell_type": "code",
   "execution_count": 216,
   "metadata": {
    "ExecuteTime": {
     "end_time": "2023-06-21T15:08:29.187112Z",
     "start_time": "2023-06-21T15:08:29.124615300Z"
    }
   },
   "outputs": [],
   "source": [
    "x_train = nm.concatenate((x_train_grouped, x_train_unique))\n",
    "x_test = nm.concatenate((x_test_grouped, x_test_unique))\n",
    "\n",
    "y_train = nm.concatenate((y_train_grouped, y_train_unique))\n",
    "y_test = nm.concatenate((y_test_grouped, y_test_unique))"
   ]
  },
  {
   "cell_type": "code",
   "execution_count": 217,
   "metadata": {
    "ExecuteTime": {
     "end_time": "2023-06-21T15:08:29.249583600Z",
     "start_time": "2023-06-21T15:08:29.187112Z"
    }
   },
   "outputs": [
    {
     "name": "stdout",
     "output_type": "stream",
     "text": [
      "TRAIN DATA\n",
      "y_train 780 [-2.04139269e+00 -1.53147892e+00 -1.55630250e+00 -2.64345268e+00\n",
      " -2.69019608e+00 -1.97772361e+00 -1.32221929e+00 -1.14612804e+00\n",
      " -1.63346846e+00 -1.41497335e+00 -1.36172784e+00 -1.34242268e+00\n",
      " -2.17609126e+00 -3.32221929e+00  6.38272164e-01  1.87086643e-01\n",
      "  5.55173278e-02  6.04807474e-02  2.67606240e-01  1.07905397e-01\n",
      "  1.93820026e-01  3.62121727e-02  8.77392431e-03 -2.83301229e-01\n",
      " -6.44579892e-02  1.30768280e-01  1.24938737e-01 -2.14843848e-01\n",
      " -4.45604203e-01  5.06099934e-02  9.15149811e-02 -2.47973266e-01\n",
      "  1.19186408e-01  6.55015488e-02  7.57207139e-02  1.48741651e-01\n",
      " -3.59835482e-01 -1.61368002e-01  2.59637311e-01  7.57207139e-02\n",
      " -5.14547753e-01 -8.27853703e-02  2.92429824e-01 -1.52288344e-01\n",
      " -9.69100130e-02 -4.18301291e-01 -3.83815366e-01 -3.34453751e-01\n",
      " -2.11892991e-02 -4.32137378e-03 -2.92256071e-01 -2.57678575e-01\n",
      " -3.46352974e-01 -4.01400541e-01  5.52841969e-01  6.38272164e-01\n",
      "  5.08638306e-01  6.77780705e-01  6.98970004e-01 -4.53229788e-02\n",
      " -5.15873844e-01  4.08935393e-01  7.44727495e-01  1.15490196e+00\n",
      "  7.44727495e-01  6.38272164e-01 -4.53229788e-02  8.09219076e-02\n",
      "  9.58607315e-01 -4.23245874e-01 -3.07496038e-01  2.22763947e-02\n",
      " -3.22219295e-01  5.55173278e-02  4.08935393e-01 -3.76576957e-01\n",
      "  2.44125144e-01 -2.25309282e-01  2.21848750e-01  2.59637311e-01\n",
      " -1.70333393e-02  1.30768280e-01  1.19186408e-01  2.29147988e-01\n",
      "  4.09586077e-02 -2.06825876e-01  6.55015488e-02 -6.44579892e-02\n",
      " -7.18820073e-02  7.57207139e-02 -1.28372247e-02  9.69100130e-02\n",
      " -1.55336037e-01  1.13509275e-01  5.06099934e-02  4.43697499e-01\n",
      "  5.22878745e-01  1.13509275e-01  1.80456064e-01 -3.67355921e-01\n",
      "  3.37242168e-01  3.56547324e-01  4.36480540e-03 -2.04119983e-01\n",
      " -1.13943352e-01 -1.28372247e-02  1.48741651e-01 -1.87520721e-01\n",
      "  6.57577319e-01 -9.34216852e-02  2.92429824e-01  6.19788758e-01\n",
      "  4.43697499e-01  3.15170514e-02  7.57207139e-02 -1.64352856e-01\n",
      "  1.42667504e-01 -1.67317335e-01 -1.10589710e-01 -2.25309282e-01\n",
      " -1.07209970e-01 -1.36720567e-01 -2.60071388e-01 -1.39879086e-01\n",
      " -4.32969291e-01  2.36572006e-01 -3.34237555e-02 -2.60071388e-01\n",
      "  6.55015488e-02 -1.58362492e-01 -2.11892991e-02 -3.36459734e-01\n",
      "  7.57207139e-02 -2.06825876e-01 -1.64352856e-01 -4.65382851e-01\n",
      " -3.05351369e-01 -2.93837777e-02  8.23908741e-01  7.69551079e-01\n",
      "  1.22184875e+00  7.21246399e-01  6.38272164e-01  6.57577319e-01\n",
      "  8.53871964e-01  8.86056648e-01  6.19788758e-01  3.76750710e-01\n",
      "  7.95880017e-01 -3.07496038e-01 -5.01059262e-01 -3.24282455e-01\n",
      " -3.03196057e-01 -3.59835482e-01 -3.96199347e-01 -5.63481085e-01\n",
      " -8.63322860e-01  7.69551079e-01 -6.48360011e-01 -3.42422681e-01\n",
      "  5.08638306e-01 -8.47572659e-01  2.92429824e-01 -2.55272505e-01\n",
      " -4.89958479e-01 -1.03803721e-01 -4.28134794e-01 -5.22444234e-01\n",
      " -2.57678575e-01 -3.87389826e-01  6.38272164e-01 -5.30784435e-02\n",
      " -1.46128036e-01 -2.20108088e-01 -4.14973348e-01 -3.07496038e-01\n",
      " -6.06978404e-02 -1.17271296e-01 -1.61368002e-01 -3.15970345e-01\n",
      " -4.13926852e-02 -2.94466226e-01 -9.20645001e-01 -4.11619706e-01\n",
      " -9.00367129e-01  4.20216403e-01  6.04807474e-02  3.46787486e-01\n",
      "  5.85026652e-01  5.37602002e-01 -5.36558443e-01 -3.89166084e-01\n",
      " -9.69100130e-02  5.06099934e-02  5.85026652e-01  7.57207139e-02\n",
      " -1.67317335e-01  6.98970004e-01 -3.96199347e-01  1.00000000e+00\n",
      "  1.07905397e-01 -2.52853031e-01  9.15149811e-02  1.19186408e-01\n",
      "  2.59637311e-01  4.09586077e-02 -6.44579892e-02 -2.04119983e-01\n",
      "  5.06099934e-02  2.00659451e-01  2.59637311e-01 -3.07496038e-01\n",
      " -3.94451681e-01  1.19186408e-01  1.54901960e-01  1.30768280e-01\n",
      " -2.50420002e-01 -2.71841607e-01 -2.25309282e-01 -3.76576957e-01\n",
      " -2.32996110e-01 -3.83815366e-01  2.14670165e-01 -2.01397124e-01\n",
      "  1.36677140e-01 -2.81033367e-01 -4.53229788e-02  2.75724130e-01\n",
      "  1.54901960e-01 -2.38046103e-01  2.29147988e-01  4.08935393e-01\n",
      "  4.43697499e-01 -1.49219113e-01  1.61150909e-01  1.42667504e-01\n",
      "  1.30768280e-01  2.51811973e-01 -2.53058653e-02  3.09803920e-01\n",
      "  4.81486060e-01  2.07608311e-01  2.67606240e-01  1.54901960e-01\n",
      "  2.22763947e-02  9.15149811e-02  2.07608311e-01  3.37242168e-01\n",
      "  5.52841969e-01  4.94850022e-01  5.22878745e-01  8.86056648e-01\n",
      "  1.24938737e-01  9.15149811e-02  7.57207139e-02  2.59637311e-01\n",
      "  3.15170514e-02 -5.30784435e-02  9.69100130e-02 -6.81858617e-02\n",
      "  1.07905397e-01 -2.07740425e+00  1.77287670e-02  9.69100130e-02\n",
      "  2.75724130e-01  1.07905397e-01  1.30768280e-01  7.44727495e-01\n",
      "  6.02059991e-01  1.04575749e+00  9.20818754e-01  8.86056648e-01\n",
      "  7.44727495e-01  3.37242168e-01  1.04575749e+00  5.37602002e-01\n",
      "  4.08935393e-01  7.21246399e-01  4.20216403e-01  1.00000000e+00\n",
      "  6.98970004e-01  8.23908741e-01  1.24938737e-01  7.21246399e-01\n",
      "  4.36480540e-03  1.61150909e-01  9.20818754e-01  3.37242168e-01\n",
      "  6.02059991e-01  2.07608311e-01  1.87086643e-01 -4.91361694e-01\n",
      "  8.09219076e-02 -5.10545010e-01 -1.76091259e-01 -7.63427994e-01\n",
      "  3.01029996e-01 -0.00000000e+00  6.77780705e-01 -1.09691001e+00\n",
      "  3.97940009e-01 -6.23249290e-01 -1.49554434e+00 -1.41995575e+00\n",
      " -3.97940009e-01  4.31798276e-01 -2.38021124e+00 -2.59106461e+00\n",
      " -2.92427929e+00 -2.86923172e+00 -2.79239169e+00 -3.04139269e+00\n",
      " -2.57634135e+00 -2.08990511e+00 -3.14612804e+00 -3.50514998e+00\n",
      " -2.55272505e-01 -1.36172784e+00 -2.75358306e+00 -0.00000000e+00\n",
      " -1.73239376e+00 -2.75966784e+00 -3.23044892e+00 -3.25527251e+00\n",
      " -3.30103000e+00 -3.46239800e+00 -3.38021124e+00 -3.50514998e+00\n",
      " -3.50514998e+00 -3.50514998e+00 -3.50514998e+00 -3.49136169e+00\n",
      " -3.47712125e+00 -3.23044892e+00 -3.44715803e+00 -3.14612804e+00\n",
      " -1.84509804e+00 -1.77815125e+00 -2.78532984e+00 -2.49136169e+00\n",
      " -3.07918125e+00 -2.39794001e+00 -2.31597035e+00 -1.91698005e+00\n",
      " -9.03089987e-01 -1.77597433e+00 -1.77085201e+00 -1.24797327e+00\n",
      " -3.34242268e+00  2.21848750e-01 -3.01029996e-01  4.57574906e-02\n",
      "  5.22878745e-01 -1.85064624e+00 -1.60852603e+00 -9.59041392e-01\n",
      " -2.04119983e-01 -1.28555731e+00  2.21848750e-01 -4.13926852e-02\n",
      " -6.98970004e-01 -3.01029996e-01 -4.77121255e-01 -6.81241237e-01\n",
      "  2.21848750e-01 -2.30448921e-01  3.01029996e-01  3.01029996e-01\n",
      " -1.00000000e+00 -1.51851394e+00 -2.60314437e+00 -2.08278537e+00\n",
      " -1.50514998e+00 -1.43136376e+00 -1.32221929e+00 -1.23044892e+00\n",
      " -5.68201724e-01 -1.72427587e+00 -1.07918125e+00 -2.68752896e+00\n",
      " -2.82542612e+00 -1.44715803e+00 -1.79239169e+00 -6.90196080e-01\n",
      " -6.23249290e-01 -2.20139712e+00 -7.55874856e-01 -1.25527251e+00\n",
      " -1.18184359e+00  3.01029996e-01  4.57574906e-02 -5.18513940e-01\n",
      " -7.07570176e-01 -3.97940009e-01 -1.07554696e+00 -9.86771734e-01\n",
      " -8.51258349e-01 -1.36172784e+00 -0.00000000e+00  3.97940009e-01\n",
      "  1.00000000e+00 -2.55272505e-01  5.52841969e-01  1.00000000e+00\n",
      " -7.55874856e-01  2.44125144e-01  6.77780705e-01 -5.05149978e-01\n",
      "  4.08935393e-01 -7.16003344e-01 -1.22271647e+00 -1.61489722e+00\n",
      " -3.22219295e-01 -8.48189117e-01  2.21848750e-01  5.22878745e-01\n",
      " -2.04119983e-01 -1.69019608e+00  5.22878745e-01  1.00000000e+00\n",
      "  2.51811973e-01 -7.55469614e-02 -1.36720567e-01 -9.69100130e-02\n",
      " -7.48188027e-01  1.00000000e+00  2.67606240e-01  3.66531544e-01\n",
      " -0.00000000e+00  3.37242168e-01 -5.05149978e-01  4.94850022e-01\n",
      " -1.10589710e-01  3.27902142e-01  2.14670165e-01 -1.13943352e-01\n",
      "  4.94850022e-01 -3.47712125e+00 -8.45098040e-01 -1.04139269e+00\n",
      " -3.22219295e-01 -2.30103000e+00 -2.39794001e+00 -1.04139269e+00\n",
      " -1.23044892e+00 -1.88081359e+00 -9.19078092e-01 -6.98970004e-01\n",
      " -1.25527251e+00 -9.68482949e-01 -2.71600334e+00 -1.07918125e+00\n",
      " -6.43452676e-01 -4.62397998e-01 -7.91812460e-02  5.22878745e-01\n",
      " -2.90000097e+00 -3.10000158e+00 -3.10000158e+00 -3.10000158e+00\n",
      " -2.30000820e+00 -2.30000820e+00 -3.10000158e+00 -3.10000158e+00\n",
      " -1.49996187e+00 -1.49996187e+00 -2.60000309e+00 -2.60000309e+00\n",
      " -3.00000000e+00 -2.60000309e+00 -3.19999913e+00 -3.40000062e+00\n",
      " -1.59999218e+00 -2.80000183e+00 -1.59999218e+00 -1.49996187e+00\n",
      " -3.00000000e+00 -1.40001964e+00 -2.70000240e+00 -2.80000183e+00\n",
      " -3.00000000e+00 -3.50514998e+00 -3.11394335e+00 -2.90000097e+00\n",
      " -1.54406804e+00 -1.81954394e+00 -1.41497335e+00 -4.50000005e+00\n",
      " -6.18048097e-01 -2.60205999e+00 -4.13926852e-02 -1.30103000e+00\n",
      " -7.32393760e-01 -4.50000005e+00 -4.89999998e+00 -3.00000000e+00\n",
      " -2.09999123e+00 -2.90000097e+00 -1.89998456e+00 -2.80000183e+00\n",
      " -2.12187604e-01  3.87216143e-01 -1.80002936e+00  5.68636236e-01\n",
      "  1.54901960e-01 -3.29999950e+00 -3.10000158e+00 -2.43136376e+00\n",
      " -2.70000240e+00  2.68721464e-02 -2.80000183e+00 -3.40000062e+00\n",
      " -3.10000158e+00 -1.10002573e+00 -3.00000000e+00 -2.90000097e+00\n",
      " -1.79934055e+00 -5.79783597e-01  6.19788758e-01 -2.90000097e+00\n",
      "  1.42667504e-01 -1.59999218e+00  8.86056648e-01 -4.39999993e+00\n",
      " -5.00000000e+00 -3.39794001e+00 -2.01397124e-01 -1.10002573e+00\n",
      " -9.69100130e-02  3.01029996e-01 -1.11394335e+00 -4.79999997e+00\n",
      "  6.55015488e-02  5.06099934e-02  3.97940009e-01 -1.40001964e+00\n",
      " -3.65321251e+00 -4.00000000e+00 -4.53229788e-02 -3.10000158e+00\n",
      " -3.25527251e+00 -1.93449845e+00  5.85026652e-01 -2.75891189e+00\n",
      " -1.49219113e-01 -3.40000062e+00 -4.79999997e+00 -9.69100130e-02\n",
      " -2.88422877e+00  1.00015437e-01 -1.02571538e+00 -2.60205999e+00\n",
      " -3.29999950e+00 -2.60000309e+00  1.13509275e-01 -1.49219113e-01\n",
      " -3.10000158e+00 -1.89998456e+00 -1.70261715e-01 -3.50514998e+00\n",
      " -3.29999950e+00 -5.75187845e-01  1.00015437e-01  4.55931956e-01\n",
      " -7.00011062e-01 -3.00000000e+00 -2.17609126e+00  3.97940009e-01\n",
      "  2.14670165e-01 -2.60000309e+00 -4.89999998e+00 -1.20411998e+00\n",
      "  7.05810743e-02  9.69100130e-02 -1.27104798e-01 -1.19033170e+00\n",
      " -1.29994290e+00 -2.40000235e+00  2.14670165e-01 -3.99673721e-01\n",
      " -2.11394335e+00  1.48741651e-01  1.42667504e-01 -2.70000240e+00\n",
      "  4.57574906e-02 -5.00000000e+00 -2.43136376e+00 -3.54406804e+00\n",
      " -2.88649073e+00 -3.10000158e+00  1.77287670e-02 -1.00000000e+00\n",
      " -4.63892989e-01 -1.20411998e+00 -4.09999986e+00 -1.70001106e+00\n",
      " -3.10000158e+00  1.36677140e-01 -8.27853703e-02 -3.10000158e+00\n",
      " -2.70757018e+00 -3.38021124e+00 -2.30319606e+00 -3.00000000e+00\n",
      " -5.00000000e+00 -6.44579892e-02 -4.60000003e+00 -2.50000307e+00\n",
      " -3.46239800e+00 -3.00000000e+00 -4.13926852e-02 -1.20411998e+00\n",
      " -2.90000097e+00 -3.10000158e+00  1.54901960e-01 -1.11394335e+00\n",
      " -6.32457292e-01 -1.20002927e+00 -5.70542940e-01  2.68721464e-02\n",
      " -2.47973266e-01 -2.96378783e+00 -2.60000309e+00 -8.19543936e-01\n",
      " -2.04119983e-01 -2.38046103e-01 -3.20146286e-01 -1.39794001e+00\n",
      " -3.40000062e+00 -7.00011062e-01 -3.40000062e+00 -1.59999218e+00\n",
      " -2.56820172e+00 -2.53058653e-02  1.36677140e-01 -2.93449845e+00\n",
      "  1.42667504e-01  8.86056648e-01  9.69100130e-02 -3.16226561e+00\n",
      " -2.11394335e+00 -3.29999950e+00 -4.88550717e-01  1.13509275e-01\n",
      "  3.01029996e-01 -2.00000000e+00 -7.00011062e-01 -3.32438460e-01\n",
      " -5.05149978e-01 -1.49996187e+00 -3.00000000e+00 -3.40000062e+00\n",
      " -1.70001106e+00  3.66531544e-01  4.81486060e-01  9.69100130e-02\n",
      "  7.44727495e-01 -6.98970004e-01  3.18758763e-01 -3.00000000e+00\n",
      "  1.19186408e-01  7.69551079e-01 -4.19999995e+00 -7.92391689e-01\n",
      " -1.77085201e+00 -8.12913357e-01  2.21848750e-01 -2.70000240e+00\n",
      " -5.00000000e+00 -2.99942900e-01 -2.01283722e+00 -1.89998456e+00\n",
      " -5.99992178e-01 -2.80000183e+00 -2.90000097e+00 -1.13943352e-01\n",
      " -4.53229788e-02  1.24938737e-01 -3.50514998e+00 -2.80000183e+00\n",
      " -3.19999913e+00 -3.76576957e-01  7.44727495e-01 -2.20000187e+00\n",
      " -1.32221929e+00 -3.40000062e+00 -2.70000240e+00 -7.00011062e-01\n",
      "  8.23908741e-01 -3.10000158e+00 -4.29999993e+00  1.61150909e-01\n",
      "  4.57574906e-02 -2.85557309e-01 -2.80000183e+00 -8.60017176e-03\n",
      " -1.60205999e+00 -3.00000000e+00 -1.80002936e+00  5.85026652e-01\n",
      " -1.39794001e+00 -1.29994290e+00 -2.50000307e+00 -4.50000005e+00\n",
      " -4.62397998e-01 -3.09061071e+00  1.07905397e-01 -1.46128036e-01\n",
      " -2.83884909e+00 -1.67317335e-01 -1.58546073e+00 -2.80000183e+00\n",
      " -2.90000097e+00  2.29147988e-01 -2.70000240e+00 -2.89817648e+00\n",
      " -4.77121255e-01 -2.11394335e+00 -1.89998456e+00  3.27902142e-01\n",
      " -1.00370545e-01  4.20216403e-01  1.67491087e-01 -2.70000240e+00\n",
      "  1.42667504e-01 -1.11394335e+00  5.55173278e-02  2.59637311e-01\n",
      " -4.14973348e-01  1.80456064e-01 -9.38019097e-01 -1.80617997e+00\n",
      "  4.36480540e-03  1.73925197e-01 -5.99992178e-01 -3.29999950e+00\n",
      "  2.21848750e-01  8.99974270e-01 -2.27646180e+00 -3.30103000e+00\n",
      " -2.78753601e-01  2.51811973e-01  5.55173278e-02 -2.78753601e-01\n",
      " -1.49996187e+00 -2.44870632e+00 -1.44715803e+00 -2.80888587e+00\n",
      " -1.82607480e+00  1.13509275e-01  4.43697499e-01 -1.74036269e+00\n",
      " -3.40000062e+00  6.04807474e-02 -1.28372247e-02 -1.07918125e+00\n",
      " -3.00000000e+00  5.85026652e-01 -3.16226561e+00 -6.06978404e-02\n",
      " -2.74036269e+00 -2.19865709e+00 -2.57978360e+00 -2.60000309e+00\n",
      " -2.40000235e+00 -2.60000309e+00 -3.11394335e+00 -2.20000187e+00\n",
      "  5.06099934e-02 -3.40000062e+00 -1.80002936e+00 -3.10000158e+00\n",
      "  3.46787486e-01 -2.17609126e+00 -2.95327634e+00 -2.95424251e+00\n",
      " -4.00019635e-01 -2.04139269e+00 -2.36172784e+00 -1.80002936e+00]\n",
      "x_train 780 [[0 0 0 ... 0 0 0]\n",
      " [0 0 0 ... 0 0 0]\n",
      " [0 0 0 ... 0 0 0]\n",
      " ...\n",
      " [0 0 0 ... 0 0 0]\n",
      " [0 0 1 ... 0 0 0]\n",
      " [0 1 0 ... 0 0 0]]\n",
      "TEST DATA\n",
      "x_test 196 [[0 1 0 ... 0 0 0]\n",
      " [0 1 0 ... 0 0 0]\n",
      " [0 1 0 ... 0 0 0]\n",
      " ...\n",
      " [0 0 0 ... 0 0 0]\n",
      " [0 0 0 ... 0 0 0]\n",
      " [0 0 0 ... 0 0 0]]\n",
      "y_test 196 [-1.07209970e-01 -1.36720567e-01 -2.60071388e-01 -1.39879086e-01\n",
      " -4.32969291e-01  2.36572006e-01 -3.34237555e-02 -2.60071388e-01\n",
      "  6.55015488e-02 -1.58362492e-01 -2.11892991e-02 -3.36459734e-01\n",
      "  7.57207139e-02 -2.06825876e-01 -1.64352856e-01 -4.65382851e-01\n",
      " -3.05351369e-01 -2.93837777e-02  8.23908741e-01  7.69551079e-01\n",
      "  1.22184875e+00  7.21246399e-01  6.38272164e-01  6.57577319e-01\n",
      "  8.53871964e-01  8.86056648e-01  6.19788758e-01  3.76750710e-01\n",
      "  7.95880017e-01 -3.07496038e-01 -5.01059262e-01 -3.24282455e-01\n",
      " -3.03196057e-01 -3.59835482e-01 -3.96199347e-01 -5.63481085e-01\n",
      " -8.63322860e-01  7.69551079e-01 -6.48360011e-01 -3.42422681e-01\n",
      "  5.08638306e-01 -8.47572659e-01  2.92429824e-01 -2.55272505e-01\n",
      " -4.89958479e-01 -1.03803721e-01 -4.28134794e-01 -5.22444234e-01\n",
      " -2.57678575e-01 -3.87389826e-01  6.38272164e-01 -5.30784435e-02\n",
      " -1.46128036e-01 -2.20108088e-01 -4.14973348e-01 -3.07496038e-01\n",
      " -6.06978404e-02 -1.17271296e-01 -1.61368002e-01 -3.15970345e-01\n",
      " -4.13926852e-02 -2.94466226e-01 -9.20645001e-01 -4.11619706e-01\n",
      " -9.00367129e-01  4.20216403e-01  6.04807474e-02  3.46787486e-01\n",
      "  5.85026652e-01  5.37602002e-01 -5.36558443e-01 -3.89166084e-01\n",
      " -9.69100130e-02  5.06099934e-02  5.85026652e-01  7.57207139e-02\n",
      " -1.67317335e-01  6.98970004e-01 -3.96199347e-01  1.00000000e+00\n",
      "  1.07905397e-01 -2.52853031e-01  9.15149811e-02  1.19186408e-01\n",
      "  2.59637311e-01  4.09586077e-02 -6.44579892e-02 -2.04119983e-01\n",
      "  5.06099934e-02  2.00659451e-01  2.59637311e-01 -3.07496038e-01\n",
      " -3.94451681e-01  1.19186408e-01  1.54901960e-01  1.30768280e-01\n",
      " -2.50420002e-01 -2.71841607e-01 -2.25309282e-01 -3.76576957e-01\n",
      " -2.32996110e-01 -3.83815366e-01  2.14670165e-01 -2.01397124e-01\n",
      "  1.36677140e-01 -2.81033367e-01 -4.53229788e-02  2.75724130e-01\n",
      "  1.54901960e-01 -2.38046103e-01  2.29147988e-01  4.08935393e-01\n",
      "  4.43697499e-01 -1.49219113e-01  1.61150909e-01  1.42667504e-01\n",
      "  1.30768280e-01  2.51811973e-01 -2.53058653e-02  3.09803920e-01\n",
      " -9.55687750e-01 -2.16136800e+00 -4.77121255e-01 -2.00000000e+00\n",
      "  6.57577319e-01  2.00659451e-01 -4.89999998e+00  1.77287670e-02\n",
      " -3.43136376e+00 -1.00000000e+00  7.69551079e-01 -4.32137378e-03\n",
      "  2.51811973e-01  1.73925197e-01 -3.34242268e+00  3.01029996e-01\n",
      " -2.04119983e-01 -4.89999998e+00 -1.80140371e+00 -3.10000158e+00\n",
      " -3.64345268e+00 -2.20000187e+00 -2.90000097e+00 -3.69215857e-01\n",
      "  1.32282657e-02 -3.17609126e+00  1.24938737e-01 -3.14612804e+00\n",
      " -1.14612804e+00 -2.70000240e+00 -2.06825876e-01 -2.60000309e+00\n",
      " -2.50000307e+00  4.57574906e-02 -1.13943352e-01 -2.17483944e-01\n",
      "  3.97940009e-01 -1.17609126e+00 -3.00000000e+00 -2.00000000e+00\n",
      " -3.00000000e+00 -2.27875360e+00  1.67491087e-01 -2.56820172e+00\n",
      " -2.11394335e+00 -9.69100130e-02 -1.01029996e+00  7.44727495e-01\n",
      " -4.60000003e+00  1.48741651e-01 -2.30000820e+00 -2.76342799e+00\n",
      " -2.85793526e+00  7.21246399e-01 -1.96848295e+00 -1.50379068e+00\n",
      "  4.08935393e-01 -3.00000000e+00 -2.77085201e+00 -2.30000820e+00\n",
      " -4.89999998e+00 -2.80000183e+00 -2.57978360e+00 -2.93837777e-02\n",
      " -2.77085201e+00 -1.10589710e-01 -9.54242509e-01 -1.36720567e-01\n",
      " -2.40000235e+00 -3.00000000e+00  5.85026652e-01 -2.30103000e+00\n",
      " -3.10000158e+00 -3.89999987e+00 -2.20000187e+00 -3.38021124e+00]\n"
     ]
    }
   ],
   "source": [
    "print('TRAIN DATA')\n",
    "print('y_train', len(y_train), y_train)\n",
    "print('x_train', len(x_train), x_train)\n",
    "\n",
    "print('TEST DATA')\n",
    "print('x_test', len(x_test), x_test)\n",
    "print('y_test', len(y_test), y_test)"
   ]
  },
  {
   "cell_type": "code",
   "execution_count": 218,
   "metadata": {
    "ExecuteTime": {
     "end_time": "2023-06-21T15:08:29.668351100Z",
     "start_time": "2023-06-21T15:08:29.218379900Z"
    }
   },
   "outputs": [],
   "source": [
    "# Fit Regressor\n",
    "model = SVR(C=1, epsilon=0.1, kernel='rbf')\n",
    "model.fit(x_train,y_train)\n",
    "\n",
    "# Predict Test result\n",
    "y_pred  = model.predict(x_test)"
   ]
  },
  {
   "cell_type": "code",
   "execution_count": 219,
   "metadata": {
    "ExecuteTime": {
     "end_time": "2023-06-21T15:08:29.683976400Z",
     "start_time": "2023-06-21T15:08:29.668351100Z"
    }
   },
   "outputs": [
    {
     "name": "stdout",
     "output_type": "stream",
     "text": [
      "mean absolute error is  0.2613846082863575\n",
      "mean squared error is  0.20036961864093153\n",
      "root mean squared error is  0.44762665095024395\n",
      "r2 is 0.8801144015398282\n"
     ]
    }
   ],
   "source": [
    "# Errors berekenen\n",
    "from sklearn.metrics import mean_absolute_error, mean_squared_error, r2_score\n",
    "\n",
    "# Mean Absolute Error\n",
    "mae=mean_absolute_error(y_test, y_pred)\n",
    "print('mean absolute error is ', mae)\n",
    "\n",
    "# Mean Squared Error\n",
    "mse = mean_squared_error(y_test, y_pred)\n",
    "print('mean squared error is ', mse)\n",
    "\n",
    "# Root Mean Squared Error\n",
    "rmse = math.sqrt(mse)\n",
    "print('root mean squared error is ', rmse)\n",
    "\n",
    "# R2 berekenen\n",
    "slope, intercept = nm.polyfit(y_test,y_pred,1)\n",
    "line = slope * nm.array(y_test)+ intercept\n",
    "r2 = r2_score(y_test, y_pred)\n",
    "print('r2 is', r2)"
   ]
  },
  {
   "cell_type": "code",
   "execution_count": 220,
   "metadata": {
    "ExecuteTime": {
     "end_time": "2023-06-21T15:08:29.949539Z",
     "start_time": "2023-06-21T15:08:29.683976400Z"
    }
   },
   "outputs": [
    {
     "data": {
      "text/plain": "<Figure size 640x480 with 1 Axes>",
      "image/png": "[encoded data removed]"
     },
     "metadata": {},
     "output_type": "display_data"
    }
   ],
   "source": [
    "# R2 Visualisatie\n",
    "plt.scatter(y_test,y_pred)\n",
    "plt.plot(y_test, line, color='red', label='line of current best fit')\n",
    "plt.xlabel('y_test')\n",
    "plt.ylabel('y_pred')\n",
    "plt.title('Scatterplot with Line of Best Fit (R2 = {:.2f})'.format(r2))\n",
    "plt.show()"
   ]
  },
  {
   "cell_type": "code",
   "execution_count": 220,
   "metadata": {
    "ExecuteTime": {
     "end_time": "2023-06-21T15:08:29.965159200Z",
     "start_time": "2023-06-21T15:08:29.949539Z"
    }
   },
   "outputs": [],
   "source": []
  }
 ],
 "metadata": {
  "kernelspec": {
   "display_name": "Python 3 (ipykernel)",
   "language": "python",
   "name": "python3"
  },
  "language_info": {
   "codemirror_mode": {
    "name": "ipython",
    "version": 3
   },
   "file_extension": ".py",
   "mimetype": "text/x-python",
   "name": "python",
   "nbconvert_exporter": "python",
   "pygments_lexer": "ipython3",
   "version": "3.10.9"
  }
 },
 "nbformat": 4,
 "nbformat_minor": 1
}
