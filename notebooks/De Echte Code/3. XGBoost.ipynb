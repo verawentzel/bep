{
 "cells": [
  {
   "cell_type": "code",
   "execution_count": 1,
   "metadata": {
    "collapsed": true,
    "ExecuteTime": {
     "end_time": "2023-06-26T21:43:48.445748600Z",
     "start_time": "2023-06-26T21:43:48.428611600Z"
    }
   },
   "outputs": [],
   "source": [
    "\n",
    "    ######## PREPARING DATA  ########\n"
   ]
  },
  {
   "cell_type": "code",
   "execution_count": 20,
   "outputs": [],
   "source": [
    "from sklearn.svm import SVR\n",
    "import matplotlib.pyplot as plt\n",
    "import numpy as nm\n",
    "import pandas as pd\n",
    "import math\n",
    "from rdkit import Chem\n",
    "from tqdm import tqdm\n",
    "from rdkit.Chem import AllChem, Descriptors, rdMolDescriptors\n",
    "from rdkit.Chem.Scaffolds import MurckoScaffold\n",
    "from collections import defaultdict\n",
    "from sklearn.metrics import mean_absolute_error, mean_squared_error, r2_score\n",
    "import xgboost as xgb\n",
    "from rdkit.Chem.QED import qed\n",
    "from sklearn import preprocessing as pre\n",
    "\n",
    "\n"
   ],
   "metadata": {
    "collapsed": false,
    "ExecuteTime": {
     "end_time": "2023-06-26T21:52:25.147051700Z",
     "start_time": "2023-06-26T21:52:25.047677Z"
    }
   }
  },
  {
   "cell_type": "code",
   "execution_count": 21,
   "outputs": [
    {
     "name": "stderr",
     "output_type": "stream",
     "text": [
      "100%|██████████| 446/446 [00:04<00:00, 89.50it/s] \n"
     ]
    }
   ],
   "source": [
    "# INPUT\n",
    "folder = 'C:\\\\Users\\\\vswen\\\\Documents\\\\1. Biomedische Technologie\\\\BMT JAAR 5\\\\Kwart 4\\\\4. Data\\\\CTRPv2.0_2015_ctd2_ExpandedDataset\\\\'\n",
    "experiment_id = 419\n",
    "df_large = pd.read_csv(f\"{folder}v20.data.curves_post_qc.txt\", sep='\\t')\n",
    "df_smiles = pd.read_csv(f\"{folder}v20.meta.per_compound.txt\", sep='\\t')\n",
    "\n",
    "# BUNDELING\n",
    "df_large=df_large[df_large['experiment_id'] == experiment_id]\n",
    "df_summary = df_large[[ 'master_cpd_id','apparent_ec50_umol']]\n",
    "extracted_col = df_smiles[[\"master_cpd_id\",\"cpd_smiles\"]]\n",
    "df_summary_sorted = pd.merge(df_summary, extracted_col, on='master_cpd_id', how='left')\n",
    "\n",
    "# MOL DESCRIPTORS\n",
    "def mol_descriptor(smiles: list, scale: bool = True) -> nm.ndarray:\n",
    "    X = []\n",
    "    for smi in tqdm(smiles):\n",
    "        m = Chem.MolFromSmiles(smi)\n",
    "        x = nm.array([Descriptors.TPSA(m),\n",
    "                      Descriptors.MolLogP(m),\n",
    "                      Descriptors.MolWt(m),\n",
    "                      Descriptors.FpDensityMorgan2(m),\n",
    "                      Descriptors.HeavyAtomMolWt(m),\n",
    "                      Descriptors.MaxPartialCharge(m),\n",
    "                      Descriptors.MinPartialCharge(m),\n",
    "                      Descriptors.NumRadicalElectrons(m),\n",
    "                      Descriptors.NumValenceElectrons(m),\n",
    "                      rdMolDescriptors.CalcFractionCSP3(m),\n",
    "                      rdMolDescriptors.CalcNumRings(m),\n",
    "                      rdMolDescriptors.CalcNumRotatableBonds(m),\n",
    "                      rdMolDescriptors.CalcNumLipinskiHBD(m),\n",
    "                      rdMolDescriptors.CalcNumLipinskiHBA(m),\n",
    "                      rdMolDescriptors.CalcNumHeterocycles(m),\n",
    "                      rdMolDescriptors.CalcNumHeavyAtoms(m),\n",
    "                      rdMolDescriptors.CalcNumAromaticRings(m),\n",
    "                      rdMolDescriptors.CalcNumAtoms(m),\n",
    "                      qed(m)])\n",
    "        X.append(x)\n",
    "\n",
    "    if scale:\n",
    "        return pre.MinMaxScaler().fit_transform(nm.array(X))\n",
    "\n",
    "    return nm.array(X)\n",
    "\n",
    "\n",
    "# EXTENDING DATAFRAME\n",
    "smiles_column = df_summary_sorted['cpd_smiles']\n",
    "Descriptors = mol_descriptor(smiles_column)\n",
    "\n",
    "df_summary_sorted[['TPSA', 'MolLogP', 'MolWt', 'FpDensityMorgan2', 'HeavyAtomMolWt',\n",
    "               'MaxPartialCharge', 'MinPartialCharge', 'NumRadicalElectrons',\n",
    "               'NumValenceElectrons', 'CalcFractionCSP3', 'CalcNumRings',\n",
    "               'CalcNumRotatableBonds', 'CalcNumLipinskiHBD', 'CalcNumLipinskiHBA',\n",
    "               'CalcNumHeterocycles', 'CalcNumHeavyAtoms', 'CalcNumAromaticRings',\n",
    "               'CalcNumAtoms', 'qed']] = Descriptors\n",
    "\n",
    "# TRANSFORMATION EC50 VALUE\n",
    "df_summary_sorted['ec50_mol'] = df_summary_sorted['apparent_ec50_umol'] / 1000000\n",
    "df_summary_sorted['ec50_mol']=df_summary_sorted['ec50_mol'].replace(0, 1e-10)\n",
    "df_summary_sorted['ec50_molair'] = df_summary_sorted['ec50_mol']/ df_summary_sorted['MolWt']\n",
    "\n",
    "#SAVING RESULTS\n",
    "df_summary_sorted.to_csv(f\"{folder}v20.data.final_summary_{experiment_id}.txt\", sep='\\t', index=False)"
   ],
   "metadata": {
    "collapsed": false,
    "ExecuteTime": {
     "end_time": "2023-06-26T21:52:35.402027200Z",
     "start_time": "2023-06-26T21:52:26.567080700Z"
    }
   }
  },
  {
   "cell_type": "markdown",
   "source": [],
   "metadata": {
    "collapsed": false
   }
  },
  {
   "cell_type": "code",
   "execution_count": 11,
   "outputs": [],
   "source": [
    "\n",
    "    ######## PREPROCESSING SCAFFOLDS  ########\n"
   ],
   "metadata": {
    "collapsed": false,
    "ExecuteTime": {
     "end_time": "2023-06-26T21:47:22.842293300Z",
     "start_time": "2023-06-26T21:47:22.808678Z"
    }
   }
  },
  {
   "cell_type": "code",
   "execution_count": 22,
   "outputs": [],
   "source": [
    " #INPUT\n",
    "df_complete = pd.read_csv(f\"{folder}v20.data.final_summary_{experiment_id}.txt\", sep='\\t')\n",
    "df_scaffold_split = df_complete[[ 'cpd_smiles','apparent_ec50_umol','MolWt','ec50_mol','ec50_molair']]\n",
    "\n",
    "# LIST OF ALL SCAFFOLDS\n",
    "smiles_list = df_scaffold_split['cpd_smiles']\n",
    "mols = [Chem.MolFromSmiles(smiles) for smiles in smiles_list]\n",
    "scaffolds = [MurckoScaffold.GetScaffoldForMol(mol) for mol in mols]\n",
    "scaffold_smiles = [Chem.MolToSmiles(scaffold) for scaffold in scaffolds]\n",
    "scaffold_smiles = list(map(str, scaffold_smiles))\n",
    "\n",
    "# RETRIEVING MOLS OF SCAFFOLDS\n",
    "molecule_scaffold = [Chem.MolFromSmiles(smile) for smile in scaffold_smiles]\n",
    "ecfp = [AllChem.GetMorganFingerprintAsBitVect(molecule, 2, nBits=1024) for molecule in molecule_scaffold]\n",
    "\n",
    "# LIST OF ALL UNIQUE SCAFFOLDS\n",
    "def get_unique_scaffolds(scaffold_smiles):\n",
    "    unique_scaffolds = []\n",
    "    for scaffold in scaffold_smiles:\n",
    "        if scaffold not in unique_scaffolds:\n",
    "            unique_scaffolds.append(scaffold)\n",
    "    return unique_scaffolds\n",
    "\n",
    "list_unique_scaffolds=get_unique_scaffolds(scaffold_smiles)\n",
    "\n",
    "# LOCATING SIMILAR SCAFFOLDS\n",
    "location_scaffolds = defaultdict(list)\n",
    "for scaffold in scaffold_smiles:\n",
    "    location_scaffolds[scaffold].append(scaffold)\n",
    "\n",
    "def location_similar_scaffolds(lijst):\n",
    "    locations = defaultdict(list)\n",
    "    for index, item in enumerate(lijst):\n",
    "        if lijst.count(item) > 1:\n",
    "            locations[item].append(index)\n",
    "    return dict(locations)\n",
    "\n",
    "locations_similar_scaffolds = location_similar_scaffolds(scaffold_smiles)\n",
    "\n",
    "# NEW DATAFRAME FOR REACCURING SCAFFOLDS\n",
    "df_scaffolds_grouped = pd.DataFrame(columns=['Compound', 'Scaffold', 'Recurring'])\n",
    "rows=[]\n",
    "symbol_mapping = {}  # Scaffold symbool dictionary\n",
    "symbol_counter = 0  # Aantal unieke scaffolds\n",
    "\n",
    "symbol_counter = 0\n",
    "symbol_mapping = {}\n",
    "rows = []\n",
    "\n",
    "for i, compound in enumerate(smiles_list):\n",
    "    scaffold = scaffold_smiles[i]\n",
    "\n",
    "    if scaffold in locations_similar_scaffolds:\n",
    "        if scaffold not in symbol_mapping:\n",
    "            symbol_counter += 1\n",
    "            symbol_mapping[scaffold] = symbol_counter\n",
    "\n",
    "        recurring_symbol = symbol_mapping[scaffold]\n",
    "        recurring = True\n",
    "    else:\n",
    "        recurring_symbol = 0\n",
    "        recurring = False\n",
    "    row = [compound, scaffold, recurring_symbol]\n",
    "    rows.append(row)\n",
    "\n",
    "df_scaffolds_grouped = pd.DataFrame(rows, columns=['cpd_smiles', 'spd_scaffold', 'recurring_scaffold'])\n",
    "\n",
    "#Toevoegen van extra data die nodig is voor de modellen\n",
    "df_scaffolds_grouped.insert(0,'ec50_molair',df_scaffold_split['ec50_molair'])\n",
    "df_scaffolds_grouped.insert(1,'MolWt',df_scaffold_split['MolWt'])\n",
    "df_scaffolds_grouped_sorted = df_scaffolds_grouped.sort_values('recurring_scaffold', ascending=False)\n",
    "\n",
    "# OUTPUT\n",
    "df_scaffolds_grouped_sorted.to_csv(f\"{folder}scaffold_split_{experiment_id}.txt\", sep='\\t', index=False)"
   ],
   "metadata": {
    "collapsed": false,
    "ExecuteTime": {
     "end_time": "2023-06-26T21:53:27.972339800Z",
     "start_time": "2023-06-26T21:53:26.885452900Z"
    }
   }
  },
  {
   "cell_type": "markdown",
   "source": [],
   "metadata": {
    "collapsed": false
   }
  },
  {
   "cell_type": "code",
   "execution_count": 23,
   "outputs": [],
   "source": [
    "\n",
    "######## ECFP SCAFFOLD SPLIT XGBOOST ########\n"
   ],
   "metadata": {
    "collapsed": false,
    "ExecuteTime": {
     "end_time": "2023-06-26T21:53:29.668540100Z",
     "start_time": "2023-06-26T21:53:29.633158700Z"
    }
   }
  },
  {
   "cell_type": "code",
   "execution_count": 33,
   "outputs": [
    {
     "name": "stdout",
     "output_type": "stream",
     "text": [
      "The length of the x_train list with grouped scaffolds is 36\n",
      "The length of the x_test list with grouped scaffolds is 9\n",
      "\n",
      "First five values of y_train with grouped scaffolds:\n",
      " [6.1774679191431465, 5.177786810229626, 3.0629221654617953, 4.149560588087754, 5.585250661642195]\n",
      "\n",
      "First five values of y_test with grouped scaffolds:\n",
      " [5.546437565477974, 3.5424595779948844, 3.8039684526980735, 7.002867750366318, 7.140120040530652]\n"
     ]
    }
   ],
   "source": [
    "# Import data\n",
    "complete_df = pd.read_csv(f\"{folder}scaffold_split_{experiment_id}.txt\", sep=\"\\t\")\n",
    "\n",
    "# Fingerprint aanmaken\n",
    "## Morgan Fingerprint ECFP\n",
    "molecules = [Chem.MolFromSmiles(smile) for smile in complete_df['cpd_smiles'].tolist()]\n",
    "ecfp = [AllChem.GetMorganFingerprintAsBitVect(molecule,2,nBits=1024) for molecule in molecules]\n",
    "complete_df['ecfp_bit_vectors'] = [[int(bit) for bit in keys.ToBitString()] for keys in ecfp]\n",
    "complete_df['ECFP'] = [''.join(str(value) for value in row) for row in complete_df['ecfp_bit_vectors']]\n",
    "\n",
    "# Transformatie EC50 | Instellen van limiten\n",
    "complete_df['ec50_molair_transformed'] = -nm.log10(complete_df['ec50_molair'])\n",
    "condition = (complete_df['ec50_molair_transformed'] < 2 ) | (complete_df['ec50_molair_transformed'] > 8)\n",
    "complete_df=complete_df[~condition]\n",
    "\n",
    "# Train- Test verhoudingen totale dataframe\n",
    "total_length_compounds = len(complete_df)\n",
    "size_train_set = total_length_compounds * 0.8\n",
    "\n",
    "# Scaffold Split | Unieke scaffolds\n",
    "# Plaats Unieke Scaffolds in aparte dataframe\n",
    "df_unique_scaffolds = complete_df[complete_df['recurring_scaffold'] == 0]\n",
    "df_unique_scaffolds = df_unique_scaffolds[['recurring_scaffold', 'ecfp_bit_vectors', 'ec50_molair_transformed']]\n",
    "# Extraheer de X en Y value van de nieuwe DF\n",
    "x_unique = nm.array(df_unique_scaffolds['ecfp_bit_vectors'].tolist()) ## X is de te gebruike compound waarde  | Fingerprint ECFP\n",
    "y_unique = df_unique_scaffolds['ec50_molair_transformed'].values ## Y is de te voorspellen compound waarde | Ec50 Molair Logtransformed\n",
    "\n",
    "# Scaffold Split | Repeterende scaffolds\n",
    "# Plaats Repeterende Scaffolds in een aparte dataframe\n",
    "df_grouped_scaffolds = complete_df[complete_df['recurring_scaffold'] > 0]\n",
    "df_grouped_scaffolds = df_grouped_scaffolds[['ecfp_bit_vectors', 'ec50_molair_transformed', 'recurring_scaffold']]\n",
    "# Extraheer de X, Y en Z value van de nieuwe DF\n",
    "x_grouped = nm.array(df_grouped_scaffolds['ecfp_bit_vectors'].tolist()) ## X is de te gebruike compound waarde  | Fingerprint ECFP\n",
    "y_grouped = df_grouped_scaffolds['ec50_molair_transformed'].values ## Y is de te voorspellen compound waarde | Ec50 Molair Logtransformed\n",
    "z_grouped = df_grouped_scaffolds['recurring_scaffold'].values.tolist() ## Z is de indicator voor overeenkomstige scaffold groepen | Elke scaffoldgroup\n",
    "\n",
    "# Scaffold Split | Train- Test verhoudingen repeterende scaffolds dataframe\n",
    "\n",
    "size_train_set_grouped_scaffolds = len(z_grouped) * 0.8\n",
    "size_train_set_grouped_scaffolds = int(size_train_set_grouped_scaffolds)\n",
    "\n",
    "# Scaffold Split | Train- Test repeterende scaffolds\n",
    "\n",
    "# Lijsten voor repeterende scaffold verdeling\n",
    "x_train_grouped = []\n",
    "y_train_grouped = []\n",
    "x_test_grouped = []\n",
    "y_test_grouped = []\n",
    "\n",
    "# Verdeling moleculen op basis van scaffold groepen\n",
    "for x in range(len(z_grouped)):\n",
    "    if x < size_train_set_grouped_scaffolds:\n",
    "        x_train_grouped.append(x_grouped[x])\n",
    "        y_train_grouped.append(y_grouped[x])\n",
    "    elif z_grouped[x] == z_grouped[x-1]:\n",
    "        x_train_grouped.append(x_grouped[x])\n",
    "        y_train_grouped.append(y_grouped[x])\n",
    "    else:\n",
    "        remaining = len(z_grouped)-x\n",
    "        break\n",
    "\n",
    "for x in range(remaining):\n",
    "    x_test_grouped.append(x_grouped[x+remaining])\n",
    "    y_test_grouped.append(y_grouped[x+remaining])\n",
    "\n",
    "# X values omzetten in juiste vorm\n",
    "x_train_grouped = [list(arr) for arr in x_train_grouped]\n",
    "x_test_grouped = [list(arr) for arr in x_test_grouped]\n",
    "\n",
    "# Indicatie resulterende lijsten\n",
    "print('The length of the x_train list with grouped scaffolds is', len(x_train_grouped))\n",
    "print('The length of the x_test list with grouped scaffolds is', len(x_test_grouped))\n",
    "print('\\nFirst five values of y_train with grouped scaffolds:\\n', y_train_grouped[0:5])\n",
    "print('\\nFirst five values of y_test with grouped scaffolds:\\n',y_test_grouped[0:5])\n",
    "\n",
    "# Scaffold Split | Train- Test unieke scaffolds\n",
    "# Random verdeling van unieke scaffolds\n",
    "from sklearn.model_selection import train_test_split\n",
    "x_train_unique,x_test_unique,y_train_unique,y_test_unique=train_test_split(x_unique,y_unique,test_size=0.2, random_state=42)\n",
    "# X values omzetten in juiste vorm\n",
    "x_train_unique = [list(arr) for arr in x_train_unique]\n",
    "x_test_unique = [list(arr) for arr in x_test_unique]\n",
    "\n",
    "# Scaffold Split | Uiteindelijke Train- Tests vormen\n",
    "# Samenvoegen van verdelingen unieke scaffolds en repeterende scaffolds\n",
    "x_train_scaffolds = nm.concatenate((x_train_grouped, x_train_unique))\n",
    "x_test_scaffolds = nm.concatenate((x_test_grouped, x_test_unique))\n",
    "y_train_scaffolds = nm.concatenate((y_train_grouped, y_train_unique))\n",
    "y_test_scaffolds = nm.concatenate((y_test_grouped, y_test_unique))"
   ],
   "metadata": {
    "collapsed": false,
    "ExecuteTime": {
     "end_time": "2023-06-26T22:18:29.753380400Z",
     "start_time": "2023-06-26T22:18:26.614116800Z"
    }
   }
  },
  {
   "cell_type": "markdown",
   "source": [],
   "metadata": {
    "collapsed": false
   }
  },
  {
   "cell_type": "code",
   "execution_count": null,
   "outputs": [],
   "source": [
    "\n",
    "    ######## SUPPORT VECTOR REGRESSISON MODEL  ########\n"
   ],
   "metadata": {
    "collapsed": false,
    "ExecuteTime": {
     "start_time": "2023-06-26T22:18:25.439103Z"
    }
   }
  },
  {
   "cell_type": "code",
   "execution_count": 34,
   "outputs": [
    {
     "name": "stdout",
     "output_type": "stream",
     "text": [
      "root mean squared error is  1.0900333689393182\n",
      "r2 is 0.17838750958525895\n",
      "std_dev is 0.48814142\n"
     ]
    },
    {
     "data": {
      "text/plain": "<Figure size 640x480 with 1 Axes>",
      "image/png": "[encoded data removed]"
     },
     "metadata": {},
     "output_type": "display_data"
    }
   ],
   "source": [
    "# Fit XGBoost-regressiemodel\n",
    "grid = xgb.XGBRegressor(learning_rate= 0.01, max_depth= 3, n_estimators= 500)\n",
    "grid.fit(x_train_scaffolds,y_train_scaffolds)\n",
    "\n",
    "# Predict Test result\n",
    "y_pred_scaffolds  = grid.predict(x_test_scaffolds)\n",
    "\n",
    "# Prestatie en Evaluatie\n",
    "# Root Mean Squared Error\n",
    "mse = mean_squared_error(y_test_scaffolds, y_pred_scaffolds)\n",
    "rmse = math.sqrt(mse)\n",
    "print('root mean squared error is ', rmse)\n",
    "\n",
    "# R2 berekenen\n",
    "slope, intercept = nm.polyfit(y_test_scaffolds,y_pred_scaffolds,1)\n",
    "line = slope * nm.array(y_test_scaffolds)+ intercept\n",
    "r2 = r2_score(y_test_scaffolds, y_pred_scaffolds)\n",
    "print('r2 is', r2)\n",
    "\n",
    "# Residuen berekenen\n",
    "residuen_scaffold = y_test_scaffolds- y_pred_scaffolds\n",
    "\n",
    "# Standard Deviation berekenen\n",
    "std_dev = nm.std(y_pred_scaffolds)\n",
    "print('std_dev is', std_dev)\n",
    "\n",
    "# R2 Visualisatie\n",
    "plt.scatter(y_test_scaffolds,y_pred_scaffolds)\n",
    "plt.plot(y_test_scaffolds, line, color='red', label='line of current best fit')\n",
    "plt.xlabel('y_test Scaffold Split')\n",
    "plt.ylabel('y_pred Scaffold Split')\n",
    "plt.xlim(2,8)\n",
    "plt.ylim(2,8)\n",
    "plt.title('Random Forest | Scaffold Split\\nScatterplot with Line of Best Fit (R2 = {:.2f})'.format(r2))\n",
    "plt.show()"
   ],
   "metadata": {
    "collapsed": false,
    "ExecuteTime": {
     "end_time": "2023-06-26T22:18:37.017774500Z",
     "start_time": "2023-06-26T22:18:32.999685500Z"
    }
   }
  },
  {
   "cell_type": "markdown",
   "source": [],
   "metadata": {
    "collapsed": false
   }
  },
  {
   "cell_type": "code",
   "execution_count": 27,
   "outputs": [],
   "source": [
    "\n",
    "######## OPTIMIZED ECFP SCAFFOLD SPLIT XGBOOST  ########\n"
   ],
   "metadata": {
    "collapsed": false,
    "ExecuteTime": {
     "end_time": "2023-06-26T21:56:21.319100700Z",
     "start_time": "2023-06-26T21:56:21.266772700Z"
    }
   }
  },
  {
   "cell_type": "code",
   "execution_count": 35,
   "outputs": [
    {
     "name": "stdout",
     "output_type": "stream",
     "text": [
      "Beste hyperparameters:  {'learning_rate': 0.01, 'max_depth': 3, 'n_estimators': 500}\n",
      "Beste score:  -1.3232510729225893\n"
     ]
    }
   ],
   "source": [
    "import xgboost as xgb\n",
    "from sklearn.model_selection import GridSearchCV\n",
    "\n",
    "# Definieer de hyperparametergrid\n",
    "param_grid = {\n",
    "    'learning_rate': [0.1, 0.01, 0.001],\n",
    "    'max_depth': [3, 5, 7],\n",
    "    'n_estimators': [100, 200, 300, 500],\n",
    "}\n",
    "\n",
    "# Maak een XGBoost-regressiemodel\n",
    "model = xgb.XGBRegressor()\n",
    "\n",
    "# Maak een GridSearchCV-object met het model en het hyperparametergrid\n",
    "grid_search = GridSearchCV(estimator=model, param_grid=param_grid, scoring='neg_mean_squared_error', cv=5)\n",
    "\n",
    "# Fit het GridSearchCV-object op je trainingsdata\n",
    "grid_search.fit(x_train_scaffolds, y_train_scaffolds)\n",
    "\n",
    "# Bekijk de beste hyperparameters en beste score\n",
    "print(\"Beste hyperparameters: \", grid_search.best_params_)\n",
    "print(\"Beste score: \", grid_search.best_score_)\n",
    "\n",
    "# Voorspel met het beste model op de testdata\n",
    "y_pred = grid_search.predict(x_test_scaffolds)\n"
   ],
   "metadata": {
    "collapsed": false,
    "ExecuteTime": {
     "end_time": "2023-06-26T22:22:28.767800300Z",
     "start_time": "2023-06-26T22:19:01.791748200Z"
    }
   }
  },
  {
   "cell_type": "markdown",
   "source": [],
   "metadata": {
    "collapsed": false
   }
  },
  {
   "cell_type": "code",
   "execution_count": 29,
   "outputs": [],
   "source": [
    "\n",
    "######## EXTENDED MOLECULAR DESCRIPTOR  ########\n"
   ],
   "metadata": {
    "collapsed": false,
    "ExecuteTime": {
     "end_time": "2023-06-26T22:01:24.666988Z",
     "start_time": "2023-06-26T22:01:24.454027500Z"
    }
   }
  },
  {
   "cell_type": "code",
   "execution_count": 30,
   "outputs": [
    {
     "data": {
      "text/plain": "  0%|          | 0/379 [00:00<?, ?it/s]",
      "application/vnd.jupyter.widget-view+json": {
       "version_major": 2,
       "version_minor": 0,
       "model_id": "28d6c1483ec74f8c8e5b4bd60f0a10ee"
      }
     },
     "metadata": {},
     "output_type": "display_data"
    },
    {
     "name": "stdout",
     "output_type": "stream",
     "text": [
      "root mean squared error is  1.1152302465022423\n",
      "r2 is 0.1897787161691472\n",
      "std_dev is 0.4891542827846239\n"
     ]
    },
    {
     "data": {
      "text/plain": "<Figure size 640x480 with 1 Axes>",
      "image/png": "[encoded data removed]"
     },
     "metadata": {},
     "output_type": "display_data"
    }
   ],
   "source": [
    "from tqdm.auto import tqdm\n",
    "from rdkit.Chem.QED import qed\n",
    "from rdkit.Chem import Descriptors, rdMolDescriptors\n",
    "from sklearn import preprocessing as pre\n",
    "from typing import List\n",
    "\n",
    "# Import data\n",
    "complete_df = pd.read_csv(f\"{folder}scaffold_split_{experiment_id}.txt\", sep=\"\\t\")\n",
    "\n",
    " # Fingerprint aanmaken\n",
    "## Morgan Fingerprint ECFP\n",
    "molecules = [Chem.MolFromSmiles(smile) for smile in complete_df['cpd_smiles'].tolist()]\n",
    "ecfp = [AllChem.GetMorganFingerprintAsBitVect(molecule,2,nBits=1024) for molecule in molecules]\n",
    "complete_df['ecfp_bit_vectors'] = [[int(bit) for bit in keys.ToBitString()] for keys in ecfp]\n",
    "complete_df['ECFP'] = [''.join(str(value) for value in row) for row in complete_df['ecfp_bit_vectors']]\n",
    "\n",
    "# Transformatie EC50 | Instellen van limiten\n",
    "complete_df['ec50_molair_transformed'] = -nm.log10(complete_df['ec50_molair'])\n",
    "condition = (complete_df['ec50_molair_transformed'] < 2 ) | (complete_df['ec50_molair_transformed'] > 8)\n",
    "complete_df=complete_df[~condition]\n",
    "\n",
    "def mol_descriptor(smiles: List[str], scale: bool = True) -> nm.ndarray:\n",
    "    X = []\n",
    "    for smi in tqdm(smiles):\n",
    "        m = Chem.MolFromSmiles(smi)\n",
    "        x = nm.array([Descriptors.TPSA(m),\n",
    "                      Descriptors.MolLogP(m),\n",
    "                      Descriptors.MolWt(m),\n",
    "                      Descriptors.FpDensityMorgan2(m),\n",
    "                      Descriptors.HeavyAtomMolWt(m),\n",
    "                      Descriptors.MaxPartialCharge(m),\n",
    "                      Descriptors.MinPartialCharge(m),\n",
    "                      Descriptors.NumRadicalElectrons(m),\n",
    "                      Descriptors.NumValenceElectrons(m),\n",
    "                      rdMolDescriptors.CalcFractionCSP3(m),\n",
    "                      rdMolDescriptors.CalcNumRings(m),\n",
    "                      rdMolDescriptors.CalcNumRotatableBonds(m),\n",
    "                      rdMolDescriptors.CalcNumLipinskiHBD(m),\n",
    "                      rdMolDescriptors.CalcNumLipinskiHBA(m),\n",
    "                      rdMolDescriptors.CalcNumHeterocycles(m),\n",
    "                      rdMolDescriptors.CalcNumHeavyAtoms(m),\n",
    "                      rdMolDescriptors.CalcNumAromaticRings(m),\n",
    "                      rdMolDescriptors.CalcNumAtoms(m),\n",
    "                      qed(m)])\n",
    "        X.append(x)\n",
    "\n",
    "    if scale:\n",
    "        return pre.MinMaxScaler().fit_transform(nm.array(X))\n",
    "\n",
    "    return nm.array(X)\n",
    "\n",
    "\n",
    "smiles_column = complete_df['cpd_smiles']\n",
    "descriptors = mol_descriptor(smiles_column)\n",
    "\n",
    "complete_df[['TPSA', 'MolLogP', 'MolWt', 'FpDensityMorgan2', 'HeavyAtomMolWt',\n",
    "               'MaxPartialCharge', 'MinPartialCharge', 'NumRadicalElectrons',\n",
    "               'NumValenceElectrons', 'CalcFractionCSP3', 'CalcNumRings',\n",
    "               'CalcNumRotatableBonds', 'CalcNumLipinskiHBD', 'CalcNumLipinskiHBA',\n",
    "               'CalcNumHeterocycles', 'CalcNumHeavyAtoms', 'CalcNumAromaticRings',\n",
    "               'CalcNumAtoms', 'qed']] = descriptors\n",
    "\n",
    "total_descriptors = complete_df[['TPSA', 'MolLogP', 'MolWt', 'FpDensityMorgan2', 'HeavyAtomMolWt',\n",
    "               'MaxPartialCharge', 'MinPartialCharge', 'NumRadicalElectrons',\n",
    "               'NumValenceElectrons', 'CalcFractionCSP3', 'CalcNumRings',\n",
    "               'CalcNumRotatableBonds', 'CalcNumLipinskiHBD', 'CalcNumLipinskiHBA',\n",
    "               'CalcNumHeterocycles', 'CalcNumHeavyAtoms', 'CalcNumAromaticRings',\n",
    "               'CalcNumAtoms', 'qed']]\n",
    "\n",
    "list_of_descriptor_names = ['TPSA', 'MolLogP', 'MolWt', 'FpDensityMorgan2', 'HeavyAtomMolWt',\n",
    "               'MaxPartialCharge', 'MinPartialCharge', 'NumRadicalElectrons',\n",
    "               'NumValenceElectrons', 'CalcFractionCSP3', 'CalcNumRings',\n",
    "               'CalcNumRotatableBonds', 'CalcNumLipinskiHBD', 'CalcNumLipinskiHBA',\n",
    "               'CalcNumHeterocycles', 'CalcNumHeavyAtoms', 'CalcNumAromaticRings',\n",
    "               'CalcNumAtoms', 'qed']\n",
    "\n",
    "total_descriptors.shape\n",
    "complete_df.shape\n",
    "\n",
    " # Plaats Unieke Scaffolds in aparte dataframe\n",
    "df_unique_scaffolds = complete_df[complete_df['recurring_scaffold'] == 0]\n",
    "df_unique_scaffolds = df_unique_scaffolds[['recurring_scaffold', 'ecfp_bit_vectors', 'ec50_molair_transformed','TPSA', 'MolLogP', 'MolWt', 'FpDensityMorgan2', 'HeavyAtomMolWt',\n",
    "               'MaxPartialCharge', 'MinPartialCharge', 'NumRadicalElectrons',\n",
    "               'NumValenceElectrons', 'CalcFractionCSP3', 'CalcNumRings',\n",
    "               'CalcNumRotatableBonds', 'CalcNumLipinskiHBD', 'CalcNumLipinskiHBA',\n",
    "               'CalcNumHeterocycles', 'CalcNumHeavyAtoms', 'CalcNumAromaticRings',\n",
    "               'CalcNumAtoms', 'qed']].dropna()\n",
    "\n",
    "total_descriptors = df_unique_scaffolds[['TPSA', 'MolLogP', 'MolWt', 'FpDensityMorgan2', 'HeavyAtomMolWt',\n",
    "               'MaxPartialCharge', 'MinPartialCharge', 'NumRadicalElectrons',\n",
    "               'NumValenceElectrons', 'CalcFractionCSP3', 'CalcNumRings',\n",
    "               'CalcNumRotatableBonds', 'CalcNumLipinskiHBD', 'CalcNumLipinskiHBA',\n",
    "               'CalcNumHeterocycles', 'CalcNumHeavyAtoms', 'CalcNumAromaticRings',\n",
    "               'CalcNumAtoms', 'qed']]\n",
    "\n",
    "# Extraheer de X en Y value van de nieuwe DF\n",
    "x_unique = nm.array(df_unique_scaffolds['ecfp_bit_vectors'].tolist())\n",
    "x_unique = nm.concatenate((x_unique, total_descriptors), axis=1)## X is de te gebruike compound waarde  | Fingerprint ECFP\n",
    "y_unique = df_unique_scaffolds['ec50_molair_transformed'].values ## Y is de te voorspellen compound waarde | Ec50 Molair Logtransformed\n",
    "\n",
    "# Plaats Repeterende Scaffolds in een aparte dataframe\n",
    "df_grouped_scaffolds = complete_df[complete_df['recurring_scaffold'] > 0]\n",
    "df_grouped_scaffolds = df_grouped_scaffolds[['ecfp_bit_vectors', 'ec50_molair_transformed', 'recurring_scaffold', 'TPSA', 'MolLogP', 'MolWt', 'FpDensityMorgan2', 'HeavyAtomMolWt',\n",
    "               'MaxPartialCharge', 'MinPartialCharge', 'NumRadicalElectrons',\n",
    "               'NumValenceElectrons', 'CalcFractionCSP3', 'CalcNumRings',\n",
    "               'CalcNumRotatableBonds', 'CalcNumLipinskiHBD', 'CalcNumLipinskiHBA',\n",
    "               'CalcNumHeterocycles', 'CalcNumHeavyAtoms', 'CalcNumAromaticRings',\n",
    "               'CalcNumAtoms', 'qed']].dropna()\n",
    "\n",
    "total_descriptors = df_grouped_scaffolds[['TPSA', 'MolLogP', 'MolWt', 'FpDensityMorgan2', 'HeavyAtomMolWt',\n",
    "               'MaxPartialCharge', 'MinPartialCharge', 'NumRadicalElectrons',\n",
    "               'NumValenceElectrons', 'CalcFractionCSP3', 'CalcNumRings',\n",
    "               'CalcNumRotatableBonds', 'CalcNumLipinskiHBD', 'CalcNumLipinskiHBA',\n",
    "               'CalcNumHeterocycles', 'CalcNumHeavyAtoms', 'CalcNumAromaticRings',\n",
    "               'CalcNumAtoms', 'qed']]\n",
    "\n",
    "# Extraheer de X, Y en Z value van de nieuwe DF\n",
    "x_grouped = nm.array(df_grouped_scaffolds['ecfp_bit_vectors'].tolist()) ## X is de te gebruike compound waarde  | Fingerprint ECFP\n",
    "x_grouped = nm.concatenate((x_grouped, total_descriptors), axis=1)\n",
    "y_grouped = df_grouped_scaffolds['ec50_molair_transformed'].values ## Y is de te voorspellen compound waarde | Ec50 Molair Logtransformed\n",
    "z_grouped = df_grouped_scaffolds['recurring_scaffold'].values.tolist() ## Z is de indicator voor overeenkomstige scaffold groepen | Elke scaffoldgroup\n",
    "\n",
    "size_train_set_grouped_scaffolds = len(z_grouped) * 0.8\n",
    "size_train_set_grouped_scaffolds = int(size_train_set_grouped_scaffolds)\n",
    "\n",
    "# Lijsten voor repeterende scaffold verdeling\n",
    "x_train_grouped = []\n",
    "y_train_grouped = []\n",
    "x_test_grouped = []\n",
    "y_test_grouped = []\n",
    "\n",
    "# Verdeling moleculen op basis van scaffold groepen\n",
    "for x in range(len(z_grouped)):\n",
    "    if x < size_train_set_grouped_scaffolds:\n",
    "        x_train_grouped.append(x_grouped[x])\n",
    "        y_train_grouped.append(y_grouped[x])\n",
    "    elif z_grouped[x] == z_grouped[x-1]:\n",
    "        x_train_grouped.append(x_grouped[x])\n",
    "        y_train_grouped.append(y_grouped[x])\n",
    "    else:\n",
    "        remaining = len(z_grouped)-x\n",
    "        break\n",
    "\n",
    "for x in range(remaining):\n",
    "    x_test_grouped.append(x_grouped[x+remaining])\n",
    "    y_test_grouped.append(y_grouped[x+remaining])\n",
    "\n",
    "# X values omzetten in juiste vorm\n",
    "x_train_grouped = [list(arr) for arr in x_train_grouped]\n",
    "x_test_grouped = [list(arr) for arr in x_test_grouped]\n",
    "\n",
    "# Random verdeling van unieke scaffolds\n",
    "from sklearn.model_selection import train_test_split\n",
    "x_train_unique,x_test_unique,y_train_unique,y_test_unique=train_test_split(x_unique,y_unique,test_size=0.2, random_state=42)\n",
    "\n",
    "# X values omzetten in juiste vorm\n",
    "x_train_unique = [list(arr) for arr in x_train_unique]\n",
    "x_test_unique = [list(arr) for arr in x_test_unique]\n",
    "\n",
    "# Samenvoegen van verdelingen unieke scaffolds en repeterende scaffolds\n",
    "x_train_scaffolds = nm.concatenate((x_train_grouped, x_train_unique))\n",
    "x_test_scaffolds = nm.concatenate((x_test_grouped, x_test_unique))\n",
    "\n",
    "y_train_scaffolds = nm.concatenate((y_train_grouped, y_train_unique))\n",
    "y_test_scaffolds = nm.concatenate((y_test_grouped, y_test_unique))\n",
    "\n",
    "# Support Vector Regression Model\n",
    "model = SVR(C=1, epsilon=0.01, kernel='rbf')\n",
    "model.fit(x_train_scaffolds,y_train_scaffolds)\n",
    "y_pred_scaffolds = model.predict(x_test_scaffolds)\n",
    "\n",
    "# Prestatie en Evaluatie\n",
    "from sklearn.metrics import mean_absolute_error, mean_squared_error, r2_score\n",
    "\n",
    "# Root Mean Squared Error\n",
    "mse = mean_squared_error(y_test_scaffolds, y_pred_scaffolds)\n",
    "rmse = math.sqrt(mse)\n",
    "print('root mean squared error is ', rmse)\n",
    "\n",
    "# R2 berekenen\n",
    "slope, intercept = nm.polyfit(y_test_scaffolds,y_pred_scaffolds,1)\n",
    "line = slope * nm.array(y_test_scaffolds)+ intercept\n",
    "r2 = r2_score(y_test_scaffolds, y_pred_scaffolds)\n",
    "print('r2 is', r2)\n",
    "\n",
    "# Residuen berekenen\n",
    "residuen_scaffold = y_test_scaffolds- y_pred_scaffolds\n",
    "\n",
    "# Standard Deviation berekenen\n",
    "std_dev = nm.std(y_pred_scaffolds)\n",
    "print('std_dev is', std_dev)\n",
    "\n",
    "# R2 Visualisatie\n",
    "plt.scatter(y_test_scaffolds,y_pred_scaffolds)\n",
    "plt.plot(y_test_scaffolds, line, color='red', label='line of current best fit')\n",
    "plt.xlabel('y_test Scaffold Split')\n",
    "plt.ylabel('y_pred Scaffold Split')\n",
    "plt.xlim(2,8)\n",
    "plt.ylim(2,8)\n",
    "plt.title('Support Vector Regression | Cell Lines \\nScatterplot with Line of Best Fit (R2 = {:.2f})'.format(r2))\n",
    "plt.show()"
   ],
   "metadata": {
    "collapsed": false,
    "ExecuteTime": {
     "end_time": "2023-06-26T22:01:57.187245300Z",
     "start_time": "2023-06-26T22:01:48.319402100Z"
    }
   }
  },
  {
   "cell_type": "code",
   "execution_count": null,
   "outputs": [],
   "source": [
    "import xgboost as xgb\n",
    "from sklearn.model_selection import GridSearchCV\n",
    "\n",
    "# Definieer de hyperparametergrid\n",
    "param_grid = {\n",
    "    'learning_rate': [0.1, 0.01, 0.001],\n",
    "    'max_depth': [3, 5, 7],\n",
    "    'n_estimators': [100, 200, 300],\n",
    "}\n",
    "\n",
    "# Maak een XGBoost-regressiemodel\n",
    "model = xgb.XGBRegressor()\n",
    "\n",
    "# Maak een GridSearchCV-object met het model en het hyperparametergrid\n",
    "grid_search = GridSearchCV(estimator=model, param_grid=param_grid, scoring='neg_mean_squared_error', cv=5)\n",
    "\n",
    "# Fit het GridSearchCV-object op je trainingsdata\n",
    "grid_search.fit(x_train_scaffolds, y_train_scaffolds)\n",
    "\n",
    "# Bekijk de beste hyperparameters en beste score\n",
    "print(\"Beste hyperparameters: \", grid_search.best_params_)\n",
    "print(\"Beste score: \", grid_search.best_score_)\n",
    "\n",
    "# Voorspel met het beste model op de testdata\n",
    "y_pred = grid_search.predict(x_test_scaffolds)\n"
   ],
   "metadata": {
    "collapsed": false,
    "is_executing": true,
    "ExecuteTime": {
     "start_time": "2023-06-26T22:33:30.447673800Z"
    }
   }
  },
  {
   "cell_type": "code",
   "execution_count": null,
   "outputs": [],
   "source": [],
   "metadata": {
    "collapsed": false
   }
  }
 ],
 "metadata": {
  "kernelspec": {
   "display_name": "Python 3",
   "language": "python",
   "name": "python3"
  },
  "language_info": {
   "codemirror_mode": {
    "name": "ipython",
    "version": 2
   },
   "file_extension": ".py",
   "mimetype": "text/x-python",
   "name": "python",
   "nbconvert_exporter": "python",
   "pygments_lexer": "ipython2",
   "version": "2.7.6"
  }
 },
 "nbformat": 4,
 "nbformat_minor": 0
}
