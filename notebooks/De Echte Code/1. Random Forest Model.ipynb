{
 "cells": [
  {
   "cell_type": "code",
   "execution_count": 1,
   "metadata": {
    "collapsed": true,
    "ExecuteTime": {
     "end_time": "2023-06-26T18:18:50.605854600Z",
     "start_time": "2023-06-26T18:18:50.587614300Z"
    }
   },
   "outputs": [],
   "source": [
    "    ######## PREPARING DATA  ########"
   ]
  },
  {
   "cell_type": "code",
   "execution_count": 2,
   "outputs": [],
   "source": [
    "import matplotlib.pyplot as plt\n",
    "import numpy as nm\n",
    "import pandas as pd\n",
    "import math\n",
    "from rdkit import Chem\n",
    "from tqdm import tqdm\n",
    "from rdkit.Chem import AllChem, Descriptors, rdMolDescriptors\n",
    "from sklearn.model_selection import train_test_split\n",
    "from sklearn.preprocessing import StandardScaler\n",
    "from rdkit.Chem.Scaffolds import MurckoScaffold\n",
    "from sklearn import preprocessing as pre\n",
    "from collections import defaultdict\n",
    "from sklearn.model_selection import train_test_split\n",
    "from sklearn.ensemble import RandomForestRegressor\n",
    "from sklearn.metrics import mean_absolute_error, mean_squared_error, r2_score\n",
    "from rdkit.Chem.QED import qed"
   ],
   "metadata": {
    "collapsed": false,
    "ExecuteTime": {
     "end_time": "2023-06-26T18:19:02.687506300Z",
     "start_time": "2023-06-26T18:18:51.304050600Z"
    }
   }
  },
  {
   "cell_type": "code",
   "execution_count": 7,
   "outputs": [
    {
     "name": "stderr",
     "output_type": "stream",
     "text": [
      "  0%|          | 0/446 [00:00<?, ?it/s]\n"
     ]
    },
    {
     "ename": "AttributeError",
     "evalue": "'numpy.ndarray' object has no attribute 'TPSA'",
     "output_type": "error",
     "traceback": [
      "\u001B[1;31m---------------------------------------------------------------------------\u001B[0m",
      "\u001B[1;31mAttributeError\u001B[0m                            Traceback (most recent call last)",
      "\u001B[1;32m~\\AppData\\Local\\Temp\\ipykernel_16248\\1619347648.py\u001B[0m in \u001B[0;36m<module>\u001B[1;34m\u001B[0m\n\u001B[0;32m     45\u001B[0m \u001B[1;31m# EXTENDING DATAFRAME\u001B[0m\u001B[1;33m\u001B[0m\u001B[1;33m\u001B[0m\u001B[1;33m\u001B[0m\u001B[0m\n\u001B[0;32m     46\u001B[0m \u001B[0msmiles_column\u001B[0m \u001B[1;33m=\u001B[0m \u001B[0mdf_summary_sorted\u001B[0m\u001B[1;33m[\u001B[0m\u001B[1;34m'cpd_smiles'\u001B[0m\u001B[1;33m]\u001B[0m\u001B[1;33m\u001B[0m\u001B[1;33m\u001B[0m\u001B[0m\n\u001B[1;32m---> 47\u001B[1;33m \u001B[0mdescriptors\u001B[0m \u001B[1;33m=\u001B[0m \u001B[0mmol_descriptor\u001B[0m\u001B[1;33m(\u001B[0m\u001B[0msmiles_column\u001B[0m\u001B[1;33m)\u001B[0m\u001B[1;33m\u001B[0m\u001B[1;33m\u001B[0m\u001B[0m\n\u001B[0m\u001B[0;32m     48\u001B[0m \u001B[1;33m\u001B[0m\u001B[0m\n\u001B[0;32m     49\u001B[0m \u001B[0mdf_summary_sorted\u001B[0m\u001B[1;33m[\u001B[0m\u001B[1;33m[\u001B[0m\u001B[1;34m'TPSA'\u001B[0m\u001B[1;33m,\u001B[0m \u001B[1;34m'MolLogP'\u001B[0m\u001B[1;33m,\u001B[0m \u001B[1;34m'MolWt'\u001B[0m\u001B[1;33m,\u001B[0m \u001B[1;34m'FpDensityMorgan2'\u001B[0m\u001B[1;33m,\u001B[0m \u001B[1;34m'HeavyAtomMolWt'\u001B[0m\u001B[1;33m,\u001B[0m \u001B[1;34m'MaxPartialCharge'\u001B[0m\u001B[1;33m,\u001B[0m \u001B[1;34m'MinPartialCharge'\u001B[0m\u001B[1;33m,\u001B[0m \u001B[1;34m'NumRadicalElectrons'\u001B[0m\u001B[1;33m,\u001B[0m \u001B[1;34m'NumValenceElectrons'\u001B[0m\u001B[1;33m,\u001B[0m \u001B[1;34m'CalcFractionCSP3'\u001B[0m\u001B[1;33m,\u001B[0m \u001B[1;34m'CalcNumRings'\u001B[0m\u001B[1;33m,\u001B[0m \u001B[1;34m'CalcNumRotatableBonds'\u001B[0m\u001B[1;33m,\u001B[0m \u001B[1;34m'CalcNumLipinskiHBD'\u001B[0m\u001B[1;33m,\u001B[0m \u001B[1;34m'CalcNumLipinskiHBA'\u001B[0m\u001B[1;33m,\u001B[0m \u001B[1;34m'CalcNumHeterocycles'\u001B[0m\u001B[1;33m,\u001B[0m \u001B[1;34m'CalcNumHeavyAtoms'\u001B[0m\u001B[1;33m,\u001B[0m \u001B[1;34m'CalcNumAromaticRings'\u001B[0m\u001B[1;33m,\u001B[0m \u001B[1;34m'CalcNumAtoms'\u001B[0m\u001B[1;33m,\u001B[0m \u001B[1;34m'qed'\u001B[0m\u001B[1;33m]\u001B[0m\u001B[1;33m]\u001B[0m \u001B[1;33m=\u001B[0m \u001B[0mdescriptors\u001B[0m\u001B[1;33m\u001B[0m\u001B[1;33m\u001B[0m\u001B[0m\n",
      "\u001B[1;32m~\\AppData\\Local\\Temp\\ipykernel_16248\\1619347648.py\u001B[0m in \u001B[0;36mmol_descriptor\u001B[1;34m(smiles, scale)\u001B[0m\n\u001B[0;32m     16\u001B[0m     \u001B[1;32mfor\u001B[0m \u001B[0msmi\u001B[0m \u001B[1;32min\u001B[0m \u001B[0mtqdm\u001B[0m\u001B[1;33m(\u001B[0m\u001B[0msmiles\u001B[0m\u001B[1;33m)\u001B[0m\u001B[1;33m:\u001B[0m\u001B[1;33m\u001B[0m\u001B[1;33m\u001B[0m\u001B[0m\n\u001B[0;32m     17\u001B[0m         \u001B[0mm\u001B[0m \u001B[1;33m=\u001B[0m \u001B[0mChem\u001B[0m\u001B[1;33m.\u001B[0m\u001B[0mMolFromSmiles\u001B[0m\u001B[1;33m(\u001B[0m\u001B[0msmi\u001B[0m\u001B[1;33m)\u001B[0m\u001B[1;33m\u001B[0m\u001B[1;33m\u001B[0m\u001B[0m\n\u001B[1;32m---> 18\u001B[1;33m         x = nm.array([Descriptors.TPSA(m),\n\u001B[0m\u001B[0;32m     19\u001B[0m                       \u001B[0mDescriptors\u001B[0m\u001B[1;33m.\u001B[0m\u001B[0mMolLogP\u001B[0m\u001B[1;33m(\u001B[0m\u001B[0mm\u001B[0m\u001B[1;33m)\u001B[0m\u001B[1;33m,\u001B[0m\u001B[1;33m\u001B[0m\u001B[1;33m\u001B[0m\u001B[0m\n\u001B[0;32m     20\u001B[0m                       \u001B[0mDescriptors\u001B[0m\u001B[1;33m.\u001B[0m\u001B[0mMolWt\u001B[0m\u001B[1;33m(\u001B[0m\u001B[0mm\u001B[0m\u001B[1;33m)\u001B[0m\u001B[1;33m,\u001B[0m\u001B[1;33m\u001B[0m\u001B[1;33m\u001B[0m\u001B[0m\n",
      "\u001B[1;31mAttributeError\u001B[0m: 'numpy.ndarray' object has no attribute 'TPSA'"
     ]
    }
   ],
   "source": [
    "# INPUT\n",
    "folder = 'C:\\\\Users\\\\vswen\\\\Documents\\\\1. Biomedische Technologie\\\\BMT JAAR 5\\\\Kwart 4\\\\4. Data\\\\CTRPv2.0_2015_ctd2_ExpandedDataset\\\\'\n",
    "experiment_id = 419\n",
    "df_large = pd.read_csv(f\"{folder}v20.data.curves_post_qc.txt\", sep='\\t')\n",
    "df_smiles = pd.read_csv(f\"{folder}v20.meta.per_compound.txt\", sep='\\t')\n",
    "\n",
    "# BUNDELING\n",
    "df_large=df_large[df_large['experiment_id'] == experiment_id]\n",
    "df_summary = df_large[[ 'master_cpd_id','apparent_ec50_umol']]\n",
    "extracted_col = df_smiles[[\"master_cpd_id\",\"cpd_smiles\"]]\n",
    "df_summary_sorted = pd.merge(df_summary, extracted_col, on='master_cpd_id', how='left')\n",
    "\n",
    "# MOL DESCRIPTORS\n",
    "def mol_descriptor(smiles: list, scale: bool = True) -> nm.ndarray:\n",
    "    X = []\n",
    "    for smi in tqdm(smiles):\n",
    "        m = Chem.MolFromSmiles(smi)\n",
    "        x = nm.array([Descriptors.TPSA(m),\n",
    "                      Descriptors.MolLogP(m),\n",
    "                      Descriptors.MolWt(m),\n",
    "                      Descriptors.FpDensityMorgan2(m),\n",
    "                      Descriptors.HeavyAtomMolWt(m),\n",
    "                      Descriptors.MaxPartialCharge(m),\n",
    "                      Descriptors.MinPartialCharge(m),\n",
    "                      Descriptors.NumRadicalElectrons(m),\n",
    "                      Descriptors.NumValenceElectrons(m),\n",
    "                      rdMolDescriptors.CalcFractionCSP3(m),\n",
    "                      rdMolDescriptors.CalcNumRings(m),\n",
    "                      rdMolDescriptors.CalcNumRotatableBonds(m),\n",
    "                      rdMolDescriptors.CalcNumLipinskiHBD(m),\n",
    "                      rdMolDescriptors.CalcNumLipinskiHBA(m),\n",
    "                      rdMolDescriptors.CalcNumHeterocycles(m),\n",
    "                      rdMolDescriptors.CalcNumHeavyAtoms(m),\n",
    "                      rdMolDescriptors.CalcNumAromaticRings(m),\n",
    "                      rdMolDescriptors.CalcNumAtoms(m),\n",
    "                      qed(m)])\n",
    "        X.append(x)\n",
    "\n",
    "    if scale:\n",
    "        return pre.MinMaxScaler().fit_transform(nm.array(X))\n",
    "\n",
    "    return nm.array(X)\n",
    "\n",
    "\n",
    "# EXTENDING DATAFRAME\n",
    "smiles_column = df_summary_sorted['cpd_smiles']\n",
    "descriptors = mol_descriptor(smiles_column)\n",
    "\n",
    "df_summary_sorted[['TPSA', 'MolLogP', 'MolWt', 'FpDensityMorgan2', 'HeavyAtomMolWt', 'MaxPartialCharge', 'MinPartialCharge', 'NumRadicalElectrons', 'NumValenceElectrons', 'CalcFractionCSP3', 'CalcNumRings', 'CalcNumRotatableBonds', 'CalcNumLipinskiHBD', 'CalcNumLipinskiHBA', 'CalcNumHeterocycles', 'CalcNumHeavyAtoms', 'CalcNumAromaticRings', 'CalcNumAtoms', 'qed']] = descriptors\n",
    "\n",
    "# ECFP Maken\n",
    "molecules = [Chem.MolFromSmiles(smile) for smile in df_summary_sorted['cpd_smiles'].tolist()]\n",
    "ecfp = [AllChem.GetMorganFingerprintAsBitVect(molecule,2,nBits=1024) for molecule in molecules]\n",
    "df_summary_sorted['ecfp_bit_vectors'] = [[int(bit) for bit in keys.ToBitString()] for keys in ecfp]\n",
    "df_summary_sorted['ECFP'] = [''.join(str(value) for value in row) for row in df_summary_sorted['ecfp_bit_vectors']]\n",
    "\n",
    "# TRANSFORMATION EC50 VALUE\n",
    "df_summary_sorted['ec50_mol'] = df_summary_sorted['apparent_ec50_umol'] / 1000000\n",
    "df_summary_sorted['ec50_mol']=df_summary_sorted['ec50_mol'].replace(0, 1e-10)\n",
    "df_summary_sorted['ec50_molair'] = df_summary_sorted['ec50_mol']/ df_summary_sorted['MolWt']\n",
    "df_summary_sorted['ec50_molair_transformed'] = -nm.log10(df_summary_sorted['ec50_molair'])\n",
    "condition = (df_summary_sorted['ec50_molair_transformed'] < 2 ) | (df_summary_sorted['ec50_molair_transformed'] > 8)\n",
    "df_summary_sorted=df_summary_sorted[~condition]\n",
    "\n",
    "\n",
    "#SAVING RESULTS\n",
    "df_summary_sorted.to_csv(f\"{folder}v20.data.final_summary_{experiment_id}.txt\", sep='\\t', index=False)"
   ],
   "metadata": {
    "collapsed": false,
    "ExecuteTime": {
     "end_time": "2023-06-26T18:31:29.557618900Z",
     "start_time": "2023-06-26T18:31:27.338752900Z"
    }
   }
  },
  {
   "cell_type": "code",
   "execution_count": null,
   "outputs": [],
   "source": [],
   "metadata": {
    "collapsed": false
   }
  }
 ],
 "metadata": {
  "kernelspec": {
   "display_name": "Python 3",
   "language": "python",
   "name": "python3"
  },
  "language_info": {
   "codemirror_mode": {
    "name": "ipython",
    "version": 2
   },
   "file_extension": ".py",
   "mimetype": "text/x-python",
   "name": "python",
   "nbconvert_exporter": "python",
   "pygments_lexer": "ipython2",
   "version": "2.7.6"
  }
 },
 "nbformat": 4,
 "nbformat_minor": 0
}
