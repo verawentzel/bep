{
 "cells": [
  {
   "cell_type": "code",
   "execution_count": 244,
   "metadata": {
    "ExecuteTime": {
     "end_time": "2023-06-21T15:16:36.239756700Z",
     "start_time": "2023-06-21T15:16:36.099158400Z"
    }
   },
   "outputs": [],
   "source": [
    "import matplotlib.pyplot as plt\n",
    "import numpy as nm\n",
    "import pandas as pd\n",
    "import math\n",
    "from rdkit import Chem\n",
    "from rdkit.Chem import AllChem\n",
    "from sklearn.model_selection import train_test_split\n",
    "from sklearn.preprocessing import StandardScaler\n",
    "from rdkit.Chem.Scaffolds import MurckoScaffold\n",
    "from collections import defaultdict"
   ]
  },
  {
   "cell_type": "code",
   "execution_count": 245,
   "metadata": {
    "ExecuteTime": {
     "end_time": "2023-06-21T15:16:36.239756700Z",
     "start_time": "2023-06-21T15:16:36.114782100Z"
    }
   },
   "outputs": [],
   "source": [
    "folder = 'C:\\\\Users\\\\vswen\\\\Documents\\\\1. Biomedische Technologie\\\\BMT JAAR 5\\\\Kwart 4\\\\4. Data\\\\CTRPv2.0_2015_ctd2_ExpandedDataset\\\\'\n",
    "\n",
    "# Import data\n",
    "complete_df = pd.read_csv(f\"{folder}CHEMBL2971_Ki.csv\", sep=\",\")\n",
    "# complete_df.fillna(complete_df.mean(), inplace=True)"
   ]
  },
  {
   "cell_type": "code",
   "execution_count": 246,
   "metadata": {
    "ExecuteTime": {
     "end_time": "2023-06-21T15:16:37.129402100Z",
     "start_time": "2023-06-21T15:16:36.146038300Z"
    }
   },
   "outputs": [],
   "source": [
    "smiles_list = complete_df['smiles']\n",
    "mols = [Chem.MolFromSmiles(smiles) for smiles in smiles_list]\n",
    "scaffolds = [MurckoScaffold.GetScaffoldForMol(mol) for mol in mols]\n",
    "scaffold_smiles = [Chem.MolToSmiles(scaffold) for scaffold in scaffolds]\n",
    "scaffold_smiles = list(map(str, scaffold_smiles))"
   ]
  },
  {
   "cell_type": "code",
   "execution_count": 247,
   "metadata": {
    "ExecuteTime": {
     "end_time": "2023-06-21T15:16:38.129878100Z",
     "start_time": "2023-06-21T15:16:37.145022900Z"
    }
   },
   "outputs": [],
   "source": [
    "# Fingerprint aanmaken\n",
    "molecules = [Chem.MolFromSmiles(smile) for smile in complete_df['smiles'].tolist()]\n",
    "ecfp = [AllChem.GetMorganFingerprintAsBitVect(molecule,2,nBits=1024) for molecule in molecules]\n",
    "complete_df['ecfp_bit_vectors'] = [[int(bit) for bit in keys.ToBitString()] for keys in ecfp]\n",
    "complete_df['ECFP'] = [''.join(str(value) for value in row) for row in complete_df['ecfp_bit_vectors']]\n",
    "complete_df.to_csv(f\"{folder}chembl234_ki.csv\", sep=',', index=False)"
   ]
  },
  {
   "cell_type": "code",
   "execution_count": 248,
   "metadata": {
    "ExecuteTime": {
     "end_time": "2023-06-21T15:16:38.194280100Z",
     "start_time": "2023-06-21T15:16:38.129878100Z"
    }
   },
   "outputs": [
    {
     "data": {
      "text/plain": "[0,\n 0,\n 0,\n 0,\n 0,\n 0,\n 0,\n 0,\n 0,\n 0,\n 0,\n 0,\n 0,\n 0,\n 0,\n 1,\n 0,\n 0,\n 0,\n 0,\n 0,\n 0,\n 0,\n 0,\n 0,\n 0,\n 0,\n 0,\n 0,\n 0,\n 0,\n 0,\n 0,\n 0,\n 0,\n 0,\n 0,\n 0,\n 0,\n 0,\n 0,\n 0,\n 0,\n 0,\n 0,\n 0,\n 0,\n 0,\n 0,\n 0,\n 1,\n 0,\n 0,\n 0,\n 0,\n 0,\n 0,\n 0,\n 0,\n 0,\n 0,\n 0,\n 1,\n 0,\n 0,\n 0,\n 0,\n 0,\n 0,\n 0,\n 0,\n 0,\n 0,\n 0,\n 0,\n 0,\n 0,\n 0,\n 0,\n 0,\n 0,\n 0,\n 0,\n 0,\n 0,\n 0,\n 0,\n 0,\n 0,\n 0,\n 1,\n 0,\n 0,\n 0,\n 0,\n 0,\n 0,\n 0,\n 0,\n 0,\n 0,\n 0,\n 0,\n 0,\n 0,\n 0,\n 0,\n 0,\n 0,\n 0,\n 1,\n 0,\n 0,\n 0,\n 0,\n 0,\n 0,\n 0,\n 0,\n 0,\n 0,\n 0,\n 0,\n 0,\n 0,\n 0,\n 0,\n 0,\n 1,\n 0,\n 0,\n 0,\n 0,\n 0,\n 0,\n 0,\n 1,\n 0,\n 0,\n 0,\n 1,\n 0,\n 0,\n 0,\n 0,\n 0,\n 0,\n 1,\n 0,\n 0,\n 0,\n 0,\n 0,\n 0,\n 0,\n 0,\n 0,\n 0,\n 0,\n 0,\n 0,\n 0,\n 1,\n 0,\n 0,\n 0,\n 0,\n 0,\n 0,\n 0,\n 0,\n 0,\n 0,\n 0,\n 0,\n 0,\n 0,\n 0,\n 0,\n 0,\n 0,\n 0,\n 0,\n 0,\n 0,\n 0,\n 0,\n 0,\n 0,\n 0,\n 0,\n 0,\n 0,\n 0,\n 0,\n 0,\n 0,\n 0,\n 0,\n 0,\n 0,\n 0,\n 0,\n 0,\n 0,\n 0,\n 0,\n 0,\n 0,\n 0,\n 0,\n 0,\n 0,\n 0,\n 0,\n 0,\n 0,\n 0,\n 0,\n 0,\n 0,\n 0,\n 0,\n 0,\n 0,\n 0,\n 0,\n 0,\n 0,\n 0,\n 0,\n 0,\n 0,\n 0,\n 0,\n 0,\n 0,\n 0,\n 0,\n 0,\n 0,\n 0,\n 0,\n 0,\n 0,\n 0,\n 0,\n 0,\n 0,\n 0,\n 0,\n 0,\n 0,\n 0,\n 0,\n 0,\n 0,\n 0,\n 0,\n 0,\n 0,\n 0,\n 0,\n 0,\n 0,\n 0,\n 0,\n 0,\n 0,\n 0,\n 0,\n 0,\n 1,\n 0,\n 0,\n 0,\n 0,\n 0,\n 0,\n 0,\n 0,\n 0,\n 0,\n 0,\n 0,\n 1,\n 0,\n 0,\n 0,\n 0,\n 0,\n 0,\n 0,\n 0,\n 0,\n 0,\n 0,\n 0,\n 0,\n 0,\n 0,\n 0,\n 0,\n 0,\n 0,\n 0,\n 0,\n 0,\n 0,\n 1,\n 0,\n 0,\n 0,\n 0,\n 0,\n 0,\n 0,\n 0,\n 0,\n 0,\n 0,\n 0,\n 0,\n 0,\n 0,\n 0,\n 0,\n 0,\n 0,\n 0,\n 0,\n 0,\n 0,\n 0,\n 0,\n 0,\n 0,\n 0,\n 0,\n 0,\n 0,\n 0,\n 0,\n 0,\n 0,\n 0,\n 0,\n 1,\n 0,\n 0,\n 0,\n 0,\n 0,\n 0,\n 0,\n 0,\n 1,\n 0,\n 0,\n 0,\n 0,\n 0,\n 0,\n 0,\n 0,\n 0,\n 0,\n 0,\n 0,\n 0,\n 0,\n 0,\n 0,\n 0,\n 0,\n 0,\n 0,\n 0,\n 0,\n 0,\n 0,\n 0,\n 0,\n 0,\n 0,\n 0,\n 1,\n 0,\n 0,\n 0,\n 0,\n 0,\n 0,\n 0,\n 0,\n 0,\n 0,\n 0,\n 0,\n 0,\n 0,\n 0,\n 0,\n 0,\n 0,\n 0,\n 0,\n 0,\n 0,\n 0,\n 0,\n 0,\n 0,\n 0,\n 0,\n 0,\n 0,\n 0,\n 0,\n 0,\n 0,\n 0,\n 0,\n 0,\n 0,\n 0,\n 0,\n 0,\n 0,\n 0,\n 0,\n 0,\n 0,\n 0,\n 0,\n 0,\n 0,\n 0,\n 0,\n 0,\n 0,\n 0,\n 0,\n 0,\n 0,\n 0,\n 0,\n 0,\n 0,\n 0,\n 0,\n 0,\n 0,\n 0,\n 0,\n 0,\n 0,\n 0,\n 0,\n 0,\n 0,\n 0,\n 0,\n 0,\n 0,\n 0,\n 0,\n 0,\n 0,\n 0,\n 0,\n 0,\n 0,\n 0,\n 0,\n 0,\n 0,\n 0,\n 0,\n 0,\n 0,\n 0,\n 0,\n 0,\n 0,\n 0,\n 0,\n 0,\n 0,\n 0,\n 0,\n 0,\n 0,\n 0,\n 0,\n 0,\n 0,\n 0,\n 0,\n 0,\n 0,\n 0,\n 1,\n 0,\n 0,\n 0,\n 0,\n 0,\n 0,\n 0,\n 0,\n 0,\n 0,\n 0,\n 0,\n 0,\n 0,\n 0,\n 0,\n 0,\n 0,\n 0,\n 0,\n 0,\n 0,\n 0,\n 0,\n 0,\n 0,\n 0,\n 0,\n 0,\n 0,\n 0,\n 0,\n 0,\n 0,\n 0,\n 0,\n 0,\n 0,\n 0,\n 0,\n 0,\n 0,\n 0,\n 0,\n 0,\n 0,\n 0,\n 0,\n 0,\n 0,\n 0,\n 0,\n 0,\n 0,\n 0,\n 0,\n 0,\n 0,\n 0,\n 0,\n 0,\n 0,\n 0,\n 0,\n 0,\n 0,\n 0,\n 0,\n 0,\n 0,\n 0,\n 0,\n 0,\n 0,\n 0,\n 0,\n 0,\n 0,\n 0,\n 0,\n 0,\n 0,\n 0,\n 0,\n 0,\n 0,\n 1,\n 0,\n 0,\n 0,\n 0,\n 0,\n 0,\n 0,\n 0,\n 0,\n 0,\n 0,\n 0,\n 0,\n 0,\n 0,\n 0,\n 0,\n 0,\n 0,\n 0,\n 0,\n 0,\n 0,\n 0,\n 0,\n 0,\n 0,\n 0,\n 0,\n 0,\n 0,\n 0,\n 0,\n 0,\n 0,\n 0,\n 0,\n 0,\n 0,\n 0,\n 0,\n 0,\n 0,\n 0,\n 0,\n 0,\n 0,\n 1,\n 0,\n 0,\n 0,\n 0,\n 0,\n 0,\n 0,\n 0,\n 1,\n 0,\n 0,\n 0,\n 1,\n 0,\n 0,\n 0,\n 0,\n 0,\n 0,\n 0,\n 0,\n 0,\n 0,\n 0,\n 0,\n 0,\n 0,\n 0,\n 0,\n 0,\n 0,\n 0,\n 0,\n 0,\n 0,\n 0,\n 0,\n 1,\n 0,\n 0,\n 0,\n 0,\n 0,\n 0,\n 0,\n 0,\n 0,\n 0,\n 0,\n 0,\n 0,\n 0,\n 0,\n 0,\n 0,\n 0,\n 0,\n 0,\n 0,\n 0,\n 0,\n 1,\n 0,\n 0,\n 0,\n 0,\n 0,\n 0,\n 0,\n 0,\n 0,\n 0,\n 0,\n 0,\n 0,\n 0,\n 0,\n 0,\n 0,\n 0,\n 0,\n 0,\n 0,\n 1,\n 0,\n 0,\n 0,\n 0,\n 1,\n 0,\n 0,\n 0,\n 0,\n 0,\n 0,\n 0,\n 0,\n 0,\n 0,\n 0,\n 0,\n 0,\n 0,\n 0,\n 0,\n 0,\n 0,\n 0,\n 0,\n 0,\n 0,\n 0,\n 0,\n 0,\n 0,\n 0,\n 0,\n 0,\n 0,\n 0,\n 0,\n 0,\n 0,\n 0,\n 0,\n 0,\n 0,\n 0,\n 0,\n 0,\n 0,\n 0,\n 0,\n 0,\n 0,\n 0,\n 0,\n 0,\n 0,\n 0,\n 0,\n 0,\n 0,\n 0,\n 0,\n 0,\n 0,\n 0,\n 0,\n 0,\n 0,\n 0,\n 0,\n 0,\n 1,\n 0,\n 0,\n 0,\n 0,\n 0,\n 0,\n 0,\n 0,\n 0,\n 0,\n 0,\n 0,\n 0,\n 0,\n 1,\n 0,\n 0,\n 0,\n 0,\n 0,\n 0,\n 0,\n 0,\n 0,\n 0,\n 0,\n 0,\n 0,\n 0,\n 0,\n 0,\n 0,\n 0,\n 0,\n 0,\n 0,\n 0,\n 0,\n 0,\n 0,\n 0,\n 0,\n 0,\n 0,\n 0,\n 0,\n 0,\n 0,\n 0,\n 0,\n 0,\n 0,\n 0,\n 0,\n 0,\n 0,\n 1,\n 0,\n 0,\n 0,\n 0,\n 0,\n 0,\n 0,\n 0,\n 0,\n 0,\n 0,\n 0,\n 0,\n 0,\n 0,\n 0,\n 0,\n 0,\n 0,\n 0,\n 0,\n 0,\n 0,\n 0,\n 0,\n 1,\n 0,\n 0,\n 0,\n 0,\n 0,\n 0,\n 0,\n 0,\n 0,\n 0,\n 0,\n 0,\n 0,\n 0,\n 0,\n 0,\n 0,\n 1,\n 0,\n 0,\n 1,\n 0,\n 0,\n 0,\n 0,\n 0,\n 0,\n 0,\n 1,\n 0,\n 0,\n 0,\n 0,\n 0,\n 0,\n 0,\n 0,\n 0,\n 0,\n 0,\n 0,\n 0,\n 0,\n 0,\n 0,\n 0,\n 0,\n 0,\n 0,\n 0,\n 0,\n 0,\n 0,\n 0,\n 0,\n 0,\n 0,\n 0,\n 0,\n 0,\n 0,\n 0,\n 0,\n 0,\n 0,\n 0,\n 0,\n 0,\n 1,\n 0,\n 0,\n 0,\n 0,\n 0,\n 0,\n 0,\n 0,\n 0,\n 0,\n 0,\n 0,\n 0,\n 0,\n 0,\n 0,\n 0,\n 0,\n 0,\n 0,\n 0,\n 0,\n 1,\n 0,\n 0,\n 0,\n 0,\n 0,\n 0,\n 0,\n 0,\n 0,\n 0,\n 0,\n 0,\n 0,\n 0,\n 0,\n 0,\n 0,\n 0,\n 0,\n 0,\n 0,\n 0,\n 0,\n 0,\n 0,\n 0,\n 0,\n 0,\n 0,\n 0,\n 0,\n 0,\n ...]"
     },
     "execution_count": 248,
     "metadata": {},
     "output_type": "execute_result"
    }
   ],
   "source": [
    "complete_df['ecfp_bit_vectors'].iloc[0]"
   ]
  },
  {
   "cell_type": "code",
   "execution_count": 249,
   "metadata": {
    "ExecuteTime": {
     "end_time": "2023-06-21T15:16:38.491090200Z",
     "start_time": "2023-06-21T15:16:38.163006300Z"
    }
   },
   "outputs": [],
   "source": [
    "def get_unique_scaffolds(scaffold_smiles):\n",
    "    unique_scaffolds = []\n",
    "    for scaffold in scaffold_smiles:\n",
    "        if scaffold not in unique_scaffolds:\n",
    "            unique_scaffolds.append(scaffold)\n",
    "    return unique_scaffolds\n",
    "\n",
    "list_unique_scaffolds=get_unique_scaffolds(scaffold_smiles)\n",
    "\n",
    "location_scaffolds = defaultdict(list)\n",
    "for scaffold in scaffold_smiles:\n",
    "    location_scaffolds[scaffold].append(scaffold)\n",
    "\n",
    "def location_similar_scaffolds(lijst):\n",
    "    locations = defaultdict(list)\n",
    "    for index, item in enumerate(lijst):\n",
    "        if lijst.count(item) > 1:\n",
    "            locations[item].append(index)\n",
    "    return dict(locations)\n",
    "\n",
    "locations_similar_scaffolds = location_similar_scaffolds(scaffold_smiles)\n",
    "\n",
    "df_scaffolds_grouped = pd.DataFrame(columns=['Compound', 'Scaffold', 'Recurring'])\n",
    "rows=[]\n",
    "symbol_mapping = {}\n",
    "symbol_counter = 0\n",
    "\n",
    "for i, compound in enumerate(smiles_list):\n",
    "    scaffold = scaffold_smiles[i]\n",
    "\n",
    "    if scaffold in locations_similar_scaffolds:\n",
    "        if scaffold not in symbol_mapping:\n",
    "            symbol_counter += 1\n",
    "            symbol_mapping[scaffold] = symbol_counter\n",
    "\n",
    "        recurring_symbol = symbol_mapping[scaffold]\n",
    "        recurring = True\n",
    "    else:\n",
    "        recurring_symbol = 0\n",
    "        recurring = False\n",
    "    row = [compound, scaffold, recurring_symbol]\n",
    "    rows.append(row)\n",
    "\n",
    "df_scaffolds_grouped = pd.DataFrame(rows, columns=['cpd_smiles', 'spd_scaffold', 'recurring_scaffold'])\n",
    "\n",
    "#Toevoegen van extra data die nodig is voor de modellen\n",
    "df_scaffolds_grouped.insert(0,'y',complete_df['y'])\n",
    "# df_scaffolds_grouped.insert(1,'ecfp_bit_vectors',complete_df['ecfp_bit_vectors']) \n",
    "df_scaffolds_grouped['ecfp_bit_vectors'] = complete_df['ecfp_bit_vectors'].apply(lambda x: ''.join(str(i) for i in x))\n",
    "\n",
    "df_scaffolds_grouped_sorted = df_scaffolds_grouped.sort_values('recurring_scaffold', ascending=False)\n",
    "\n",
    "df_scaffolds_grouped_sorted.to_csv(f\"{folder}scaffold_split_test.txt\", sep='\\t', index=False)\n"
   ]
  },
  {
   "cell_type": "code",
   "execution_count": 250,
   "metadata": {
    "ExecuteTime": {
     "end_time": "2023-06-21T15:16:38.514932400Z",
     "start_time": "2023-06-21T15:16:38.491090200Z"
    }
   },
   "outputs": [],
   "source": [
    "total_length_compounds = len(complete_df)\n",
    "size_train_set = total_length_compounds * 0.8 # Uitgaande van idealiter een 0.8:0.2 verhouding tussen train en test"
   ]
  },
  {
   "cell_type": "code",
   "execution_count": 251,
   "metadata": {
    "ExecuteTime": {
     "end_time": "2023-06-21T15:16:38.639867300Z",
     "start_time": "2023-06-21T15:16:38.514932400Z"
    }
   },
   "outputs": [],
   "source": [
    "# Import data\n",
    "complete_df = pd.read_csv(f\"{folder}scaffold_split_test.txt\", sep=\"\\t\")\n",
    "\n",
    "import random\n",
    "# Data selecteren om een vergelijkbare data grootte te creeeren\n",
    "random_indices = random.sample(range(len(complete_df)), 379)\n",
    "complete_df = complete_df.iloc[random_indices]\n",
    "\n",
    "complete_df['ecfp_bit_vectors'] = complete_df['ecfp_bit_vectors'].apply(lambda x: [int(i) for i in x])\n"
   ]
  },
  {
   "cell_type": "code",
   "execution_count": 252,
   "metadata": {
    "ExecuteTime": {
     "end_time": "2023-06-21T15:16:38.655530200Z",
     "start_time": "2023-06-21T15:16:38.639867300Z"
    }
   },
   "outputs": [],
   "source": [
    "#import random\n",
    "# Data selecteren om een vergelijkbare data grootte te creeeren\n",
    "#random_indices = random.sample(range(len(complete_df)), 400)\n",
    "#selected_data = complete_df.iloc[random_indices]\n",
    "#print len((selected_data)\n",
    "\n",
    "# Dependent & Independent variable\n",
    "# complete_df['ecfp_bit_vectors_kort'] = selected_data['ecfp_bit_vectors'].tolist() #Voorheen: complete_df['ecfp_bit_vectors']\n",
    "# complete_df['y_kort'] = selected_data['y'].values #Voorheen: complete_df['y']"
   ]
  },
  {
   "cell_type": "code",
   "execution_count": 253,
   "metadata": {
    "ExecuteTime": {
     "end_time": "2023-06-21T15:16:38.686759200Z",
     "start_time": "2023-06-21T15:16:38.671145900Z"
    }
   },
   "outputs": [],
   "source": [
    "# Creeer een DF voor alle scaffolds die uniek zijn\n",
    "df_unique_scaffolds = complete_df[complete_df['recurring_scaffold'] == 0]\n",
    "df_unique_scaffolds = df_unique_scaffolds[['recurring_scaffold', 'ecfp_bit_vectors', 'y']]\n",
    "\n",
    "# Extraheer de X en Y value van de nieuwe DF \n",
    "## X is de te gebruike compound waarde  | Fingerprint ECFP\n",
    "## Y is de te voorspellen compound waarde | Ec50 Molair Logtransformed\n",
    "x_unique = nm.array(df_unique_scaffolds['ecfp_bit_vectors'].tolist())\n",
    "y_unique = df_unique_scaffolds['y'].values"
   ]
  },
  {
   "cell_type": "code",
   "execution_count": 254,
   "metadata": {
    "ExecuteTime": {
     "end_time": "2023-06-21T15:16:38.717972100Z",
     "start_time": "2023-06-21T15:16:38.686759200Z"
    }
   },
   "outputs": [
    {
     "name": "stdout",
     "output_type": "stream",
     "text": [
      "[[0 0 1 ... 0 0 0]\n",
      " [0 0 0 ... 0 0 0]\n",
      " [0 0 0 ... 0 0 0]\n",
      " ...\n",
      " [0 1 0 ... 0 0 0]\n",
      " [0 1 0 ... 0 0 0]\n",
      " [0 1 0 ... 0 0 0]]\n"
     ]
    }
   ],
   "source": [
    "# Creeer een DF voor alle scaffolds die meermaals voorkomen\n",
    "df_grouped_scaffolds = complete_df[complete_df['recurring_scaffold'] > 0]\n",
    "df_grouped_scaffolds = df_grouped_scaffolds[['ecfp_bit_vectors', 'y', 'recurring_scaffold']]\n",
    "\n",
    "# Extraheer de X, Y en Z value van de nieuwe DF\n",
    "## X is de te gebruike compound waarde  | Fingerprint ECFP\n",
    "## Y is de te voorspellen compound waarde | Ec50 Molair Logtransformed\n",
    "## Z is de indicator voor overeenkomstige scaffold groepen | Elke scaffoldgroup een eigen numerieke waarde\n",
    "x_grouped = nm.array(df_grouped_scaffolds['ecfp_bit_vectors'].tolist())\n",
    "y_grouped = df_grouped_scaffolds['y'].values\n",
    "z_grouped = df_grouped_scaffolds['recurring_scaffold'].values.tolist()\n",
    "print(x_grouped)\n",
    "\n",
    "#df_grouped_scaffolds_indexes = df_grouped_scaffolds.groupby('recurring_scaffold')"
   ]
  },
  {
   "cell_type": "code",
   "execution_count": 255,
   "metadata": {
    "ExecuteTime": {
     "end_time": "2023-06-21T15:16:38.733594Z",
     "start_time": "2023-06-21T15:16:38.717972100Z"
    }
   },
   "outputs": [
    {
     "name": "stdout",
     "output_type": "stream",
     "text": [
      "176\n"
     ]
    }
   ],
   "source": [
    "size_train_set_grouped_scaffolds = len(z_grouped) * 0.8\n",
    "size_train_set_grouped_scaffolds = int(size_train_set_grouped_scaffolds)\n",
    "print(size_train_set_grouped_scaffolds)"
   ]
  },
  {
   "cell_type": "code",
   "execution_count": 256,
   "metadata": {
    "ExecuteTime": {
     "end_time": "2023-06-21T15:16:38.749253300Z",
     "start_time": "2023-06-21T15:16:38.733594Z"
    }
   },
   "outputs": [],
   "source": [
    "# Creeeren van lege lijsten voor de Grouped Scaffolds\n",
    "x_train_grouped = []\n",
    "y_train_grouped = []\n",
    "x_test_grouped = []\n",
    "y_test_grouped = []"
   ]
  },
  {
   "cell_type": "code",
   "execution_count": 257,
   "metadata": {
    "ExecuteTime": {
     "end_time": "2023-06-21T15:16:38.811700300Z",
     "start_time": "2023-06-21T15:16:38.749253300Z"
    }
   },
   "outputs": [],
   "source": [
    "for x in range(len(z_grouped)):\n",
    "    if x < size_train_set_grouped_scaffolds:\n",
    "        x_train_grouped.append(x_grouped[x])\n",
    "        y_train_grouped.append(y_grouped[x])\n",
    "    elif z_grouped[x] == z_grouped[x-1]:\n",
    "        x_train_grouped.append(x_grouped[x])\n",
    "        y_train_grouped.append(y_grouped[x])\n",
    "    else: \n",
    "        remaining = len(z_grouped)-x\n",
    "        break\n",
    "        \n",
    "for x in range(remaining):\n",
    "    x_test_grouped.append(x_grouped[x+remaining])\n",
    "    y_test_grouped.append(y_grouped[x+remaining])"
   ]
  },
  {
   "cell_type": "code",
   "execution_count": 258,
   "metadata": {
    "ExecuteTime": {
     "end_time": "2023-06-21T15:16:38.811700300Z",
     "start_time": "2023-06-21T15:16:38.780485Z"
    }
   },
   "outputs": [
    {
     "name": "stdout",
     "output_type": "stream",
     "text": [
      "176\n",
      "45\n",
      "[-2.7596678446896306, -3.100001582801352, -2.113943352306837, -3.57978359661681, -0.1367205671564068]\n",
      "[0.958607314841775, 0.3279021420642826, 0.3372421683184259, 0.0809219076239261, -2.315970345456918]\n"
     ]
    }
   ],
   "source": [
    "print(len(x_train_grouped))\n",
    "print(len(x_test_grouped))\n",
    "print(y_train_grouped[0:5])\n",
    "print(y_test_grouped[0:5])"
   ]
  },
  {
   "cell_type": "code",
   "execution_count": 259,
   "metadata": {
    "ExecuteTime": {
     "end_time": "2023-06-21T15:16:38.811700300Z",
     "start_time": "2023-06-21T15:16:38.811700300Z"
    }
   },
   "outputs": [
    {
     "name": "stdout",
     "output_type": "stream",
     "text": [
      "[0 0 1 ... 0 0 0]\n"
     ]
    }
   ],
   "source": [
    "print(x_train_grouped[0])\n",
    "#x_train_grouped = [element.replace(' ', '').replace(',', '') for element in x_train_grouped]\n",
    "# x_train_unique = [eval(element) for element in x_train_unique]\n",
    "\n",
    "#x_train_grouped = [list(arr) for arr in x_train_grouped]\n",
    "#print(x_train_grouped[0])\n",
    "#x_test_grouped = [list(arr) for arr in x_test_grouped]"
   ]
  },
  {
   "cell_type": "code",
   "execution_count": 260,
   "metadata": {
    "ExecuteTime": {
     "end_time": "2023-06-21T15:16:38.827322200Z",
     "start_time": "2023-06-21T15:16:38.811700300Z"
    }
   },
   "outputs": [],
   "source": [
    "from sklearn.model_selection import train_test_split\n",
    "x_train_unique,x_test_unique,y_train_unique,y_test_unique=train_test_split(x_unique,y_unique,test_size=0.2, random_state=42)"
   ]
  },
  {
   "cell_type": "code",
   "execution_count": 261,
   "metadata": {
    "ExecuteTime": {
     "end_time": "2023-06-21T15:16:38.905429Z",
     "start_time": "2023-06-21T15:16:38.842969700Z"
    }
   },
   "outputs": [],
   "source": [
    "#print(x_train_unique)\n",
    "# print(x_train_unique[0])\n",
    "\n",
    "x_train_unique = [list(arr) for arr in x_train_unique]\n",
    "x_test_unique = [list(arr) for arr in x_test_unique]\n",
    "#print(x_test_unique[0])"
   ]
  },
  {
   "cell_type": "code",
   "execution_count": 262,
   "metadata": {
    "ExecuteTime": {
     "end_time": "2023-06-21T15:16:38.905429Z",
     "start_time": "2023-06-21T15:16:38.858566500Z"
    }
   },
   "outputs": [],
   "source": [
    "x_train = nm.concatenate((x_train_grouped, x_train_unique))\n",
    "x_test = nm.concatenate((x_test_grouped, x_test_unique))\n",
    "\n",
    "y_train = nm.concatenate((y_train_grouped, y_train_unique))\n",
    "y_test = nm.concatenate((y_test_grouped, y_test_unique))"
   ]
  },
  {
   "cell_type": "code",
   "execution_count": 263,
   "metadata": {
    "ExecuteTime": {
     "end_time": "2023-06-21T15:16:38.952320200Z",
     "start_time": "2023-06-21T15:16:38.905429Z"
    }
   },
   "outputs": [
    {
     "name": "stdout",
     "output_type": "stream",
     "text": [
      "TRAIN DATA\n",
      "y_train 302 [-2.75966784e+00 -3.10000158e+00 -2.11394335e+00 -3.57978360e+00\n",
      " -1.36720567e-01  8.23908741e-01 -2.32221929e+00 -3.46239800e+00\n",
      " -3.46352974e-01 -2.09999123e+00 -3.96199347e-01 -6.44579892e-02\n",
      " -2.04119983e-01 -3.16136800e+00 -2.32221929e+00 -1.76091259e-01\n",
      "  5.85026652e-01 -3.14612804e+00 -3.07496038e-01  2.92429824e-01\n",
      "  2.21848750e-01 -1.69019608e+00  4.08935393e-01 -3.23044892e+00\n",
      " -2.20000187e+00  9.69100130e-02 -2.69019608e+00 -3.38021124e+00\n",
      "  2.07608311e-01  6.38272164e-01  4.43697499e-01 -5.14547753e-01\n",
      " -2.90000097e+00 -6.81858617e-02 -2.86923172e+00 -2.78532984e+00\n",
      " -1.20002927e+00  5.52841969e-01 -1.10589710e-01  8.86056648e-01\n",
      " -3.40000062e+00 -7.55874856e-01 -2.69019608e+00  2.51811973e-01\n",
      " -1.28555731e+00  9.58607315e-01  3.27902142e-01  3.37242168e-01\n",
      "  8.09219076e-02 -2.31597035e+00 -4.00019635e-01 -2.17609126e+00\n",
      "  8.86056648e-01  1.36677140e-01 -3.07496038e-01 -6.48360011e-01\n",
      "  1.24938737e-01  2.29147988e-01 -2.34242268e+00 -1.60852603e+00\n",
      "  2.75724130e-01 -2.25309282e-01  7.21246399e-01  6.98970004e-01\n",
      " -1.04139269e+00 -4.32969291e-01 -3.36459734e-01  5.55173278e-02\n",
      " -3.00000000e+00  9.20818754e-01 -3.59835482e-01 -2.01397124e-01\n",
      " -2.60000309e+00 -8.51258349e-01 -2.66275783e+00  4.08935393e-01\n",
      " -5.36558443e-01 -3.50514998e+00  6.38272164e-01 -1.85064624e+00\n",
      " -2.52853031e-01 -4.00019635e-01  3.62121727e-02 -1.49554434e+00\n",
      " -2.00029267e-01  4.08935393e-01 -6.81241237e-01 -1.36720567e-01\n",
      " -1.77597433e+00 -2.87506126e+00 -6.44579892e-02  6.55015488e-02\n",
      "  1.13509275e-01 -2.60000309e+00  1.30768280e-01 -1.61489722e+00\n",
      "  1.07905397e-01 -4.91361694e-01 -2.20000187e+00 -4.13926852e-02\n",
      " -1.67317335e-01 -1.17271296e-01 -3.57978360e+00  1.19186408e-01\n",
      "  2.36572006e-01 -2.75358306e+00 -1.34242268e+00  3.09803920e-01\n",
      " -9.68482949e-01  1.77287670e-02 -0.00000000e+00 -2.79239169e+00\n",
      " -2.30000820e+00 -3.25527251e+00 -2.20000187e+00 -3.44715803e+00\n",
      "  3.97940009e-01 -2.64345268e+00 -1.52288344e-01 -3.42422681e-01\n",
      " -3.00000000e+00 -3.34242268e+00  1.19186408e-01 -1.72427587e+00\n",
      " -1.67317335e-01 -3.50514998e+00 -4.77121255e-01  1.87086643e-01\n",
      "  2.21848750e-01 -1.64352856e-01 -2.53058653e-02 -1.55336037e-01\n",
      " -9.34216852e-02 -3.97940009e-01 -9.69100130e-02  1.30768280e-01\n",
      " -8.00029359e-01  3.15170514e-02 -8.48189117e-01 -2.68394713e+00\n",
      " -2.55272505e-01 -4.01400541e-01  1.04575749e+00  1.80456064e-01\n",
      " -1.49996187e+00  4.20216403e-01 -0.00000000e+00  4.57574906e-02\n",
      " -1.09691001e+00 -2.20139712e+00 -1.41497335e+00 -1.49219113e-01\n",
      " -3.19999913e+00  1.07905397e-01  1.00000000e+00 -4.62397998e-01\n",
      " -2.00000000e+00 -1.10002573e+00  1.07905397e-01 -1.39879086e-01\n",
      " -3.05351369e-01 -7.55469614e-02 -3.01029996e-01 -7.48188027e-01\n",
      " -1.84509804e+00 -1.36172784e+00 -3.47712125e+00 -0.00000000e+00\n",
      "  9.69100130e-02 -3.19999913e+00  2.59637311e-01 -2.41497335e+00\n",
      "  7.44727495e-01 -2.90000097e+00 -2.82542612e+00 -2.44715803e+00\n",
      "  7.44727495e-01 -2.00000000e+00 -2.80000183e+00 -4.29999993e+00\n",
      " -2.70757018e+00 -1.60205999e+00  4.08935393e-01 -1.82607480e+00\n",
      "  4.36480540e-03 -1.80002936e+00 -1.44715803e+00 -3.11394335e+00\n",
      " -2.40000235e+00  5.85026652e-01 -1.28372247e-02  5.85026652e-01\n",
      "  1.67491087e-01 -3.00000000e+00 -7.92391689e-01 -2.36172784e+00\n",
      "  5.85026652e-01 -3.10000158e+00  3.97940009e-01 -1.10002573e+00\n",
      " -4.50000005e+00 -2.11394335e+00  4.55931956e-01 -2.17609126e+00\n",
      " -4.39999993e+00 -5.00000000e+00 -2.70000240e+00 -4.77121255e-01\n",
      " -2.80000183e+00 -3.00000000e+00 -4.13926852e-02  9.69100130e-02\n",
      " -2.90000097e+00 -1.49219113e-01  6.55015488e-02  1.61150909e-01\n",
      "  8.86056648e-01  2.59637311e-01 -4.79999997e+00 -3.29999950e+00\n",
      " -3.00000000e+00 -1.49996187e+00 -8.12913357e-01 -3.40000062e+00\n",
      " -1.54406804e+00 -2.56820172e+00 -2.89817648e+00 -6.18048097e-01\n",
      " -2.20000187e+00 -2.11394335e+00 -1.29994290e+00 -2.70000240e+00\n",
      " -4.77121255e-01 -1.96848295e+00  5.06099934e-02 -6.44579892e-02\n",
      "  1.73925197e-01 -2.90000097e+00 -2.27646180e+00 -3.38021124e+00\n",
      " -1.20411998e+00 -4.60000003e+00 -2.99942900e-01 -3.76576957e-01\n",
      " -2.43136376e+00  1.67491087e-01 -2.56820172e+00 -2.90000097e+00\n",
      " -2.16136800e+00 -2.95327634e+00 -2.04119983e-01  5.55173278e-02\n",
      " -9.69100130e-02 -4.32137378e-03  9.69100130e-02 -1.80140371e+00\n",
      " -2.77085201e+00 -4.60000003e+00 -2.04139269e+00  3.18758763e-01\n",
      " -5.99992178e-01 -2.60000309e+00 -8.27853703e-02  4.20216403e-01\n",
      " -1.11394335e+00 -2.40000235e+00 -3.50514998e+00 -1.93449845e+00\n",
      " -3.40000062e+00  4.57574906e-02 -2.74036269e+00 -2.76342799e+00\n",
      " -3.30103000e+00 -3.00000000e+00  8.86056648e-01 -5.70542940e-01\n",
      " -1.59999218e+00  3.97940009e-01  1.19186408e-01 -4.89999998e+00\n",
      " -3.10000158e+00 -2.12187604e-01 -2.38046103e-01 -2.20000187e+00\n",
      " -1.39794001e+00  1.42667504e-01 -2.70000240e+00  2.14670165e-01\n",
      " -1.74036269e+00 -2.50000307e+00 -5.00000000e+00  7.05810743e-02\n",
      " -2.04119983e-01 -2.57978360e+00 -3.10000158e+00 -6.98970004e-01\n",
      " -1.02571538e+00  9.69100130e-02 -1.80002936e+00 -2.70000240e+00\n",
      " -2.50000307e+00  1.54901960e-01]\n",
      "x_train 302 [[0 0 1 ... 0 0 0]\n",
      " [0 0 0 ... 0 0 0]\n",
      " [0 0 0 ... 0 0 0]\n",
      " ...\n",
      " [0 0 0 ... 0 0 0]\n",
      " [0 1 0 ... 0 0 0]\n",
      " [0 1 0 ... 0 0 0]]\n",
      "TEST DATA\n",
      "x_test 77 [[0 1 0 ... 0 0 0]\n",
      " [0 1 0 ... 0 0 0]\n",
      " [0 1 0 ... 0 0 0]\n",
      " ...\n",
      " [0 0 1 ... 0 0 0]\n",
      " [0 0 0 ... 0 0 0]\n",
      " [0 0 1 ... 0 0 0]]\n",
      "y_test 77 [ 0.95860731  0.32790214  0.33724217  0.08092191 -2.31597035 -0.40001964\n",
      " -2.17609126  0.88605665  0.13667714 -0.30749604 -0.64836001  0.12493874\n",
      "  0.22914799 -2.34242268 -1.60852603  0.27572413 -0.22530928  0.7212464\n",
      "  0.69897    -1.04139269 -0.43296929 -0.33645973  0.05551733 -3.\n",
      "  0.92081875 -0.35983548 -0.20139712 -2.60000309 -0.85125835 -2.66275783\n",
      "  0.40893539 -0.53655844 -3.50514998  0.63827216 -1.85064624 -0.25285303\n",
      " -0.40001964  0.03621217 -1.49554434 -0.20002927  0.40893539 -0.68124124\n",
      " -0.13672057 -1.77597433 -2.87506126  0.61978876 -3.39794001  0.11350927\n",
      " -1.14612804 -0.16731733  0.10001544  0.34678749 -3.19999913 -0.39967372\n",
      "  0.01322827 -1.80617997 -0.04532298 -2.01283722 -0.04532298 -4.50000005\n",
      " -3.         -1.17609126 -2.3000082  -3.2999995   0.25181197 -3.40000062\n",
      " -3.10000158 -0.09691001 -2.5797836   0.74472749 -0.11394335 -3.16226561\n",
      " -0.00860017  0.04575749 -2.88649073 -2.2787536   0.22184875]\n"
     ]
    }
   ],
   "source": [
    "print('TRAIN DATA')\n",
    "print('y_train', len(y_train), y_train)\n",
    "print('x_train', len(x_train), x_train)\n",
    "\n",
    "print('TEST DATA')\n",
    "print('x_test', len(x_test), x_test)\n",
    "print('y_test', len(y_test), y_test)"
   ]
  },
  {
   "cell_type": "code",
   "execution_count": 264,
   "metadata": {
    "ExecuteTime": {
     "end_time": "2023-06-21T15:16:40.324969500Z",
     "start_time": "2023-06-21T15:16:38.905429Z"
    }
   },
   "outputs": [
    {
     "data": {
      "text/plain": "RandomForestRegressor(max_depth=10, min_samples_leaf=4, min_samples_split=5,\n                      n_estimators=200)"
     },
     "execution_count": 264,
     "metadata": {},
     "output_type": "execute_result"
    }
   ],
   "source": [
    "\n",
    "from sklearn.ensemble import RandomForestRegressor\n",
    "regressor = RandomForestRegressor(n_estimators=200, min_samples_split=5,min_samples_leaf=4,max_depth=10,bootstrap=True)\n",
    "regressor.fit(x_train,y_train)"
   ]
  },
  {
   "cell_type": "code",
   "execution_count": 265,
   "metadata": {
    "ExecuteTime": {
     "end_time": "2023-06-21T15:16:41.701583900Z",
     "start_time": "2023-06-21T15:16:40.332097300Z"
    }
   },
   "outputs": [],
   "source": [
    "from sklearn.ensemble import RandomForestRegressor\n",
    "regressor = RandomForestRegressor(n_estimators=200, min_samples_split=5,min_samples_leaf=4,max_depth=10,bootstrap=True)\n",
    "regressor.fit(x_train,y_train)\n",
    "\n",
    "# Predict Test result\n",
    "y_pred = regressor.predict(x_test)"
   ]
  },
  {
   "cell_type": "code",
   "execution_count": 266,
   "metadata": {
    "ExecuteTime": {
     "end_time": "2023-06-21T15:16:41.851733200Z",
     "start_time": "2023-06-21T15:16:41.701583900Z"
    }
   },
   "outputs": [
    {
     "data": {
      "text/plain": "<Figure size 640x480 with 1 Axes>",
      "image/png": "[encoded data removed]"
     },
     "metadata": {},
     "output_type": "display_data"
    }
   ],
   "source": [
    "# Visualisatie y_train ## Vooral voor eigen begrip\n",
    "plt.hist(y_train, alpha=0.5, label='y_train')\n",
    "plt.xlabel('Waarden EC50')\n",
    "plt.ylabel('Frequentie')\n",
    "plt.title('Histogram van y_train')\n",
    "plt.legend()\n",
    "plt.show()"
   ]
  },
  {
   "cell_type": "code",
   "execution_count": 267,
   "metadata": {
    "ExecuteTime": {
     "end_time": "2023-06-21T15:16:41.992255400Z",
     "start_time": "2023-06-21T15:16:41.851733200Z"
    }
   },
   "outputs": [
    {
     "data": {
      "text/plain": "<Figure size 640x480 with 1 Axes>",
      "image/png": "[encoded data removed]"
     },
     "metadata": {},
     "output_type": "display_data"
    }
   ],
   "source": [
    "# Visualisatie y_test ## Vooral voor eigen begrip\n",
    "plt.hist(y_test, alpha=0.5, label='y_test')\n",
    "plt.xlabel('Waarden EC50')\n",
    "plt.ylabel('Frequentie')\n",
    "plt.title('Histogram van y_test')\n",
    "plt.legend()\n",
    "plt.show()"
   ]
  },
  {
   "cell_type": "code",
   "execution_count": 268,
   "metadata": {
    "ExecuteTime": {
     "end_time": "2023-06-21T15:16:42.132863Z",
     "start_time": "2023-06-21T15:16:42.007861500Z"
    }
   },
   "outputs": [
    {
     "data": {
      "text/plain": "<Figure size 640x480 with 1 Axes>",
      "image/png": "[encoded data removed]"
     },
     "metadata": {},
     "output_type": "display_data"
    }
   ],
   "source": [
    "# Visualisatie y_pred ## Vooral voor eigen begrip\n",
    "plt.hist(y_pred, alpha=0.5, label='y_pred')\n",
    "plt.xlabel('Waarden EC50')\n",
    "plt.ylabel('Frequentie')\n",
    "plt.title('Histogram van y_pred')\n",
    "plt.legend()\n",
    "plt.show()"
   ]
  },
  {
   "cell_type": "code",
   "execution_count": 269,
   "metadata": {
    "ExecuteTime": {
     "end_time": "2023-06-21T15:16:42.148479400Z",
     "start_time": "2023-06-21T15:16:42.132863Z"
    }
   },
   "outputs": [
    {
     "name": "stdout",
     "output_type": "stream",
     "text": [
      "mean absolute error is  0.41336659969268214\n",
      "mean squared error is  0.47752749552415663\n",
      "root mean squared error is  0.6910336428309092\n",
      "r2 is 0.7483825778705198\n"
     ]
    }
   ],
   "source": [
    "# Errors berekenen\n",
    "from sklearn.metrics import mean_absolute_error, mean_squared_error, r2_score\n",
    "\n",
    "# Mean Absolute Error\n",
    "mae=mean_absolute_error(y_test, y_pred)\n",
    "print('mean absolute error is ', mae)\n",
    "\n",
    "# Mean Squared Error\n",
    "mse = mean_squared_error(y_test, y_pred)\n",
    "print('mean squared error is ', mse)\n",
    "\n",
    "# Root Mean Squared Error\n",
    "rmse = math.sqrt(mse)\n",
    "print('root mean squared error is ', rmse)\n",
    "\n",
    "# R2 berekenen\n",
    "slope, intercept = nm.polyfit(y_test,y_pred,1)\n",
    "line = slope * nm.array(y_test)+ intercept\n",
    "r2 = r2_score(y_test, y_pred)\n",
    "print('r2 is', r2)"
   ]
  },
  {
   "cell_type": "code",
   "execution_count": 270,
   "metadata": {
    "ExecuteTime": {
     "end_time": "2023-06-21T15:16:42.315034300Z",
     "start_time": "2023-06-21T15:16:42.148479400Z"
    }
   },
   "outputs": [
    {
     "data": {
      "text/plain": "<Figure size 640x480 with 1 Axes>",
      "image/png": "[encoded data removed]"
     },
     "metadata": {},
     "output_type": "display_data"
    }
   ],
   "source": [
    "# R2 Visualisatie                                              \n",
    "plt.scatter(y_test,y_pred)\n",
    "plt.plot(y_test, line, color='red', label='line of current best fit')\n",
    "plt.xlabel('y_test')\n",
    "plt.ylabel('y_pred')\n",
    "plt.title('Scatterplot with Line of Best Fit (R2 = {:.2f})'.format(r2))\n",
    "plt.show()"
   ]
  },
  {
   "cell_type": "code",
   "execution_count": 270,
   "metadata": {
    "ExecuteTime": {
     "end_time": "2023-06-21T15:16:42.361928600Z",
     "start_time": "2023-06-21T15:16:42.315034300Z"
    }
   },
   "outputs": [],
   "source": []
  },
  {
   "cell_type": "code",
   "execution_count": 270,
   "metadata": {
    "ExecuteTime": {
     "end_time": "2023-06-21T15:16:42.361928600Z",
     "start_time": "2023-06-21T15:16:42.330684900Z"
    }
   },
   "outputs": [],
   "source": []
  }
 ],
 "metadata": {
  "kernelspec": {
   "display_name": "Python 3 (ipykernel)",
   "language": "python",
   "name": "python3"
  },
  "language_info": {
   "codemirror_mode": {
    "name": "ipython",
    "version": 3
   },
   "file_extension": ".py",
   "mimetype": "text/x-python",
   "name": "python",
   "nbconvert_exporter": "python",
   "pygments_lexer": "ipython3",
   "version": "3.10.9"
  }
 },
 "nbformat": 4,
 "nbformat_minor": 1
}
